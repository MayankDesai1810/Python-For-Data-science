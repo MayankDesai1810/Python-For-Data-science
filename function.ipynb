{
 "cells": [
  {
   "cell_type": "markdown",
   "id": "30d10848-1b56-4116-84cf-43fdd8da9cd1",
   "metadata": {},
   "source": [
    "# Functions"
   ]
  },
  {
   "cell_type": "markdown",
   "id": "f3440951-1620-4584-9e09-90f9d17995f0",
   "metadata": {},
   "source": [
    "* A function in Python is a block of code that performs a specific task.\n",
    "* It runs only when it is called and can take inputs and return an output."
   ]
  },
  {
   "cell_type": "markdown",
   "id": "798e505a-3b84-429e-8c76-4fb86e14bea9",
   "metadata": {},
   "source": [
    "#### principle of function"
   ]
  },
  {
   "cell_type": "markdown",
   "id": "dea6cd1d-8d72-4c9c-8f7e-b46f8ccb4a52",
   "metadata": {},
   "source": [
    "1. Abstraction\n",
    "   * Abstraction means hiding the complex details and showing only what’s necessary.\n",
    "   * You don’t need to know how the function works inside - just what it does and how to use it.\n",
    "2. Decomposition\n",
    "   * Decomposition means breaking a big problem into smaller parts (functions), so each part is easier to handle\n",
    "   * Each function does a small job, and together they solve the big problem."
   ]
  },
  {
   "cell_type": "markdown",
   "id": "7262e94f-181c-4a42-ab27-3e1308d44635",
   "metadata": {},
   "source": [
    "## Creating and Calling a Function"
   ]
  },
  {
   "cell_type": "code",
   "execution_count": 2,
   "id": "14aaae2d-c433-46a6-83bd-702ca71a80a1",
   "metadata": {
    "execution": {
     "iopub.execute_input": "2025-07-19T04:25:18.168314Z",
     "iopub.status.busy": "2025-07-19T04:25:18.168314Z",
     "iopub.status.idle": "2025-07-19T04:25:18.173499Z",
     "shell.execute_reply": "2025-07-19T04:25:18.172493Z",
     "shell.execute_reply.started": "2025-07-19T04:25:18.168314Z"
    }
   },
   "outputs": [
    {
     "name": "stdout",
     "output_type": "stream",
     "text": [
      "hello form a function\n"
     ]
    }
   ],
   "source": [
    "def my_function() :\n",
    "    print(\"hello form a function\")  # ---> function body\n",
    "# def is a keyword to used to define function\n",
    "# my_ function ---> name of function"
   ]
  },
  {
   "cell_type": "code",
   "execution_count": 4,
   "id": "dd6a4e04-48e2-4ad0-8e13-a9ce3a8b21b5",
   "metadata": {
    "execution": {
     "iopub.execute_input": "2025-07-19T04:25:32.720499Z",
     "iopub.status.busy": "2025-07-19T04:25:32.719500Z",
     "iopub.status.idle": "2025-07-19T04:25:32.723677Z",
     "shell.execute_reply": "2025-07-19T04:25:32.723677Z",
     "shell.execute_reply.started": "2025-07-19T04:25:32.720499Z"
    }
   },
   "outputs": [
    {
     "name": "stdout",
     "output_type": "stream",
     "text": [
      "hello form a function\n"
     ]
    }
   ],
   "source": [
    "my_function() # function calling"
   ]
  },
  {
   "cell_type": "markdown",
   "id": "15b4f67b-e021-414e-bcdd-212f774df428",
   "metadata": {},
   "source": [
    "## Arguments and Parameters"
   ]
  },
  {
   "cell_type": "markdown",
   "id": "d9a9e3b4-f353-4a02-a792-775edc966ab7",
   "metadata": {},
   "source": [
    "* An argument is the value you give to a function when you call it.\n",
    "* A parameter is the variable inside the function definition that receives a value."
   ]
  },
  {
   "cell_type": "code",
   "execution_count": 6,
   "id": "58e9ec05-809c-48ef-a281-cd43dcef00a7",
   "metadata": {
    "execution": {
     "iopub.execute_input": "2025-07-19T04:30:56.917080Z",
     "iopub.status.busy": "2025-07-19T04:30:56.916079Z",
     "iopub.status.idle": "2025-07-19T04:30:56.920957Z",
     "shell.execute_reply": "2025-07-19T04:30:56.920957Z",
     "shell.execute_reply.started": "2025-07-19T04:30:56.917080Z"
    }
   },
   "outputs": [
    {
     "name": "stdout",
     "output_type": "stream",
     "text": [
      "hello , mayank\n",
      "hello , jal\n",
      "hello , kartikeya\n"
     ]
    }
   ],
   "source": [
    "def my_function(name) : # 'name' is called parameter\n",
    "    print(\"hello ,\",name)\n",
    "my_function(\"mayank\")\n",
    "my_function(\"jal\")      # 'mayank' , 'jal' , 'karatikeya' is called arguments\n",
    "my_function(\"kartikeya\")"
   ]
  },
  {
   "cell_type": "markdown",
   "id": "e49b0d77-8e3f-41d7-af4b-69bc9a6b9efa",
   "metadata": {},
   "source": [
    "## Number of Arguments"
   ]
  },
  {
   "cell_type": "markdown",
   "id": "e6dc7042-d9ca-4635-bd7b-64c1d7a1652c",
   "metadata": {},
   "source": [
    "* By default, a function must be called with the correct number of arguments. Meaning that if your function expects 2 arguments, you have to call the function with 2 arguments, not more, and not less."
   ]
  },
  {
   "cell_type": "code",
   "execution_count": 7,
   "id": "07cc0dd4-cbbe-4a4a-9614-40680665aa36",
   "metadata": {
    "execution": {
     "iopub.execute_input": "2025-07-19T04:37:18.929797Z",
     "iopub.status.busy": "2025-07-19T04:37:18.928793Z",
     "iopub.status.idle": "2025-07-19T04:37:18.935279Z",
     "shell.execute_reply": "2025-07-19T04:37:18.934269Z",
     "shell.execute_reply.started": "2025-07-19T04:37:18.929797Z"
    }
   },
   "outputs": [
    {
     "name": "stdout",
     "output_type": "stream",
     "text": [
      "mayank 20 male\n"
     ]
    }
   ],
   "source": [
    "def info(name,age,gender) :\n",
    "    print(name,age,gender)\n",
    "info(\"mayank\",20,\"male\")"
   ]
  },
  {
   "cell_type": "code",
   "execution_count": 8,
   "id": "24d9938c-a2a6-43de-acfb-2e9a69c37d4d",
   "metadata": {
    "execution": {
     "iopub.execute_input": "2025-07-19T04:38:00.697364Z",
     "iopub.status.busy": "2025-07-19T04:38:00.697364Z",
     "iopub.status.idle": "2025-07-19T04:38:00.719880Z",
     "shell.execute_reply": "2025-07-19T04:38:00.718864Z",
     "shell.execute_reply.started": "2025-07-19T04:38:00.697364Z"
    }
   },
   "outputs": [
    {
     "ename": "TypeError",
     "evalue": "info() missing 1 required positional argument: 'gender'",
     "output_type": "error",
     "traceback": [
      "\u001b[31m---------------------------------------------------------------------------\u001b[39m",
      "\u001b[31mTypeError\u001b[39m                                 Traceback (most recent call last)",
      "\u001b[36mCell\u001b[39m\u001b[36m \u001b[39m\u001b[32mIn[8]\u001b[39m\u001b[32m, line 1\u001b[39m\n\u001b[32m----> \u001b[39m\u001b[32m1\u001b[39m \u001b[43minfo\u001b[49m\u001b[43m(\u001b[49m\u001b[33;43m\"\u001b[39;49m\u001b[33;43mjal\u001b[39;49m\u001b[33;43m\"\u001b[39;49m\u001b[43m,\u001b[49m\u001b[32;43m20\u001b[39;49m\u001b[43m)\u001b[49m \u001b[38;5;66;03m# ---> this will give you error\u001b[39;00m\n",
      "\u001b[31mTypeError\u001b[39m: info() missing 1 required positional argument: 'gender'"
     ]
    }
   ],
   "source": [
    "info(\"jal\",20) # ---> this will give you error"
   ]
  },
  {
   "cell_type": "markdown",
   "id": "0618ae7d-9b4d-49f4-9bf6-78edf260701c",
   "metadata": {},
   "source": [
    "## Return Values"
   ]
  },
  {
   "cell_type": "code",
   "execution_count": 9,
   "id": "05733d6e-686c-47a6-9ffb-3d51a7ca0c37",
   "metadata": {
    "execution": {
     "iopub.execute_input": "2025-07-19T04:39:37.508599Z",
     "iopub.status.busy": "2025-07-19T04:39:37.507599Z",
     "iopub.status.idle": "2025-07-19T04:39:37.511944Z",
     "shell.execute_reply": "2025-07-19T04:39:37.511944Z",
     "shell.execute_reply.started": "2025-07-19T04:39:37.508599Z"
    }
   },
   "outputs": [
    {
     "name": "stdout",
     "output_type": "stream",
     "text": [
      "15\n",
      "25\n",
      "45\n"
     ]
    }
   ],
   "source": [
    "def my_function(x):\n",
    "  return 5 * x\n",
    "print(my_function(3))\n",
    "print(my_function(5))\n",
    "print(my_function(9))"
   ]
  },
  {
   "cell_type": "code",
   "execution_count": 23,
   "id": "65910f49-f653-4634-96ff-8eaa82412f13",
   "metadata": {
    "execution": {
     "iopub.execute_input": "2025-07-19T04:47:45.075973Z",
     "iopub.status.busy": "2025-07-19T04:47:45.075973Z",
     "iopub.status.idle": "2025-07-19T04:47:45.081827Z",
     "shell.execute_reply": "2025-07-19T04:47:45.080821Z",
     "shell.execute_reply.started": "2025-07-19T04:47:45.075973Z"
    }
   },
   "outputs": [
    {
     "data": {
      "text/plain": [
       "8"
      ]
     },
     "execution_count": 23,
     "metadata": {},
     "output_type": "execute_result"
    }
   ],
   "source": [
    "def is_sum(a,b) :\n",
    "    return a+b\n",
    "is_sum(3,5)"
   ]
  },
  {
   "cell_type": "code",
   "execution_count": 15,
   "id": "0bf4b8bb-dad8-4cc5-9ab3-93986f320f13",
   "metadata": {
    "execution": {
     "iopub.execute_input": "2025-07-19T04:43:37.259448Z",
     "iopub.status.busy": "2025-07-19T04:43:37.259448Z",
     "iopub.status.idle": "2025-07-19T04:43:37.262926Z",
     "shell.execute_reply": "2025-07-19T04:43:37.262926Z",
     "shell.execute_reply.started": "2025-07-19T04:43:37.259448Z"
    }
   },
   "outputs": [],
   "source": [
    "def is_even(num) :\n",
    "    if type(num) == int :\n",
    "       if num % 2 == 0 :\n",
    "           return \"given number is even\"\n",
    "       else :\n",
    "           return \"given number is not even\"\n",
    "    else :\n",
    "        return \"invalid argument\""
   ]
  },
  {
   "cell_type": "code",
   "execution_count": 21,
   "id": "1fcde0d5-2308-46a3-bbf3-e5dfb3551abd",
   "metadata": {
    "execution": {
     "iopub.execute_input": "2025-07-19T04:44:39.860016Z",
     "iopub.status.busy": "2025-07-19T04:44:39.860016Z",
     "iopub.status.idle": "2025-07-19T04:44:39.865015Z",
     "shell.execute_reply": "2025-07-19T04:44:39.865015Z",
     "shell.execute_reply.started": "2025-07-19T04:44:39.860016Z"
    }
   },
   "outputs": [
    {
     "data": {
      "text/plain": [
       "'given number is not even'"
      ]
     },
     "execution_count": 21,
     "metadata": {},
     "output_type": "execute_result"
    }
   ],
   "source": [
    "is_even(7)"
   ]
  },
  {
   "cell_type": "code",
   "execution_count": 20,
   "id": "a2ac899b-333e-420b-aacb-776833f51913",
   "metadata": {
    "execution": {
     "iopub.execute_input": "2025-07-19T04:44:37.230225Z",
     "iopub.status.busy": "2025-07-19T04:44:37.229226Z",
     "iopub.status.idle": "2025-07-19T04:44:37.235219Z",
     "shell.execute_reply": "2025-07-19T04:44:37.235219Z",
     "shell.execute_reply.started": "2025-07-19T04:44:37.230225Z"
    }
   },
   "outputs": [
    {
     "data": {
      "text/plain": [
       "'invalid argument'"
      ]
     },
     "execution_count": 20,
     "metadata": {},
     "output_type": "execute_result"
    }
   ],
   "source": [
    "is_even(\"hello\")"
   ]
  },
  {
   "cell_type": "markdown",
   "id": "2660fdad-dfe5-490c-8cd1-02db70a18522",
   "metadata": {},
   "source": [
    "## Types of arguments "
   ]
  },
  {
   "cell_type": "markdown",
   "id": "0571cee3-db10-474f-ae8b-f8a312593096",
   "metadata": {},
   "source": [
    "### 1. positional aregument"
   ]
  },
  {
   "cell_type": "markdown",
   "id": "b040ed53-0cad-4931-bd57-8a3d5a37c7c3",
   "metadata": {},
   "source": [
    "* You pass values in the same order as the parameters in the function definition."
   ]
  },
  {
   "cell_type": "code",
   "execution_count": 25,
   "id": "c2c94e53-f72a-4850-bd06-9663c217e042",
   "metadata": {
    "execution": {
     "iopub.execute_input": "2025-07-19T04:54:06.938076Z",
     "iopub.status.busy": "2025-07-19T04:54:06.937074Z",
     "iopub.status.idle": "2025-07-19T04:54:06.942187Z",
     "shell.execute_reply": "2025-07-19T04:54:06.942187Z",
     "shell.execute_reply.started": "2025-07-19T04:54:06.938076Z"
    }
   },
   "outputs": [
    {
     "name": "stdout",
     "output_type": "stream",
     "text": [
      "Name: Mayank\n",
      "Age: 20\n"
     ]
    }
   ],
   "source": [
    "def student_info(name, age):\n",
    "    print(\"Name:\", name)\n",
    "    print(\"Age:\", age)\n",
    "student_info(\"Mayank\", 20)\n",
    "# \"Mayank\" goes to name, and 20 goes to age based on position."
   ]
  },
  {
   "cell_type": "markdown",
   "id": "aa492ead-cd49-4b83-8c42-f4c66548612b",
   "metadata": {},
   "source": [
    "### 2. Keyword argument"
   ]
  },
  {
   "cell_type": "markdown",
   "id": "cf02ac48-83d7-4465-9ad8-14a48358dc13",
   "metadata": {},
   "source": [
    "* You pass values by name (parameter name), not by position. This makes your code more readable."
   ]
  },
  {
   "cell_type": "code",
   "execution_count": 26,
   "id": "298389aa-713a-4574-bb79-348f426e4ed9",
   "metadata": {
    "execution": {
     "iopub.execute_input": "2025-07-19T04:55:29.751518Z",
     "iopub.status.busy": "2025-07-19T04:55:29.751518Z",
     "iopub.status.idle": "2025-07-19T04:55:29.755495Z",
     "shell.execute_reply": "2025-07-19T04:55:29.755495Z",
     "shell.execute_reply.started": "2025-07-19T04:55:29.751518Z"
    }
   },
   "outputs": [
    {
     "name": "stdout",
     "output_type": "stream",
     "text": [
      "Name: Mayank\n",
      "Age: 20\n"
     ]
    }
   ],
   "source": [
    "def student_info(name, age):\n",
    "    print(\"Name:\", name)\n",
    "    print(\"Age:\", age)\n",
    "student_info(age=20, name=\"Mayank\")\n",
    "# You can change the order because you're using the parameter names directly."
   ]
  },
  {
   "cell_type": "markdown",
   "id": "7d33e065-3ac0-49d2-b593-52d4573dcdc1",
   "metadata": {},
   "source": [
    "## 3. Default Arguments"
   ]
  },
  {
   "cell_type": "markdown",
   "id": "98e073f2-3ca7-4e89-b55a-1ddc30982868",
   "metadata": {},
   "source": [
    "* You set a default value for a parameter. If the user doesn’t give that value, Python uses the default."
   ]
  },
  {
   "cell_type": "code",
   "execution_count": 27,
   "id": "5a9b21ef-3e4b-451e-b3b9-36b94ac69d6d",
   "metadata": {
    "execution": {
     "iopub.execute_input": "2025-07-19T04:57:25.720411Z",
     "iopub.status.busy": "2025-07-19T04:57:25.720411Z",
     "iopub.status.idle": "2025-07-19T04:57:25.725528Z",
     "shell.execute_reply": "2025-07-19T04:57:25.724520Z",
     "shell.execute_reply.started": "2025-07-19T04:57:25.720411Z"
    }
   },
   "outputs": [
    {
     "name": "stdout",
     "output_type": "stream",
     "text": [
      "Name: Mayank\n",
      "Name: string\n"
     ]
    }
   ],
   "source": [
    "def student_info(name=\"string\"):\n",
    "    print(\"Name:\", name)\n",
    "student_info(\"Mayank\")         \n",
    "student_info()    \n",
    "# Default values are helpful when some inputs are optional."
   ]
  },
  {
   "cell_type": "markdown",
   "id": "80b6a95a-56a2-4829-a42a-703b6ef67435",
   "metadata": {},
   "source": [
    "#### Rule:\n",
    "* Non-default parameters cannot come after default parameters.\n",
    "* So, all default arguments must be at the end (right side)."
   ]
  },
  {
   "cell_type": "code",
   "execution_count": 28,
   "id": "26b18b32-0a04-41e5-9ca8-1b9e231bd803",
   "metadata": {
    "execution": {
     "iopub.execute_input": "2025-07-19T05:00:48.628457Z",
     "iopub.status.busy": "2025-07-19T05:00:48.627456Z",
     "iopub.status.idle": "2025-07-19T05:00:48.632590Z",
     "shell.execute_reply": "2025-07-19T05:00:48.632590Z",
     "shell.execute_reply.started": "2025-07-19T05:00:48.628457Z"
    }
   },
   "outputs": [
    {
     "ename": "SyntaxError",
     "evalue": "non-default argument follows default argument (2528382485.py, line 1)",
     "output_type": "error",
     "traceback": [
      "  \u001b[36mCell\u001b[39m\u001b[36m \u001b[39m\u001b[32mIn[28]\u001b[39m\u001b[32m, line 1\u001b[39m\n\u001b[31m    \u001b[39m\u001b[31mdef student_info(age=18, name):  # default before non-default\u001b[39m\n                             ^\n\u001b[31mSyntaxError\u001b[39m\u001b[31m:\u001b[39m non-default argument follows default argument\n"
     ]
    }
   ],
   "source": [
    "def student_info(age=18, name):  # default before non-default \n",
    "    print(name, age)\n",
    "# this code will give you error "
   ]
  },
  {
   "cell_type": "markdown",
   "id": "1cc02719-36ae-433f-9d3d-81774dcbcd17",
   "metadata": {},
   "source": [
    "#### why"
   ]
  },
  {
   "cell_type": "markdown",
   "id": "aedfa85b-27c3-4576-9dd6-8751347607c0",
   "metadata": {},
   "source": [
    "* Python reads function definitions left to right, and when you call a function, it matches arguments to parameters in order.\n",
    "* So if Python sees a default argument before a non-default one, it gets confused:\n",
    "    * \"Should I use the default?\"\n",
    "    * \"Or is the next value meant for this parameter?\""
   ]
  },
  {
   "cell_type": "code",
   "execution_count": null,
   "id": "7f3d0f72-0114-4f4e-a4da-ba3819c0ea28",
   "metadata": {},
   "outputs": [],
   "source": [
    "def student_info(age=18, name):\n",
    "    print(name, age)\n",
    "student_info(\"Mayank\")\n",
    "# Is \"Mayank\" meant for age or name?\n",
    "# Should it use default age=18 or not?"
   ]
  },
  {
   "cell_type": "markdown",
   "id": "ae0d1a2d-42ce-4c24-af37-c82fabeecbb7",
   "metadata": {},
   "source": [
    "## *args and *kwargs"
   ]
  },
  {
   "cell_type": "markdown",
   "id": "6a7df317-3291-4f45-b068-8849edc16191",
   "metadata": {},
   "source": [
    "* *args allows a function to accept any number of positional arguments.\n",
    "* It collects extra positional arguments into a tuple."
   ]
  },
  {
   "cell_type": "code",
   "execution_count": 1,
   "id": "20625330-1f6a-4e02-b7ab-c8c1d26cb8dc",
   "metadata": {
    "execution": {
     "iopub.execute_input": "2025-07-19T10:28:38.857603Z",
     "iopub.status.busy": "2025-07-19T10:28:38.857603Z",
     "iopub.status.idle": "2025-07-19T10:28:38.865643Z",
     "shell.execute_reply": "2025-07-19T10:28:38.865643Z",
     "shell.execute_reply.started": "2025-07-19T10:28:38.857603Z"
    }
   },
   "outputs": [],
   "source": [
    "def add_all(*args):\n",
    "    print(args)\n",
    "    print(type(args))\n",
    "    return sum(args)"
   ]
  },
  {
   "cell_type": "code",
   "execution_count": 31,
   "id": "c333464d-14e7-462b-a6c6-8c24573c988c",
   "metadata": {
    "execution": {
     "iopub.execute_input": "2025-07-19T05:44:44.854384Z",
     "iopub.status.busy": "2025-07-19T05:44:44.854384Z",
     "iopub.status.idle": "2025-07-19T05:44:44.859845Z",
     "shell.execute_reply": "2025-07-19T05:44:44.859845Z",
     "shell.execute_reply.started": "2025-07-19T05:44:44.854384Z"
    }
   },
   "outputs": [
    {
     "name": "stdout",
     "output_type": "stream",
     "text": [
      "(1, 2, 3, 4, 5, 6, 7)\n",
      "<class 'tuple'>\n"
     ]
    },
    {
     "data": {
      "text/plain": [
       "28"
      ]
     },
     "execution_count": 31,
     "metadata": {},
     "output_type": "execute_result"
    }
   ],
   "source": [
    "add_all(1,2,3,4,5,6,7)"
   ]
  },
  {
   "cell_type": "code",
   "execution_count": 32,
   "id": "ad139d39-9f6f-44af-97d6-b129c2bfcc8f",
   "metadata": {
    "execution": {
     "iopub.execute_input": "2025-07-19T05:45:12.828768Z",
     "iopub.status.busy": "2025-07-19T05:45:12.827769Z",
     "iopub.status.idle": "2025-07-19T05:45:12.833640Z",
     "shell.execute_reply": "2025-07-19T05:45:12.833640Z",
     "shell.execute_reply.started": "2025-07-19T05:45:12.828768Z"
    }
   },
   "outputs": [
    {
     "name": "stdout",
     "output_type": "stream",
     "text": [
      "(12, 23, 34, 56, 67)\n",
      "<class 'tuple'>\n"
     ]
    },
    {
     "data": {
      "text/plain": [
       "192"
      ]
     },
     "execution_count": 32,
     "metadata": {},
     "output_type": "execute_result"
    }
   ],
   "source": [
    "add_all(12,23,34,56,67)"
   ]
  },
  {
   "cell_type": "code",
   "execution_count": 2,
   "id": "9ff37d54-1b44-4907-8ae8-5e6b9c79c986",
   "metadata": {
    "execution": {
     "iopub.execute_input": "2025-07-19T10:28:50.210874Z",
     "iopub.status.busy": "2025-07-19T10:28:50.210874Z",
     "iopub.status.idle": "2025-07-19T10:28:50.215384Z",
     "shell.execute_reply": "2025-07-19T10:28:50.214875Z",
     "shell.execute_reply.started": "2025-07-19T10:28:50.210874Z"
    }
   },
   "outputs": [],
   "source": [
    "def multiplication(*num) :\n",
    "    product = 1\n",
    "    for i in num :\n",
    "        product = product * i\n",
    "    return product"
   ]
  },
  {
   "cell_type": "code",
   "execution_count": 3,
   "id": "48411fc6-d859-4b0e-bb8d-b17425c1c4d6",
   "metadata": {
    "execution": {
     "iopub.execute_input": "2025-07-19T10:28:52.974937Z",
     "iopub.status.busy": "2025-07-19T10:28:52.974937Z",
     "iopub.status.idle": "2025-07-19T10:28:52.983959Z",
     "shell.execute_reply": "2025-07-19T10:28:52.983450Z",
     "shell.execute_reply.started": "2025-07-19T10:28:52.974937Z"
    }
   },
   "outputs": [
    {
     "data": {
      "text/plain": [
       "24"
      ]
     },
     "execution_count": 3,
     "metadata": {},
     "output_type": "execute_result"
    }
   ],
   "source": [
    "multiplication(1,2,3,4)"
   ]
  },
  {
   "cell_type": "code",
   "execution_count": 4,
   "id": "28eccdfc-8c83-492e-be35-9122495846c8",
   "metadata": {
    "execution": {
     "iopub.execute_input": "2025-07-19T10:28:53.427084Z",
     "iopub.status.busy": "2025-07-19T10:28:53.426084Z",
     "iopub.status.idle": "2025-07-19T10:28:53.431056Z",
     "shell.execute_reply": "2025-07-19T10:28:53.431056Z",
     "shell.execute_reply.started": "2025-07-19T10:28:53.427084Z"
    }
   },
   "outputs": [
    {
     "data": {
      "text/plain": [
       "362880"
      ]
     },
     "execution_count": 4,
     "metadata": {},
     "output_type": "execute_result"
    }
   ],
   "source": [
    "multiplication(1,2,3,4,5,6,7,8,9)"
   ]
  },
  {
   "cell_type": "markdown",
   "id": "32764ec5-8adc-4988-bfee-ba01bdeb783d",
   "metadata": {},
   "source": [
    "* **kwargs allows a function to accept any number of keyword arguments.\n",
    "* It collects them into a dictionary."
   ]
  },
  {
   "cell_type": "code",
   "execution_count": 5,
   "id": "2d8ae365-8625-4886-84c7-c26e50de7999",
   "metadata": {
    "execution": {
     "iopub.execute_input": "2025-07-19T10:31:52.848243Z",
     "iopub.status.busy": "2025-07-19T10:31:52.848243Z",
     "iopub.status.idle": "2025-07-19T10:31:52.852403Z",
     "shell.execute_reply": "2025-07-19T10:31:52.852403Z",
     "shell.execute_reply.started": "2025-07-19T10:31:52.848243Z"
    }
   },
   "outputs": [],
   "source": [
    "def display(**kwargs) :\n",
    "    print(kwargs)\n",
    "    print(type(kwargs))\n",
    "    for (i,j) in kwargs.items() :\n",
    "        print(i,\"--->\",j)"
   ]
  },
  {
   "cell_type": "code",
   "execution_count": 6,
   "id": "0fc29520-ca77-4305-8307-ea707d240c8f",
   "metadata": {
    "execution": {
     "iopub.execute_input": "2025-07-19T10:32:51.848014Z",
     "iopub.status.busy": "2025-07-19T10:32:51.848014Z",
     "iopub.status.idle": "2025-07-19T10:32:51.852492Z",
     "shell.execute_reply": "2025-07-19T10:32:51.852492Z",
     "shell.execute_reply.started": "2025-07-19T10:32:51.848014Z"
    }
   },
   "outputs": [
    {
     "name": "stdout",
     "output_type": "stream",
     "text": [
      "{'mayank': 8.42, 'jal': 9.2, 'kartikeya': 1.4}\n",
      "<class 'dict'>\n",
      "mayank ---> 8.42\n",
      "jal ---> 9.2\n",
      "kartikeya ---> 1.4\n"
     ]
    }
   ],
   "source": [
    "display(mayank = 8.42,jal = 9.20 , kartikeya = 1.4)"
   ]
  },
  {
   "cell_type": "code",
   "execution_count": 7,
   "id": "6617abe7-a6cc-4492-b977-c9c8880ba50a",
   "metadata": {
    "execution": {
     "iopub.execute_input": "2025-07-19T10:36:49.369247Z",
     "iopub.status.busy": "2025-07-19T10:36:49.369247Z",
     "iopub.status.idle": "2025-07-19T10:36:49.373708Z",
     "shell.execute_reply": "2025-07-19T10:36:49.373708Z",
     "shell.execute_reply.started": "2025-07-19T10:36:49.369247Z"
    }
   },
   "outputs": [
    {
     "name": "stdout",
     "output_type": "stream",
     "text": [
      "{'a': 'mayank', 'b': 'jal', 'c': 'sujal'}\n",
      "<class 'dict'>\n",
      "a ---> mayank\n",
      "b ---> jal\n",
      "c ---> sujal\n"
     ]
    }
   ],
   "source": [
    "display(a = \"mayank\",b = \"jal\", c = \"sujal\")"
   ]
  },
  {
   "cell_type": "markdown",
   "id": "ef2b3fee-ed9a-46f6-b900-06081aad7fdd",
   "metadata": {},
   "source": [
    "* Note :\n",
    "  * The names args and kwargs are not special keywords - they are just conventions."
   ]
  },
  {
   "cell_type": "markdown",
   "id": "dcaa00d1-12e3-4324-8984-2d6042ac9656",
   "metadata": {},
   "source": [
    "* Order of Arguments Matters in Function Definitions :\n",
    "  1. Normal (positional) parameters\n",
    "  2. *args (variable positional arguments)\n",
    "  3. Default keyword parameters\n",
    "  4. **kwargs (variable keyword arguments)"
   ]
  },
  {
   "cell_type": "code",
   "execution_count": 8,
   "id": "aaf4a0a8-99bf-4c47-a31e-4f111143c2b7",
   "metadata": {
    "execution": {
     "iopub.execute_input": "2025-07-19T10:44:57.925408Z",
     "iopub.status.busy": "2025-07-19T10:44:57.924406Z",
     "iopub.status.idle": "2025-07-19T10:44:57.929409Z",
     "shell.execute_reply": "2025-07-19T10:44:57.929409Z",
     "shell.execute_reply.started": "2025-07-19T10:44:57.925408Z"
    }
   },
   "outputs": [
    {
     "name": "stdout",
     "output_type": "stream",
     "text": [
      "1 2\n",
      "args: (3, 4, 5)\n",
      "c: 20\n",
      "kwargs: {'d': 30, 'e': 40}\n"
     ]
    }
   ],
   "source": [
    "def func(a, b, *args, c=10, **kwargs):\n",
    "    print(a, b)\n",
    "    print(\"args:\", args)\n",
    "    print(\"c:\", c)\n",
    "    print(\"kwargs:\", kwargs)\n",
    "func(1, 2, 3, 4, 5, c=20, d=30, e=40)"
   ]
  },
  {
   "cell_type": "markdown",
   "id": "1523d0b0-671a-4d28-bfc4-526badf2c247",
   "metadata": {},
   "source": [
    "## How Functions are executed in memory?"
   ]
  },
  {
   "cell_type": "markdown",
   "id": "add53b8a-8260-40b5-9f2c-d0b993132423",
   "metadata": {},
   "source": [
    "#### Without return statement"
   ]
  },
  {
   "cell_type": "code",
   "execution_count": 9,
   "id": "2fb27d40-e11d-4537-a4cf-6c819830466b",
   "metadata": {
    "execution": {
     "iopub.execute_input": "2025-07-19T10:55:41.961778Z",
     "iopub.status.busy": "2025-07-19T10:55:41.961778Z",
     "iopub.status.idle": "2025-07-19T10:55:41.965920Z",
     "shell.execute_reply": "2025-07-19T10:55:41.965920Z",
     "shell.execute_reply.started": "2025-07-19T10:55:41.961778Z"
    }
   },
   "outputs": [
    {
     "name": "stdout",
     "output_type": "stream",
     "text": [
      "None\n",
      "[1, 2, 3, 4]\n"
     ]
    }
   ],
   "source": [
    "L = [1,2,3]\n",
    "print(L.append(4)) # because append() does not return any value so by default it will return None\n",
    "print(L)           # None means nothing"
   ]
  },
  {
   "cell_type": "code",
   "execution_count": null,
   "id": "7fca261e-e469-4381-932e-f2e2380bb2f1",
   "metadata": {},
   "outputs": [],
   "source": [
    "def add(a, b):       # Line 1\n",
    "    result = a + b   # Line 2\n",
    "    return result    # Line 3\n",
    "x = add(2, 3)        # Line 4"
   ]
  },
  {
   "cell_type": "markdown",
   "id": "35e474c9-575e-4696-85fb-2b276bfa8dcf",
   "metadata": {
    "execution": {
     "iopub.execute_input": "2025-07-20T16:03:29.648739Z",
     "iopub.status.busy": "2025-07-20T16:03:29.646740Z",
     "iopub.status.idle": "2025-07-20T16:03:29.654289Z",
     "shell.execute_reply": "2025-07-20T16:03:29.653183Z",
     "shell.execute_reply.started": "2025-07-20T16:03:29.647738Z"
    }
   },
   "source": [
    "```python\n",
    "# step-1. Python creates a function object for add.\n",
    "#         This function is stored in the heap memory.\n",
    "#         A name add is placed in the Global Frame,pointing to the function in heap memory.\n",
    "\n",
    "# Heap memory is a special place where Python stores big or reusable things.\n",
    "\n",
    "# step-2. Function add() was called with a = 2 and b = 3.\n",
    "# step-3. Python created a new frame in the call stack called add\n",
    "\n",
    "#  A stack frame is a block of memory that is created temporarily whenever a function is called.\n",
    "#  Once the function finishes (returns), the frame is destroyed automatically.\n",
    "\n",
    "# step-4. Local variables a, b, and result were created inside this frame.\n",
    "\n",
    "# A local variable is a variable that is:\n",
    "#    1. Created inside a function\n",
    "#    2. Exists only while the function is running\n",
    "#    3. Cannot be used outside the function\n",
    "\n",
    "# step-5. return result executed ---> return value 5\n",
    "\n",
    "# step-6. his frame will be destroyed immediately after returning, \n",
    "#         and control will go back to the global frame where x = 5 will be stored.\n",
    "\n",
    "# The global frame is the top-level memory space where Python stores:\n",
    "#      1. Global variables\n",
    "#      2. Function names (references)\n",
    "#      3. Code that is not inside any function\n",
    "\n",
    "# A global variable is a variable that is defined outside of any function, \n",
    "# and can be used anywhere in the code - inside and outside functions."
   ]
  },
  {
   "cell_type": "code",
   "execution_count": 11,
   "id": "91965d13-489e-44bb-bb1e-d9bbefd2b7f8",
   "metadata": {
    "execution": {
     "iopub.execute_input": "2025-07-19T11:35:25.863490Z",
     "iopub.status.busy": "2025-07-19T11:35:25.863490Z",
     "iopub.status.idle": "2025-07-19T11:35:25.868498Z",
     "shell.execute_reply": "2025-07-19T11:35:25.868498Z",
     "shell.execute_reply.started": "2025-07-19T11:35:25.863490Z"
    }
   },
   "outputs": [
    {
     "name": "stdout",
     "output_type": "stream",
     "text": [
      "5\n",
      "6\n",
      "5\n"
     ]
    }
   ],
   "source": [
    "# predict the output\n",
    "def g(y):\n",
    "    print(x)\n",
    "    print(x+1)\n",
    "x = 5  # x is global variable\n",
    "g(x)\n",
    "print(x)"
   ]
  },
  {
   "cell_type": "code",
   "execution_count": 12,
   "id": "c6f02308-8aa5-4b6e-b187-2a70659c0ddc",
   "metadata": {
    "execution": {
     "iopub.execute_input": "2025-07-19T11:40:14.342132Z",
     "iopub.status.busy": "2025-07-19T11:40:14.341128Z",
     "iopub.status.idle": "2025-07-19T11:40:14.347157Z",
     "shell.execute_reply": "2025-07-19T11:40:14.347157Z",
     "shell.execute_reply.started": "2025-07-19T11:40:14.342132Z"
    }
   },
   "outputs": [
    {
     "name": "stdout",
     "output_type": "stream",
     "text": [
      "2\n",
      "5\n"
     ]
    }
   ],
   "source": [
    "# predict the output\n",
    "def f(y):\n",
    "    x = 1 # this x is a local variable\n",
    "    x += 1\n",
    "    print(x)\n",
    "x = 5 # this x is a global variable  \n",
    "f(x)\n",
    "print(x)"
   ]
  },
  {
   "cell_type": "code",
   "execution_count": 13,
   "id": "e603d652-7376-4e67-8ac8-efd545f1f67e",
   "metadata": {
    "execution": {
     "iopub.execute_input": "2025-07-19T11:41:21.147065Z",
     "iopub.status.busy": "2025-07-19T11:41:21.147065Z",
     "iopub.status.idle": "2025-07-19T11:41:21.675440Z",
     "shell.execute_reply": "2025-07-19T11:41:21.673307Z",
     "shell.execute_reply.started": "2025-07-19T11:41:21.147065Z"
    }
   },
   "outputs": [
    {
     "ename": "UnboundLocalError",
     "evalue": "cannot access local variable 'x' where it is not associated with a value",
     "output_type": "error",
     "traceback": [
      "\u001b[31m---------------------------------------------------------------------------\u001b[39m",
      "\u001b[31mUnboundLocalError\u001b[39m                         Traceback (most recent call last)",
      "\u001b[36mCell\u001b[39m\u001b[36m \u001b[39m\u001b[32mIn[13]\u001b[39m\u001b[32m, line 5\u001b[39m\n\u001b[32m      3\u001b[39m     x += \u001b[32m1\u001b[39m\n\u001b[32m      4\u001b[39m x = \u001b[32m5\u001b[39m\n\u001b[32m----> \u001b[39m\u001b[32m5\u001b[39m \u001b[43mh\u001b[49m\u001b[43m(\u001b[49m\u001b[43mx\u001b[49m\u001b[43m)\u001b[49m\n\u001b[32m      6\u001b[39m \u001b[38;5;28mprint\u001b[39m(x)\n",
      "\u001b[36mCell\u001b[39m\u001b[36m \u001b[39m\u001b[32mIn[13]\u001b[39m\u001b[32m, line 3\u001b[39m, in \u001b[36mh\u001b[39m\u001b[34m(y)\u001b[39m\n\u001b[32m      2\u001b[39m \u001b[38;5;28;01mdef\u001b[39;00m\u001b[38;5;250m \u001b[39m\u001b[34mh\u001b[39m(y):\n\u001b[32m----> \u001b[39m\u001b[32m3\u001b[39m     \u001b[43mx\u001b[49m += \u001b[32m1\u001b[39m\n",
      "\u001b[31mUnboundLocalError\u001b[39m: cannot access local variable 'x' where it is not associated with a value"
     ]
    }
   ],
   "source": [
    "# predict the output\n",
    "def h(y):\n",
    "    x += 1 # x = x + 1 ---> but x is not defined \n",
    "x = 5\n",
    "h(x)\n",
    "print(x)"
   ]
  },
  {
   "cell_type": "code",
   "execution_count": 16,
   "id": "fed6e0db-6cce-4b2b-976c-077e5351899b",
   "metadata": {
    "execution": {
     "iopub.execute_input": "2025-07-19T12:04:04.648654Z",
     "iopub.status.busy": "2025-07-19T12:04:04.648654Z",
     "iopub.status.idle": "2025-07-19T12:04:04.653827Z",
     "shell.execute_reply": "2025-07-19T12:04:04.652817Z",
     "shell.execute_reply.started": "2025-07-19T12:04:04.648654Z"
    }
   },
   "outputs": [
    {
     "name": "stdout",
     "output_type": "stream",
     "text": [
      "6\n",
      "5\n"
     ]
    }
   ],
   "source": [
    "# predict the output\n",
    "def h(y):\n",
    "    y = x + 1\n",
    "    print(y)\n",
    "x = 5\n",
    "h(x)\n",
    "print(x)"
   ]
  },
  {
   "cell_type": "code",
   "execution_count": 15,
   "id": "4e80a65b-a51f-471c-91a0-dd940c984866",
   "metadata": {
    "execution": {
     "iopub.execute_input": "2025-07-19T11:56:59.370425Z",
     "iopub.status.busy": "2025-07-19T11:56:59.370425Z",
     "iopub.status.idle": "2025-07-19T11:56:59.375876Z",
     "shell.execute_reply": "2025-07-19T11:56:59.374853Z",
     "shell.execute_reply.started": "2025-07-19T11:56:59.370425Z"
    }
   },
   "outputs": [
    {
     "name": "stdout",
     "output_type": "stream",
     "text": [
      "6\n"
     ]
    }
   ],
   "source": [
    "# predict the output\n",
    "def h(y):\n",
    "    global x\n",
    "    x += 1\n",
    "x = 5\n",
    "h(x)\n",
    "print(x)"
   ]
  },
  {
   "cell_type": "code",
   "execution_count": 14,
   "id": "66f53d60-b144-404e-9a60-5433dc26cecb",
   "metadata": {
    "execution": {
     "iopub.execute_input": "2025-07-19T11:43:09.204485Z",
     "iopub.status.busy": "2025-07-19T11:43:09.203483Z",
     "iopub.status.idle": "2025-07-19T11:43:09.208491Z",
     "shell.execute_reply": "2025-07-19T11:43:09.208491Z",
     "shell.execute_reply.started": "2025-07-19T11:43:09.204485Z"
    }
   },
   "outputs": [
    {
     "name": "stdout",
     "output_type": "stream",
     "text": [
      "in f(x): x = 4\n",
      "in main program scope: z = 4\n",
      "in main program scope: x = 3\n"
     ]
    }
   ],
   "source": [
    "def f(x):\n",
    "   x = x + 1\n",
    "   print('in f(x): x =', x)\n",
    "   return x\n",
    "x = 3\n",
    "z = f(x)\n",
    "print('in main program scope: z =', z)\n",
    "print('in main program scope: x =', x)"
   ]
  },
  {
   "cell_type": "markdown",
   "id": "17013e6d-99b2-4aea-a150-2818095565de",
   "metadata": {},
   "source": [
    "## Nested functions"
   ]
  },
  {
   "cell_type": "markdown",
   "id": "9b706443-2d8a-4bf5-9c8e-9f5a93615b83",
   "metadata": {},
   "source": [
    "* A nested function is a function defined inside another function"
   ]
  },
  {
   "cell_type": "code",
   "execution_count": 17,
   "id": "58514244-b612-4cd5-b79a-f6861843a49d",
   "metadata": {
    "execution": {
     "iopub.execute_input": "2025-07-19T12:07:14.008231Z",
     "iopub.status.busy": "2025-07-19T12:07:14.008231Z",
     "iopub.status.idle": "2025-07-19T12:07:14.012230Z",
     "shell.execute_reply": "2025-07-19T12:07:14.012230Z",
     "shell.execute_reply.started": "2025-07-19T12:07:14.008231Z"
    }
   },
   "outputs": [],
   "source": [
    "def outer_function():\n",
    "    print(\"This is the outer function.\")\n",
    "    def inner_function():\n",
    "        print(\"This is the inner function.\")\n",
    "    inner_function()  "
   ]
  },
  {
   "cell_type": "code",
   "execution_count": 18,
   "id": "61303477-0549-43eb-b2b7-883b80b6a6c4",
   "metadata": {
    "execution": {
     "iopub.execute_input": "2025-07-19T12:07:47.252616Z",
     "iopub.status.busy": "2025-07-19T12:07:47.252616Z",
     "iopub.status.idle": "2025-07-19T12:07:47.256639Z",
     "shell.execute_reply": "2025-07-19T12:07:47.256639Z",
     "shell.execute_reply.started": "2025-07-19T12:07:47.252616Z"
    }
   },
   "outputs": [
    {
     "name": "stdout",
     "output_type": "stream",
     "text": [
      "This is the outer function.\n",
      "This is the inner function.\n"
     ]
    }
   ],
   "source": [
    "outer_function()"
   ]
  },
  {
   "cell_type": "markdown",
   "id": "77b45b62-bffe-4ea1-9449-43260c4a9d3b",
   "metadata": {},
   "source": [
    "*  you can not directly access inner function outside of outer function\n",
    "because inner function exits only in outer function object"
   ]
  },
  {
   "cell_type": "code",
   "execution_count": 20,
   "id": "809ba47a-92a6-41e1-9ff7-78a3261dfe71",
   "metadata": {
    "execution": {
     "iopub.execute_input": "2025-07-19T12:10:49.173028Z",
     "iopub.status.busy": "2025-07-19T12:10:49.173028Z",
     "iopub.status.idle": "2025-07-19T12:10:49.272153Z",
     "shell.execute_reply": "2025-07-19T12:10:49.270625Z",
     "shell.execute_reply.started": "2025-07-19T12:10:49.173028Z"
    }
   },
   "outputs": [
    {
     "ename": "NameError",
     "evalue": "name 'inner_function' is not defined",
     "output_type": "error",
     "traceback": [
      "\u001b[31m---------------------------------------------------------------------------\u001b[39m",
      "\u001b[31mNameError\u001b[39m                                 Traceback (most recent call last)",
      "\u001b[36mCell\u001b[39m\u001b[36m \u001b[39m\u001b[32mIn[20]\u001b[39m\u001b[32m, line 1\u001b[39m\n\u001b[32m----> \u001b[39m\u001b[32m1\u001b[39m \u001b[43minner_function\u001b[49m()\n",
      "\u001b[31mNameError\u001b[39m: name 'inner_function' is not defined"
     ]
    }
   ],
   "source": [
    "inner_function()"
   ]
  },
  {
   "cell_type": "code",
   "execution_count": 24,
   "id": "fe97d189-638d-4f82-85df-a25d2967c1ee",
   "metadata": {
    "execution": {
     "iopub.execute_input": "2025-07-19T12:23:27.824519Z",
     "iopub.status.busy": "2025-07-19T12:23:27.824519Z",
     "iopub.status.idle": "2025-07-19T12:23:27.828972Z",
     "shell.execute_reply": "2025-07-19T12:23:27.828972Z",
     "shell.execute_reply.started": "2025-07-19T12:23:27.824519Z"
    }
   },
   "outputs": [
    {
     "name": "stdout",
     "output_type": "stream",
     "text": [
      "in g(x): x = 4\n",
      "abc\n"
     ]
    }
   ],
   "source": [
    "# predict the output\n",
    "def g(x):\n",
    "    def h():\n",
    "        x = 'abc'\n",
    "        return x\n",
    "    x = x + 1\n",
    "    print('in g(x): x =', x)\n",
    "    h()\n",
    "    return x\n",
    "x = 3\n",
    "z = g(x)\n",
    "print(z)"
   ]
  },
  {
   "cell_type": "code",
   "execution_count": 25,
   "id": "dc38e60e-9ee4-4ec5-90af-b8435dd3625b",
   "metadata": {
    "execution": {
     "iopub.execute_input": "2025-07-19T12:23:59.046834Z",
     "iopub.status.busy": "2025-07-19T12:23:59.045835Z",
     "iopub.status.idle": "2025-07-19T12:23:59.050766Z",
     "shell.execute_reply": "2025-07-19T12:23:59.050766Z",
     "shell.execute_reply.started": "2025-07-19T12:23:59.046834Z"
    }
   },
   "outputs": [
    {
     "name": "stdout",
     "output_type": "stream",
     "text": [
      "in g(x): x = 4\n",
      "abc\n"
     ]
    }
   ],
   "source": [
    "# predict the output\n",
    "def g(x):\n",
    "    def h():\n",
    "        x = 'abc'\n",
    "        return x\n",
    "    x = x + 1\n",
    "    print('in g(x): x =', x)\n",
    "    x = h()\n",
    "    return x\n",
    "x = 3\n",
    "z = g(x)\n",
    "print(z)"
   ]
  },
  {
   "cell_type": "code",
   "execution_count": 26,
   "id": "80f7db90-1b48-4ab8-979b-c7efb02ffa7c",
   "metadata": {
    "execution": {
     "iopub.execute_input": "2025-07-19T12:27:20.445995Z",
     "iopub.status.busy": "2025-07-19T12:27:20.445995Z",
     "iopub.status.idle": "2025-07-19T12:27:20.451499Z",
     "shell.execute_reply": "2025-07-19T12:27:20.450993Z",
     "shell.execute_reply.started": "2025-07-19T12:27:20.445995Z"
    }
   },
   "outputs": [
    {
     "name": "stdout",
     "output_type": "stream",
     "text": [
      "in g(x): x =  4\n",
      "in h(x): x =  5\n",
      "in main program scope: x =  3\n",
      "in main program scope: z =  4\n"
     ]
    }
   ],
   "source": [
    "# predict the output\n",
    "def g(x):\n",
    "    def h(x):\n",
    "        x = x+1\n",
    "        print(\"in h(x): x = \", x)\n",
    "    x = x + 1\n",
    "    print('in g(x): x = ', x)\n",
    "    h(x)\n",
    "    return x\n",
    "x = 3\n",
    "z = g(x)\n",
    "print('in main program scope: x = ', x)\n",
    "print('in main program scope: z = ', z)"
   ]
  },
  {
   "cell_type": "markdown",
   "id": "806c3af5-b943-40bd-9816-8a4c631f631c",
   "metadata": {},
   "source": [
    "## Functions are 1st class citizens"
   ]
  },
  {
   "cell_type": "markdown",
   "id": "5d6ab231-6686-45e8-b71f-b535730bef19",
   "metadata": {},
   "source": [
    "* In programming, first-class citizens (or first-class objects) are entities that:\n",
    "    1. Can be assigned to a variable\n",
    "    2. Can be passed as arguments to other functions\n",
    "    3. Can be returned from a function"
   ]
  },
  {
   "cell_type": "code",
   "execution_count": 14,
   "id": "b0d98e45-6b37-42ff-a370-9de58e3a17d0",
   "metadata": {
    "execution": {
     "iopub.execute_input": "2025-07-19T15:52:45.225330Z",
     "iopub.status.busy": "2025-07-19T15:52:45.225330Z",
     "iopub.status.idle": "2025-07-19T15:52:45.229159Z",
     "shell.execute_reply": "2025-07-19T15:52:45.229159Z",
     "shell.execute_reply.started": "2025-07-19T15:52:45.225330Z"
    }
   },
   "outputs": [
    {
     "name": "stdout",
     "output_type": "stream",
     "text": [
      "<class 'function'>\n",
      "2564720638880\n"
     ]
    }
   ],
   "source": [
    "# type and id\n",
    "def square(num):\n",
    "  return num**2\n",
    "print(type(square))\n",
    "print(id(square))"
   ]
  },
  {
   "cell_type": "code",
   "execution_count": 15,
   "id": "8fde82c3-1559-4280-8c91-97f4b302b251",
   "metadata": {
    "execution": {
     "iopub.execute_input": "2025-07-19T15:52:45.964211Z",
     "iopub.status.busy": "2025-07-19T15:52:45.964211Z",
     "iopub.status.idle": "2025-07-19T15:52:45.968393Z",
     "shell.execute_reply": "2025-07-19T15:52:45.968393Z",
     "shell.execute_reply.started": "2025-07-19T15:52:45.964211Z"
    }
   },
   "outputs": [
    {
     "name": "stdout",
     "output_type": "stream",
     "text": [
      "<class 'function'>\n",
      "2564720638880\n"
     ]
    }
   ],
   "source": [
    "# reassign\n",
    "x = square\n",
    "print(type(x))\n",
    "print(id(x))"
   ]
  },
  {
   "cell_type": "code",
   "execution_count": 18,
   "id": "7e8b173b-95ea-46ae-b3bd-e67bdf70aece",
   "metadata": {
    "execution": {
     "iopub.execute_input": "2025-07-19T15:53:38.709019Z",
     "iopub.status.busy": "2025-07-19T15:53:38.709019Z",
     "iopub.status.idle": "2025-07-19T15:53:38.713064Z",
     "shell.execute_reply": "2025-07-19T15:53:38.713064Z",
     "shell.execute_reply.started": "2025-07-19T15:53:38.709019Z"
    }
   },
   "outputs": [
    {
     "name": "stdout",
     "output_type": "stream",
     "text": [
      "<function square at 0x0000025525433BA0>\n",
      "9\n"
     ]
    }
   ],
   "source": [
    "# storing\n",
    "L = [1,2,3,4,square]\n",
    "print(L[-1])\n",
    "print(L[-1](3))"
   ]
  },
  {
   "cell_type": "code",
   "execution_count": 19,
   "id": "885f215c-c6c8-46c0-ab21-af8ea68f881f",
   "metadata": {
    "execution": {
     "iopub.execute_input": "2025-07-19T15:54:25.291426Z",
     "iopub.status.busy": "2025-07-19T15:54:25.291426Z",
     "iopub.status.idle": "2025-07-19T15:54:25.296941Z",
     "shell.execute_reply": "2025-07-19T15:54:25.296435Z",
     "shell.execute_reply.started": "2025-07-19T15:54:25.291426Z"
    }
   },
   "outputs": [
    {
     "name": "stdout",
     "output_type": "stream",
     "text": [
      "7\n"
     ]
    }
   ],
   "source": [
    "# returning a function\n",
    "def f():\n",
    "    def x(a, b):\n",
    "        return a+b\n",
    "    return x   \n",
    "val = f()(3,4)\n",
    "print(val)"
   ]
  },
  {
   "cell_type": "code",
   "execution_count": 20,
   "id": "6e9937dc-549d-4dbc-b42e-cbc7e36b77b2",
   "metadata": {
    "execution": {
     "iopub.execute_input": "2025-07-19T15:59:28.041610Z",
     "iopub.status.busy": "2025-07-19T15:59:28.040611Z",
     "iopub.status.idle": "2025-07-19T15:59:28.045653Z",
     "shell.execute_reply": "2025-07-19T15:59:28.045653Z",
     "shell.execute_reply.started": "2025-07-19T15:59:28.041610Z"
    }
   },
   "outputs": [
    {
     "name": "stdout",
     "output_type": "stream",
     "text": [
      "inside func_c\n",
      "inside func_a\n",
      "None\n"
     ]
    }
   ],
   "source": [
    "# function as argument\n",
    "def func_a():\n",
    "    print('inside func_a')\n",
    "def func_b(z):\n",
    "    print('inside func_c')\n",
    "    return z()\n",
    "print(func_b(func_a))"
   ]
  },
  {
   "cell_type": "markdown",
   "id": "6b3d8195-19e1-463f-a217-a5404db58a7e",
   "metadata": {},
   "source": [
    "## Benifits of functions"
   ]
  },
  {
   "cell_type": "markdown",
   "id": "c745e8db-2a83-4a3e-a780-c1787c7002f8",
   "metadata": {},
   "source": [
    "1.  code modularity ---> Breaking a big task into smaller parts (modules).\n",
    "2.  code readability ---> Code is easier to read and understand.\n",
    "3.  code reusability ---> Write once, use many times."
   ]
  },
  {
   "cell_type": "markdown",
   "id": "5ef940b5-806a-418a-a0d8-a9aca7187969",
   "metadata": {},
   "source": [
    "## lamada function"
   ]
  },
  {
   "cell_type": "markdown",
   "id": "6250a13b-929a-4ab7-ba72-ec98798b86ff",
   "metadata": {},
   "source": [
    "* A lambda function is a small anonymous function.\n",
    "   * anonymous ---> without a name\n",
    "* A lambda function can take any number of arguments, but can only have one expression."
   ]
  },
  {
   "cell_type": "markdown",
   "id": "b8234f53-1189-4ae4-8528-0fb116aa8f38",
   "metadata": {
    "execution": {
     "iopub.execute_input": "2025-07-20T03:27:47.375130Z",
     "iopub.status.busy": "2025-07-20T03:27:47.374131Z",
     "iopub.status.idle": "2025-07-20T03:27:47.389530Z",
     "shell.execute_reply": "2025-07-20T03:27:47.388460Z",
     "shell.execute_reply.started": "2025-07-20T03:27:47.375130Z"
    }
   },
   "source": [
    "```python\n",
    "#syntax :\n",
    "\n",
    "lambda arguments: expression\n",
    "\n",
    "# lambda ----> keyword\n",
    "#arguments ----> input(s) to the function\n",
    "#expression ----> what to return (must be one line)"
   ]
  },
  {
   "cell_type": "code",
   "execution_count": 22,
   "id": "b69f183f-949e-45aa-8f30-f2ed1c27e1ea",
   "metadata": {
    "execution": {
     "iopub.execute_input": "2025-07-19T16:14:29.186434Z",
     "iopub.status.busy": "2025-07-19T16:14:29.185430Z",
     "iopub.status.idle": "2025-07-19T16:14:29.190941Z",
     "shell.execute_reply": "2025-07-19T16:14:29.190941Z",
     "shell.execute_reply.started": "2025-07-19T16:14:29.186434Z"
    }
   },
   "outputs": [
    {
     "data": {
      "text/plain": [
       "<function __main__.<lambda>(x)>"
      ]
     },
     "execution_count": 22,
     "metadata": {},
     "output_type": "execute_result"
    }
   ],
   "source": [
    "lambda x : x**2 "
   ]
  },
  {
   "cell_type": "code",
   "execution_count": 26,
   "id": "c632a1be-dac9-4630-934e-e860d1588261",
   "metadata": {
    "execution": {
     "iopub.execute_input": "2025-07-19T16:17:04.980314Z",
     "iopub.status.busy": "2025-07-19T16:17:04.980314Z",
     "iopub.status.idle": "2025-07-19T16:17:04.984155Z",
     "shell.execute_reply": "2025-07-19T16:17:04.984155Z",
     "shell.execute_reply.started": "2025-07-19T16:17:04.980314Z"
    }
   },
   "outputs": [
    {
     "name": "stdout",
     "output_type": "stream",
     "text": [
      "16\n",
      "<class 'function'>\n"
     ]
    }
   ],
   "source": [
    "# x ---> x**2\n",
    "square = lambda x : x**2\n",
    "print(square(4))\n",
    "print(type(square))"
   ]
  },
  {
   "cell_type": "code",
   "execution_count": 27,
   "id": "470cfe6e-9fcf-4963-ae9c-3d9baf383865",
   "metadata": {
    "execution": {
     "iopub.execute_input": "2025-07-19T16:20:12.044408Z",
     "iopub.status.busy": "2025-07-19T16:20:12.043405Z",
     "iopub.status.idle": "2025-07-19T16:20:12.048909Z",
     "shell.execute_reply": "2025-07-19T16:20:12.048404Z",
     "shell.execute_reply.started": "2025-07-19T16:20:12.044408Z"
    }
   },
   "outputs": [
    {
     "name": "stdout",
     "output_type": "stream",
     "text": [
      "7\n"
     ]
    }
   ],
   "source": [
    "# x,y ---> x+y\n",
    "add = lambda x,y : x+y\n",
    "print(3+4)"
   ]
  },
  {
   "cell_type": "code",
   "execution_count": 30,
   "id": "59e1399d-6b48-40b4-bd47-c68be61192fc",
   "metadata": {
    "execution": {
     "iopub.execute_input": "2025-07-19T16:21:50.575580Z",
     "iopub.status.busy": "2025-07-19T16:21:50.575580Z",
     "iopub.status.idle": "2025-07-19T16:21:50.580629Z",
     "shell.execute_reply": "2025-07-19T16:21:50.580629Z",
     "shell.execute_reply.started": "2025-07-19T16:21:50.575580Z"
    }
   },
   "outputs": [
    {
     "data": {
      "text/plain": [
       "False"
      ]
     },
     "execution_count": 30,
     "metadata": {},
     "output_type": "execute_result"
    }
   ],
   "source": [
    "# check if a string has 'a'\n",
    "a = lambda s: 'a' in s \n",
    "a('hello')"
   ]
  },
  {
   "cell_type": "code",
   "execution_count": 33,
   "id": "9175d8b3-1be4-4767-aeda-0da6e8912d26",
   "metadata": {
    "execution": {
     "iopub.execute_input": "2025-07-19T16:23:56.138082Z",
     "iopub.status.busy": "2025-07-19T16:23:56.138082Z",
     "iopub.status.idle": "2025-07-19T16:23:56.143081Z",
     "shell.execute_reply": "2025-07-19T16:23:56.143081Z",
     "shell.execute_reply.started": "2025-07-19T16:23:56.138082Z"
    }
   },
   "outputs": [
    {
     "data": {
      "text/plain": [
       "'even'"
      ]
     },
     "execution_count": 33,
     "metadata": {},
     "output_type": "execute_result"
    }
   ],
   "source": [
    "# odd or even\n",
    "a = lambda x:'even' if x%2 == 0 else 'odd'\n",
    "a(6)"
   ]
  },
  {
   "cell_type": "markdown",
   "id": "93ee8d47-726a-4449-8792-32f973600b59",
   "metadata": {},
   "source": [
    "### Difference between Lambda function vs Normal function"
   ]
  },
  {
   "cell_type": "markdown",
   "id": "f5e0b5f7-16c8-41a5-94d3-8592040ab17a",
   "metadata": {},
   "source": [
    "1. No name\n",
    "2. lambda has no return value(infact,returns a function)\n",
    "3. lambda is written in 1 line\n",
    "4. not reusable"
   ]
  },
  {
   "cell_type": "markdown",
   "id": "f6dc4994-d634-4039-8843-1575261f9eb2",
   "metadata": {},
   "source": [
    "* Why Use lambda Functions?\n",
    "  * Because they are:\n",
    "    1. Short\n",
    "    2. Fast to write\n",
    "    3. Perfect for quick, throwaway logic\n",
    "    4. Often used with Higher-Order Functions (HOFs)"
   ]
  },
  {
   "cell_type": "markdown",
   "id": "62d711c5-c48b-45be-8438-6b20efd2064e",
   "metadata": {},
   "source": [
    "* A higher-order function is a function that:\n",
    "    1. Takes another function as an argument, OR\n",
    "    2. Returns a function as its result."
   ]
  },
  {
   "cell_type": "code",
   "execution_count": 58,
   "id": "9507287c-27d6-48f7-9146-3cc12f32fd3f",
   "metadata": {
    "execution": {
     "iopub.execute_input": "2025-07-19T17:05:38.191408Z",
     "iopub.status.busy": "2025-07-19T17:05:38.190408Z",
     "iopub.status.idle": "2025-07-19T17:05:38.195685Z",
     "shell.execute_reply": "2025-07-19T17:05:38.195685Z",
     "shell.execute_reply.started": "2025-07-19T17:05:38.191408Z"
    }
   },
   "outputs": [
    {
     "name": "stdout",
     "output_type": "stream",
     "text": [
      "Good Morning!\n",
      "Hello, how are you?\n"
     ]
    }
   ],
   "source": [
    "def greet(func):\n",
    "    print(\"Good Morning!\")\n",
    "    func() \n",
    "def say_hello():\n",
    "    print(\"Hello, how are you?\")\n",
    "greet(say_hello)"
   ]
  },
  {
   "cell_type": "code",
   "execution_count": 59,
   "id": "aee8a6d5-55f0-4c5f-91a2-832c4b4b093c",
   "metadata": {
    "execution": {
     "iopub.execute_input": "2025-07-19T17:06:10.941505Z",
     "iopub.status.busy": "2025-07-19T17:06:10.941505Z",
     "iopub.status.idle": "2025-07-19T17:06:10.945276Z",
     "shell.execute_reply": "2025-07-19T17:06:10.945276Z",
     "shell.execute_reply.started": "2025-07-19T17:06:10.941505Z"
    }
   },
   "outputs": [
    {
     "name": "stdout",
     "output_type": "stream",
     "text": [
      "This is the inner function.\n"
     ]
    }
   ],
   "source": [
    "def outer():\n",
    "    def inner():\n",
    "        print(\"This is the inner function.\")\n",
    "    return inner\n",
    "my_func = outer()  \n",
    "my_func()  "
   ]
  },
  {
   "cell_type": "code",
   "execution_count": 2,
   "id": "d79ac2a4-969f-4947-bf93-3f4d258fb856",
   "metadata": {
    "execution": {
     "iopub.execute_input": "2025-07-20T03:29:27.397614Z",
     "iopub.status.busy": "2025-07-20T03:29:27.396586Z",
     "iopub.status.idle": "2025-07-20T03:29:27.405593Z",
     "shell.execute_reply": "2025-07-20T03:29:27.404542Z",
     "shell.execute_reply.started": "2025-07-20T03:29:27.397614Z"
    }
   },
   "outputs": [
    {
     "name": "stdout",
     "output_type": "stream",
     "text": [
      "[1, 4, 9, 16, 25]\n"
     ]
    }
   ],
   "source": [
    "def square(x):\n",
    "  return x**2\n",
    "def transform(f,L):\n",
    "  output = []\n",
    "  for i in L:\n",
    "    output.append(f(i))\n",
    "  print(output)\n",
    "L = [1,2,3,4,5]\n",
    "transform(square,L)"
   ]
  },
  {
   "cell_type": "markdown",
   "id": "80e31591-e1b3-414d-b908-776f3f16e75e",
   "metadata": {},
   "source": [
    "### map()"
   ]
  },
  {
   "cell_type": "markdown",
   "id": "fc599f61-24ed-4cf7-a1cd-5bf0b7afb89c",
   "metadata": {},
   "source": [
    "* map( ) ---> Apply a function to each item in an iterable and returns a new iterable with the results."
   ]
  },
  {
   "cell_type": "markdown",
   "id": "2fa8abfc-d9cf-45a9-bd7b-c75e534f28c4",
   "metadata": {},
   "source": [
    "```python\n",
    "# syntax :\n",
    "map(function,iterable)"
   ]
  },
  {
   "cell_type": "code",
   "execution_count": 34,
   "id": "6cc6c746-0ad1-4ccb-b763-de0e0538e28f",
   "metadata": {
    "execution": {
     "iopub.execute_input": "2025-07-19T16:36:41.845379Z",
     "iopub.status.busy": "2025-07-19T16:36:41.845379Z",
     "iopub.status.idle": "2025-07-19T16:36:41.851406Z",
     "shell.execute_reply": "2025-07-19T16:36:41.851406Z",
     "shell.execute_reply.started": "2025-07-19T16:36:41.845379Z"
    }
   },
   "outputs": [
    {
     "data": {
      "text/plain": [
       "<map at 0x255254e6710>"
      ]
     },
     "execution_count": 34,
     "metadata": {},
     "output_type": "execute_result"
    }
   ],
   "source": [
    "map(lambda x:x**2,[1,2,3,4,5,6,7])"
   ]
  },
  {
   "cell_type": "code",
   "execution_count": 35,
   "id": "edaa1899-53f4-4085-8b3a-5d93e60cca36",
   "metadata": {
    "execution": {
     "iopub.execute_input": "2025-07-19T16:37:19.138844Z",
     "iopub.status.busy": "2025-07-19T16:37:19.138844Z",
     "iopub.status.idle": "2025-07-19T16:37:19.143780Z",
     "shell.execute_reply": "2025-07-19T16:37:19.142753Z",
     "shell.execute_reply.started": "2025-07-19T16:37:19.138844Z"
    }
   },
   "outputs": [
    {
     "name": "stdout",
     "output_type": "stream",
     "text": [
      "[1, 4, 9, 16, 25, 36, 49]\n"
     ]
    }
   ],
   "source": [
    "#  square the items of a list\n",
    "m = list(map(lambda x:x**2,[1,2,3,4,5,6,7]))\n",
    "print(m)"
   ]
  },
  {
   "cell_type": "code",
   "execution_count": 37,
   "id": "e292af5b-4c0b-4dd7-8046-58a38655078c",
   "metadata": {
    "execution": {
     "iopub.execute_input": "2025-07-19T16:38:04.077005Z",
     "iopub.status.busy": "2025-07-19T16:38:04.077005Z",
     "iopub.status.idle": "2025-07-19T16:38:04.082189Z",
     "shell.execute_reply": "2025-07-19T16:38:04.082189Z",
     "shell.execute_reply.started": "2025-07-19T16:38:04.077005Z"
    }
   },
   "outputs": [
    {
     "data": {
      "text/plain": [
       "['odd', 'even', 'odd', 'even', 'odd', 'even', 'odd', 'even', 'odd', 'even']"
      ]
     },
     "execution_count": 37,
     "metadata": {},
     "output_type": "execute_result"
    }
   ],
   "source": [
    "# odd/even labeling of list items\n",
    "L = [1,2,3,4,5,6,7,8,9,10]\n",
    "list(map(lambda x:'even' if x%2 == 0 else 'odd',L))"
   ]
  },
  {
   "cell_type": "code",
   "execution_count": 60,
   "id": "a0f5dbbd-016a-4337-8a58-13bc4f6bde63",
   "metadata": {
    "execution": {
     "iopub.execute_input": "2025-07-19T17:08:47.456995Z",
     "iopub.status.busy": "2025-07-19T17:08:47.456995Z",
     "iopub.status.idle": "2025-07-19T17:08:47.462517Z",
     "shell.execute_reply": "2025-07-19T17:08:47.461509Z",
     "shell.execute_reply.started": "2025-07-19T17:08:47.456995Z"
    }
   },
   "outputs": [
    {
     "name": "stdout",
     "output_type": "stream",
     "text": [
      "['Rahul', 'Nitish', 'Ankita']\n"
     ]
    }
   ],
   "source": [
    " # fetch names from a list of dict\n",
    "users = [\n",
    "    {\n",
    "        'name':'Rahul',\n",
    "        'age':45,\n",
    "        'gender':'male'\n",
    "    },\n",
    "    {\n",
    "        'name':'Nitish',\n",
    "        'age':33,\n",
    "        'gender':'male'\n",
    "    },\n",
    "    {\n",
    "        'name':'Ankita',\n",
    "        'age':50,\n",
    "        'gender':'female'\n",
    "    }\n",
    "]\n",
    "m = list(map(lambda user:user['name'],users))\n",
    "print(m)"
   ]
  },
  {
   "cell_type": "markdown",
   "id": "350982e2-efc7-4ac0-a296-c3c453dbaef8",
   "metadata": {},
   "source": [
    "### filter()"
   ]
  },
  {
   "cell_type": "markdown",
   "id": "8b2125c7-b075-4d1f-84e3-6eae56961d64",
   "metadata": {},
   "source": [
    "* Filter elements from an iterable based on a condition (True/False)\n",
    "It only keeps the elements that satisfy the condition.\n",
    "* reutrn True of Flase"
   ]
  },
  {
   "cell_type": "code",
   "execution_count": null,
   "id": "4da8c8a7-12b5-4077-ba5d-a7d080e242d8",
   "metadata": {},
   "outputs": [],
   "source": [
    "# syntax :\n",
    "filter(function,iterable)"
   ]
  },
  {
   "cell_type": "code",
   "execution_count": 45,
   "id": "5d242fcd-da91-450b-9849-274fc837ba84",
   "metadata": {
    "execution": {
     "iopub.execute_input": "2025-07-19T16:44:22.067444Z",
     "iopub.status.busy": "2025-07-19T16:44:22.065938Z",
     "iopub.status.idle": "2025-07-19T16:44:22.071612Z",
     "shell.execute_reply": "2025-07-19T16:44:22.071612Z",
     "shell.execute_reply.started": "2025-07-19T16:44:22.067444Z"
    }
   },
   "outputs": [
    {
     "name": "stdout",
     "output_type": "stream",
     "text": [
      "[6, 7]\n"
     ]
    }
   ],
   "source": [
    "# numbers greater than 5\n",
    "L = [3,4,5,6,7]\n",
    "x = list(filter(lambda x:x>5,L))\n",
    "print(x)"
   ]
  },
  {
   "cell_type": "code",
   "execution_count": 46,
   "id": "d62c5a4d-9149-4c39-acb2-8641197b5402",
   "metadata": {
    "execution": {
     "iopub.execute_input": "2025-07-19T16:45:05.187087Z",
     "iopub.status.busy": "2025-07-19T16:45:05.187087Z",
     "iopub.status.idle": "2025-07-19T16:45:05.192241Z",
     "shell.execute_reply": "2025-07-19T16:45:05.192241Z",
     "shell.execute_reply.started": "2025-07-19T16:45:05.187087Z"
    }
   },
   "outputs": [
    {
     "data": {
      "text/plain": [
       "['apple', 'and', 'ant']"
      ]
     },
     "execution_count": 46,
     "metadata": {},
     "output_type": "execute_result"
    }
   ],
   "source": [
    "# fetch fruits starting with 'a'\n",
    "fruits = ['apple','guava','cherry','and','ant']\n",
    "list(filter(lambda x:x.startswith('a'),fruits))"
   ]
  },
  {
   "cell_type": "code",
   "execution_count": 50,
   "id": "5a6d9f9f-bc4b-4dbd-bdb8-4bc9f5ada51f",
   "metadata": {
    "execution": {
     "iopub.execute_input": "2025-07-19T16:50:52.915598Z",
     "iopub.status.busy": "2025-07-19T16:50:52.915598Z",
     "iopub.status.idle": "2025-07-19T16:50:52.920885Z",
     "shell.execute_reply": "2025-07-19T16:50:52.920885Z",
     "shell.execute_reply.started": "2025-07-19T16:50:52.915598Z"
    }
   },
   "outputs": [
    {
     "data": {
      "text/plain": [
       "[1, 2, 3, 4, 7]"
      ]
     },
     "execution_count": 50,
     "metadata": {},
     "output_type": "execute_result"
    }
   ],
   "source": [
    "# fetch only positive number \n",
    "num = [1,2,3,-3,-6,-4,4,7]\n",
    "list(filter(lambda x: x>0,num))"
   ]
  },
  {
   "cell_type": "markdown",
   "id": "25afda8b-3a27-4f0f-a078-596a1a802abe",
   "metadata": {},
   "source": [
    "### reduce()"
   ]
  },
  {
   "cell_type": "markdown",
   "id": "3da26f9c-d0d1-44a3-ab0f-ab91c1fd32aa",
   "metadata": {},
   "source": [
    "* reduce( ) is a function that reduces a ietrable to a single value by applying a function repeatedly to the elements.\n",
    "* It comes from the functools module."
   ]
  },
  {
   "cell_type": "code",
   "execution_count": null,
   "id": "3a4b0464-5cae-403d-997b-8ec9918de3df",
   "metadata": {},
   "outputs": [],
   "source": [
    "# syntax :\n",
    "from functools import reduce\n",
    "reduce(function,iterable)"
   ]
  },
  {
   "cell_type": "code",
   "execution_count": 54,
   "id": "5a4cdaaa-bac1-4daf-90bf-649d52eb35a0",
   "metadata": {
    "execution": {
     "iopub.execute_input": "2025-07-19T16:57:18.671783Z",
     "iopub.status.busy": "2025-07-19T16:57:18.670784Z",
     "iopub.status.idle": "2025-07-19T16:57:18.675784Z",
     "shell.execute_reply": "2025-07-19T16:57:18.675784Z",
     "shell.execute_reply.started": "2025-07-19T16:57:18.671783Z"
    }
   },
   "outputs": [
    {
     "name": "stdout",
     "output_type": "stream",
     "text": [
      "15\n"
     ]
    }
   ],
   "source": [
    "#  Sum of all numbers\n",
    "from functools import reduce\n",
    "nums = [1, 2, 3, 4, 5]\n",
    "result = reduce(lambda a, b: a + b, nums)\n",
    "print(result)\n",
    "\n",
    "#  How it works step-by-step:\n",
    "#  ((((1 + 2) + 3) + 4) + 5) ---> 15\n",
    "#  Step 1: 1 + 2 = 3\n",
    "#  Step 2: 3 + 3 = 6\n",
    "#  Step 3: 6 + 4 = 10\n",
    "#   Step 4: 10 + 5 = 15"
   ]
  },
  {
   "cell_type": "code",
   "execution_count": 56,
   "id": "2cb8d60a-a770-49e6-8b5d-a2887edd0a4d",
   "metadata": {
    "execution": {
     "iopub.execute_input": "2025-07-19T17:00:19.155343Z",
     "iopub.status.busy": "2025-07-19T17:00:19.154343Z",
     "iopub.status.idle": "2025-07-19T17:00:19.159364Z",
     "shell.execute_reply": "2025-07-19T17:00:19.159364Z",
     "shell.execute_reply.started": "2025-07-19T17:00:19.155343Z"
    }
   },
   "outputs": [
    {
     "name": "stdout",
     "output_type": "stream",
     "text": [
      "7\n"
     ]
    }
   ],
   "source": [
    "# maximum number from list\n",
    "nums = [1,2,3,4,5,6,7]\n",
    "m = reduce(lambda x,y: x if x>y else y,nums)\n",
    "print(m)"
   ]
  },
  {
   "cell_type": "code",
   "execution_count": 57,
   "id": "dc04e07e-62f7-474c-b91a-a6ff2aa7d676",
   "metadata": {
    "execution": {
     "iopub.execute_input": "2025-07-19T17:01:02.377601Z",
     "iopub.status.busy": "2025-07-19T17:01:02.377601Z",
     "iopub.status.idle": "2025-07-19T17:01:02.381978Z",
     "shell.execute_reply": "2025-07-19T17:01:02.381978Z",
     "shell.execute_reply.started": "2025-07-19T17:01:02.377601Z"
    }
   },
   "outputs": [
    {
     "name": "stdout",
     "output_type": "stream",
     "text": [
      "1\n"
     ]
    }
   ],
   "source": [
    "# minimum number from list\n",
    "nums = [1,2,3,4,5,6,7]\n",
    "m = reduce(lambda x,y: x if x<y else y,nums)\n",
    "print(m)"
   ]
  },
  {
   "cell_type": "markdown",
   "id": "e4b3cb5a-2f1a-4d4d-aee1-1bd24b614fa2",
   "metadata": {},
   "source": [
    "## Question"
   ]
  },
  {
   "cell_type": "code",
   "execution_count": 36,
   "id": "0ea445db-994e-4f73-a3f5-8feb809786ab",
   "metadata": {
    "execution": {
     "iopub.execute_input": "2025-07-20T06:14:56.944739Z",
     "iopub.status.busy": "2025-07-20T06:14:56.943740Z",
     "iopub.status.idle": "2025-07-20T06:15:49.646500Z",
     "shell.execute_reply": "2025-07-20T06:15:49.646500Z",
     "shell.execute_reply.started": "2025-07-20T06:14:56.944739Z"
    }
   },
   "outputs": [
    {
     "name": "stdin",
     "output_type": "stream",
     "text": [
      "enter the n : 5\n",
      "enter the r : 2\n"
     ]
    },
    {
     "name": "stdout",
     "output_type": "stream",
     "text": [
      "5 C 2 = 10\n"
     ]
    }
   ],
   "source": [
    "# Combination formula\n",
    "import math\n",
    "def nCr(a,b) :\n",
    "    c = math.factorial(a) // (math.factorial(b)*math.factorial(a-b))\n",
    "    return c                         \n",
    "n = int(input(\"enter the n :\"))\n",
    "r = int(input(\"enter the r :\"))\n",
    "if n>r :\n",
    "    print(n,\"C\",r,\"=\",nCr(n,r))\n",
    "else :\n",
    "    print(\"Error : n<r \")"
   ]
  },
  {
   "cell_type": "code",
   "execution_count": 35,
   "id": "af3e4e93-d5da-4067-91c5-e71bf125d5f8",
   "metadata": {
    "execution": {
     "iopub.execute_input": "2025-07-20T04:08:37.732186Z",
     "iopub.status.busy": "2025-07-20T04:08:37.731190Z",
     "iopub.status.idle": "2025-07-20T04:08:38.936588Z",
     "shell.execute_reply": "2025-07-20T04:08:38.936076Z",
     "shell.execute_reply.started": "2025-07-20T04:08:37.732186Z"
    }
   },
   "outputs": [
    {
     "name": "stdin",
     "output_type": "stream",
     "text": [
      "enter the number of lines : 5\n"
     ]
    },
    {
     "name": "stdout",
     "output_type": "stream",
     "text": [
      "          1   \n",
      "        1   1   \n",
      "      1   2   1   \n",
      "    1   3   3   1   \n",
      "  1   4   6   4   1   \n"
     ]
    }
   ],
   "source": [
    "# pascal triangle\n",
    "n = int(input(\"enter the number of lines :\"))\n",
    "for i in range(0,n) :\n",
    "    for k in range(1,n-i+1) :\n",
    "        print(\" \",end=' ')\n",
    "    for j in range(0,i+1) :\n",
    "        print(nCr(i,j),\" \",end=' ')\n",
    "    print()"
   ]
  }
 ],
 "metadata": {
  "kernelspec": {
   "display_name": "Python 3 (ipykernel)",
   "language": "python",
   "name": "python3"
  },
  "language_info": {
   "codemirror_mode": {
    "name": "ipython",
    "version": 3
   },
   "file_extension": ".py",
   "mimetype": "text/x-python",
   "name": "python",
   "nbconvert_exporter": "python",
   "pygments_lexer": "ipython3",
   "version": "3.11.6"
  }
 },
 "nbformat": 4,
 "nbformat_minor": 5
}
