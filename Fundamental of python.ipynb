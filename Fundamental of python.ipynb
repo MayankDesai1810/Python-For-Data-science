{
 "cells": [
  {
   "cell_type": "markdown",
   "id": "4ed2a68f-c801-4ff0-9057-40792d1ee474",
   "metadata": {},
   "source": [
    "## Python Output"
   ]
  },
  {
   "cell_type": "code",
   "execution_count": 5,
   "id": "aeb22790-d2ab-4b5f-884b-5b304f994304",
   "metadata": {
    "execution": {
     "iopub.execute_input": "2025-08-01T15:36:10.307760Z",
     "iopub.status.busy": "2025-08-01T15:36:10.306761Z",
     "iopub.status.idle": "2025-08-01T15:36:10.311760Z",
     "shell.execute_reply": "2025-08-01T15:36:10.311760Z",
     "shell.execute_reply.started": "2025-08-01T15:36:10.307760Z"
    }
   },
   "outputs": [
    {
     "name": "stdout",
     "output_type": "stream",
     "text": [
      "Hello Wrold\n"
     ]
    }
   ],
   "source": [
    "print(\"Hello Wrold\")  # used to display output\n",
    "\n",
    "# python is a case sensitive language\n",
    "# print() ---->  valid\n",
    "# Print() ---->  invalid "
   ]
  },
  {
   "cell_type": "code",
   "execution_count": 18,
   "id": "c2191577-3b21-4f6f-b43c-05390a009013",
   "metadata": {
    "execution": {
     "iopub.execute_input": "2025-07-04T11:25:20.080238Z",
     "iopub.status.busy": "2025-07-04T11:25:20.080238Z",
     "iopub.status.idle": "2025-07-04T11:25:20.098790Z",
     "shell.execute_reply": "2025-07-04T11:25:20.097255Z",
     "shell.execute_reply.started": "2025-07-04T11:25:20.080238Z"
    }
   },
   "outputs": [
    {
     "name": "stdout",
     "output_type": "stream",
     "text": [
      "123\n"
     ]
    }
   ],
   "source": [
    "print(123)"
   ]
  },
  {
   "cell_type": "code",
   "execution_count": 19,
   "id": "9181def5-4f59-4863-b393-29044c6b7166",
   "metadata": {
    "execution": {
     "iopub.execute_input": "2025-07-04T11:25:34.846918Z",
     "iopub.status.busy": "2025-07-04T11:25:34.846918Z",
     "iopub.status.idle": "2025-07-04T11:25:34.863960Z",
     "shell.execute_reply": "2025-07-04T11:25:34.857963Z",
     "shell.execute_reply.started": "2025-07-04T11:25:34.846918Z"
    }
   },
   "outputs": [
    {
     "name": "stdout",
     "output_type": "stream",
     "text": [
      "123.456\n"
     ]
    }
   ],
   "source": [
    "print(123.456)"
   ]
  },
  {
   "cell_type": "code",
   "execution_count": 20,
   "id": "f70f9493-72c0-4028-8c93-578791edf758",
   "metadata": {
    "execution": {
     "iopub.execute_input": "2025-07-04T11:26:01.893772Z",
     "iopub.status.busy": "2025-07-04T11:26:01.892770Z",
     "iopub.status.idle": "2025-07-04T11:26:01.906839Z",
     "shell.execute_reply": "2025-07-04T11:26:01.905822Z",
     "shell.execute_reply.started": "2025-07-04T11:26:01.893772Z"
    }
   },
   "outputs": [
    {
     "name": "stdout",
     "output_type": "stream",
     "text": [
      "True\n"
     ]
    }
   ],
   "source": [
    "print(True)"
   ]
  },
  {
   "cell_type": "code",
   "execution_count": 21,
   "id": "4877cb5d-ac18-47f7-8277-06be07885a56",
   "metadata": {
    "execution": {
     "iopub.execute_input": "2025-07-04T14:49:00.040292Z",
     "iopub.status.busy": "2025-07-04T14:49:00.040292Z",
     "iopub.status.idle": "2025-07-04T14:49:00.046204Z",
     "shell.execute_reply": "2025-07-04T14:49:00.046204Z",
     "shell.execute_reply.started": "2025-07-04T14:49:00.040292Z"
    }
   },
   "outputs": [
    {
     "name": "stdout",
     "output_type": "stream",
     "text": [
      "hello 123 123.456 True\n"
     ]
    }
   ],
   "source": [
    "print(\"hello\",123,123.456,True)  # They separate multiple values.\n",
    "# They automatically insert a space between values when printing."
   ]
  },
  {
   "cell_type": "code",
   "execution_count": 22,
   "id": "d5cf920c-b20d-4ce2-8e0f-afbfbed41953",
   "metadata": {
    "execution": {
     "iopub.execute_input": "2025-07-04T11:30:41.352024Z",
     "iopub.status.busy": "2025-07-04T11:30:41.352024Z",
     "iopub.status.idle": "2025-07-04T11:30:41.369477Z",
     "shell.execute_reply": "2025-07-04T11:30:41.367456Z",
     "shell.execute_reply.started": "2025-07-04T11:30:41.352024Z"
    }
   },
   "outputs": [
    {
     "name": "stdout",
     "output_type": "stream",
     "text": [
      "hello/123/123.456/True\n"
     ]
    }
   ],
   "source": [
    "print(\"hello\",123,123.456,True,sep='/') # override space with slash"
   ]
  },
  {
   "cell_type": "code",
   "execution_count": 23,
   "id": "66a69d56-7ed1-4efc-83ba-2670b2b95ab5",
   "metadata": {
    "execution": {
     "iopub.execute_input": "2025-07-04T11:32:44.407952Z",
     "iopub.status.busy": "2025-07-04T11:32:44.407952Z",
     "iopub.status.idle": "2025-07-04T11:32:44.426471Z",
     "shell.execute_reply": "2025-07-04T11:32:44.424946Z",
     "shell.execute_reply.started": "2025-07-04T11:32:44.407952Z"
    }
   },
   "outputs": [
    {
     "name": "stdout",
     "output_type": "stream",
     "text": [
      "Hello\n",
      "Wrold\n"
     ]
    }
   ],
   "source": [
    "print(\"Hello\")\n",
    "print(\"Wrold\")"
   ]
  },
  {
   "cell_type": "code",
   "execution_count": 24,
   "id": "83c64c15-44f1-4d08-ad93-0669b179026c",
   "metadata": {
    "execution": {
     "iopub.execute_input": "2025-07-04T11:36:27.118878Z",
     "iopub.status.busy": "2025-07-04T11:36:27.117880Z",
     "iopub.status.idle": "2025-07-04T11:36:27.131512Z",
     "shell.execute_reply": "2025-07-04T11:36:27.130494Z",
     "shell.execute_reply.started": "2025-07-04T11:36:27.118878Z"
    }
   },
   "outputs": [
    {
     "name": "stdout",
     "output_type": "stream",
     "text": [
      "Hello+World\n"
     ]
    }
   ],
   "source": [
    "print(\"Hello\",end='+')   # override new line with plus\n",
    "print(\"World\")"
   ]
  },
  {
   "cell_type": "markdown",
   "id": "bfe4740a-262b-4a9a-be61-f27ff51d08a4",
   "metadata": {},
   "source": [
    "## Data Types"
   ]
  },
  {
   "cell_type": "code",
   "execution_count": 25,
   "id": "f9e624c2-e943-45dd-b037-ace62e727d26",
   "metadata": {
    "execution": {
     "iopub.execute_input": "2025-07-04T11:43:13.208771Z",
     "iopub.status.busy": "2025-07-04T11:43:13.207774Z",
     "iopub.status.idle": "2025-07-04T11:43:13.219380Z",
     "shell.execute_reply": "2025-07-04T11:43:13.218367Z",
     "shell.execute_reply.started": "2025-07-04T11:43:13.208771Z"
    }
   },
   "outputs": [
    {
     "name": "stdout",
     "output_type": "stream",
     "text": [
      "234\n",
      "456854325675645\n",
      "1e+308\n",
      "inf\n"
     ]
    }
   ],
   "source": [
    "# integer\n",
    "print(234)\n",
    "print(456854325675645)\n",
    "print(1e308)  # 1 x 10^308 maximum value which python can handle\n",
    "print(1e309)"
   ]
  },
  {
   "cell_type": "code",
   "execution_count": 26,
   "id": "cc94fef5-6b68-48cf-b429-62c445db4b20",
   "metadata": {
    "execution": {
     "iopub.execute_input": "2025-07-04T11:45:21.187294Z",
     "iopub.status.busy": "2025-07-04T11:45:21.186295Z",
     "iopub.status.idle": "2025-07-04T11:45:21.199300Z",
     "shell.execute_reply": "2025-07-04T11:45:21.198280Z",
     "shell.execute_reply.started": "2025-07-04T11:45:21.187294Z"
    }
   },
   "outputs": [
    {
     "name": "stdout",
     "output_type": "stream",
     "text": [
      "123.234\n",
      "1.7e+308\n",
      "inf\n"
     ]
    }
   ],
   "source": [
    "# float\n",
    "print(123.234)\n",
    "print(1.7e308)\n",
    "print(1.7e309)"
   ]
  },
  {
   "cell_type": "code",
   "execution_count": 27,
   "id": "001e32d0-2130-465e-a194-2e38a0176346",
   "metadata": {
    "execution": {
     "iopub.execute_input": "2025-07-04T11:46:30.137822Z",
     "iopub.status.busy": "2025-07-04T11:46:30.137822Z",
     "iopub.status.idle": "2025-07-04T11:46:30.157997Z",
     "shell.execute_reply": "2025-07-04T11:46:30.155970Z",
     "shell.execute_reply.started": "2025-07-04T11:46:30.137822Z"
    }
   },
   "outputs": [
    {
     "name": "stdout",
     "output_type": "stream",
     "text": [
      "True\n",
      "False\n"
     ]
    }
   ],
   "source": [
    "# Boolean\n",
    "print(True)\n",
    "print(False)"
   ]
  },
  {
   "cell_type": "code",
   "execution_count": 28,
   "id": "c307006c-421a-409b-9513-7cec676a2e14",
   "metadata": {
    "execution": {
     "iopub.execute_input": "2025-07-04T11:47:52.685154Z",
     "iopub.status.busy": "2025-07-04T11:47:52.684148Z",
     "iopub.status.idle": "2025-07-04T11:47:52.701677Z",
     "shell.execute_reply": "2025-07-04T11:47:52.700145Z",
     "shell.execute_reply.started": "2025-07-04T11:47:52.685154Z"
    }
   },
   "outputs": [
    {
     "name": "stdout",
     "output_type": "stream",
     "text": [
      "Mayank\n",
      "desai\n"
     ]
    }
   ],
   "source": [
    "# String\n",
    "print('Mayank')\n",
    "print('desai')"
   ]
  },
  {
   "cell_type": "code",
   "execution_count": 29,
   "id": "9cfaddb3-a42a-47a0-9d77-64b757153a44",
   "metadata": {
    "execution": {
     "iopub.execute_input": "2025-07-04T11:50:08.336652Z",
     "iopub.status.busy": "2025-07-04T11:50:08.335657Z",
     "iopub.status.idle": "2025-07-04T11:50:08.344847Z",
     "shell.execute_reply": "2025-07-04T11:50:08.344847Z",
     "shell.execute_reply.started": "2025-07-04T11:50:08.336652Z"
    }
   },
   "outputs": [
    {
     "name": "stdout",
     "output_type": "stream",
     "text": [
      "[1, 2, 3, 4, 5, 6, 7]\n",
      "(1, 2, 3, 4, 5, 6, 7)\n",
      "{1, 2, 3, 4, 5, 6, 7}\n"
     ]
    }
   ],
   "source": [
    "# List\n",
    "print([1,2,3,4,5,6,7])\n",
    "# Tuples\n",
    "print((1,2,3,4,5,6,7))\n",
    "# Sets\n",
    "print({1,2,3,4,5,6,7})"
   ]
  },
  {
   "cell_type": "code",
   "execution_count": 4,
   "id": "360ec630-8572-4754-8806-9855fdbf2b6a",
   "metadata": {
    "execution": {
     "iopub.execute_input": "2025-07-04T11:56:45.490057Z",
     "iopub.status.busy": "2025-07-04T11:56:45.489059Z",
     "iopub.status.idle": "2025-07-04T11:56:45.499387Z",
     "shell.execute_reply": "2025-07-04T11:56:45.498079Z",
     "shell.execute_reply.started": "2025-07-04T11:56:45.490057Z"
    }
   },
   "outputs": [
    {
     "name": "stdout",
     "output_type": "stream",
     "text": [
      "{'Name': 'Mayank', 'Age': 19, 'Weight': 60}\n"
     ]
    }
   ],
   "source": [
    "# Dictionary\n",
    "print({'Name':'Mayank','Age':19,'Weight':60})"
   ]
  },
  {
   "cell_type": "code",
   "execution_count": null,
   "id": "c016646a",
   "metadata": {},
   "outputs": [
    {
     "name": "stdout",
     "output_type": "stream",
     "text": [
      "(1+3j)\n",
      "(1+5j)\n"
     ]
    }
   ],
   "source": [
    "# complex\n",
    "print(1 + 3j) \n",
    "print(complex(1,5))  # complex(real part, imaginary part)"
   ]
  },
  {
   "cell_type": "code",
   "execution_count": 8,
   "id": "1be7a150-c51c-4fff-afeb-e2d241cb577c",
   "metadata": {
    "execution": {
     "iopub.execute_input": "2025-07-04T11:59:33.100639Z",
     "iopub.status.busy": "2025-07-04T11:59:33.099423Z",
     "iopub.status.idle": "2025-07-04T11:59:33.115829Z",
     "shell.execute_reply": "2025-07-04T11:59:33.114816Z",
     "shell.execute_reply.started": "2025-07-04T11:59:33.100639Z"
    }
   },
   "outputs": [
    {
     "name": "stdout",
     "output_type": "stream",
     "text": [
      "<class 'int'>\n",
      "<class 'bool'>\n",
      "<class 'complex'>\n"
     ]
    }
   ],
   "source": [
    "# type() ---> used to detect data types\n",
    "print(type(1223))\n",
    "print(type(True))\n",
    "print(type(3 + 4j))"
   ]
  },
  {
   "cell_type": "markdown",
   "id": "0490843e-c8b5-41c6-871e-3eaaafd2e949",
   "metadata": {},
   "source": [
    "## Variables"
   ]
  },
  {
   "cell_type": "markdown",
   "id": "9f5a12dd-b41f-47be-926d-ad73f483550b",
   "metadata": {},
   "source": [
    "### Static typing vs Dynamic typing"
   ]
  },
  {
   "cell_type": "markdown",
   "id": "5f97364d-9461-44e0-955e-e63edc47a11d",
   "metadata": {},
   "source": [
    "* Static typing means you must declare the data type of a variable               when you create it, and the type cannot change later.\n",
    "* Type checking at compile time"
   ]
  },
  {
   "cell_type": "markdown",
   "id": "3d25ccd4-7fbb-4d73-8880-4c7779a83647",
   "metadata": {},
   "source": [
    "```python\n",
    "# c++\n",
    "int name = 123;   # this is called static typing\n",
    "cout<<name<<endl;\n",
    "```"
   ]
  },
  {
   "cell_type": "markdown",
   "id": "32b80abd-489d-42f2-810c-b8e5564b51b3",
   "metadata": {},
   "source": [
    "* This is called dynamic typing, where we don't need to declare the data type.   The interpreter automatically understands the type based on the assigned       value\n",
    "* Type checking at run time"
   ]
  },
  {
   "cell_type": "code",
   "execution_count": null,
   "id": "a5b73638-d4f1-4ad5-83a8-ce4ae928af3c",
   "metadata": {
    "execution": {
     "iopub.execute_input": "2025-07-04T14:50:55.207247Z",
     "iopub.status.busy": "2025-07-04T14:50:55.206246Z",
     "iopub.status.idle": "2025-07-04T14:50:55.216475Z",
     "shell.execute_reply": "2025-07-04T14:50:55.215460Z",
     "shell.execute_reply.started": "2025-07-04T14:50:55.207247Z"
    }
   },
   "outputs": [
    {
     "name": "stdout",
     "output_type": "stream",
     "text": [
      "123\n"
     ]
    }
   ],
   "source": [
    "# python\n",
    "name = 123     # this is called dynamic typing\n",
    "print(name)"
   ]
  },
  {
   "cell_type": "markdown",
   "id": "791e355f-802d-4511-b96b-7b2dc4772056",
   "metadata": {},
   "source": [
    "### Dynamic binding vs Static binding"
   ]
  },
  {
   "cell_type": "markdown",
   "id": "0e905125-8d65-45fe-8059-d31c2bd4e627",
   "metadata": {},
   "source": [
    "* Dynamic binding (also called late binding) is when the type and value of a variable are determined at runtime.\n",
    "* Python uses dynamic binding, meaning you don’t need to declare the type of a variable; it’s automatically assigned when the code run"
   ]
  },
  {
   "cell_type": "code",
   "execution_count": null,
   "id": "e98b900f-853e-4be1-9ca0-de8fb960e8b0",
   "metadata": {},
   "outputs": [],
   "source": [
    "name = 123\n",
    "print(name)       # this is called dynamic binding\n",
    "name = 123.345\n",
    "print(name)"
   ]
  },
  {
   "cell_type": "markdown",
   "id": "be0ec71a-c033-4130-aa59-bc94f01635c7",
   "metadata": {},
   "source": [
    "Static binding (also called early binding) is when the type  of a variable are determined at compile time."
   ]
  },
  {
   "cell_type": "markdown",
   "id": "0f8f7ad4-21a4-4030-9052-f1861165959c",
   "metadata": {},
   "source": [
    "```python\n",
    "# c++ \n",
    "int name = 10;\n",
    "cout<<name<<endl;    # this is invalid\n",
    "name = 123.345;\n",
    "cout<<name<<end;\n",
    "```"
   ]
  },
  {
   "cell_type": "markdown",
   "id": "d8f018ce-24a5-4fbb-93f1-c2031d839f00",
   "metadata": {},
   "source": [
    "#####  Stylish declaration techniques"
   ]
  },
  {
   "cell_type": "code",
   "execution_count": null,
   "id": "ab1d2428-f98a-4fdf-8545-15cf8e3e9fd7",
   "metadata": {
    "execution": {
     "iopub.execute_input": "2025-07-04T12:45:39.764292Z",
     "iopub.status.busy": "2025-07-04T12:45:39.764292Z",
     "iopub.status.idle": "2025-07-04T12:45:39.780938Z",
     "shell.execute_reply": "2025-07-04T12:45:39.779919Z",
     "shell.execute_reply.started": "2025-07-04T12:45:39.764292Z"
    }
   },
   "outputs": [
    {
     "name": "stdout",
     "output_type": "stream",
     "text": [
      "1 2 3\n",
      "5 5 5\n"
     ]
    }
   ],
   "source": [
    "a,b,c = 1,2,3  \n",
    "print(a,b,c)\n",
    "a=b=c=5\n",
    "print(a,b,c)"
   ]
  },
  {
   "cell_type": "markdown",
   "id": "e012cffa-181a-4e25-8e02-328d9480a422",
   "metadata": {},
   "source": [
    "## Keywords"
   ]
  },
  {
   "cell_type": "markdown",
   "id": "60a1c7af-3649-436a-8262-749bb1bd6e63",
   "metadata": {},
   "source": [
    "* Keywords are special reserved words in Python.\n",
    "* They have fixed meaning and cannot be used as variable names.\n",
    "* They are used to define the syntax and structure of the Python language."
   ]
  },
  {
   "cell_type": "code",
   "execution_count": null,
   "id": "4ac03424-fc4c-49a4-b19f-72816835d93b",
   "metadata": {
    "execution": {
     "iopub.execute_input": "2025-07-05T06:01:47.223392Z",
     "iopub.status.busy": "2025-07-05T06:01:47.222414Z",
     "iopub.status.idle": "2025-07-05T06:01:47.230415Z",
     "shell.execute_reply": "2025-07-05T06:01:47.230415Z",
     "shell.execute_reply.started": "2025-07-05T06:01:47.222414Z"
    }
   },
   "outputs": [
    {
     "ename": "SyntaxError",
     "evalue": "invalid syntax (3980899834.py, line 1)",
     "output_type": "error",
     "traceback": [
      "  \u001b[36mCell\u001b[39m\u001b[36m \u001b[39m\u001b[32mIn[1]\u001b[39m\u001b[32m, line 1\u001b[39m\n\u001b[31m    \u001b[39m\u001b[31mif = 10\u001b[39m\n       ^\n\u001b[31mSyntaxError\u001b[39m\u001b[31m:\u001b[39m invalid syntax\n"
     ]
    }
   ],
   "source": [
    "if = 10  #  this shows error because if is a keyword\n",
    "print(if)"
   ]
  },
  {
   "cell_type": "code",
   "execution_count": null,
   "id": "0634058d-71eb-4db1-b138-36caa765a9a1",
   "metadata": {
    "execution": {
     "iopub.execute_input": "2025-07-05T06:03:07.560795Z",
     "iopub.status.busy": "2025-07-05T06:03:07.560795Z",
     "iopub.status.idle": "2025-07-05T06:03:07.568065Z",
     "shell.execute_reply": "2025-07-05T06:03:07.567047Z",
     "shell.execute_reply.started": "2025-07-05T06:03:07.560795Z"
    }
   },
   "outputs": [
    {
     "ename": "SyntaxError",
     "evalue": "invalid syntax (1106265840.py, line 1)",
     "output_type": "error",
     "traceback": [
      "  \u001b[36mCell\u001b[39m\u001b[36m \u001b[39m\u001b[32mIn[2]\u001b[39m\u001b[32m, line 1\u001b[39m\n\u001b[31m    \u001b[39m\u001b[31mclass = \"mayank\"\u001b[39m\n          ^\n\u001b[31mSyntaxError\u001b[39m\u001b[31m:\u001b[39m invalid syntax\n"
     ]
    }
   ],
   "source": [
    "class = \"mayank\" # this shows error because class is a keyword\n",
    "print(class)"
   ]
  },
  {
   "cell_type": "markdown",
   "id": "0689ea62-be79-448f-a7f8-9948738ad1cd",
   "metadata": {},
   "source": [
    "## Identifiers"
   ]
  },
  {
   "cell_type": "markdown",
   "id": "571e04b4-cee3-4775-b850-1605bc212bf1",
   "metadata": {},
   "source": [
    "Identifiers are the names used to identify: \n",
    "Variables,\n",
    "Functions,\n",
    "Classes,\n",
    "Modules,\n",
    "Objects,"
   ]
  },
  {
   "cell_type": "code",
   "execution_count": null,
   "id": "9897d17c-6639-4b89-9e6e-23ff4a9b9f5f",
   "metadata": {
    "execution": {
     "iopub.execute_input": "2025-07-05T06:10:52.061457Z",
     "iopub.status.busy": "2025-07-05T06:10:52.061457Z",
     "iopub.status.idle": "2025-07-05T06:10:52.071313Z",
     "shell.execute_reply": "2025-07-05T06:10:52.070296Z",
     "shell.execute_reply.started": "2025-07-05T06:10:52.061457Z"
    }
   },
   "outputs": [
    {
     "ename": "SyntaxError",
     "evalue": "invalid decimal literal (3228033131.py, line 3)",
     "output_type": "error",
     "traceback": [
      "  \u001b[36mCell\u001b[39m\u001b[36m \u001b[39m\u001b[32mIn[3]\u001b[39m\u001b[32m, line 3\u001b[39m\n\u001b[31m    \u001b[39m\u001b[31m1name = 10\u001b[39m\n    ^\n\u001b[31mSyntaxError\u001b[39m\u001b[31m:\u001b[39m invalid decimal literal\n"
     ]
    }
   ],
   "source": [
    "# Rules of identifiers\n",
    "# 1. you can't start with digit.\n",
    "1name = 10\n",
    "print(1name)"
   ]
  },
  {
   "cell_type": "code",
   "execution_count": null,
   "id": "f57e83de-5e7c-4cb8-81f4-78e4d6d4892d",
   "metadata": {
    "execution": {
     "iopub.execute_input": "2025-07-05T06:14:12.731740Z",
     "iopub.status.busy": "2025-07-05T06:14:12.731740Z",
     "iopub.status.idle": "2025-07-05T06:14:12.737817Z",
     "shell.execute_reply": "2025-07-05T06:14:12.736799Z",
     "shell.execute_reply.started": "2025-07-05T06:14:12.731740Z"
    }
   },
   "outputs": [
    {
     "name": "stdout",
     "output_type": "stream",
     "text": [
      "10\n"
     ]
    }
   ],
   "source": [
    "name1 = 10\n",
    "print(name1)"
   ]
  },
  {
   "cell_type": "code",
   "execution_count": null,
   "id": "45ed34cf-32f6-4c13-a82d-d8aeac2f6b8f",
   "metadata": {
    "execution": {
     "iopub.execute_input": "2025-07-05T06:12:21.833466Z",
     "iopub.status.busy": "2025-07-05T06:12:21.832467Z",
     "iopub.status.idle": "2025-07-05T06:12:21.840631Z",
     "shell.execute_reply": "2025-07-05T06:12:21.839616Z",
     "shell.execute_reply.started": "2025-07-05T06:12:21.833466Z"
    }
   },
   "outputs": [
    {
     "ename": "SyntaxError",
     "evalue": "invalid syntax. Maybe you meant '==' or ':=' instead of '='? (3308992663.py, line 2)",
     "output_type": "error",
     "traceback": [
      "  \u001b[36mCell\u001b[39m\u001b[36m \u001b[39m\u001b[32mIn[4]\u001b[39m\u001b[32m, line 2\u001b[39m\n\u001b[31m    \u001b[39m\u001b[31m@name = 10\u001b[39m\n     ^\n\u001b[31mSyntaxError\u001b[39m\u001b[31m:\u001b[39m invalid syntax. Maybe you meant '==' or ':=' instead of '='?\n"
     ]
    }
   ],
   "source": [
    "# 2. you can only use _ as special character\n",
    "@name = 10\n",
    "print(@name)"
   ]
  },
  {
   "cell_type": "code",
   "execution_count": null,
   "id": "78320464-00e5-4f2e-8716-f9b5c1c673de",
   "metadata": {
    "execution": {
     "iopub.execute_input": "2025-07-05T06:16:07.799058Z",
     "iopub.status.busy": "2025-07-05T06:16:07.799058Z",
     "iopub.status.idle": "2025-07-05T06:16:07.808763Z",
     "shell.execute_reply": "2025-07-05T06:16:07.806747Z",
     "shell.execute_reply.started": "2025-07-05T06:16:07.799058Z"
    }
   },
   "outputs": [
    {
     "name": "stdout",
     "output_type": "stream",
     "text": [
      "10\n",
      "10\n"
     ]
    }
   ],
   "source": [
    "_name = 10\n",
    "print(_name)\n",
    "name_1 = 10\n",
    "print(name_1)\n",
    "# 3. identifiers can't be keywords"
   ]
  },
  {
   "cell_type": "markdown",
   "id": "ea229826-25a9-4dea-952f-5dad9c619a74",
   "metadata": {},
   "source": [
    "## Input"
   ]
  },
  {
   "cell_type": "code",
   "execution_count": null,
   "id": "a44b01fd-a106-47f3-b642-63c14e97942b",
   "metadata": {
    "execution": {
     "iopub.execute_input": "2025-07-05T16:01:24.348433Z",
     "iopub.status.busy": "2025-07-05T16:01:24.347434Z",
     "iopub.status.idle": "2025-07-05T16:01:35.146766Z",
     "shell.execute_reply": "2025-07-05T16:01:35.146250Z",
     "shell.execute_reply.started": "2025-07-05T16:01:24.348433Z"
    }
   },
   "outputs": [
    {
     "name": "stdout",
     "output_type": "stream",
     "text": [
      " Hello World\n"
     ]
    },
    {
     "data": {
      "text/plain": [
       "'Hello World'"
      ]
     },
     "execution_count": 1,
     "metadata": {},
     "output_type": "execute_result"
    }
   ],
   "source": [
    "input() # used to take input from user"
   ]
  },
  {
   "cell_type": "code",
   "execution_count": null,
   "id": "14aeb848-556b-4841-8f17-feeff27ec3c7",
   "metadata": {
    "execution": {
     "iopub.execute_input": "2025-07-05T16:06:12.160610Z",
     "iopub.status.busy": "2025-07-05T16:06:12.160610Z",
     "iopub.status.idle": "2025-07-05T16:06:17.519377Z",
     "shell.execute_reply": "2025-07-05T16:06:17.518368Z",
     "shell.execute_reply.started": "2025-07-05T16:06:12.160610Z"
    }
   },
   "outputs": [
    {
     "name": "stdout",
     "output_type": "stream",
     "text": [
      "Enter message : hello world\n"
     ]
    },
    {
     "name": "stdout",
     "output_type": "stream",
     "text": [
      "hello world\n"
     ]
    }
   ],
   "source": [
    "variable = input(\"Enter message :\")\n",
    "# \"Enter message\" ---> optional message shown to the user before input\n",
    "# variable ---> stores the user's input.\n",
    "print(variable)"
   ]
  },
  {
   "cell_type": "code",
   "execution_count": null,
   "id": "18dbc3c3-699a-46ef-ae13-12d151c1e288",
   "metadata": {
    "execution": {
     "iopub.execute_input": "2025-07-05T16:08:53.136942Z",
     "iopub.status.busy": "2025-07-05T16:08:53.135938Z",
     "iopub.status.idle": "2025-07-05T16:08:55.848284Z",
     "shell.execute_reply": "2025-07-05T16:08:55.847772Z",
     "shell.execute_reply.started": "2025-07-05T16:08:53.136942Z"
    }
   },
   "outputs": [
    {
     "name": "stdout",
     "output_type": "stream",
     "text": [
      "Enter the number : 10\n"
     ]
    },
    {
     "name": "stdout",
     "output_type": "stream",
     "text": [
      "<class 'str'>\n"
     ]
    }
   ],
   "source": [
    "# Input is Always a String\n",
    "# Even if you enter a number like 10, it is stored as \"10\" (a string)\n",
    "a = input(\"Enter the number :\")\n",
    "print(type(a))"
   ]
  },
  {
   "cell_type": "code",
   "execution_count": null,
   "id": "5e9646d4-c750-469a-9851-909ab5ebff92",
   "metadata": {
    "execution": {
     "iopub.execute_input": "2025-07-05T16:15:14.799653Z",
     "iopub.status.busy": "2025-07-05T16:15:14.798654Z",
     "iopub.status.idle": "2025-07-05T16:15:30.258595Z",
     "shell.execute_reply": "2025-07-05T16:15:30.258088Z",
     "shell.execute_reply.started": "2025-07-05T16:15:14.799653Z"
    }
   },
   "outputs": [
    {
     "name": "stdout",
     "output_type": "stream",
     "text": [
      "Enter the integer number : 123\n",
      "Entre the decimal number : 123.456\n",
      "Enter the text : 12345\n"
     ]
    },
    {
     "name": "stdout",
     "output_type": "stream",
     "text": [
      "<class 'int'>\n",
      "<class 'float'>\n",
      "<class 'str'>\n"
     ]
    }
   ],
   "source": [
    "# To do calculations, we can convert the input to 'int' or 'float'\n",
    "# This technique is used to specify what kind of input we want.\n",
    "a = int(input(\"Enter the integer number :\"))\n",
    "b = float(input(\"Entre the decimal number :\"))   \n",
    "c = str(input(\"Enter the text :\"))\n",
    "print(type(a))\n",
    "print(type(b))\n",
    "print(type(c))"
   ]
  },
  {
   "cell_type": "markdown",
   "id": "a4a54a45-a1c6-49b3-8a8b-8bf0284917c4",
   "metadata": {},
   "source": [
    "## Type coversion "
   ]
  },
  {
   "cell_type": "code",
   "execution_count": null,
   "id": "a5a87a73-3f8a-4b4d-9197-caf8e7983f2c",
   "metadata": {
    "execution": {
     "iopub.execute_input": "2025-07-05T16:25:32.120380Z",
     "iopub.status.busy": "2025-07-05T16:25:32.119379Z",
     "iopub.status.idle": "2025-07-05T16:25:32.129279Z",
     "shell.execute_reply": "2025-07-05T16:25:32.128266Z",
     "shell.execute_reply.started": "2025-07-05T16:25:32.120380Z"
    }
   },
   "outputs": [
    {
     "name": "stdout",
     "output_type": "stream",
     "text": [
      "<class 'str'>\n",
      "<class 'int'>\n",
      "<class 'str'>\n"
     ]
    }
   ],
   "source": [
    "# Explicit Type Conversion -----> means Manual by Programmer\n",
    "x = \"100\"\n",
    "y = int(x)  # Converts string to integer\n",
    "z = str(y)  # Converts integer to string\n",
    "print(type(x))\n",
    "print(type(y))\n",
    "print(type(z))"
   ]
  },
  {
   "cell_type": "code",
   "execution_count": null,
   "id": "47b8afc7-ce7e-4dc2-848f-2aa764f1f4dd",
   "metadata": {
    "execution": {
     "iopub.execute_input": "2025-07-05T16:25:53.875665Z",
     "iopub.status.busy": "2025-07-05T16:25:53.875665Z",
     "iopub.status.idle": "2025-07-05T16:25:53.882912Z",
     "shell.execute_reply": "2025-07-05T16:25:53.882912Z",
     "shell.execute_reply.started": "2025-07-05T16:25:53.875665Z"
    }
   },
   "outputs": [
    {
     "name": "stdout",
     "output_type": "stream",
     "text": [
      "10.0\n"
     ]
    }
   ],
   "source": [
    "num = 10\n",
    "print(float(num))   # output will be decimal number"
   ]
  },
  {
   "cell_type": "code",
   "execution_count": null,
   "id": "e37683b0-fb41-4dfa-ac88-cbbc0fd039de",
   "metadata": {
    "execution": {
     "iopub.execute_input": "2025-07-05T16:55:58.951032Z",
     "iopub.status.busy": "2025-07-05T16:55:58.951032Z",
     "iopub.status.idle": "2025-07-05T16:55:58.959921Z",
     "shell.execute_reply": "2025-07-05T16:55:58.958905Z",
     "shell.execute_reply.started": "2025-07-05T16:55:58.951032Z"
    }
   },
   "outputs": [
    {
     "name": "stdout",
     "output_type": "stream",
     "text": [
      "123\n"
     ]
    }
   ],
   "source": [
    "num = 123.456\n",
    "print(int(num)) "
   ]
  },
  {
   "cell_type": "code",
   "execution_count": null,
   "id": "9c6939b2-9457-4a3b-949e-a2a19df089bb",
   "metadata": {
    "execution": {
     "iopub.execute_input": "2025-07-05T16:42:07.692115Z",
     "iopub.status.busy": "2025-07-05T16:42:07.691119Z",
     "iopub.status.idle": "2025-07-05T16:42:07.704623Z",
     "shell.execute_reply": "2025-07-05T16:42:07.704116Z",
     "shell.execute_reply.started": "2025-07-05T16:42:07.692115Z"
    }
   },
   "outputs": [
    {
     "name": "stdout",
     "output_type": "stream",
     "text": [
      "12.5\n"
     ]
    },
    {
     "data": {
      "text/plain": [
       "float"
      ]
     },
     "execution_count": 1,
     "metadata": {},
     "output_type": "execute_result"
    }
   ],
   "source": [
    "# Implicit Type Conversion \n",
    "a = 10\n",
    "b = 2.5\n",
    "c = a + b    # int + float = float\n",
    "# Python converts 10(int) to 10.0(float) before adding\n",
    "print(c)\n",
    "type(c)"
   ]
  },
  {
   "cell_type": "code",
   "execution_count": null,
   "id": "8f9eac18-4f8e-4020-9fcf-b17d7c9a6e5f",
   "metadata": {
    "execution": {
     "iopub.execute_input": "2025-07-05T16:46:40.891563Z",
     "iopub.status.busy": "2025-07-05T16:46:40.890561Z",
     "iopub.status.idle": "2025-07-05T16:46:40.902712Z",
     "shell.execute_reply": "2025-07-05T16:46:40.902712Z",
     "shell.execute_reply.started": "2025-07-05T16:46:40.891563Z"
    }
   },
   "outputs": [
    {
     "name": "stdout",
     "output_type": "stream",
     "text": [
      "5\n"
     ]
    },
    {
     "data": {
      "text/plain": [
       "int"
      ]
     },
     "execution_count": 5,
     "metadata": {},
     "output_type": "execute_result"
    }
   ],
   "source": [
    "# in boolean True means 1 and False means 0\n",
    "a = True \n",
    "b = 4\n",
    "c = a + b  \n",
    "# Python converted True to 1 automatically\n",
    "print(c)\n",
    "type(c)"
   ]
  },
  {
   "cell_type": "markdown",
   "id": "82276dd8-d75a-4c88-a0ad-6bb48d9e053c",
   "metadata": {},
   "source": [
    "Implicit conversion only happens between compatible types, like int → float, bool → int"
   ]
  },
  {
   "cell_type": "code",
   "execution_count": null,
   "id": "31abc84e-f6ee-4928-a703-6c88d3e41825",
   "metadata": {
    "execution": {
     "iopub.execute_input": "2025-07-05T16:48:40.705042Z",
     "iopub.status.busy": "2025-07-05T16:48:40.705042Z",
     "iopub.status.idle": "2025-07-05T16:48:41.315129Z",
     "shell.execute_reply": "2025-07-05T16:48:41.312118Z",
     "shell.execute_reply.started": "2025-07-05T16:48:40.705042Z"
    }
   },
   "outputs": [
    {
     "ename": "TypeError",
     "evalue": "can only concatenate str (not \"int\") to str",
     "output_type": "error",
     "traceback": [
      "\u001b[31m---------------------------------------------------------------------------\u001b[39m",
      "\u001b[31mTypeError\u001b[39m                                 Traceback (most recent call last)",
      "\u001b[36mCell\u001b[39m\u001b[36m \u001b[39m\u001b[32mIn[6]\u001b[39m\u001b[32m, line 4\u001b[39m\n\u001b[32m      2\u001b[39m x = \u001b[33m\"\u001b[39m\u001b[33m100\u001b[39m\u001b[33m\"\u001b[39m\n\u001b[32m      3\u001b[39m y = \u001b[32m100\u001b[39m\n\u001b[32m----> \u001b[39m\u001b[32m4\u001b[39m \u001b[38;5;28mprint\u001b[39m(\u001b[43mx\u001b[49m\u001b[43m+\u001b[49m\u001b[43my\u001b[49m)\n",
      "\u001b[31mTypeError\u001b[39m: can only concatenate str (not \"int\") to str"
     ]
    }
   ],
   "source": [
    "# Python will not automatically convert between string and number\n",
    "x = \"100\"\n",
    "y = 100\n",
    "print(x+y) # Error: can't add string and int"
   ]
  },
  {
   "cell_type": "code",
   "execution_count": null,
   "id": "7e9cd0ed-4745-4590-ad29-f54fc69176bb",
   "metadata": {
    "execution": {
     "iopub.execute_input": "2025-07-05T16:49:43.882029Z",
     "iopub.status.busy": "2025-07-05T16:49:43.882029Z",
     "iopub.status.idle": "2025-07-05T16:49:43.890541Z",
     "shell.execute_reply": "2025-07-05T16:49:43.890029Z",
     "shell.execute_reply.started": "2025-07-05T16:49:43.882029Z"
    }
   },
   "outputs": [
    {
     "name": "stdout",
     "output_type": "stream",
     "text": [
      "200\n"
     ]
    }
   ],
   "source": [
    "x = \"100\"\n",
    "y = 100\n",
    "print(int(x) + y)"
   ]
  },
  {
   "cell_type": "markdown",
   "id": "5e27047c-8208-4186-81a9-88492e796d10",
   "metadata": {},
   "source": [
    "## Literals"
   ]
  },
  {
   "cell_type": "markdown",
   "id": "ee8530bc-4707-4e29-a2d7-65bfbd9d3211",
   "metadata": {},
   "source": [
    "Literals are constant values assigned to variables."
   ]
  },
  {
   "cell_type": "markdown",
   "id": "65edfffe-8bed-4e46-a40f-3b7cf5ef975c",
   "metadata": {
    "jupyter": {
     "source_hidden": true
    }
   },
   "source": [
    "They are not variables,they are actual data"
   ]
  },
  {
   "cell_type": "code",
   "execution_count": 1,
   "id": "6b7c3e7a",
   "metadata": {},
   "outputs": [
    {
     "name": "stdout",
     "output_type": "stream",
     "text": [
      "10\n",
      "10\n",
      "10\n",
      "10\n",
      "3.24\n",
      "15000000000.0\n",
      "-0.00014\n",
      "None\n"
     ]
    }
   ],
   "source": [
    "# 1. Numeric Literals\n",
    "x = 10\n",
    "z = 0b1010  # '0b' or '0B' represent binary number \n",
    "w = 0o12    # '0o' or '0O' represent octal number\n",
    "k = 0xA     # '0x' or '0X' represent hexadecimal number \n",
    "# python automatically convert into decimal number system(only for integer)\n",
    "print(x)\n",
    "print(z)\n",
    "print(w)\n",
    "print(k)\n",
    "b = 3.24\n",
    "c = 1.5e10\n",
    "d = -1.4e-4\n",
    "print(b,c,d,sep='\\n')\n",
    "# 2. string literals\n",
    "# 3. boolean literals\n",
    "# 4. None literal\n",
    "# if you don't want to assign any a value to variable then we use None literal.\n",
    "a = None  # just like a variable declaration\n",
    "print(a)"
   ]
  },
  {
   "cell_type": "markdown",
   "id": "a8231bd2-d1d7-4cb6-94fd-849adea85e28",
   "metadata": {},
   "source": [
    "## Oprators"
   ]
  },
  {
   "cell_type": "markdown",
   "id": "acefff60-27b4-428d-8de8-30c95e89ae0f",
   "metadata": {},
   "source": [
    "Operators are special symbols or keywords used to perform operations on values or variables"
   ]
  },
  {
   "cell_type": "markdown",
   "id": "d1409e5a",
   "metadata": {},
   "source": [
    " ### 1. Arithmetic Operators"
   ]
  },
  {
   "cell_type": "code",
   "execution_count": null,
   "id": "c6106204-a3c6-4a64-94ff-6e849dd44b84",
   "metadata": {
    "execution": {
     "iopub.execute_input": "2025-07-06T02:35:50.691983Z",
     "iopub.status.busy": "2025-07-06T02:35:50.690983Z",
     "iopub.status.idle": "2025-07-06T02:35:50.698865Z",
     "shell.execute_reply": "2025-07-06T02:35:50.697853Z",
     "shell.execute_reply.started": "2025-07-06T02:35:50.691983Z"
    }
   },
   "outputs": [
    {
     "name": "stdout",
     "output_type": "stream",
     "text": [
      "31\n",
      "19\n",
      "150\n",
      "4.166666666666667\n",
      "4\n",
      "1\n",
      "244140625\n"
     ]
    }
   ],
   "source": [
    "# Used to perform mathematical operations\n",
    "a = 25\n",
    "b = 6\n",
    "print(a + b)  # Addition\n",
    "print(a - b)  # Subtraction\n",
    "print(a * b)  # Multiplication\n",
    "print(a / b)  # Division\n",
    "print(a // b) # Floor Division ( means integer get as a answer)\n",
    "print(a % b)  # Modulus (remainder)\n",
    "print(a ** b) # Exponentiation"
   ]
  },
  {
   "cell_type": "markdown",
   "id": "c77d2836-3960-426f-8cf5-232302d8f892",
   "metadata": {},
   "source": [
    "### 2. Comparison Operators"
   ]
  },
  {
   "cell_type": "code",
   "execution_count": null,
   "id": "5b41e4b7-6b56-4971-8ca6-826f6aacdfaf",
   "metadata": {
    "execution": {
     "iopub.execute_input": "2025-07-06T02:44:47.856928Z",
     "iopub.status.busy": "2025-07-06T02:44:47.855928Z",
     "iopub.status.idle": "2025-07-06T02:44:47.868155Z",
     "shell.execute_reply": "2025-07-06T02:44:47.867138Z",
     "shell.execute_reply.started": "2025-07-06T02:44:47.856928Z"
    },
    "scrolled": true
   },
   "outputs": [
    {
     "name": "stdout",
     "output_type": "stream",
     "text": [
      "True\n",
      "False\n",
      "True\n",
      "False\n",
      "False\n",
      "True\n"
     ]
    }
   ],
   "source": [
    "# Used to compare values. Returns True or False ( 1 or 0)\n",
    "a = 23\n",
    "b = 45\n",
    "print(a < b)   # Less than\n",
    "print(a > b)   # grater than\n",
    "print(a <= b)  # Less or equal to\n",
    "print(a >= b)  # grater or equal to\n",
    "print(a == b)  # equal to\n",
    "print(a != b)  # not equal to"
   ]
  },
  {
   "cell_type": "markdown",
   "id": "b13d327a-e7a2-439a-8523-8d1832c64793",
   "metadata": {},
   "source": [
    "### 3. Logical Operators"
   ]
  },
  {
   "cell_type": "code",
   "execution_count": null,
   "id": "a78ace14-a283-435c-a993-1cb454fe7359",
   "metadata": {
    "execution": {
     "iopub.execute_input": "2025-07-06T02:57:01.264401Z",
     "iopub.status.busy": "2025-07-06T02:57:01.263399Z",
     "iopub.status.idle": "2025-07-06T02:57:01.272063Z",
     "shell.execute_reply": "2025-07-06T02:57:01.271051Z",
     "shell.execute_reply.started": "2025-07-06T02:57:01.264401Z"
    }
   },
   "outputs": [
    {
     "name": "stdout",
     "output_type": "stream",
     "text": [
      "False\n",
      "True\n",
      "True\n",
      "True\n",
      "False\n",
      "False\n",
      "True\n",
      "False\n"
     ]
    }
   ],
   "source": [
    "# Used to combine multiple conditions\n",
    "# 1. and operator\n",
    "print(5>4 and 6>8) # if both conditions are true then return true other wise return false \n",
    "print(4>3 and 2==2)\n",
    "# 2. or operator\n",
    "print(5>4 or 6>8) # if at least one condition is true then return true\n",
    "print(4>3 or 2==2)\n",
    "print(4<3 and 2!=2) # if all conditions are false then return false\n",
    "# 3. not operator\n",
    "print(not 2==2)   # Reverses the result\n",
    "print(not 3>5)\n",
    "print(not True)"
   ]
  },
  {
   "cell_type": "markdown",
   "id": "0fcfc4ce-ea0f-4b00-bd1a-dd818d8c06ae",
   "metadata": {},
   "source": [
    "### 4. Assignment Operators"
   ]
  },
  {
   "cell_type": "code",
   "execution_count": null,
   "id": "1f608d8d-eb10-497c-97e5-7800814e937b",
   "metadata": {
    "execution": {
     "iopub.execute_input": "2025-07-06T03:19:22.997340Z",
     "iopub.status.busy": "2025-07-06T03:19:22.997340Z",
     "iopub.status.idle": "2025-07-06T03:19:23.007246Z",
     "shell.execute_reply": "2025-07-06T03:19:23.006133Z",
     "shell.execute_reply.started": "2025-07-06T03:19:22.997340Z"
    }
   },
   "outputs": [
    {
     "name": "stdout",
     "output_type": "stream",
     "text": [
      "5\n",
      "10\n",
      "5\n",
      "25\n",
      "5.0\n",
      "0.0\n"
     ]
    }
   ],
   "source": [
    "# Used to assign values to variables\n",
    "x = 5 # Assign\n",
    "print(x)\n",
    "x += 5 # x = x + 5 ---> Add and assign\n",
    "print(x)\n",
    "x -= 5 # x = x - 5 ---> Subtract and assign\n",
    "print(x)\n",
    "x *= 5 # x = x * 5 ----> Multiply and assign\n",
    "print(x)\n",
    "x /= 5 # x = x / 5 ---> divide and assign\n",
    "print(x)\n",
    "x %= 5 # x = x % 5\n",
    "print(x)"
   ]
  },
  {
   "cell_type": "markdown",
   "id": "9786e3ac-d60d-4136-b196-c19c878d8202",
   "metadata": {},
   "source": [
    "### 5. Membership Operators"
   ]
  },
  {
   "cell_type": "code",
   "execution_count": null,
   "id": "670868ff-05b5-4e43-a85f-ef2694cb925f",
   "metadata": {
    "execution": {
     "iopub.execute_input": "2025-07-06T03:29:22.210500Z",
     "iopub.status.busy": "2025-07-06T03:29:22.209500Z",
     "iopub.status.idle": "2025-07-06T03:29:22.219659Z",
     "shell.execute_reply": "2025-07-06T03:29:22.219113Z",
     "shell.execute_reply.started": "2025-07-06T03:29:22.210500Z"
    }
   },
   "outputs": [
    {
     "name": "stdout",
     "output_type": "stream",
     "text": [
      "True\n",
      "False\n",
      "False\n",
      "True\n",
      "True\n",
      "False\n"
     ]
    }
   ],
   "source": [
    "# Used to test if a value is present in a sequence.\n",
    "# 1. in operator\n",
    "print(\"M\" in \"Mayank\")  \n",
    "print(\"B\" in \"Mayank\")\n",
    "# 2. not in operator\n",
    "print(\"M\" not in \"Mayank\")\n",
    "print(\"B\" not in \"Mayank\")\n",
    "\n",
    "# Note : used with string , list , tuple , set , dictionary \n",
    "print(1 in [1,2,3,4,5])\n",
    "print(1 not in [1,2,3,4,5])"
   ]
  },
  {
   "cell_type": "markdown",
   "id": "cfb91c58-1327-489d-b794-cc3dd4a040b1",
   "metadata": {},
   "source": [
    "## Operator Precedence"
   ]
  },
  {
   "cell_type": "markdown",
   "id": "9ff3ab3a-6d98-43cf-82df-d54d28e2bea2",
   "metadata": {},
   "source": [
    "* Operator precedence defines the order in which Python evaluates operators in an expression - just like BODMAS in math."
   ]
  },
  {
   "cell_type": "markdown",
   "id": "df00beaa-9411-4c7f-b5bc-3aa87091af4c",
   "metadata": {},
   "source": [
    "| Precedence  | Operators                                                        | Description                                       |\n",
    "| ----------- | ---------------------------------------------------------------- | ------------------------------------------------- |\n",
    "| 1 (Highest) | `()`                                                             | **Parentheses** – force evaluation order          |\n",
    "| 2           | `**`                                                             | **Exponentiation** (power)                        |\n",
    "| 3           | `+x`, `-x`                                                       | **Unary** plus / minus                            |\n",
    "| 4           | `*`, `/`, `//`, `%`                                              | Multiplication, Division, Floor Division, Modulus |\n",
    "| 5           | `+`, `-`                                                         | Addition and Subtraction                          |\n",
    "| 6           | `==`, `!=`, `>`, `<`, `>=`, `<=`, `is`, `is not`, `in`, `not in` | Comparison, Identity, Membership                  |\n",
    "| 7           | `not`                                                            | Logical NOT                                       |\n",
    "| 8           | `and`                                                            | Logical AND                                       |\n",
    "| 9           | `or`                                                             | Logical OR                                        |\n",
    "| 10 (Lowest) | `=`, `+=`, `-=`, `*=`, etc.                                      | Assignment operators                              |\n"
   ]
  },
  {
   "cell_type": "markdown",
   "id": "c8c066b9-5383-49a7-974d-c5e6b479dea1",
   "metadata": {},
   "source": [
    "####  Associativity in Python\n",
    "* When two or more operators of the same precedence level appear in an expression, associativity decides which one gets evaluated first - left to right or right to left."
   ]
  },
  {
   "cell_type": "markdown",
   "id": "eead70df-671e-4579-82d5-b61fc2179576",
   "metadata": {},
   "source": [
    "| Operator Type         | Example Operators             | Associativity     |                   \n",
    "| --------------------- | ----------------------------- | ----------------- | \n",
    "| Arithmetic            | `+`, `-`, `*`, `/`, `//`, `%` | **Left to Right** |                   \n",
    "| Assignment            | `=`, `+=`, `-=`               | **Right to Left** |                   \n",
    "| Comparison            | `==`, `!=`, `>`, `<`, `>=`    | **Left to Right** |                   \n",
    "| Logical               | `and`, `or`                   | **Left to Right** |                   \n",
    "| Exponentiation        | `**`                          | **Right to Left** |                   \n"
   ]
  },
  {
   "cell_type": "code",
   "execution_count": 1,
   "id": "d93ba5af-6929-40cf-8f5b-a9d2df3801ae",
   "metadata": {
    "execution": {
     "iopub.execute_input": "2025-08-01T15:28:18.661568Z",
     "iopub.status.busy": "2025-08-01T15:28:18.660568Z",
     "iopub.status.idle": "2025-08-01T15:28:18.669709Z",
     "shell.execute_reply": "2025-08-01T15:28:18.668581Z",
     "shell.execute_reply.started": "2025-08-01T15:28:18.661568Z"
    }
   },
   "outputs": [
    {
     "name": "stdout",
     "output_type": "stream",
     "text": [
      "Result: 307\n"
     ]
    }
   ],
   "source": [
    "# predict the output\n",
    "result = 2 ** 3 ** 2 // 5 * 3 + 1\n",
    "print(\"Result:\", result)"
   ]
  },
  {
   "cell_type": "code",
   "execution_count": 2,
   "id": "9fdb14c9-3bf3-4ac8-b359-131afc266809",
   "metadata": {
    "execution": {
     "iopub.execute_input": "2025-08-01T15:31:09.122715Z",
     "iopub.status.busy": "2025-08-01T15:31:09.122715Z",
     "iopub.status.idle": "2025-08-01T15:31:09.126872Z",
     "shell.execute_reply": "2025-08-01T15:31:09.126872Z",
     "shell.execute_reply.started": "2025-08-01T15:31:09.122715Z"
    }
   },
   "outputs": [
    {
     "name": "stdout",
     "output_type": "stream",
     "text": [
      "Result: 10\n"
     ]
    }
   ],
   "source": [
    "# predict the output\n",
    "x = 5\n",
    "y = 10\n",
    "result = x > y and x or y\n",
    "print(\"Result:\", result)"
   ]
  },
  {
   "cell_type": "code",
   "execution_count": null,
   "id": "127621e0-6937-496a-ae86-c43f83a2df03",
   "metadata": {},
   "outputs": [],
   "source": [
    "a = 4\n",
    "b = 0\n",
    "c = 2\n",
    "result = a and b or c and a + b * c\n",
    "print(\"Result:\", result)"
   ]
  },
  {
   "cell_type": "markdown",
   "id": "a074843d-d131-4856-b1f1-da1fd7d8e13d",
   "metadata": {},
   "source": [
    "## Questions"
   ]
  },
  {
   "cell_type": "code",
   "execution_count": null,
   "id": "69cee809-9431-4b38-a210-61c26cb68ad5",
   "metadata": {
    "execution": {
     "iopub.execute_input": "2025-07-06T03:38:33.602045Z",
     "iopub.status.busy": "2025-07-06T03:38:33.601026Z",
     "iopub.status.idle": "2025-07-06T03:38:38.263685Z",
     "shell.execute_reply": "2025-07-06T03:38:38.261675Z",
     "shell.execute_reply.started": "2025-07-06T03:38:33.602045Z"
    }
   },
   "outputs": [
    {
     "name": "stdout",
     "output_type": "stream",
     "text": [
      "enter the first number : 12\n",
      "enter the second number : 23\n",
      "enter the third  number : 34\n"
     ]
    },
    {
     "name": "stdout",
     "output_type": "stream",
     "text": [
      "sum of three number : 69\n"
     ]
    }
   ],
   "source": [
    "# Program - find sum of three number entered by user\n",
    "a = int(input(\"enter the first number :\"))\n",
    "b = int(input(\"enter the second number :\"))\n",
    "c = int(input(\"enter the third  number :\"))\n",
    "d = a + b + c\n",
    "print(\"sum of three number :\",d)"
   ]
  },
  {
   "cell_type": "code",
   "execution_count": null,
   "id": "e1da7888-dea6-4990-84c4-d9fb0060b2fb",
   "metadata": {
    "execution": {
     "iopub.execute_input": "2025-07-06T03:40:30.797770Z",
     "iopub.status.busy": "2025-07-06T03:40:30.796771Z",
     "iopub.status.idle": "2025-07-06T03:40:36.906522Z",
     "shell.execute_reply": "2025-07-06T03:40:36.905269Z",
     "shell.execute_reply.started": "2025-07-06T03:40:30.797770Z"
    }
   },
   "outputs": [
    {
     "name": "stdout",
     "output_type": "stream",
     "text": [
      "enter th radius of circle : 4\n"
     ]
    },
    {
     "name": "stdout",
     "output_type": "stream",
     "text": [
      "area of circle : 50.24\n"
     ]
    }
   ],
   "source": [
    "# program - find area of circle \n",
    "a = float(input(\"enter th radius of circle :\"))\n",
    "b = 3.14 * a * a\n",
    "print(\"area of circle :\",b)"
   ]
  },
  {
   "cell_type": "code",
   "execution_count": null,
   "id": "364e3362-d1a0-42f8-8008-38dc1fb2808c",
   "metadata": {
    "execution": {
     "iopub.execute_input": "2025-07-06T03:45:32.726803Z",
     "iopub.status.busy": "2025-07-06T03:45:32.725806Z",
     "iopub.status.idle": "2025-07-06T03:45:36.022802Z",
     "shell.execute_reply": "2025-07-06T03:45:36.022802Z",
     "shell.execute_reply.started": "2025-07-06T03:45:32.726803Z"
    }
   },
   "outputs": [
    {
     "name": "stdout",
     "output_type": "stream",
     "text": [
      "a : 12\n",
      "b : 23\n"
     ]
    },
    {
     "name": "stdout",
     "output_type": "stream",
     "text": [
      "after swaping....\n",
      "a : 23\n",
      "b : 12\n"
     ]
    }
   ],
   "source": [
    "# program - swap the number ******\n",
    "a = int(input(\"a :\"))\n",
    "b = int(input(\"b :\"))\n",
    "a = a + b\n",
    "b = a - b\n",
    "a = a - b\n",
    "print(\"after swaping....\")\n",
    "print(\"a :\",a)\n",
    "print(\"b :\",b)"
   ]
  },
  {
   "cell_type": "code",
   "execution_count": null,
   "id": "35ad8cf1-ef8d-4945-ab99-9a71235cbdd5",
   "metadata": {
    "execution": {
     "iopub.execute_input": "2025-07-06T03:47:27.461074Z",
     "iopub.status.busy": "2025-07-06T03:47:27.460072Z",
     "iopub.status.idle": "2025-07-06T03:47:29.934713Z",
     "shell.execute_reply": "2025-07-06T03:47:29.933651Z",
     "shell.execute_reply.started": "2025-07-06T03:47:27.461074Z"
    }
   },
   "outputs": [
    {
     "name": "stdout",
     "output_type": "stream",
     "text": [
      "a : 12\n",
      "b : 23\n"
     ]
    },
    {
     "name": "stdout",
     "output_type": "stream",
     "text": [
      "after swaping....\n",
      "a : 23\n",
      "b : 12\n"
     ]
    }
   ],
   "source": [
    "# program - swap the number  *****\n",
    "a = int(input(\"a :\"))\n",
    "b = int(input(\"b :\"))\n",
    "temp = a\n",
    "a = b\n",
    "b = temp\n",
    "print(\"after swaping....\")\n",
    "print(\"a :\",a)\n",
    "print(\"b :\",b)"
   ]
  }
 ],
 "metadata": {
  "kernelspec": {
   "display_name": "Python 3 (ipykernel)",
   "language": "python",
   "name": "python3"
  },
  "language_info": {
   "codemirror_mode": {
    "name": "ipython",
    "version": 3
   },
   "file_extension": ".py",
   "mimetype": "text/x-python",
   "name": "python",
   "nbconvert_exporter": "python",
   "pygments_lexer": "ipython3",
   "version": "3.11.6"
  }
 },
 "nbformat": 4,
 "nbformat_minor": 5
}
