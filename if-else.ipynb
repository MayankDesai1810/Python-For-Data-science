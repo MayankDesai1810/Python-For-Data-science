{
 "cells": [
  {
   "cell_type": "markdown",
   "id": "f16090d9-8ebc-45f5-b610-de56b6202ec1",
   "metadata": {},
   "source": [
    "# If - esle"
   ]
  },
  {
   "cell_type": "markdown",
   "id": "3e0d498b-d5ff-4165-b6a0-c776d88c3e4f",
   "metadata": {},
   "source": [
    "  The if...else statement is used to make decisions in Python programs"
   ]
  },
  {
   "cell_type": "markdown",
   "id": "fdb5cc59-d3be-41c3-84d9-d624313c21da",
   "metadata": {},
   "source": [
    "```python\n",
    "# syntax of if-else statement\n",
    "if condition :\n",
    "    # code\n",
    "else :\n",
    "    # code \n",
    "```"
   ]
  },
  {
   "cell_type": "code",
   "execution_count": 5,
   "id": "cb445f51-f9ae-4bd6-a5d6-36d839bc29d5",
   "metadata": {
    "execution": {
     "iopub.execute_input": "2025-07-06T04:08:26.405521Z",
     "iopub.status.busy": "2025-07-06T04:08:26.404524Z",
     "iopub.status.idle": "2025-07-06T04:08:26.418949Z",
     "shell.execute_reply": "2025-07-06T04:08:26.416936Z",
     "shell.execute_reply.started": "2025-07-06T04:08:26.405521Z"
    }
   },
   "outputs": [
    {
     "name": "stdout",
     "output_type": "stream",
     "text": [
      "b is greater than a\n"
     ]
    }
   ],
   "source": [
    "a = 33\n",
    "b = 200\n",
    "if b > a:\n",
    "    print(\"b is greater than a\")\n",
    "else :\n",
    "    print(\"a is greater than a\")"
   ]
  },
  {
   "cell_type": "markdown",
   "id": "e739790b-41a5-4492-8ab3-4952f24b916c",
   "metadata": {},
   "source": [
    "In this example we use two variables, a and b, which are used as part of the if statement to test whether b is greater than a. As a is 33, and b is 200, we know that 200 is greater than 33, and so we print to screen that \"b is greater than a\""
   ]
  },
  {
   "cell_type": "markdown",
   "id": "b71472b4-6479-4d73-a487-94bb61436152",
   "metadata": {},
   "source": [
    "## Indentation"
   ]
  },
  {
   "cell_type": "markdown",
   "id": "644c00a1-f2b5-434d-ae86-ba71f7a11884",
   "metadata": {},
   "source": [
    "Indentation means spaces or tabs used at the beginning of a line to define blocks of code."
   ]
  },
  {
   "cell_type": "code",
   "execution_count": 4,
   "id": "b7357db7-d814-4bdf-9b94-aaafdaaf2b23",
   "metadata": {
    "execution": {
     "iopub.execute_input": "2025-07-06T04:06:38.711109Z",
     "iopub.status.busy": "2025-07-06T04:06:38.710110Z",
     "iopub.status.idle": "2025-07-06T04:06:38.728464Z",
     "shell.execute_reply": "2025-07-06T04:06:38.726445Z",
     "shell.execute_reply.started": "2025-07-06T04:06:38.711109Z"
    }
   },
   "outputs": [
    {
     "ename": "IndentationError",
     "evalue": "expected an indented block after 'if' statement on line 4 (2175521280.py, line 5)",
     "output_type": "error",
     "traceback": [
      "  \u001b[36mCell\u001b[39m\u001b[36m \u001b[39m\u001b[32mIn[4]\u001b[39m\u001b[32m, line 5\u001b[39m\n\u001b[31m    \u001b[39m\u001b[31mprint(\"b is greater than a\") # you will get an error\u001b[39m\n    ^\n\u001b[31mIndentationError\u001b[39m\u001b[31m:\u001b[39m expected an indented block after 'if' statement on line 4\n"
     ]
    }
   ],
   "source": [
    "# without indentation \n",
    "a = 33\n",
    "b = 200\n",
    "if b > a:\n",
    "print(\"b is greater than a\") # you will get an error"
   ]
  },
  {
   "cell_type": "code",
   "execution_count": 1,
   "id": "e6549fc5-79bc-4cb5-b61e-623a2ea60908",
   "metadata": {
    "execution": {
     "iopub.execute_input": "2025-07-07T17:20:50.523749Z",
     "iopub.status.busy": "2025-07-07T17:20:50.522233Z",
     "iopub.status.idle": "2025-07-07T17:20:50.539123Z",
     "shell.execute_reply": "2025-07-07T17:20:50.537955Z",
     "shell.execute_reply.started": "2025-07-07T17:20:50.523749Z"
    }
   },
   "outputs": [
    {
     "name": "stdout",
     "output_type": "stream",
     "text": [
      "b is greater than a\n"
     ]
    }
   ],
   "source": [
    "# with indentation\n",
    "a = 33\n",
    "b = 200\n",
    "if b > a:\n",
    "    print(\"b is greater than a\")  # This line is indented (inside if block)\n",
    "else :\n",
    "    print(\"a is greater than b\")  # This line is indented (inside else block)"
   ]
  },
  {
   "cell_type": "markdown",
   "id": "2fa7d8fc-c1ec-4364-8d1a-1306b091fe41",
   "metadata": {},
   "source": [
    "## Questions"
   ]
  },
  {
   "cell_type": "code",
   "execution_count": 7,
   "id": "77037e8d-34a8-48e2-b7ac-e24d692fc662",
   "metadata": {
    "execution": {
     "iopub.execute_input": "2025-07-06T04:17:48.177072Z",
     "iopub.status.busy": "2025-07-06T04:17:48.176071Z",
     "iopub.status.idle": "2025-07-06T04:17:50.529448Z",
     "shell.execute_reply": "2025-07-06T04:17:50.528285Z",
     "shell.execute_reply.started": "2025-07-06T04:17:48.177072Z"
    }
   },
   "outputs": [
    {
     "name": "stdout",
     "output_type": "stream",
     "text": [
      "enter the number : 24\n"
     ]
    },
    {
     "name": "stdout",
     "output_type": "stream",
     "text": [
      "24 is an even number.\n"
     ]
    }
   ],
   "source": [
    "# program - Check Even or Odd\n",
    "a = int(input(\"enter the number :\"))\n",
    "if a%2==0 :\n",
    "    print(a,\"is an even number.\")\n",
    "else :\n",
    "    print(a,\"is an odd number.\")"
   ]
  },
  {
   "cell_type": "code",
   "execution_count": null,
   "id": "3cbede93-8125-420a-ac23-e22a11a9a59d",
   "metadata": {
    "execution": {
     "iopub.execute_input": "2025-07-06T04:19:49.501945Z",
     "iopub.status.busy": "2025-07-06T04:19:49.500943Z",
     "iopub.status.idle": "2025-07-06T04:19:52.158452Z",
     "shell.execute_reply": "2025-07-06T04:19:52.157373Z",
     "shell.execute_reply.started": "2025-07-06T04:19:49.501945Z"
    }
   },
   "outputs": [
    {
     "name": "stdout",
     "output_type": "stream",
     "text": [
      "enter the number : 45\n"
     ]
    },
    {
     "name": "stdout",
     "output_type": "stream",
     "text": [
      "45 is a divisible by 5.\n"
     ]
    }
   ],
   "source": [
    "# program - Check if a Number is Divisible by 5\n",
    "a = int(input(\"enter the number :\"))\n",
    "if a%5==0 :\n",
    "    print(a,\"is a divisible by 5.\")\n",
    "else :\n",
    "    print(a,\"is not a divisible by 5.\")"
   ]
  },
  {
   "cell_type": "code",
   "execution_count": 7,
   "id": "b2e24eb7-402d-40a2-af71-f48cd378e44e",
   "metadata": {
    "execution": {
     "iopub.execute_input": "2025-07-07T05:16:38.548874Z",
     "iopub.status.busy": "2025-07-07T05:16:38.548874Z",
     "iopub.status.idle": "2025-07-07T05:16:41.717863Z",
     "shell.execute_reply": "2025-07-07T05:16:41.716855Z",
     "shell.execute_reply.started": "2025-07-07T05:16:38.548874Z"
    }
   },
   "outputs": [
    {
     "name": "stdin",
     "output_type": "stream",
     "text": [
      "eneter the first number : 23\n",
      "enter the second number : 45\n"
     ]
    },
    {
     "name": "stdout",
     "output_type": "stream",
     "text": [
      "45 is larger number\n",
      "45 23\n"
     ]
    },
    {
     "name": "stdout",
     "output_type": "stream",
     "text": [
      "45 is larger number\n"
     ]
    }
   ],
   "source": [
    "# program - Largest of Two Numbers\n",
    "a = int(input(\"eneter the first number :\"))\n",
    "b = int(input(\"enter the second number :\"))\n",
    "if a>b :\n",
    "    print(a,\"is larger number\")\n",
    "else :\n",
    "    print(b,\"is larger number\")\n",
    "\n",
    "# another way to find maximum and minimum number\n",
    "c = max(a,b)\n",
    "d = min(a,b)\n",
    "print(c,d)"
   ]
  },
  {
   "cell_type": "code",
   "execution_count": 6,
   "id": "f5c25cb9-f5fb-4ea4-a8b4-cf0005643ffb",
   "metadata": {
    "execution": {
     "iopub.execute_input": "2025-07-20T06:08:14.462316Z",
     "iopub.status.busy": "2025-07-20T06:08:14.462316Z",
     "iopub.status.idle": "2025-07-20T06:08:17.520403Z",
     "shell.execute_reply": "2025-07-20T06:08:17.520403Z",
     "shell.execute_reply.started": "2025-07-20T06:08:14.462316Z"
    }
   },
   "outputs": [
    {
     "name": "stdin",
     "output_type": "stream",
     "text": [
      "eneter your age : 12\n"
     ]
    },
    {
     "name": "stdout",
     "output_type": "stream",
     "text": [
      "you are not eligible to vote\n"
     ]
    },
    {
     "name": "stdout",
     "output_type": "stream",
     "text": [
      "you are not eligible to vote\n"
     ]
    }
   ],
   "source": [
    "# program - Check Voting Eligibility\n",
    "age = int(input(\"eneter your age :\"))\n",
    "if age>=18 :\n",
    "    print(\"you are eligible to vote\")\n",
    "else :\n",
    "    print(\"you are not eligible to vote\")"
   ]
  },
  {
   "cell_type": "code",
   "execution_count": 14,
   "id": "ff472e46-a9a4-4ad6-88f6-5f845c50322a",
   "metadata": {
    "execution": {
     "iopub.execute_input": "2025-07-06T04:31:27.329662Z",
     "iopub.status.busy": "2025-07-06T04:31:27.329662Z",
     "iopub.status.idle": "2025-07-06T04:31:51.830143Z",
     "shell.execute_reply": "2025-07-06T04:31:51.828613Z",
     "shell.execute_reply.started": "2025-07-06T04:31:27.329662Z"
    }
   },
   "outputs": [
    {
     "name": "stdout",
     "output_type": "stream",
     "text": [
      "enter the number : 2334543\n"
     ]
    },
    {
     "name": "stdout",
     "output_type": "stream",
     "text": [
      " given number is not three digit\n"
     ]
    }
   ],
   "source": [
    "# program - Number is positive 3-digit or Not\n",
    "num = int(input(\"enter the number :\"))\n",
    "if num>=100 and num<=999 :\n",
    "    print(\" given number is three digit\")\n",
    "else :\n",
    "    print(\" given number is not three digit\")"
   ]
  },
  {
   "cell_type": "code",
   "execution_count": 16,
   "id": "e59cf34c-6bde-4e69-a1c5-b9aadb2f346d",
   "metadata": {
    "execution": {
     "iopub.execute_input": "2025-07-06T04:35:50.847811Z",
     "iopub.status.busy": "2025-07-06T04:35:50.846810Z",
     "iopub.status.idle": "2025-07-06T04:36:05.852066Z",
     "shell.execute_reply": "2025-07-06T04:36:05.851049Z",
     "shell.execute_reply.started": "2025-07-06T04:35:50.847811Z"
    }
   },
   "outputs": [
    {
     "name": "stdout",
     "output_type": "stream",
     "text": [
      "enter the number : 42\n"
     ]
    },
    {
     "name": "stdout",
     "output_type": "stream",
     "text": [
      "given number is multiple of 3 and 7 \n"
     ]
    }
   ],
   "source": [
    "# program - Check if a Number is Multiple of 3 and 7\n",
    "num = int(input(\"enter the number :\"))\n",
    "if num%3==0 and num%7==0 :\n",
    "    print(\"given number is multiple of 3 and 7 \")\n",
    "else : \n",
    "    print(\"given number is not multiple of 3 and 7\")"
   ]
  },
  {
   "cell_type": "code",
   "execution_count": 23,
   "id": "2208a170-a993-46de-b7f7-4d3b8f814678",
   "metadata": {
    "execution": {
     "iopub.execute_input": "2025-07-06T05:17:04.169872Z",
     "iopub.status.busy": "2025-07-06T05:17:04.168874Z",
     "iopub.status.idle": "2025-07-06T05:17:18.360491Z",
     "shell.execute_reply": "2025-07-06T05:17:18.359481Z",
     "shell.execute_reply.started": "2025-07-06T05:17:04.169872Z"
    }
   },
   "outputs": [
    {
     "name": "stdout",
     "output_type": "stream",
     "text": [
      "enter the first side length : 23\n",
      "enter the second side length : 45\n",
      "enter the third side length : 7\n"
     ]
    },
    {
     "name": "stdout",
     "output_type": "stream",
     "text": [
      "invalid triangle\n"
     ]
    }
   ],
   "source": [
    "# program - Triangle Inequality Theorem\n",
    "a = int(input(\"enter the first side length :\"))\n",
    "b = int(input(\"enter the second side length :\"))\n",
    "c = int(input(\"enter the third side length :\"))\n",
    "if a+b>c and b+c>a and a+c>b :\n",
    "    print(\"valid triangle\")\n",
    "else :\n",
    "    print(\"invalid triangle\")"
   ]
  },
  {
   "cell_type": "code",
   "execution_count": 1,
   "id": "edacb729-1626-4f20-b0f1-bb37d6178a19",
   "metadata": {
    "execution": {
     "iopub.execute_input": "2025-07-06T07:02:00.943545Z",
     "iopub.status.busy": "2025-07-06T07:02:00.943545Z",
     "iopub.status.idle": "2025-07-06T07:02:11.358719Z",
     "shell.execute_reply": "2025-07-06T07:02:11.357712Z",
     "shell.execute_reply.started": "2025-07-06T07:02:00.943545Z"
    }
   },
   "outputs": [
    {
     "name": "stdout",
     "output_type": "stream",
     "text": [
      "Enter a year:  2024\n"
     ]
    },
    {
     "name": "stdout",
     "output_type": "stream",
     "text": [
      "Leap year\n"
     ]
    }
   ],
   "source": [
    "# program - leap year\n",
    "year = int(input(\"Enter a year: \"))\n",
    "if (year % 4 == 0 and year % 100 != 0) or (year % 400 == 0):\n",
    "    print(\"Leap year\")\n",
    "else:\n",
    "    print(\"Not a leap year\")"
   ]
  },
  {
   "cell_type": "markdown",
   "id": "e5406fcf-d358-4d57-b305-3495c99b3d72",
   "metadata": {},
   "source": [
    "## elif"
   ]
  },
  {
   "cell_type": "markdown",
   "id": "c61488a5-8494-471a-a71f-c2952f7a1201",
   "metadata": {},
   "source": [
    "```python \n",
    "# Used to check another condition if the if was False.\n",
    "if condition1:\n",
    "    # Code block 1\n",
    "elif condition2:\n",
    "    # Code block 2\n",
    "elif condition3:\n",
    "    # Code block 3\n",
    "else:\n",
    "    # Default code block"
   ]
  },
  {
   "cell_type": "markdown",
   "id": "c14db426-e84f-42af-8bcf-4a259766c32a",
   "metadata": {},
   "source": [
    "## Questions"
   ]
  },
  {
   "cell_type": "code",
   "execution_count": 18,
   "id": "683f1b56-ee76-4b69-8e35-3c53637c0be0",
   "metadata": {
    "execution": {
     "iopub.execute_input": "2025-07-06T04:59:35.464288Z",
     "iopub.status.busy": "2025-07-06T04:59:35.463285Z",
     "iopub.status.idle": "2025-07-06T04:59:45.697290Z",
     "shell.execute_reply": "2025-07-06T04:59:45.696277Z",
     "shell.execute_reply.started": "2025-07-06T04:59:35.464288Z"
    }
   },
   "outputs": [
    {
     "name": "stdout",
     "output_type": "stream",
     "text": [
      "enter the your mark (0-100) : 45\n"
     ]
    },
    {
     "name": "stdout",
     "output_type": "stream",
     "text": [
      "Grade : C\n"
     ]
    }
   ],
   "source": [
    "# program -  Grade Checker\n",
    "mark = int(input(\"enter the your mark (0-100) :\"))\n",
    "if mark>=90 and mark<=100 :\n",
    "    print(\"Grade : A+\")\n",
    "elif mark<90 and mark>=80 :\n",
    "    print(\"Grade : A\")\n",
    "elif mark<80 and mark>=70 :\n",
    "    print(\"Grade : B+\")\n",
    "elif mark<70 and mark>=60 :\n",
    "    print(\"Grade : B\")\n",
    "elif mark<60 and mark>=50 :\n",
    "    print(\"Grade : C+\")\n",
    "elif mark<50 and mark>=35 :\n",
    "    print(\"Grade : C\")\n",
    "else :\n",
    "    print(\"Fail\")"
   ]
  },
  {
   "cell_type": "code",
   "execution_count": 19,
   "id": "efedfcba-d0c2-4801-8b02-2aae3857c907",
   "metadata": {
    "execution": {
     "iopub.execute_input": "2025-07-06T05:03:58.196719Z",
     "iopub.status.busy": "2025-07-06T05:03:58.194719Z",
     "iopub.status.idle": "2025-07-06T05:04:02.389162Z",
     "shell.execute_reply": "2025-07-06T05:04:02.388153Z",
     "shell.execute_reply.started": "2025-07-06T05:03:58.196719Z"
    }
   },
   "outputs": [
    {
     "name": "stdout",
     "output_type": "stream",
     "text": [
      "enter the number : -56\n"
     ]
    },
    {
     "name": "stdout",
     "output_type": "stream",
     "text": [
      "entered number is negative \n"
     ]
    }
   ],
   "source": [
    "# program - Positive, Negative, or Zero\n",
    "num = int(input(\"enter the number :\"))\n",
    "if num>0 :\n",
    "    print(\"entered number is positive \")\n",
    "elif num<0 :\n",
    "    print(\"entered number is negative \")\n",
    "else :\n",
    "    print(\"entered number is zero\")"
   ]
  },
  {
   "cell_type": "code",
   "execution_count": 9,
   "id": "dc07d69d-73d1-410f-9081-7f0b5cc61384",
   "metadata": {
    "execution": {
     "iopub.execute_input": "2025-07-07T05:18:31.662595Z",
     "iopub.status.busy": "2025-07-07T05:18:31.661595Z",
     "iopub.status.idle": "2025-07-07T05:18:36.964117Z",
     "shell.execute_reply": "2025-07-07T05:18:36.964117Z",
     "shell.execute_reply.started": "2025-07-07T05:18:31.661595Z"
    }
   },
   "outputs": [
    {
     "name": "stdin",
     "output_type": "stream",
     "text": [
      "enter the first number : 23\n",
      "enter the second number : 45\n",
      "enter the third number : 56\n"
     ]
    },
    {
     "name": "stdout",
     "output_type": "stream",
     "text": [
      "56 is the largest number\n",
      "56\n",
      "23\n"
     ]
    },
    {
     "name": "stdout",
     "output_type": "stream",
     "text": [
      "34 is the largest number\n"
     ]
    }
   ],
   "source": [
    "# program - Largest of Three Numbers\n",
    "a = int(input(\"enter the first number :\"))\n",
    "b = int(input(\"enter the second number :\"))\n",
    "c = int(input(\"enter the third number :\"))\n",
    "if a>b and a>c :\n",
    "    print(a,\"is the largest number\")\n",
    "elif b>a and b>c :\n",
    "    print(b,\"is the largest number\")\n",
    "else :\n",
    "    print(c,\"is the largest number\")\n",
    "    \n",
    "# another way\n",
    "print(max(a,b,c))\n",
    "print(min(a,b,c))"
   ]
  },
  {
   "cell_type": "markdown",
   "id": "531e35aa-8b02-4a08-9310-a5f06a87c1df",
   "metadata": {},
   "source": [
    "## nested if-else"
   ]
  },
  {
   "cell_type": "markdown",
   "id": "858d8aa6-2f8d-442a-b877-b178c2ab18d8",
   "metadata": {},
   "source": [
    "Nested if...else means placing one if (or else) inside another if or else block.\n",
    "It helps in multi-level decision-making when one condition depends on another."
   ]
  },
  {
   "cell_type": "markdown",
   "id": "594794e3-f61c-434f-a127-a4104fbe183d",
   "metadata": {},
   "source": [
    "```python\n",
    "Syntax :\n",
    "if condition1:\n",
    "    if condition2:\n",
    "        # Runs if both conditions are True\n",
    "    else:\n",
    "        # Runs if condition1 is True but condition2 is False\n",
    "else:\n",
    "    # Runs if condition1 is False\n"
   ]
  },
  {
   "cell_type": "code",
   "execution_count": 24,
   "id": "1ae08fcc-d1e7-4fc6-a935-f060b5a15ee1",
   "metadata": {
    "execution": {
     "iopub.execute_input": "2025-07-06T05:26:13.926342Z",
     "iopub.status.busy": "2025-07-06T05:26:13.926342Z",
     "iopub.status.idle": "2025-07-06T05:26:22.081286Z",
     "shell.execute_reply": "2025-07-06T05:26:22.080277Z",
     "shell.execute_reply.started": "2025-07-06T05:26:13.926342Z"
    }
   },
   "outputs": [
    {
     "name": "stdout",
     "output_type": "stream",
     "text": [
      "Enter first number:  23\n",
      "Enter second number:  0\n",
      "Enter operator (+, -, *, /):  /\n"
     ]
    },
    {
     "name": "stdout",
     "output_type": "stream",
     "text": [
      "Cannot divide by zero\n"
     ]
    }
   ],
   "source": [
    "# program - Simple calculator\n",
    "a = float(input(\"Enter first number: \"))\n",
    "b = float(input(\"Enter second number: \"))\n",
    "op = input(\"Enter operator (+, -, *, /): \")\n",
    "\n",
    "if op == '+':\n",
    "    print(\"Sum:\", a + b)\n",
    "elif op == '-':\n",
    "    print(\"Difference:\", a - b)\n",
    "elif op == '*':\n",
    "    print(\"Product:\", a * b)\n",
    "elif op == '/':\n",
    "    if b != 0:\n",
    "        print(\"Quotient:\", a / b)\n",
    "    else:\n",
    "        print(\"Cannot divide by zero\")\n",
    "else:\n",
    "    print(\"Invalid operator\")"
   ]
  },
  {
   "cell_type": "code",
   "execution_count": 26,
   "id": "4a58d8a4-a5ad-4ce6-9c71-3fecbc08fc3a",
   "metadata": {
    "execution": {
     "iopub.execute_input": "2025-07-06T05:28:37.032859Z",
     "iopub.status.busy": "2025-07-06T05:28:37.032859Z",
     "iopub.status.idle": "2025-07-06T05:29:26.272926Z",
     "shell.execute_reply": "2025-07-06T05:29:26.272418Z",
     "shell.execute_reply.started": "2025-07-06T05:28:37.032859Z"
    }
   },
   "outputs": [
    {
     "name": "stdout",
     "output_type": "stream",
     "text": [
      "Enter side A:  34\n",
      "Enter side B:  34\n",
      "Enter side C:  34\n"
     ]
    },
    {
     "name": "stdout",
     "output_type": "stream",
     "text": [
      " Equilateral Triangle\n"
     ]
    }
   ],
   "source": [
    "# program - triangle validity and type\n",
    "a = float(input(\"Enter side A: \"))\n",
    "b = float(input(\"Enter side B: \"))\n",
    "c = float(input(\"Enter side C: \"))\n",
    "if a + b > c and a + c > b and b + c > a:\n",
    "    if a == b == c:\n",
    "        print(\" Equilateral Triangle\")\n",
    "    elif a == b or b == c or a == c:\n",
    "        print(\"Isosceles Triangle\")\n",
    "    else:\n",
    "        print(\"Scalene Triangle\")\n",
    "else:\n",
    "    print(\"Not a valid triangle\")"
   ]
  },
  {
   "cell_type": "markdown",
   "id": "f10d3bae-87fb-4299-8046-ac2ac01ba8df",
   "metadata": {},
   "source": [
    "# Module"
   ]
  },
  {
   "cell_type": "markdown",
   "id": "c3e2d586-8b8a-4c45-bf0c-695f2f300a23",
   "metadata": {},
   "source": [
    "A module is a file that contains Python code (functions, variables, classes) that you can reuse in other programs."
   ]
  },
  {
   "cell_type": "markdown",
   "id": "9a9002cc-14bf-4459-a09d-d38df91c07c7",
   "metadata": {},
   "source": [
    "##### Why Use Modules\n",
    " 1. Reusability of code\n",
    " 2. Organize large programs into smaller files\n",
    " 3. Avoid rewriting common logic"
   ]
  },
  {
   "cell_type": "markdown",
   "id": "dbfb4b2b-6219-49b9-a3cd-c975ace11f55",
   "metadata": {},
   "source": [
    "Math module"
   ]
  },
  {
   "cell_type": "code",
   "execution_count": 1,
   "id": "70259543-b486-4eec-b28d-d8ee5cc25339",
   "metadata": {
    "execution": {
     "iopub.execute_input": "2025-07-30T15:21:57.873174Z",
     "iopub.status.busy": "2025-07-30T15:21:57.872156Z",
     "iopub.status.idle": "2025-07-30T15:21:57.881266Z",
     "shell.execute_reply": "2025-07-30T15:21:57.881266Z",
     "shell.execute_reply.started": "2025-07-30T15:21:57.873174Z"
    }
   },
   "outputs": [
    {
     "name": "stdout",
     "output_type": "stream",
     "text": [
      "7.0\n",
      "8.0\n",
      "4\n",
      "5\n",
      "3.141592653589793\n",
      "2.0\n",
      "1.0000066849139877\n",
      "120\n",
      "3.141592653589793\n",
      "180.0\n",
      "GCD(Greatest Common Divisor): 15\n"
     ]
    }
   ],
   "source": [
    "import math # ----> Import the Module\n",
    "print(math.sqrt(49))    # Output: 7.0\n",
    "print(math.pow(2, 3))   # Output: 8.0\n",
    "print(math.floor(4.7))  # Output: 4  (rounds down)\n",
    "print(math.ceil(4.2))   # Output: 5  (rounds up)\n",
    "print(math.pi)          # Output: 3.141592653589793\n",
    "print(math.log(100, 10))  # Output: 2.0  (log base 10)\n",
    "print(math.log(2.7183))   # Output:  1 (natural log base e)\n",
    "print(math.factorial(5))  # Output: 120\n",
    "print(math.radians(180))  # Output: 3.14159\n",
    "print(math.degrees(math.pi))  # Output: 180.0\n",
    "print(\"GCD(Greatest Common Divisor):\", math.gcd(45, 60))   # output : 15"
   ]
  },
  {
   "cell_type": "markdown",
   "id": "f66fe37e-50dd-44f0-bdc0-2e8183e74f09",
   "metadata": {},
   "source": [
    "## Question"
   ]
  },
  {
   "cell_type": "code",
   "execution_count": 41,
   "id": "a126eaa5-87fd-4a1d-8ef8-f4f4e6b3907f",
   "metadata": {
    "execution": {
     "iopub.execute_input": "2025-07-06T06:00:23.929053Z",
     "iopub.status.busy": "2025-07-06T06:00:23.928052Z",
     "iopub.status.idle": "2025-07-06T06:00:25.339674Z",
     "shell.execute_reply": "2025-07-06T06:00:25.337647Z",
     "shell.execute_reply.started": "2025-07-06T06:00:23.929053Z"
    }
   },
   "outputs": [
    {
     "name": "stdout",
     "output_type": "stream",
     "text": [
      "eneter the number : 56\n"
     ]
    },
    {
     "name": "stdout",
     "output_type": "stream",
     "text": [
      "given number is not perfect square number \n"
     ]
    }
   ],
   "source": [
    "# Check if a Number is a Perfect Square\n",
    "import math \n",
    "a = int(input(\"eneter the number :\"))\n",
    "b = math.sqrt(a)\n",
    "c = math.floor(b)\n",
    "if b == c :\n",
    "    print(\"given number is perfect square number \")\n",
    "else :\n",
    "    print(\"given number is not perfect square number \")\n"
   ]
  },
  {
   "cell_type": "code",
   "execution_count": 2,
   "id": "5de4ff24-0c89-426f-b965-e56fc4c70765",
   "metadata": {
    "execution": {
     "iopub.execute_input": "2025-07-30T15:22:46.273457Z",
     "iopub.status.busy": "2025-07-30T15:22:46.272456Z",
     "iopub.status.idle": "2025-07-30T15:22:52.890042Z",
     "shell.execute_reply": "2025-07-30T15:22:52.890042Z",
     "shell.execute_reply.started": "2025-07-30T15:22:46.273457Z"
    }
   },
   "outputs": [
    {
     "name": "stdin",
     "output_type": "stream",
     "text": [
      "enter x1 y1 : 1 2\n",
      "enter x2 y2 : 2 3\n"
     ]
    },
    {
     "name": "stdout",
     "output_type": "stream",
     "text": [
      "distance between two points is : 1.4142\n"
     ]
    },
    {
     "name": "stdout",
     "output_type": "stream",
     "text": [
      "distance between two points is : 2.8284271247461903\n"
     ]
    }
   ],
   "source": [
    "# Calculate Distance Between Two Points\n",
    "import math \n",
    "x1,y1 = map(float,input(\"enter x1 y1 :\").split())\n",
    "x2,y2= map(float,input(\"enter x2 y2 :\").split())\n",
    "distance = math.sqrt((x2-x1)**2 + (y2-y1)**2)\n",
    "print(\"distance between two points is :\",round(distance,4))"
   ]
  },
  {
   "cell_type": "code",
   "execution_count": 2,
   "id": "dc97195d-c041-4694-8ef9-8ec73b9fe6f5",
   "metadata": {
    "execution": {
     "iopub.execute_input": "2025-08-16T08:48:09.847687Z",
     "iopub.status.busy": "2025-08-16T08:48:09.846686Z",
     "iopub.status.idle": "2025-08-16T08:48:16.214824Z",
     "shell.execute_reply": "2025-08-16T08:48:16.214824Z",
     "shell.execute_reply.started": "2025-08-16T08:48:09.847687Z"
    }
   },
   "outputs": [
    {
     "name": "stdin",
     "output_type": "stream",
     "text": [
      "enter the cofficient of X^2 : 2\n",
      "enter the cofficicent of X : 4\n",
      "enter the constant : 6\n"
     ]
    },
    {
     "name": "stdout",
     "output_type": "stream",
     "text": [
      "No real roots. Complex roots :\n",
      "x1 : (-1+1.4142j)\n",
      "x2 : (-1-1.4142j)\n"
     ]
    },
    {
     "name": "stdout",
     "output_type": "stream",
     "text": [
      "No real roots. Complex roots :\n",
      "x1 : (-2+1j)\n",
      "x2 : (-2+1j)\n"
     ]
    }
   ],
   "source": [
    "# Quadratic Equation\n",
    "import math\n",
    "a = int(input(\"enter the cofficient of X^2 :\"))\n",
    "b = int(input(\"enter the cofficicent of X :\"))\n",
    "c = int(input(\"enter the constant :\"))\n",
    "D = b**2 - 4*a*c\n",
    "if D>0 or D==0 :\n",
    "    x1 = (-b + math.sqrt(D))/(2*a)\n",
    "    x2 = (-b - math.sqrt(D))/(2*a)\n",
    "    print(\"roots of quadration equation is....\")\n",
    "    print(\"x1 :\",x1)\n",
    "    print(\"x2 :\",x2)\n",
    "else :\n",
    "    real = (-b)/(2*a)\n",
    "    imag =round(math.sqrt(-D)/(2*a),4)\n",
    "    print(\"No real roots. Complex roots :\")\n",
    "    print(\"x1 :\",complex(real,imag))\n",
    "    print(\"x2 :\",complex(real,-imag))"
   ]
  },
  {
   "cell_type": "markdown",
   "id": "abaf2fd1-c963-4dec-8e7f-f0dcffa106b6",
   "metadata": {},
   "source": [
    "## datetime module"
   ]
  },
  {
   "cell_type": "markdown",
   "id": "a681ad3b-bedf-40bf-a4fd-2e8ec87c9c83",
   "metadata": {},
   "source": [
    "* The date time module in Python is used to work with dates and times"
   ]
  },
  {
   "cell_type": "code",
   "execution_count": 1,
   "id": "31792a95-c90d-468f-9839-c521a4d4975c",
   "metadata": {
    "execution": {
     "iopub.execute_input": "2025-07-18T16:12:10.785121Z",
     "iopub.status.busy": "2025-07-18T16:12:10.784121Z",
     "iopub.status.idle": "2025-07-18T16:12:10.791194Z",
     "shell.execute_reply": "2025-07-18T16:12:10.791194Z",
     "shell.execute_reply.started": "2025-07-18T16:12:10.785121Z"
    }
   },
   "outputs": [
    {
     "name": "stdout",
     "output_type": "stream",
     "text": [
      "Current Date and Time: 2025-07-18 21:42:10.789119\n"
     ]
    }
   ],
   "source": [
    "import datetime\n",
    "now = datetime.datetime.now()  # Get Current Date and Time\n",
    "print(\"Current Date and Time:\", now)"
   ]
  },
  {
   "cell_type": "code",
   "execution_count": 7,
   "id": "18876422-14eb-4056-8fed-3499f99f183f",
   "metadata": {
    "execution": {
     "iopub.execute_input": "2025-07-30T15:26:16.921637Z",
     "iopub.status.busy": "2025-07-30T15:26:16.920639Z",
     "iopub.status.idle": "2025-07-30T15:26:16.926639Z",
     "shell.execute_reply": "2025-07-30T15:26:16.926639Z",
     "shell.execute_reply.started": "2025-07-30T15:26:16.921637Z"
    }
   },
   "outputs": [
    {
     "name": "stdout",
     "output_type": "stream",
     "text": [
      "Today's Date: 2025-07-30\n"
     ]
    }
   ],
   "source": [
    "today = datetime.date.today()  #  Get Only the Current Date\n",
    "print(\"Today's Date:\", today)"
   ]
  },
  {
   "cell_type": "code",
   "execution_count": 9,
   "id": "5cfc6b7f-a512-4232-9944-60cb5391be4a",
   "metadata": {
    "execution": {
     "iopub.execute_input": "2025-07-30T15:26:26.040066Z",
     "iopub.status.busy": "2025-07-30T15:26:26.039068Z",
     "iopub.status.idle": "2025-07-30T15:26:26.043947Z",
     "shell.execute_reply": "2025-07-30T15:26:26.043947Z",
     "shell.execute_reply.started": "2025-07-30T15:26:26.040066Z"
    }
   },
   "outputs": [
    {
     "name": "stdout",
     "output_type": "stream",
     "text": [
      "Year: 2025\n",
      "Month: 7\n",
      "Day: 30\n",
      "Hour: 20\n",
      "Minute: 56\n",
      "Second: 26\n"
     ]
    }
   ],
   "source": [
    "now = datetime.datetime.now()\n",
    "print(\"Year:\", now.year)\n",
    "print(\"Month:\", now.month)\n",
    "print(\"Day:\", now.day)              # Get Individual Date Components\n",
    "print(\"Hour:\", now.hour)\n",
    "print(\"Minute:\", now.minute)\n",
    "print(\"Second:\", now.second)"
   ]
  },
  {
   "cell_type": "code",
   "execution_count": 1,
   "id": "68fff455-72db-4652-b02c-56d5fb2ddbc4",
   "metadata": {
    "execution": {
     "iopub.execute_input": "2025-08-16T08:47:23.538180Z",
     "iopub.status.busy": "2025-08-16T08:47:23.538180Z",
     "iopub.status.idle": "2025-08-16T08:47:23.544394Z",
     "shell.execute_reply": "2025-08-16T08:47:23.544394Z",
     "shell.execute_reply.started": "2025-08-16T08:47:23.538180Z"
    }
   },
   "outputs": [
    {
     "name": "stdout",
     "output_type": "stream",
     "text": [
      "1755334043.5421772\n"
     ]
    }
   ],
   "source": [
    "import time\n",
    "print(time.time())  # used to get the current time in seconds since the Epoch\n",
    "\n",
    "# The Epoch is the point where time starts for Unix systems:\n",
    "# January 1, 1970, at 00:00:00 UTC"
   ]
  },
  {
   "cell_type": "markdown",
   "id": "b85b714a-796a-45c8-85ef-f219609b00d5",
   "metadata": {
    "execution": {
     "iopub.execute_input": "2025-07-06T07:07:38.615180Z",
     "iopub.status.busy": "2025-07-06T07:07:38.615180Z",
     "iopub.status.idle": "2025-07-06T07:07:38.620686Z",
     "shell.execute_reply": "2025-07-06T07:07:38.620179Z",
     "shell.execute_reply.started": "2025-07-06T07:07:38.615180Z"
    }
   },
   "source": [
    "## random Module"
   ]
  },
  {
   "cell_type": "markdown",
   "id": "09e7baf6-bd86-4304-9f58-01e56d159827",
   "metadata": {},
   "source": [
    "* The random module in Python is used to generate random numbers or choices."
   ]
  },
  {
   "cell_type": "code",
   "execution_count": 2,
   "id": "d567b6f7-f904-4228-92d5-08ff2f217b28",
   "metadata": {
    "execution": {
     "iopub.execute_input": "2025-07-18T16:12:52.272053Z",
     "iopub.status.busy": "2025-07-18T16:12:52.272053Z",
     "iopub.status.idle": "2025-07-18T16:12:52.275454Z",
     "shell.execute_reply": "2025-07-18T16:12:52.275454Z",
     "shell.execute_reply.started": "2025-07-18T16:12:52.272053Z"
    }
   },
   "outputs": [
    {
     "name": "stdout",
     "output_type": "stream",
     "text": [
      "0.4800892649552424\n"
     ]
    }
   ],
   "source": [
    "import random\n",
    "print(random.random())  #  Random float from 0.0 to 1.0"
   ]
  },
  {
   "cell_type": "code",
   "execution_count": 16,
   "id": "24895303-fd4d-40f2-a303-9c6a963fbfa4",
   "metadata": {
    "execution": {
     "iopub.execute_input": "2025-07-06T07:25:20.663849Z",
     "iopub.status.busy": "2025-07-06T07:25:20.663849Z",
     "iopub.status.idle": "2025-07-06T07:25:20.673209Z",
     "shell.execute_reply": "2025-07-06T07:25:20.672195Z",
     "shell.execute_reply.started": "2025-07-06T07:25:20.663849Z"
    }
   },
   "outputs": [
    {
     "name": "stdout",
     "output_type": "stream",
     "text": [
      "6\n",
      "16\n"
     ]
    }
   ],
   "source": [
    "print(random.randint(1, 10))#  Random integer between any two number\n",
    "print(random.randint(10,20))"
   ]
  },
  {
   "cell_type": "code",
   "execution_count": 18,
   "id": "5e6a6a18-b26f-471b-9fe6-62fc4a675ce5",
   "metadata": {
    "execution": {
     "iopub.execute_input": "2025-07-06T07:26:50.488975Z",
     "iopub.status.busy": "2025-07-06T07:26:50.487977Z",
     "iopub.status.idle": "2025-07-06T07:26:50.496992Z",
     "shell.execute_reply": "2025-07-06T07:26:50.495980Z",
     "shell.execute_reply.started": "2025-07-06T07:26:50.488975Z"
    }
   },
   "outputs": [
    {
     "name": "stdout",
     "output_type": "stream",
     "text": [
      "5.9634579157248115\n",
      "9.140349793388381\n"
     ]
    }
   ],
   "source": [
    "print(random.uniform(2,7))  # Random float between any two number\n",
    "print(random.uniform(8,10))"
   ]
  }
 ],
 "metadata": {
  "kernelspec": {
   "display_name": "Python 3 (ipykernel)",
   "language": "python",
   "name": "python3"
  },
  "language_info": {
   "codemirror_mode": {
    "name": "ipython",
    "version": 3
   },
   "file_extension": ".py",
   "mimetype": "text/x-python",
   "name": "python",
   "nbconvert_exporter": "python",
   "pygments_lexer": "ipython3",
   "version": "3.11.6"
  }
 },
 "nbformat": 4,
 "nbformat_minor": 5
}
