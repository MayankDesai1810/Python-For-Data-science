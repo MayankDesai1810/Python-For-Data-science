{
 "cells": [
  {
   "cell_type": "markdown",
   "id": "98fcbc11-53ad-4f32-ab8d-056192ae3945",
   "metadata": {},
   "source": [
    "# Object Oriented Programming"
   ]
  },
  {
   "cell_type": "markdown",
   "id": "793d360d-d0f1-4b22-9020-af5e7cc69e21",
   "metadata": {},
   "source": [
    "* Python is an object-oriented language, allowing you to structure your code using classes and objects for better organization and reusability.\n",
    "* simple you can create own data type"
   ]
  },
  {
   "cell_type": "markdown",
   "id": "ac204bb1-9ab7-47f2-9a3e-74b3dc1d1652",
   "metadata": {},
   "source": [
    "### What is class?"
   ]
  },
  {
   "cell_type": "markdown",
   "id": "aa557418-8ba5-45ea-a830-b43748402e9d",
   "metadata": {},
   "source": [
    "* A class is a blueprint or template used to create objects.\n",
    "* It defines what data (variables) and actions (functions) the object will have."
   ]
  },
  {
   "cell_type": "markdown",
   "id": "872c3d84-88c5-4cef-9204-8a3b6b680a56",
   "metadata": {},
   "source": [
    "##### Blueprint\n",
    "A blueprint is like a design plan.\n",
    "\n",
    "Think of a blueprint of a house: it tells you how the house will look — number of rooms, layout, etc.\n",
    "But the blueprint itself is not a house — it’s just a plan."
   ]
  },
  {
   "cell_type": "markdown",
   "id": "03ab8b95-5548-4174-8ced-2b01feb3999e",
   "metadata": {},
   "source": [
    "##### Template\n",
    "A template means a predefined format or structure.\n",
    "\n",
    "Like a resume template — you can fill in different names, but the format stays the same."
   ]
  },
  {
   "cell_type": "markdown",
   "id": "03779670-ee0f-4ea4-a99c-87754ec542a0",
   "metadata": {},
   "source": [
    "### what is objects?"
   ]
  },
  {
   "cell_type": "markdown",
   "id": "5993746a-e12c-4ba3-b565-285cd449d635",
   "metadata": {},
   "source": [
    "* An object is a real thing created from a class.\n",
    "* It has real data and can perform actions."
   ]
  },
  {
   "cell_type": "markdown",
   "id": "ab2e525b-6e41-4d41-96b2-c11aedada9df",
   "metadata": {},
   "source": [
    "## Creating Class :"
   ]
  },
  {
   "cell_type": "markdown",
   "id": "bd9259b3-2881-4e14-bda2-542b37efe981",
   "metadata": {},
   "source": [
    "\n",
    "```python\n",
    "# Example :\n",
    "class classname :\n",
    "    x = None         # x,y ----> called Attributes\n",
    "    y = None\n",
    "    def name_a : # name_a,name_b ----> Methods(functions)\n",
    "    def name_b :\n",
    "# this basic syntax of creating class"
   ]
  },
  {
   "cell_type": "markdown",
   "id": "afcd77a0-d7c0-4174-a3c7-4a3d6fc499e8",
   "metadata": {},
   "source": [
    "## creating object :"
   ]
  },
  {
   "cell_type": "markdown",
   "id": "6b2b3568-3621-4030-97f0-4f4360ee1ea7",
   "metadata": {},
   "source": [
    "```python\n",
    "# syntax : \n",
    "x = class_name()  # x,y ----> is an object class\n",
    "y = class_name()"
   ]
  },
  {
   "cell_type": "code",
   "execution_count": 4,
   "id": "c0ad7b6a-78b8-450d-8ed4-9cb316f82994",
   "metadata": {
    "execution": {
     "iopub.execute_input": "2025-07-26T03:49:18.218611Z",
     "iopub.status.busy": "2025-07-26T03:49:18.217611Z",
     "iopub.status.idle": "2025-07-26T03:49:18.226294Z",
     "shell.execute_reply": "2025-07-26T03:49:18.225282Z",
     "shell.execute_reply.started": "2025-07-26T03:49:18.218611Z"
    }
   },
   "outputs": [
    {
     "name": "stdout",
     "output_type": "stream",
     "text": [
      "name : mayank\n",
      "age : 18\n",
      "<__main__.Info object at 0x000001759DA41450>\n",
      "<class 'type'>\n",
      "<class '__main__.Info'>\n"
     ]
    }
   ],
   "source": [
    "# single object\n",
    "class Info :\n",
    "    name = None  # name,age ----> attributes \n",
    "    age = None\n",
    "student1 = Info() # create an object of Info\n",
    "# Access attributes and set values\n",
    "student1.name = \"mayank\"\n",
    "student1.age = 18\n",
    "# Print attribute values\n",
    "print(\"name :\",student1.name)\n",
    "print(\"age :\",student1.age)\n",
    "print(student1)\n",
    "print(type(Info)) # because 'Info' is a class\n",
    "print(type(student1)) # object of Info class"
   ]
  },
  {
   "cell_type": "code",
   "execution_count": 3,
   "id": "a9b252d1-a8f0-4a21-b66d-e4a6a8a0c417",
   "metadata": {
    "execution": {
     "iopub.execute_input": "2025-07-20T17:06:38.976948Z",
     "iopub.status.busy": "2025-07-20T17:06:38.975947Z",
     "iopub.status.idle": "2025-07-20T17:06:38.985151Z",
     "shell.execute_reply": "2025-07-20T17:06:38.984137Z",
     "shell.execute_reply.started": "2025-07-20T17:06:38.976948Z"
    }
   },
   "outputs": [
    {
     "name": "stdout",
     "output_type": "stream",
     "text": [
      "name : mayank\n",
      "age : 18\n",
      "name : sujal\n",
      "age : 19\n"
     ]
    }
   ],
   "source": [
    "# multiple object\n",
    "class Info :\n",
    "    name = None  # this is not the best way to initialize attributes\n",
    "    age = None\n",
    "student1 = Info() \n",
    "student1.name = \"mayank\"\n",
    "student1.age = 18\n",
    "student2 = Info()\n",
    "student2.name = \"sujal\"\n",
    "student2.age = 19\n",
    "print(\"name :\",student1.name)\n",
    "print(\"age :\",student1.age)\n",
    "print(\"name :\",student2.name)\n",
    "print(\"age :\",student2.age)"
   ]
  },
  {
   "cell_type": "markdown",
   "id": "d61a599c-d20e-4669-b18d-a25389bd817e",
   "metadata": {},
   "source": [
    "### Define a Method Inside the Class"
   ]
  },
  {
   "cell_type": "code",
   "execution_count": 2,
   "id": "4de5eb64-1af5-48d1-be7d-287ebfd36b45",
   "metadata": {
    "execution": {
     "iopub.execute_input": "2025-07-21T06:54:34.812195Z",
     "iopub.status.busy": "2025-07-21T06:54:34.812195Z",
     "iopub.status.idle": "2025-07-21T06:54:34.819592Z",
     "shell.execute_reply": "2025-07-21T06:54:34.819071Z",
     "shell.execute_reply.started": "2025-07-21T06:54:34.812195Z"
    }
   },
   "outputs": [
    {
     "name": "stdout",
     "output_type": "stream",
     "text": [
      "hello,bhai kaise ho!\n"
     ]
    }
   ],
   "source": [
    "class greet() :\n",
    "    def hello(self) :\n",
    "        print(\"hello,bhai kaise ho!\")\n",
    "s = greet()\n",
    "s.hello()"
   ]
  },
  {
   "cell_type": "code",
   "execution_count": 3,
   "id": "5c0a074f-af4f-4737-b2fc-33b10e75bfe5",
   "metadata": {
    "execution": {
     "iopub.execute_input": "2025-07-21T07:01:41.594313Z",
     "iopub.status.busy": "2025-07-21T07:01:41.593313Z",
     "iopub.status.idle": "2025-07-21T07:01:41.604576Z",
     "shell.execute_reply": "2025-07-21T07:01:41.603508Z",
     "shell.execute_reply.started": "2025-07-21T07:01:41.594313Z"
    }
   },
   "outputs": [
    {
     "name": "stdout",
     "output_type": "stream",
     "text": [
      "name : mayank\n",
      "age : 18\n",
      "name : jal\n",
      "age : 34\n"
     ]
    }
   ],
   "source": [
    "class Info() :\n",
    "    def get_data(self,x,y) : # this is the  best way to initialize attributes\n",
    "        self.name = x\n",
    "        self.age = y\n",
    "    def put_data(self) :\n",
    "        print(\"name :\",self.name)\n",
    "        print(\"age :\",self.age)\n",
    "student1 = Info()\n",
    "student1.get_data(\"mayank\",18) # ---> Save the value x and y in student1 object's name and age\n",
    "student1.put_data()\n",
    "student2 = Info()\n",
    "student2.get_data(\"jal\",34) # ---> save the value x and y in student2 object's name and age\n",
    "student2.put_data()"
   ]
  },
  {
   "cell_type": "markdown",
   "id": "51bb154f-cd39-47d8-aa22-8566199e1401",
   "metadata": {},
   "source": [
    "#### What is self?"
   ]
  },
  {
   "cell_type": "markdown",
   "id": "b98635b2-9626-4fca-8735-ed2d7e966097",
   "metadata": {},
   "source": [
    "* self is a keyword that refers to the current object.\n",
    "* It helps each object store and access its own data.\n",
    "* It refers to the current object (instance)if and only if when we define a method inside a class."
   ]
  },
  {
   "cell_type": "markdown",
   "id": "9acd9d68-08ed-465d-ad79-b89da56d9f18",
   "metadata": {},
   "source": [
    "* you can call it whatever you like, but it has to be the first parameter of any function in the class"
   ]
  },
  {
   "cell_type": "code",
   "execution_count": 1,
   "id": "c6920b19-4425-41ff-9913-dc8b4f856ca2",
   "metadata": {
    "execution": {
     "iopub.execute_input": "2025-08-01T15:55:47.801700Z",
     "iopub.status.busy": "2025-08-01T15:55:47.800700Z",
     "iopub.status.idle": "2025-08-01T15:55:47.813000Z",
     "shell.execute_reply": "2025-08-01T15:55:47.811992Z",
     "shell.execute_reply.started": "2025-08-01T15:55:47.801700Z"
    }
   },
   "outputs": [
    {
     "name": "stdout",
     "output_type": "stream",
     "text": [
      "\n",
      "Account Holder: Rahul Sharma\n",
      "Account Number: 3456743423332\n",
      "Account Type: Savings\n",
      "Current Balance: ₹50000.0\n",
      "Deposited ₹15000 successfully.\n",
      "Withdrawn ₹20000 successfully.\n",
      "Insufficient balance. Withdrawal failed.\n",
      "\n",
      "Account Holder: Rahul Sharma\n",
      "Account Number: 3456743423332\n",
      "Account Type: Savings\n",
      "Current Balance: ₹45000.0\n"
     ]
    }
   ],
   "source": [
    "# question :\n",
    "#  Define a class to represent a bank account. Include the members like name of the depositor,\n",
    "#  account number, type of account, and balance amount in the account. Make functions;\n",
    "#   (1) To assign initial values\n",
    "#   (2) To deposit an amount\n",
    "#   (3) To withdraw an amount after checking the balance\n",
    "#   (4) To display name and balance\n",
    "#   Write a main program to test the program.\n",
    "class Bank_Account:\n",
    "    def get_data(self, name, num, acc, bal):\n",
    "        self.name = name\n",
    "        self.acc_num = num\n",
    "        self.type_acc = acc\n",
    "        self.balance = bal\n",
    "\n",
    "    def deposit(self, amount):\n",
    "        if amount > 0:\n",
    "            self.balance += amount\n",
    "            print(\"Deposited ₹{} successfully.\".format(amount))\n",
    "        else:\n",
    "            print(\"Invalid deposit amount.\")\n",
    "\n",
    "    def withdraw(self, amount):\n",
    "        if amount <= 0:\n",
    "            print(\"Invalid withdrawal amount.\")\n",
    "        elif amount > self.balance:\n",
    "            print(\"Insufficient balance. Withdrawal failed.\")\n",
    "        else:\n",
    "            self.balance -= amount\n",
    "            print(\"Withdrawn ₹{} successfully.\".format(amount))\n",
    "\n",
    "    def display(self):\n",
    "        print(\"\\nAccount Holder: {}\".format(self.name))\n",
    "        print(\"Account Number: {}\".format(self.acc_num))\n",
    "        print(\"Account Type: {}\".format(self.type_acc))\n",
    "        print(\"Current Balance: ₹{}\".format(self.balance))\n",
    "\n",
    "account = Bank_Account()\n",
    "account.get_data(\"Rahul Sharma\", 3456743423332, \"Savings\", 50000.0)\n",
    "account.display()           # Display initial balance\n",
    "account.deposit(15000)      # Deposit amount\n",
    "account.withdraw(20000)     # Withdraw amount\n",
    "account.withdraw(60000)     # Try to withdraw more than balance\n",
    "account.display()           # Final display"
   ]
  },
  {
   "cell_type": "markdown",
   "id": "192231d0-ea1f-4851-bf96-cadd0c5641ee",
   "metadata": {},
   "source": [
    "## Constructor"
   ]
  },
  {
   "cell_type": "markdown",
   "id": "6761e3e8-cab2-482d-8a44-5244176b9f88",
   "metadata": {},
   "source": [
    "* A constructor is a special method that runs automatically when you create an object of a class."
   ]
  },
  {
   "cell_type": "markdown",
   "id": "40461001-32d6-40c6-8742-fe9f8e796dd3",
   "metadata": {},
   "source": [
    "```python\n",
    "# syntax :\n",
    "class ClassName:\n",
    "    def __init__(self):\n",
    "        # code to initialize the object"
   ]
  },
  {
   "cell_type": "code",
   "execution_count": 13,
   "id": "519d7c90-b59d-407d-9315-c8c9d7ccb8b3",
   "metadata": {
    "execution": {
     "iopub.execute_input": "2025-07-21T12:28:30.648216Z",
     "iopub.status.busy": "2025-07-21T12:28:30.648216Z",
     "iopub.status.idle": "2025-07-21T12:28:30.652487Z",
     "shell.execute_reply": "2025-07-21T12:28:30.652487Z",
     "shell.execute_reply.started": "2025-07-21T12:28:30.648216Z"
    }
   },
   "outputs": [
    {
     "name": "stdout",
     "output_type": "stream",
     "text": [
      "Hello! Object created\n"
     ]
    }
   ],
   "source": [
    "# without parameters ---> called Default Constructor\n",
    "class Greet:\n",
    "    def __init__(self): # get_data replace by __init__\n",
    "        print(\"Hello! Object created\")\n",
    "# Create object\n",
    "obj = Greet()"
   ]
  },
  {
   "cell_type": "code",
   "execution_count": 18,
   "id": "4be9c115-7c6b-420d-851b-a485a4ff7a45",
   "metadata": {
    "execution": {
     "iopub.execute_input": "2025-07-21T12:35:24.737660Z",
     "iopub.status.busy": "2025-07-21T12:35:24.736656Z",
     "iopub.status.idle": "2025-07-21T12:35:24.742658Z",
     "shell.execute_reply": "2025-07-21T12:35:24.742658Z",
     "shell.execute_reply.started": "2025-07-21T12:35:24.737660Z"
    }
   },
   "outputs": [
    {
     "name": "stdout",
     "output_type": "stream",
     "text": [
      "Name: Mayank\n",
      "Age: 18\n",
      "Name: sujal\n",
      "Age: 30\n"
     ]
    }
   ],
   "source": [
    "# with parameters ----> called Parameterized Constructor\n",
    "class Info:\n",
    "    def __init__(self, name, age):\n",
    "        self.name = name\n",
    "        self.age = age\n",
    "    def display(self):\n",
    "        print(\"Name:\", self.name)\n",
    "        print(\"Age:\", self.age)\n",
    "# Create object with data\n",
    "student1 = Info(\"Mayank\", 18)\n",
    "student1.display()\n",
    "student2 = Info(\"sujal\",30)\n",
    "student2.display()"
   ]
  },
  {
   "cell_type": "markdown",
   "id": "f8487d39-03a5-4547-972d-2f22c7c965d6",
   "metadata": {},
   "source": [
    "* Why use Constructor?\n",
    "  1. To initialize attributes when the object is created.\n",
    "  2. To avoid writing separate code for setting values."
   ]
  },
  {
   "cell_type": "markdown",
   "id": "ee2e59d0-c218-458f-abe8-2c850e8d85e7",
   "metadata": {},
   "source": [
    "* ⚠️Note: No Constructor Overloading in Python\n",
    "   * In other languages like C++/Java, you can define multiple constructors (constructor overloading), but Python does not support it directly.\n",
    "   * If you define multiple __ init __( ) methods in a class, only the last one is used."
   ]
  },
  {
   "cell_type": "markdown",
   "id": "d1e3252b-c202-4f69-8dd8-6858b5ec1aa2",
   "metadata": {},
   "source": [
    "### __str__ method:"
   ]
  },
  {
   "cell_type": "markdown",
   "id": "1928fd7d-a1ad-4296-b300-078a0cdf6056",
   "metadata": {},
   "source": [
    "* It is used to define how an object should be printed when you use."
   ]
  },
  {
   "cell_type": "code",
   "execution_count": null,
   "id": "e2f10b40-2bbe-4f48-82f1-3d48552ef258",
   "metadata": {},
   "outputs": [],
   "source": [
    "# syntax :\n",
    "print(object_name)"
   ]
  },
  {
   "cell_type": "code",
   "execution_count": 1,
   "id": "278157aa-d25c-4bb2-8a1f-d139f22e7620",
   "metadata": {
    "execution": {
     "iopub.execute_input": "2025-07-22T06:33:31.368981Z",
     "iopub.status.busy": "2025-07-22T06:33:31.368981Z",
     "iopub.status.idle": "2025-07-22T06:33:31.377005Z",
     "shell.execute_reply": "2025-07-22T06:33:31.377005Z",
     "shell.execute_reply.started": "2025-07-22T06:33:31.368981Z"
    }
   },
   "outputs": [
    {
     "name": "stdout",
     "output_type": "stream",
     "text": [
      "<__main__.Info object at 0x0000020ACF81EC50>\n"
     ]
    }
   ],
   "source": [
    "# Without __str__, printing an object shows memory location \n",
    "class Info:\n",
    "    def __init__(self, name):\n",
    "        self.name = name\n",
    "s = Info(\"Mayank\")\n",
    "print(s) # output is not user friendly."
   ]
  },
  {
   "cell_type": "code",
   "execution_count": 7,
   "id": "b4ca3e0f-ba39-45bd-a367-1de4727a7cbf",
   "metadata": {
    "execution": {
     "iopub.execute_input": "2025-07-22T06:45:53.567583Z",
     "iopub.status.busy": "2025-07-22T06:45:53.567583Z",
     "iopub.status.idle": "2025-07-22T06:45:53.574370Z",
     "shell.execute_reply": "2025-07-22T06:45:53.573319Z",
     "shell.execute_reply.started": "2025-07-22T06:45:53.567583Z"
    }
   },
   "outputs": [
    {
     "name": "stdout",
     "output_type": "stream",
     "text": [
      "Name : Mayank\n"
     ]
    }
   ],
   "source": [
    "# With __str__ method:\n",
    "class Info:\n",
    "    def __init__(self, name):\n",
    "        self.name = name\n",
    "    def __str__(self): # put_data replace by __str__()\n",
    "        return \"Name : \"+ self.name # Must return a string \n",
    "s = Info(\"Mayank\")\n",
    "print(s) # Automatically called when you use print(object)"
   ]
  },
  {
   "cell_type": "markdown",
   "id": "97d89f07-ec44-436d-8673-47ae0cbb704d",
   "metadata": {},
   "source": [
    "* Why use __str__?\n",
    "  * Makes your object easy to read\n",
    "  * Shows custom string output instead of memory address\n",
    "  * Helpful for debugging and printing meaningful info"
   ]
  },
  {
   "cell_type": "markdown",
   "id": "ad43570d-ee6b-47e5-81cd-6d04bb57206d",
   "metadata": {},
   "source": [
    "### Passing an object to a method"
   ]
  },
  {
   "cell_type": "markdown",
   "id": "d6d4002f-7cc4-4bc8-87da-4b529c834721",
   "metadata": {},
   "source": [
    "```python\n",
    "# syntax :\n",
    "def method_name(self, other_object):\n",
    "    # You can now access other_object's attributes or methods"
   ]
  },
  {
   "cell_type": "code",
   "execution_count": 2,
   "id": "2dd7a728-0723-46f5-bb75-e78d8ac56535",
   "metadata": {
    "execution": {
     "iopub.execute_input": "2025-08-01T15:58:09.762170Z",
     "iopub.status.busy": "2025-08-01T15:58:09.762170Z",
     "iopub.status.idle": "2025-08-01T15:58:09.768188Z",
     "shell.execute_reply": "2025-08-01T15:58:09.768188Z",
     "shell.execute_reply.started": "2025-08-01T15:58:09.762170Z"
    }
   },
   "outputs": [
    {
     "name": "stdout",
     "output_type": "stream",
     "text": [
      "sujal is older than Mayank\n"
     ]
    }
   ],
   "source": [
    "class Person:\n",
    "    def __init__(self, name, age):\n",
    "        self.name = name\n",
    "        self.age = age\n",
    "    def compare_age(self, other):\n",
    "        if self.age > other.age:\n",
    "            print(self.name,\"is older than\",other.name)\n",
    "        elif self.age < other.age:\n",
    "            print(other.name,\"is older than\",self.name)\n",
    "        else:\n",
    "            print(self.name,\"and\",other.name,\"are of the same age\")\n",
    "p1 = Person(\"Mayank\", 18)\n",
    "p2 = Person(\"sujal\", 20)\n",
    "# Pass object p2 to a method of object p1\n",
    "p1.compare_age(p2) \n",
    "# here self refers p1 object and other refers p2 object"
   ]
  },
  {
   "cell_type": "code",
   "execution_count": 7,
   "id": "4e9ff10b-402b-4b99-8dfa-f4f4246dc768",
   "metadata": {
    "execution": {
     "iopub.execute_input": "2025-07-26T17:20:50.432872Z",
     "iopub.status.busy": "2025-07-26T17:20:50.431870Z",
     "iopub.status.idle": "2025-07-26T17:20:59.000694Z",
     "shell.execute_reply": "2025-07-26T17:20:58.998684Z",
     "shell.execute_reply.started": "2025-07-26T17:20:50.432872Z"
    }
   },
   "outputs": [
    {
     "name": "stdout",
     "output_type": "stream",
     "text": [
      "First distance:\n",
      "Enter distance:\n"
     ]
    },
    {
     "name": "stdin",
     "output_type": "stream",
     "text": [
      "  Feet:  1\n",
      "  Inches:  5\n"
     ]
    },
    {
     "name": "stdout",
     "output_type": "stream",
     "text": [
      "Second distance:\n",
      "Enter distance:\n"
     ]
    },
    {
     "name": "stdin",
     "output_type": "stream",
     "text": [
      "  Feet:  5\n",
      "  Inches:  7\n"
     ]
    },
    {
     "name": "stdout",
     "output_type": "stream",
     "text": [
      "Total distance:\n",
      "7 feet 0 inches\n"
     ]
    }
   ],
   "source": [
    "# question :\n",
    "# Create a class 'DISTANCE' with feet and inches as data members. Create member function\n",
    "# to input distance, member function to output distance and member function to add two\n",
    "# distance objects. Write a main function to create objects of DISTANCE class. Input two\n",
    "# distances and output the sum.\n",
    "class Distance:\n",
    "    def __init__(self):\n",
    "        self.feet = 0\n",
    "        self.inches = 0\n",
    "\n",
    "    def get_input(self):\n",
    "        print(\"Enter distance:\")\n",
    "        self.feet = int(input(\"  Feet: \"))\n",
    "        self.inches = int(input(\"  Inches: \"))\n",
    "\n",
    "    def show(self):\n",
    "        print(self.feet, \"feet\", self.inches, \"inches\")\n",
    "\n",
    "    def add(self, other):\n",
    "        result = Distance()\n",
    "        result.feet = self.feet + other.feet\n",
    "        result.inches = self.inches + other.inches\n",
    "\n",
    "        if result.inches >= 12:\n",
    "            result.feet += result.inches // 12\n",
    "            result.inches = result.inches % 12\n",
    "\n",
    "        return result\n",
    "\n",
    "print(\"First distance:\")\n",
    "d1 = Distance()\n",
    "d1.get_input()\n",
    "\n",
    "print(\"Second distance:\")\n",
    "d2 = Distance()\n",
    "d2.get_input()\n",
    "\n",
    "total = d1.add(d2)\n",
    "\n",
    "print(\"Total distance:\")\n",
    "total.show()"
   ]
  },
  {
   "cell_type": "code",
   "execution_count": 1,
   "id": "d879f061-d95a-4274-90c8-49ebabcad5c6",
   "metadata": {
    "execution": {
     "iopub.execute_input": "2025-07-27T02:21:43.948226Z",
     "iopub.status.busy": "2025-07-27T02:21:43.948226Z",
     "iopub.status.idle": "2025-07-27T02:21:52.148795Z",
     "shell.execute_reply": "2025-07-27T02:21:52.147785Z",
     "shell.execute_reply.started": "2025-07-27T02:21:43.948226Z"
    }
   },
   "outputs": [
    {
     "name": "stdout",
     "output_type": "stream",
     "text": [
      "First time:\n",
      "Enter time:\n"
     ]
    },
    {
     "name": "stdin",
     "output_type": "stream",
     "text": [
      "  Hours:  2\n",
      "  Minutes:  45\n"
     ]
    },
    {
     "name": "stdout",
     "output_type": "stream",
     "text": [
      "Second time:\n",
      "Enter time:\n"
     ]
    },
    {
     "name": "stdin",
     "output_type": "stream",
     "text": [
      "  Hours:  3\n",
      "  Minutes:  42\n"
     ]
    },
    {
     "name": "stdout",
     "output_type": "stream",
     "text": [
      "Total time:\n",
      "6 hours 27 minutes\n"
     ]
    }
   ],
   "source": [
    "# question :\n",
    "# Create a class Time with members hours and minutes. Write a member function add which\n",
    "# takes 2 arguments of type class Time and demonstrate the use with a main program.\n",
    "class Time:\n",
    "    def __init__(self):\n",
    "        self.hours = 0\n",
    "        self.minutes = 0\n",
    "\n",
    "    def get_input(self):\n",
    "        print(\"Enter time:\")\n",
    "        self.hours = int(input(\"  Hours: \"))\n",
    "        self.minutes = int(input(\"  Minutes: \"))\n",
    "\n",
    "    def show(self):\n",
    "        print(self.hours, \"hours\", self.minutes, \"minutes\")\n",
    "\n",
    "    def add(self, t1, t2):\n",
    "        self.hours = t1.hours + t2.hours\n",
    "        self.minutes = t1.minutes + t2.minutes\n",
    "\n",
    "        if self.minutes >= 60:\n",
    "            self.hours += self.minutes // 60\n",
    "            self.minutes = self.minutes % 60\n",
    "\n",
    "print(\"First time:\")\n",
    "time1 = Time()\n",
    "time1.get_input()\n",
    "\n",
    "print(\"Second time:\")\n",
    "time2 = Time()\n",
    "time2.get_input()\n",
    "\n",
    "total = Time()\n",
    "total.add(time1, time2)\n",
    "\n",
    "print(\"Total time:\")\n",
    "total.show()"
   ]
  },
  {
   "cell_type": "markdown",
   "id": "8f9f78fb-8b60-4aeb-b732-fb01b4e20bab",
   "metadata": {},
   "source": [
    "### operator overloading :"
   ]
  },
  {
   "cell_type": "markdown",
   "id": "0f9dbc2d-8f4e-4b21-9d74-32f13cfd1311",
   "metadata": {},
   "source": [
    "* Operator Overloading means using operators like +, -, *, etc. with objects, and changing how they behave for your class."
   ]
  },
  {
   "cell_type": "markdown",
   "id": "899d603c-ba18-414f-a2d9-c711da084b65",
   "metadata": {},
   "source": [
    "* Why Use It?\n",
    "  * So that custom objects can work with operators ( + , - , == , etc. ) just like built-in types ( int, float, str )."
   ]
  },
  {
   "cell_type": "code",
   "execution_count": 16,
   "id": "31192c24-a7b4-4afc-a15d-706c5e6c272a",
   "metadata": {
    "execution": {
     "iopub.execute_input": "2025-07-22T07:02:17.318417Z",
     "iopub.status.busy": "2025-07-22T07:02:17.318417Z",
     "iopub.status.idle": "2025-07-22T07:02:17.324429Z",
     "shell.execute_reply": "2025-07-22T07:02:17.324429Z",
     "shell.execute_reply.started": "2025-07-22T07:02:17.318417Z"
    }
   },
   "outputs": [
    {
     "name": "stdout",
     "output_type": "stream",
     "text": [
      "addition : 30\n"
     ]
    }
   ],
   "source": [
    "# 1. Addition Operator Overloading (+)\n",
    "class Number :\n",
    "    num = int()\n",
    "    def __init__(self,n) :\n",
    "        self.num = n\n",
    "    def __add__(self,obj) :\n",
    "        temp = Number(None)\n",
    "        temp.num = self.num + obj.num \n",
    "        return temp\n",
    "    def __str__(self) :\n",
    "        return str(self.num)\n",
    "n1 = Number(25)\n",
    "n2 = Number(5)\n",
    "n3 = n1 + n2 # internally python n1.__add__(n2) passing an object to a method\n",
    "# n1 ---> left operand\n",
    "# n2 ---> right operand\n",
    "# An operand is the value or object on which an operator works\n",
    "print(\"addition :\",n3)"
   ]
  },
  {
   "cell_type": "code",
   "execution_count": 19,
   "id": "824e35e0-4de8-441f-b0df-5356c0efaeb5",
   "metadata": {
    "execution": {
     "iopub.execute_input": "2025-07-22T07:13:24.313282Z",
     "iopub.status.busy": "2025-07-22T07:13:24.312283Z",
     "iopub.status.idle": "2025-07-22T07:13:24.319473Z",
     "shell.execute_reply": "2025-07-22T07:13:24.319473Z",
     "shell.execute_reply.started": "2025-07-22T07:13:24.313282Z"
    }
   },
   "outputs": [
    {
     "name": "stdout",
     "output_type": "stream",
     "text": [
      "Subtraction: 20\n",
      "Multiplication: 125\n",
      "Division: 5.0\n"
     ]
    }
   ],
   "source": [
    "class Number :\n",
    "    num = int()\n",
    "    def __init__(self,n) :\n",
    "        self.num = n\n",
    "        \n",
    "    def __sub__(self,obj) : # Subtraction Operator Overloading\n",
    "        temp = Number(None)\n",
    "        temp.num = self.num - obj.num \n",
    "        return temp\n",
    "        \n",
    "    def __mul__(self,obj) : # Multiplication Operator Overloading\n",
    "        temp = Number(None)\n",
    "        temp.num = self.num * obj.num\n",
    "        return temp\n",
    "        \n",
    "    def __truediv__(self,obj) :  # Division Operator Overloading\n",
    "        temp = Number(None)\n",
    "        temp.num = self.num / obj.num\n",
    "        return temp\n",
    "        \n",
    "    def __str__(self) :\n",
    "        return str(self.num)\n",
    "        \n",
    "n1 = Number(25)\n",
    "n2 = Number(5)\n",
    "n3 = n1 - n2\n",
    "n4 = n1 * n2\n",
    "n5 = n1 / n2\n",
    "print(\"Subtraction:\", n3)\n",
    "print(\"Multiplication:\", n4)\n",
    "print(\"Division:\", n5)"
   ]
  },
  {
   "cell_type": "code",
   "execution_count": 8,
   "id": "12749bbb-c175-40e7-9dc9-576bc9ce4ee6",
   "metadata": {
    "execution": {
     "iopub.execute_input": "2025-07-22T12:14:55.471010Z",
     "iopub.status.busy": "2025-07-22T12:14:55.470012Z",
     "iopub.status.idle": "2025-07-22T12:14:55.480412Z",
     "shell.execute_reply": "2025-07-22T12:14:55.479797Z",
     "shell.execute_reply.started": "2025-07-22T12:14:55.471010Z"
    }
   },
   "outputs": [
    {
     "name": "stdout",
     "output_type": "stream",
     "text": [
      "Equal: False\n",
      "Less than: True\n",
      "Greater than : False\n",
      "Not Equal: True\n"
     ]
    }
   ],
   "source": [
    "class Number :\n",
    "    num = int()\n",
    "    def __init__(self,n) :\n",
    "        self.num = n\n",
    "        \n",
    "    def __eq__(self, other): # Equality Operator Overloading\n",
    "        return self.num == other.num\n",
    "\n",
    "    def __lt__(self, other):  # Less Than Operator Overloading \n",
    "        return self.num < other.num\n",
    "\n",
    "    def __gt__(self, other):  # Greater Than Operator Overloading \n",
    "        return self.num > other.num\n",
    "\n",
    "    def __ne__(self, other): # not equal operator overloading\n",
    "        return self.num != other.num\n",
    "\n",
    "n1 = Number(12)\n",
    "n2 = Number(13)\n",
    "print(\"Equal:\", n1 == n2) \n",
    "print(\"Less than:\", n1 < n2)\n",
    "print(\"Greater than :\",n1 > n2) \n",
    "print(\"Not Equal:\", n1 != n2)"
   ]
  },
  {
   "cell_type": "code",
   "execution_count": 16,
   "id": "1b2595f8-7a4e-4f71-9012-1d005bac930a",
   "metadata": {
    "execution": {
     "iopub.execute_input": "2025-07-22T12:39:27.209295Z",
     "iopub.status.busy": "2025-07-22T12:39:27.208322Z",
     "iopub.status.idle": "2025-07-22T12:39:27.220439Z",
     "shell.execute_reply": "2025-07-22T12:39:27.219414Z",
     "shell.execute_reply.started": "2025-07-22T12:39:27.209295Z"
    }
   },
   "outputs": [
    {
     "name": "stdout",
     "output_type": "stream",
     "text": [
      "complex : (8+11j)\n"
     ]
    }
   ],
   "source": [
    "# question :\n",
    "# design a class complex which describes complex number.\n",
    "# use overloaded + operator to add two polar objects.\n",
    "class Complex :\n",
    "    def __init__(self,r,i) :\n",
    "        self.real = r\n",
    "        self.imag = i\n",
    "    def __add__(self,obj) :\n",
    "        temp = Complex(0,0)\n",
    "        temp.real = self.real + obj.real\n",
    "        temp.imag = self.imag + obj.imag\n",
    "        return temp\n",
    "    def display(self) :\n",
    "        print(\"complex :\",complex(self.real,self.imag))\n",
    "c1 = Complex(3,5)\n",
    "c2 = Complex(5,6)\n",
    "c3 = c1 + c2\n",
    "c3.display()"
   ]
  },
  {
   "cell_type": "code",
   "execution_count": 5,
   "id": "3f48357f-a8a2-4af7-9c51-0344794bad76",
   "metadata": {
    "execution": {
     "iopub.execute_input": "2025-07-23T16:05:37.268612Z",
     "iopub.status.busy": "2025-07-23T16:05:37.267607Z",
     "iopub.status.idle": "2025-07-23T16:05:37.279068Z",
     "shell.execute_reply": "2025-07-23T16:05:37.278058Z",
     "shell.execute_reply.started": "2025-07-23T16:05:37.268612Z"
    }
   },
   "outputs": [
    {
     "name": "stdout",
     "output_type": "stream",
     "text": [
      "polar point : (6.478,1.237)\n"
     ]
    }
   ],
   "source": [
    "# design :\n",
    "# Design a class Polar which describes a point in the plane using polar coordinates radius and\n",
    "# angle. Use overloaded + operator to add two polar objects.\n",
    "import math\n",
    "class polar :\n",
    "    def __init__(self,r,a) :\n",
    "        self.radius = r\n",
    "        self.angle = a\n",
    "    def __add__(self,obj) :\n",
    "        x1 = self.radius * math.cos(self.angle)\n",
    "        y1 = self.radius * math.sin(self.angle)\n",
    "        x2 = obj.radius * math.cos(obj.angle)\n",
    "        y2 = obj.radius * math.sin(obj.angle)\n",
    "        x = x1 + x2\n",
    "        y = y1 + y2\n",
    "        temp = polar(0,0)\n",
    "        temp.radius =  math.hypot(x, y)  # square root of (x**2 + y**2)\n",
    "        temp.angle = math.atan2(y, x)\n",
    "        return temp\n",
    "    def display(self) :\n",
    "        print(\"polar point :\",\"({},{})\".format(round(self.radius,3),round(self.angle,3)))\n",
    "p1 = polar(3,math.pi/4)\n",
    "p2 = polar(4,math.pi/2)\n",
    "p3 = p1 + p2\n",
    "p3.display()"
   ]
  },
  {
   "cell_type": "code",
   "execution_count": 4,
   "id": "961646cf-bb47-4a8f-a089-b143631f0381",
   "metadata": {
    "execution": {
     "iopub.execute_input": "2025-07-26T17:09:48.864830Z",
     "iopub.status.busy": "2025-07-26T17:09:48.863821Z",
     "iopub.status.idle": "2025-07-26T17:09:48.874191Z",
     "shell.execute_reply": "2025-07-26T17:09:48.873179Z",
     "shell.execute_reply.started": "2025-07-26T17:09:48.864830Z"
    }
   },
   "outputs": [
    {
     "name": "stdout",
     "output_type": "stream",
     "text": [
      "After converting int to class type:\n",
      "Distance: 150 meters\n",
      "After converting class type to int:\n",
      "Meters: 150\n"
     ]
    }
   ],
   "source": [
    "# Write a program to convert a basic type to a class type and vice versa.\n",
    "\n",
    "#  Conversion: Basic Type ---> Class Type\n",
    "#  This is called \"wrapping\" or \"boxing\"\n",
    "\n",
    "#   Conversion: Class Type ---> Basic Type\n",
    "#   This is called \"unwrapping\" or \"unboxing\"\n",
    "\n",
    "class Distance:\n",
    "    def __init__(self, meters):\n",
    "        # Conversion Constructor: basic type to class\n",
    "        self.meters = meters\n",
    "\n",
    "    def show(self):\n",
    "        print(f\"Distance: {self.meters} meters\")\n",
    "\n",
    "    def __int__(self):    # for flat ----> __float__     # for string ---->  __str__\n",
    "        return self.meters  \n",
    "\n",
    "\n",
    "# ===== Basic to Class Type =====\n",
    "basic_val = 150\n",
    "d1 = Distance(basic_val)  # int to class object\n",
    "print(\"After converting int to class type:\")\n",
    "d1.show()\n",
    "\n",
    "# ===== Class to Basic Type =====\n",
    "meters_val = int(d1)  # class to int using __int__\n",
    "print(\"After converting class type to int:\")\n",
    "print(\"Meters:\",meters_val)"
   ]
  },
  {
   "cell_type": "code",
   "execution_count": null,
   "id": "83684f29-a639-482e-b0a2-a23a4de5f74b",
   "metadata": {},
   "outputs": [],
   "source": [
    "# Write a program to convert an object of one class to another class"
   ]
  },
  {
   "cell_type": "code",
   "execution_count": null,
   "id": "85476334-21eb-46cd-a7f1-92f297fd30ae",
   "metadata": {},
   "outputs": [],
   "source": [
    "# Define two classes Polar and Rectangle to represent points in the polar and rectangular\n",
    "# systems. Use conversion routines to convert from one system to the other."
   ]
  }
 ],
 "metadata": {
  "kernelspec": {
   "display_name": "Python 3 (ipykernel)",
   "language": "python",
   "name": "python3"
  },
  "language_info": {
   "codemirror_mode": {
    "name": "ipython",
    "version": 3
   },
   "file_extension": ".py",
   "mimetype": "text/x-python",
   "name": "python",
   "nbconvert_exporter": "python",
   "pygments_lexer": "ipython3",
   "version": "3.11.6"
  }
 },
 "nbformat": 4,
 "nbformat_minor": 5
}
