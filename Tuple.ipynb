{
 "cells": [
  {
   "cell_type": "markdown",
   "id": "d9deb499-c495-4dca-86b5-0f343137cded",
   "metadata": {},
   "source": [
    "# Tuple"
   ]
  },
  {
   "cell_type": "markdown",
   "id": "f2642557-be21-43f0-acd0-2c2c1a066897",
   "metadata": {},
   "source": [
    "* Tuples are used to store multiple items in a single variable.\n",
    "* Tuples are written with round brackets."
   ]
  },
  {
   "cell_type": "markdown",
   "id": "59db0f09-6a81-4f82-a174-383636c15542",
   "metadata": {},
   "source": [
    "* Tuple items are ordered and allow duplicate values.\n",
    "* Tuple items are indexed.\n",
    "* Tuples are unchangeable, meaning that we cannot change, add or remove items after the tuple has been created\n",
    "* Tuple items can be of any data type and contain different data types."
   ]
  },
  {
   "cell_type": "code",
   "execution_count": 1,
   "id": "8b78ccf3-4f5a-40ff-9834-77b61140ecfc",
   "metadata": {
    "execution": {
     "iopub.execute_input": "2025-08-01T15:46:43.872782Z",
     "iopub.status.busy": "2025-08-01T15:46:43.872782Z",
     "iopub.status.idle": "2025-08-01T15:46:43.880310Z",
     "shell.execute_reply": "2025-08-01T15:46:43.879796Z",
     "shell.execute_reply.started": "2025-08-01T15:46:43.872782Z"
    }
   },
   "outputs": [],
   "source": [
    "# empty tuple\n",
    "tup1 = ()\n",
    "# homogeneous tuple\n",
    "tup2 = ('m','a','y','n','k')\n",
    "tup3 = (1,2,3,4,5,6,7)\n",
    "# hetrogeneous tuple\n",
    "tup4 = (1,\"mayank\",True,2.3,[1,2,3])\n",
    "# nested tuple\n",
    "tup5 = ((1,2),(3,4),(5,6))\n",
    "# tuple constructor \n",
    "tup6 = tuple(\"hello\") # only valid for ieterable item"
   ]
  },
  {
   "cell_type": "markdown",
   "id": "4bd12bdc-cebf-4e38-bb8b-89deab529795",
   "metadata": {},
   "source": [
    "## Create Tuple With One Item"
   ]
  },
  {
   "cell_type": "markdown",
   "id": "3156374c-816d-442a-96e7-81d867cc4bc7",
   "metadata": {},
   "source": [
    "* To create a tuple with only one item, you have to add a comma after the        item, otherwise Python will not recognize it as a tuple."
   ]
  },
  {
   "cell_type": "code",
   "execution_count": 11,
   "id": "ab3790a9-76fa-49da-b62e-8fc5ec2af673",
   "metadata": {
    "execution": {
     "iopub.execute_input": "2025-07-14T16:01:50.275249Z",
     "iopub.status.busy": "2025-07-14T16:01:50.274249Z",
     "iopub.status.idle": "2025-07-14T16:01:50.283959Z",
     "shell.execute_reply": "2025-07-14T16:01:50.281942Z",
     "shell.execute_reply.started": "2025-07-14T16:01:50.275249Z"
    }
   },
   "outputs": [
    {
     "data": {
      "text/plain": [
       "int"
      ]
     },
     "execution_count": 11,
     "metadata": {},
     "output_type": "execute_result"
    }
   ],
   "source": [
    "t = (1)\n",
    "type(t)"
   ]
  },
  {
   "cell_type": "code",
   "execution_count": 12,
   "id": "55e6812e-2f0c-4afa-8317-9eb1abb10f6b",
   "metadata": {
    "execution": {
     "iopub.execute_input": "2025-07-14T16:02:07.214560Z",
     "iopub.status.busy": "2025-07-14T16:02:07.212574Z",
     "iopub.status.idle": "2025-07-14T16:02:07.222489Z",
     "shell.execute_reply": "2025-07-14T16:02:07.221425Z",
     "shell.execute_reply.started": "2025-07-14T16:02:07.214560Z"
    }
   },
   "outputs": [
    {
     "data": {
      "text/plain": [
       "tuple"
      ]
     },
     "execution_count": 12,
     "metadata": {},
     "output_type": "execute_result"
    }
   ],
   "source": [
    "t = (1,)\n",
    "type(t)"
   ]
  },
  {
   "cell_type": "markdown",
   "id": "3f291702-0443-4216-a7d9-d9a04de97263",
   "metadata": {},
   "source": [
    "## Access Tuple Items"
   ]
  },
  {
   "cell_type": "markdown",
   "id": "faf5b9a2-2cd0-4f5a-a927-a9dc993c6e94",
   "metadata": {},
   "source": [
    "* same as list and string"
   ]
  },
  {
   "cell_type": "markdown",
   "id": "fe7f9196-3e31-4330-b762-65c7445f3948",
   "metadata": {},
   "source": [
    "* Once a tuple is created, you cannot change its values. Tuples are unchangeable, or immutable as it also is called"
   ]
  },
  {
   "cell_type": "code",
   "execution_count": 13,
   "id": "d88bee4f-652c-49d8-8d70-9008d1d7e237",
   "metadata": {
    "execution": {
     "iopub.execute_input": "2025-07-14T16:07:04.662301Z",
     "iopub.status.busy": "2025-07-14T16:07:04.661304Z",
     "iopub.status.idle": "2025-07-14T16:07:05.255870Z",
     "shell.execute_reply": "2025-07-14T16:07:05.252338Z",
     "shell.execute_reply.started": "2025-07-14T16:07:04.662301Z"
    }
   },
   "outputs": [
    {
     "ename": "TypeError",
     "evalue": "'tuple' object does not support item assignment",
     "output_type": "error",
     "traceback": [
      "\u001b[31m---------------------------------------------------------------------------\u001b[39m",
      "\u001b[31mTypeError\u001b[39m                                 Traceback (most recent call last)",
      "\u001b[36mCell\u001b[39m\u001b[36m \u001b[39m\u001b[32mIn[13]\u001b[39m\u001b[32m, line 2\u001b[39m\n\u001b[32m      1\u001b[39m t = (\u001b[32m1\u001b[39m,\u001b[32m2\u001b[39m,\u001b[32m3\u001b[39m,\u001b[32m4\u001b[39m,\u001b[32m5\u001b[39m,\u001b[32m6\u001b[39m)\n\u001b[32m----> \u001b[39m\u001b[32m2\u001b[39m \u001b[43mt\u001b[49m\u001b[43m[\u001b[49m\u001b[32;43m0\u001b[39;49m\u001b[43m]\u001b[49m = \u001b[32m100\u001b[39m\n",
      "\u001b[31mTypeError\u001b[39m: 'tuple' object does not support item assignment"
     ]
    }
   ],
   "source": [
    "t = (1,2,3,4,5,6)\n",
    "t[0] = 100 # error shows"
   ]
  },
  {
   "cell_type": "markdown",
   "id": "66a0fd7b-8a8e-4e66-805f-e12b04f358ff",
   "metadata": {},
   "source": [
    "* You can convert the tuple into a list,change the list, and convert the list back into a tuple"
   ]
  },
  {
   "cell_type": "code",
   "execution_count": 15,
   "id": "8a3c4cce-5046-4d1e-9785-26cc8180b986",
   "metadata": {
    "execution": {
     "iopub.execute_input": "2025-07-14T16:09:26.521899Z",
     "iopub.status.busy": "2025-07-14T16:09:26.521899Z",
     "iopub.status.idle": "2025-07-14T16:09:26.528547Z",
     "shell.execute_reply": "2025-07-14T16:09:26.527480Z",
     "shell.execute_reply.started": "2025-07-14T16:09:26.521899Z"
    }
   },
   "outputs": [
    {
     "name": "stdout",
     "output_type": "stream",
     "text": [
      "(100, 2, 3, 4, 5, 6, 7)\n"
     ]
    }
   ],
   "source": [
    "t = (1,2,3,4,5,6,7)\n",
    "s = list(t)\n",
    "s[0] = 100\n",
    "t = tuple(s)\n",
    "print(t)"
   ]
  },
  {
   "cell_type": "markdown",
   "id": "e10aa895-c96c-408c-95c7-ead2e9ef94fe",
   "metadata": {},
   "source": [
    "## Add Items"
   ]
  },
  {
   "cell_type": "markdown",
   "id": "f29eb7ae-c048-44d7-995c-76a13d44e62c",
   "metadata": {},
   "source": [
    "* tuples are immutable, they do not have a built-in append() method, but there are other ways to add items to a tuple."
   ]
  },
  {
   "cell_type": "code",
   "execution_count": 18,
   "id": "ad32d216-8dd4-4175-a785-adaeb29b1990",
   "metadata": {
    "execution": {
     "iopub.execute_input": "2025-07-14T16:17:12.740936Z",
     "iopub.status.busy": "2025-07-14T16:17:12.740936Z",
     "iopub.status.idle": "2025-07-14T16:17:12.750026Z",
     "shell.execute_reply": "2025-07-14T16:17:12.748967Z",
     "shell.execute_reply.started": "2025-07-14T16:17:12.740936Z"
    }
   },
   "outputs": [
    {
     "name": "stdout",
     "output_type": "stream",
     "text": [
      "(1, 2, 3, 4, 5, 6, 7, 8, 9, 10)\n"
     ]
    }
   ],
   "source": [
    "#   Convert into a list\n",
    "t = (1,2,3,4,5,6,7,8,9)\n",
    "s = list(t)\n",
    "s.append(10)\n",
    "t = tuple(s)\n",
    "print(t)"
   ]
  },
  {
   "cell_type": "code",
   "execution_count": 19,
   "id": "a7fcf42e-43dd-4b2d-9be9-5e835f2b0f81",
   "metadata": {
    "execution": {
     "iopub.execute_input": "2025-07-14T16:17:21.655496Z",
     "iopub.status.busy": "2025-07-14T16:17:21.655496Z",
     "iopub.status.idle": "2025-07-14T16:17:21.663928Z",
     "shell.execute_reply": "2025-07-14T16:17:21.662496Z",
     "shell.execute_reply.started": "2025-07-14T16:17:21.655496Z"
    }
   },
   "outputs": [
    {
     "name": "stdout",
     "output_type": "stream",
     "text": [
      "(1, 2, 3, 4, 5, 6, 7, 8)\n"
     ]
    }
   ],
   "source": [
    "# if you want to remove item\n",
    "t = (1,2,3,4,5,6,7,8,9)\n",
    "s = list(t)\n",
    "s.remove(9)\n",
    "t = tuple(s)\n",
    "print(t)"
   ]
  },
  {
   "cell_type": "markdown",
   "id": "5ae66897-e067-4221-81cf-4be41c217aca",
   "metadata": {},
   "source": [
    "* you can delete the tuple completely"
   ]
  },
  {
   "cell_type": "code",
   "execution_count": 20,
   "id": "a64313dc-6dc3-4704-81bf-6846a2479b18",
   "metadata": {
    "execution": {
     "iopub.execute_input": "2025-07-14T16:18:45.963483Z",
     "iopub.status.busy": "2025-07-14T16:18:45.962486Z",
     "iopub.status.idle": "2025-07-14T16:18:45.997402Z",
     "shell.execute_reply": "2025-07-14T16:18:45.995864Z",
     "shell.execute_reply.started": "2025-07-14T16:18:45.963483Z"
    }
   },
   "outputs": [
    {
     "ename": "NameError",
     "evalue": "name 't' is not defined",
     "output_type": "error",
     "traceback": [
      "\u001b[31m---------------------------------------------------------------------------\u001b[39m",
      "\u001b[31mNameError\u001b[39m                                 Traceback (most recent call last)",
      "\u001b[36mCell\u001b[39m\u001b[36m \u001b[39m\u001b[32mIn[20]\u001b[39m\u001b[32m, line 3\u001b[39m\n\u001b[32m      1\u001b[39m t = (\u001b[32m1\u001b[39m,\u001b[32m2\u001b[39m,\u001b[32m3\u001b[39m,\u001b[32m4\u001b[39m,\u001b[32m5\u001b[39m,\u001b[32m6\u001b[39m,\u001b[32m7\u001b[39m,\u001b[32m8\u001b[39m,\u001b[32m9\u001b[39m)\n\u001b[32m      2\u001b[39m \u001b[38;5;28;01mdel\u001b[39;00m t\n\u001b[32m----> \u001b[39m\u001b[32m3\u001b[39m \u001b[38;5;28mprint\u001b[39m(\u001b[43mt\u001b[49m)\n",
      "\u001b[31mNameError\u001b[39m: name 't' is not defined"
     ]
    }
   ],
   "source": [
    "t = (1,2,3,4,5,6,7,8,9)\n",
    "del t\n",
    "print(t)"
   ]
  },
  {
   "cell_type": "markdown",
   "id": "4f15127f-17f7-4d73-bf11-a220dc74d5f5",
   "metadata": {},
   "source": [
    "## Unpacking a Tuple"
   ]
  },
  {
   "cell_type": "markdown",
   "id": "52642bd2-9acf-4318-8a77-61e0df9efb26",
   "metadata": {},
   "source": [
    "* When we create a tuple, we normally assign values to it. This is called       \"packing\" a tuple\n",
    "* But, in Python, we are also allowed to extract the values back into variables. This is called \"unpacking\":"
   ]
  },
  {
   "cell_type": "code",
   "execution_count": 21,
   "id": "007c9584-fec2-4b98-b5ce-50321ca1a789",
   "metadata": {
    "execution": {
     "iopub.execute_input": "2025-07-14T16:27:29.003885Z",
     "iopub.status.busy": "2025-07-14T16:27:29.003885Z",
     "iopub.status.idle": "2025-07-14T16:27:29.012407Z",
     "shell.execute_reply": "2025-07-14T16:27:29.010884Z",
     "shell.execute_reply.started": "2025-07-14T16:27:29.003885Z"
    }
   },
   "outputs": [
    {
     "name": "stdout",
     "output_type": "stream",
     "text": [
      "apple\n",
      "banana\n",
      "cherry\n"
     ]
    }
   ],
   "source": [
    "fruits = (\"apple\", \"banana\", \"cherry\")\n",
    "(green, yellow, red) = fruits\n",
    "print(green)\n",
    "print(yellow)\n",
    "print(red)"
   ]
  },
  {
   "cell_type": "markdown",
   "id": "3f1a165e-d792-4add-8e85-cf00a41248b8",
   "metadata": {},
   "source": [
    "* Note: The number of variables must match the number of values in the tuple, if not, you must use an asterisk to collect the remaining values as a list.\n",
    "\n"
   ]
  },
  {
   "cell_type": "markdown",
   "id": "3044e83f-87ac-4958-a722-bd29a70726d6",
   "metadata": {},
   "source": [
    "### Using Asterisk*"
   ]
  },
  {
   "cell_type": "markdown",
   "id": "3f92425c-d93f-45b3-9260-23df2b3d4f55",
   "metadata": {},
   "source": [
    "* If the number of variables is less than the number of values, you can add an to the variable name and the values will be assigned to the variable as a list"
   ]
  },
  {
   "cell_type": "code",
   "execution_count": 22,
   "id": "ed0c8d21-5464-4f25-9efa-1adf4a19eb94",
   "metadata": {
    "execution": {
     "iopub.execute_input": "2025-07-14T16:29:37.393822Z",
     "iopub.status.busy": "2025-07-14T16:29:37.392827Z",
     "iopub.status.idle": "2025-07-14T16:29:37.401912Z",
     "shell.execute_reply": "2025-07-14T16:29:37.400897Z",
     "shell.execute_reply.started": "2025-07-14T16:29:37.393822Z"
    }
   },
   "outputs": [
    {
     "name": "stdout",
     "output_type": "stream",
     "text": [
      "apple\n",
      "banana\n",
      "['cherry', 'strawberry', 'raspberry']\n",
      "<class 'list'>\n"
     ]
    }
   ],
   "source": [
    "fruits = (\"apple\", \"banana\", \"cherry\", \"strawberry\", \"raspberry\")\n",
    "(green, yellow, *red) = fruits\n",
    "print(green)\n",
    "print(yellow)\n",
    "print(red)\n",
    "print(type(red))"
   ]
  },
  {
   "cell_type": "markdown",
   "id": "47ac549f-9dcf-4183-aa97-0784e794c6db",
   "metadata": {},
   "source": [
    "* If the asterisk is added to another variable name than the last, Python will assign values to the variable until the number of values left matches the number of variables left."
   ]
  },
  {
   "cell_type": "code",
   "execution_count": 23,
   "id": "603b760c-eaed-4b8c-89d1-e6dedc22da7f",
   "metadata": {
    "execution": {
     "iopub.execute_input": "2025-07-14T16:30:26.680841Z",
     "iopub.status.busy": "2025-07-14T16:30:26.679779Z",
     "iopub.status.idle": "2025-07-14T16:30:26.686907Z",
     "shell.execute_reply": "2025-07-14T16:30:26.685885Z",
     "shell.execute_reply.started": "2025-07-14T16:30:26.679779Z"
    }
   },
   "outputs": [
    {
     "name": "stdout",
     "output_type": "stream",
     "text": [
      "apple\n",
      "['mango', 'papaya', 'pineapple']\n",
      "cherry\n"
     ]
    }
   ],
   "source": [
    "fruits = (\"apple\", \"mango\", \"papaya\", \"pineapple\", \"cherry\")\n",
    "(green, *tropic, red) = fruits\n",
    "print(green)\n",
    "print(tropic)\n",
    "print(red)"
   ]
  },
  {
   "cell_type": "markdown",
   "id": "6c8850a7-0815-41ee-a819-a994645744eb",
   "metadata": {},
   "source": [
    "## functions"
   ]
  },
  {
   "cell_type": "markdown",
   "id": "e6aebe97-0dd3-4dc5-b2c7-ff1af6a83430",
   "metadata": {},
   "source": [
    "* you can use max( ) , min( ) , sum( ) , sorted( ) , len( ) , count( ) , index( ) function in tuple same as list"
   ]
  },
  {
   "cell_type": "markdown",
   "id": "55e5ddc3-1f12-405a-8e8c-8bb884336c7e",
   "metadata": {},
   "source": [
    "### Join Two Tuples"
   ]
  },
  {
   "cell_type": "code",
   "execution_count": 27,
   "id": "b2733856-070b-403e-ac43-cc6c78885b51",
   "metadata": {
    "execution": {
     "iopub.execute_input": "2025-07-14T16:41:45.531802Z",
     "iopub.status.busy": "2025-07-14T16:41:45.530804Z",
     "iopub.status.idle": "2025-07-14T16:41:45.535984Z",
     "shell.execute_reply": "2025-07-14T16:41:45.535984Z",
     "shell.execute_reply.started": "2025-07-14T16:41:45.530804Z"
    }
   },
   "outputs": [
    {
     "name": "stdout",
     "output_type": "stream",
     "text": [
      "('a', 'b', 'c', 1, 2, 3)\n"
     ]
    }
   ],
   "source": [
    "# To join two or more tuples you can use the + operator\n",
    "tuple1 = (\"a\", \"b\" , \"c\")\n",
    "tuple2 = (1, 2, 3)\n",
    "tuple3 = tuple1 + tuple2\n",
    "print(tuple3)"
   ]
  },
  {
   "cell_type": "code",
   "execution_count": 28,
   "id": "a1baeca4-a0e2-438b-beca-0fc7a44deb40",
   "metadata": {
    "execution": {
     "iopub.execute_input": "2025-07-14T16:42:57.827938Z",
     "iopub.status.busy": "2025-07-14T16:42:57.827938Z",
     "iopub.status.idle": "2025-07-14T16:42:57.832801Z",
     "shell.execute_reply": "2025-07-14T16:42:57.831791Z",
     "shell.execute_reply.started": "2025-07-14T16:42:57.827938Z"
    }
   },
   "outputs": [
    {
     "name": "stdout",
     "output_type": "stream",
     "text": [
      "('apple', 'banana', 'cherry', 'apple', 'banana', 'cherry')\n"
     ]
    }
   ],
   "source": [
    "# If you want to multiply the content of a tuple a given number of times, you can use the * operator\n",
    "fruits = (\"apple\", \"banana\", \"cherry\")\n",
    "mytuple = fruits * 2\n",
    "print(mytuple)"
   ]
  },
  {
   "cell_type": "markdown",
   "id": "19f348f5-cdf0-47df-b18f-70bd0b11168b",
   "metadata": {},
   "source": [
    "### Loop Through a Tuple"
   ]
  },
  {
   "cell_type": "code",
   "execution_count": 1,
   "id": "ff365ca3-2298-43e6-b9be-8c1feadb1a31",
   "metadata": {
    "execution": {
     "iopub.execute_input": "2025-07-18T16:31:52.837584Z",
     "iopub.status.busy": "2025-07-18T16:31:52.837584Z",
     "iopub.status.idle": "2025-07-18T16:31:52.844860Z",
     "shell.execute_reply": "2025-07-18T16:31:52.844860Z",
     "shell.execute_reply.started": "2025-07-18T16:31:52.837584Z"
    }
   },
   "outputs": [
    {
     "name": "stdout",
     "output_type": "stream",
     "text": [
      "apple\n",
      "banana\n",
      "cherry\n"
     ]
    }
   ],
   "source": [
    "# Iterate through the items and print the values\n",
    "thistuple = (\"apple\", \"banana\", \"cherry\")\n",
    "for x in thistuple:\n",
    "  print(x)"
   ]
  },
  {
   "cell_type": "code",
   "execution_count": 2,
   "id": "8717162c-94a6-45c1-b23c-cbeba9909622",
   "metadata": {
    "execution": {
     "iopub.execute_input": "2025-07-18T16:31:54.140010Z",
     "iopub.status.busy": "2025-07-18T16:31:54.140010Z",
     "iopub.status.idle": "2025-07-18T16:31:54.145539Z",
     "shell.execute_reply": "2025-07-18T16:31:54.144998Z",
     "shell.execute_reply.started": "2025-07-18T16:31:54.140010Z"
    }
   },
   "outputs": [
    {
     "name": "stdout",
     "output_type": "stream",
     "text": [
      "apple\n",
      "banana\n",
      "cherry\n"
     ]
    }
   ],
   "source": [
    "# Loop Through the Index Numbers\n",
    "thistuple = (\"apple\", \"banana\", \"cherry\")\n",
    "for x in range(0,len(thistuple)) :\n",
    "  print(thistuple[x])"
   ]
  }
 ],
 "metadata": {
  "kernelspec": {
   "display_name": "Python 3 (ipykernel)",
   "language": "python",
   "name": "python3"
  },
  "language_info": {
   "codemirror_mode": {
    "name": "ipython",
    "version": 3
   },
   "file_extension": ".py",
   "mimetype": "text/x-python",
   "name": "python",
   "nbconvert_exporter": "python",
   "pygments_lexer": "ipython3",
   "version": "3.11.6"
  }
 },
 "nbformat": 4,
 "nbformat_minor": 5
}
