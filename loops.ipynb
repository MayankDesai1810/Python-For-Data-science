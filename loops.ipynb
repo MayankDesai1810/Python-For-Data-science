{
 "cells": [
  {
   "cell_type": "markdown",
   "id": "9b6fd19d-3bce-495a-9c36-d373776dde20",
   "metadata": {},
   "source": [
    "# Loops in python"
   ]
  },
  {
   "cell_type": "markdown",
   "id": "3936cd59-1144-40bd-a385-c8c82e7c3234",
   "metadata": {},
   "source": [
    "* A loop is used to repeat a block of code multiple times\n",
    "* Python has 2 main types of loops:\n",
    "  1. for loop\n",
    "  2. while loop"
   ]
  },
  {
   "cell_type": "markdown",
   "id": "d6955db0-d029-4573-ad77-f2f63df60f0d",
   "metadata": {},
   "source": [
    "## while loop"
   ]
  },
  {
   "cell_type": "markdown",
   "id": "0404b614-0aed-4e35-bb97-443eade6fc4f",
   "metadata": {},
   "source": [
    "* Used when you don’t know how many times — runs as long as condition is true."
   ]
  },
  {
   "cell_type": "markdown",
   "id": "0300c8b9-9c00-4df8-b355-305d403b07a9",
   "metadata": {},
   "source": [
    "```python\n",
    "# syntax :        \n",
    "while condition:\n",
    "    # code block\n",
    "```"
   ]
  },
  {
   "cell_type": "code",
   "execution_count": 1,
   "id": "3d03b4ff-30c7-46f3-9289-6ca243f6155e",
   "metadata": {
    "execution": {
     "iopub.execute_input": "2025-07-09T05:01:19.276313Z",
     "iopub.status.busy": "2025-07-09T05:01:19.275314Z",
     "iopub.status.idle": "2025-07-09T05:01:20.479147Z",
     "shell.execute_reply": "2025-07-09T05:01:20.476152Z",
     "shell.execute_reply.started": "2025-07-09T05:01:19.276313Z"
    }
   },
   "outputs": [
    {
     "name": "stdout",
     "output_type": "stream",
     "text": [
      "1\n",
      "2\n",
      "3\n",
      "4\n",
      "5\n",
      "6\n",
      "7\n",
      "8\n",
      "9\n",
      "10\n"
     ]
    }
   ],
   "source": [
    "# print 1 to 10\n",
    "i = 1\n",
    "while i <= 10:\n",
    "  print(i)\n",
    "  i += 1\n",
    "# remember to increment i, or else the loop will continue forever."
   ]
  },
  {
   "cell_type": "markdown",
   "id": "28baae21-e801-445e-bf98-4695b8808a40",
   "metadata": {},
   "source": [
    "## break Statement"
   ]
  },
  {
   "cell_type": "markdown",
   "id": "1f30b1a3-6225-4c83-a5a4-1e4c755477d5",
   "metadata": {},
   "source": [
    " * With the break statement we can stop the loop even if the   while condition is true"
   ]
  },
  {
   "cell_type": "code",
   "execution_count": 2,
   "id": "ece7d973-24ba-45a7-aa86-04151417e49a",
   "metadata": {
    "execution": {
     "iopub.execute_input": "2025-07-09T05:01:26.146995Z",
     "iopub.status.busy": "2025-07-09T05:01:26.145996Z",
     "iopub.status.idle": "2025-07-09T05:01:26.152506Z",
     "shell.execute_reply": "2025-07-09T05:01:26.151995Z",
     "shell.execute_reply.started": "2025-07-09T05:01:26.146995Z"
    }
   },
   "outputs": [
    {
     "name": "stdout",
     "output_type": "stream",
     "text": [
      "1\n",
      "2\n",
      "3\n",
      "4\n",
      "5\n",
      "6\n"
     ]
    }
   ],
   "source": [
    "# Exit the loop when i is 6\n",
    "i = 1\n",
    "while i < 11:\n",
    "  print(i)\n",
    "  if i == 6:\n",
    "    break\n",
    "  i += 1"
   ]
  },
  {
   "cell_type": "markdown",
   "id": "c58de652-6b7b-4b77-b5f6-a58630a29dc3",
   "metadata": {},
   "source": [
    "## continue Statement"
   ]
  },
  {
   "cell_type": "markdown",
   "id": "3d537ddf-f3ed-4eb0-bb28-36673f3735fd",
   "metadata": {},
   "source": [
    "With the continue statement we can stop the current iteration, and continue with the next"
   ]
  },
  {
   "cell_type": "code",
   "execution_count": 3,
   "id": "1614a30c-ef05-4c64-b619-16be846e2653",
   "metadata": {
    "execution": {
     "iopub.execute_input": "2025-07-09T05:01:27.859269Z",
     "iopub.status.busy": "2025-07-09T05:01:27.859269Z",
     "iopub.status.idle": "2025-07-09T05:01:27.865611Z",
     "shell.execute_reply": "2025-07-09T05:01:27.864601Z",
     "shell.execute_reply.started": "2025-07-09T05:01:27.859269Z"
    }
   },
   "outputs": [
    {
     "name": "stdout",
     "output_type": "stream",
     "text": [
      "1\n",
      "2\n",
      "4\n",
      "5\n",
      "6\n"
     ]
    }
   ],
   "source": [
    "# Continue to the next iteration if i is 3:\n",
    "i = 0\n",
    "while i < 6:\n",
    "  i += 1\n",
    "  if i == 3:\n",
    "    continue\n",
    "  print(i)"
   ]
  },
  {
   "cell_type": "code",
   "execution_count": 4,
   "id": "243a0c4c-34bf-4065-b93a-ef4e5a535c62",
   "metadata": {
    "execution": {
     "iopub.execute_input": "2025-07-09T05:01:28.367999Z",
     "iopub.status.busy": "2025-07-09T05:01:28.366938Z",
     "iopub.status.idle": "2025-07-09T05:01:28.374443Z",
     "shell.execute_reply": "2025-07-09T05:01:28.373409Z",
     "shell.execute_reply.started": "2025-07-09T05:01:28.367999Z"
    }
   },
   "outputs": [
    {
     "name": "stdout",
     "output_type": "stream",
     "text": [
      "100 97 94 91 88 85 82 79 76 73 70 67 64 61 58 55 52 49 46 43 40 37 34 31 28 25 22 19 16 13 10 7 4 1 "
     ]
    }
   ],
   "source": [
    "# display 100, 97, 94, 91 .....up to all terms which are positive\n",
    "first = 100\n",
    "while first>0 :\n",
    "    print(first,end=' ')\n",
    "    first -= 3"
   ]
  },
  {
   "cell_type": "code",
   "execution_count": 8,
   "id": "72a47220-0034-4641-ab71-3f23761fa1ec",
   "metadata": {
    "execution": {
     "iopub.execute_input": "2025-07-09T05:02:38.775441Z",
     "iopub.status.busy": "2025-07-09T05:02:38.774439Z",
     "iopub.status.idle": "2025-07-09T05:02:40.424493Z",
     "shell.execute_reply": "2025-07-09T05:02:40.423479Z",
     "shell.execute_reply.started": "2025-07-09T05:02:38.775441Z"
    }
   },
   "outputs": [
    {
     "name": "stdin",
     "output_type": "stream",
     "text": [
      "enter table number : 17\n"
     ]
    },
    {
     "name": "stdout",
     "output_type": "stream",
     "text": [
      "17 * 1 = 17\n",
      "17 * 2 = 34\n",
      "17 * 3 = 51\n",
      "17 * 4 = 68\n",
      "17 * 5 = 85\n",
      "17 * 6 = 102\n",
      "17 * 7 = 119\n",
      "17 * 8 = 136\n",
      "17 * 9 = 153\n",
      "17 * 10 = 170\n"
     ]
    }
   ],
   "source": [
    "# print the table whichever user wants\n",
    "n = int(input(\"enter table number :\"))\n",
    "i =1 \n",
    "while i<11 :\n",
    "    print(n,\"*\",i,\"=\",n*i)\n",
    "    i = i + 1;"
   ]
  },
  {
   "cell_type": "markdown",
   "id": "5ba8e464-6707-4792-b0a2-e3d8ce7821dd",
   "metadata": {},
   "source": [
    "## for loop"
   ]
  },
  {
   "cell_type": "markdown",
   "id": "8d0fbc2b-5a29-4fb0-b1e9-0ce0dff40e79",
   "metadata": {},
   "source": [
    "* Used when you know how many times you want to repeat."
   ]
  },
  {
   "cell_type": "markdown",
   "id": "7d71775b-e90f-4ed9-90bd-ccaf836fe66d",
   "metadata": {
    "execution": {
     "iopub.status.busy": "2025-07-08T15:55:56.761733Z",
     "iopub.status.idle": "2025-07-08T15:55:56.762720Z",
     "shell.execute_reply": "2025-07-08T15:55:56.762720Z",
     "shell.execute_reply.started": "2025-07-08T15:55:56.762720Z"
    }
   },
   "source": [
    "```python\n",
    "# Syntax:\n",
    "for variable in range(start, stop, step):\n",
    "    # code block with indented\n",
    "\n",
    "# Default: start = 0, step = 1\n",
    "```"
   ]
  },
  {
   "cell_type": "code",
   "execution_count": 9,
   "id": "027693e1-b185-4bf2-b03f-ae95a8ba6afd",
   "metadata": {
    "execution": {
     "iopub.execute_input": "2025-07-09T05:02:44.523495Z",
     "iopub.status.busy": "2025-07-09T05:02:44.522481Z",
     "iopub.status.idle": "2025-07-09T05:02:44.530607Z",
     "shell.execute_reply": "2025-07-09T05:02:44.529562Z",
     "shell.execute_reply.started": "2025-07-09T05:02:44.523495Z"
    }
   },
   "outputs": [
    {
     "name": "stdout",
     "output_type": "stream",
     "text": [
      "1\n",
      "2\n",
      "3\n",
      "4\n",
      "5\n"
     ]
    }
   ],
   "source": [
    "# Print numbers from 1 to 5\n",
    "for i in range(1,6) :\n",
    "    print(i)"
   ]
  },
  {
   "cell_type": "code",
   "execution_count": 10,
   "id": "1c131181-b95b-4e2b-acd1-96d8ed219025",
   "metadata": {
    "execution": {
     "iopub.execute_input": "2025-07-09T05:02:46.532933Z",
     "iopub.status.busy": "2025-07-09T05:02:46.532030Z",
     "iopub.status.idle": "2025-07-09T05:02:46.539466Z",
     "shell.execute_reply": "2025-07-09T05:02:46.537948Z",
     "shell.execute_reply.started": "2025-07-09T05:02:46.532933Z"
    }
   },
   "outputs": [
    {
     "name": "stdout",
     "output_type": "stream",
     "text": [
      "5\n",
      "4\n",
      "3\n",
      "2\n",
      "1\n"
     ]
    }
   ],
   "source": [
    "# print number from 5 to 1\n",
    "for i in range(5,0,-1) :\n",
    "    print(i)"
   ]
  },
  {
   "cell_type": "code",
   "execution_count": 11,
   "id": "156f748e-86f2-4284-bca4-0a64b88e6c88",
   "metadata": {
    "execution": {
     "iopub.execute_input": "2025-07-09T05:02:48.447733Z",
     "iopub.status.busy": "2025-07-09T05:02:48.446707Z",
     "iopub.status.idle": "2025-07-09T05:02:48.454580Z",
     "shell.execute_reply": "2025-07-09T05:02:48.453520Z",
     "shell.execute_reply.started": "2025-07-09T05:02:48.447733Z"
    }
   },
   "outputs": [
    {
     "name": "stdout",
     "output_type": "stream",
     "text": [
      "2\n",
      "4\n",
      "6\n",
      "8\n",
      "10\n"
     ]
    }
   ],
   "source": [
    "# Print even numbers from 2 to 10\n",
    "for i in range(2,11,2) :\n",
    "    print(i)"
   ]
  },
  {
   "cell_type": "code",
   "execution_count": 12,
   "id": "6dddb366-e831-441b-9b8d-ede36f7810f7",
   "metadata": {
    "execution": {
     "iopub.execute_input": "2025-07-09T05:02:49.228997Z",
     "iopub.status.busy": "2025-07-09T05:02:49.228997Z",
     "iopub.status.idle": "2025-07-09T05:02:49.235900Z",
     "shell.execute_reply": "2025-07-09T05:02:49.234839Z",
     "shell.execute_reply.started": "2025-07-09T05:02:49.228997Z"
    }
   },
   "outputs": [
    {
     "name": "stdout",
     "output_type": "stream",
     "text": [
      "H\n",
      "e\n",
      "l\n",
      "l\n",
      "o\n"
     ]
    }
   ],
   "source": [
    "# Loop through a string\n",
    "for ch in \"Hello\" :\n",
    "    print(ch)"
   ]
  },
  {
   "cell_type": "code",
   "execution_count": 13,
   "id": "35b299b4-adb0-42f0-a755-867f107a6f10",
   "metadata": {
    "execution": {
     "iopub.execute_input": "2025-07-09T05:02:52.086400Z",
     "iopub.status.busy": "2025-07-09T05:02:52.086400Z",
     "iopub.status.idle": "2025-07-09T05:02:53.985896Z",
     "shell.execute_reply": "2025-07-09T05:02:53.984885Z",
     "shell.execute_reply.started": "2025-07-09T05:02:52.086400Z"
    }
   },
   "outputs": [
    {
     "name": "stdin",
     "output_type": "stream",
     "text": [
      "enter the last number : 8\n"
     ]
    },
    {
     "name": "stdout",
     "output_type": "stream",
     "text": [
      "1 2 3 4 5 6 7 8 "
     ]
    }
   ],
   "source": [
    "# print N natural number \n",
    "a = int(input(\"enter the last number :\"))\n",
    "for i in range(1,a+1) :\n",
    "    print(i,end=\" \")"
   ]
  },
  {
   "cell_type": "code",
   "execution_count": 14,
   "id": "fe4b5ac3-4de0-468e-8db2-e3585bffa72c",
   "metadata": {
    "execution": {
     "iopub.execute_input": "2025-07-09T05:02:56.734903Z",
     "iopub.status.busy": "2025-07-09T05:02:56.734903Z",
     "iopub.status.idle": "2025-07-09T05:02:59.152740Z",
     "shell.execute_reply": "2025-07-09T05:02:59.150698Z",
     "shell.execute_reply.started": "2025-07-09T05:02:56.734903Z"
    }
   },
   "outputs": [
    {
     "name": "stdin",
     "output_type": "stream",
     "text": [
      "enter the number of terms : 9\n"
     ]
    },
    {
     "name": "stdout",
     "output_type": "stream",
     "text": [
      "1 2 4 8 16 32 64 128 256 "
     ]
    }
   ],
   "source": [
    "# display this G.P - 1,2,4,8,32 ..... up to 'n'\n",
    "# common ratio = 2\n",
    "n = int(input(\"enter the number of terms :\"))\n",
    "first = 1\n",
    "for i in range(1,n+1) :\n",
    "    print(first,end=' ')\n",
    "    first = first * 2  "
   ]
  },
  {
   "cell_type": "markdown",
   "id": "23562a40-9f60-4de9-b447-d30e4fb4073b",
   "metadata": {},
   "source": [
    "## Questions"
   ]
  },
  {
   "cell_type": "code",
   "execution_count": 1,
   "id": "36c9c5c5-6dbe-4c3d-9d39-ec219e1fa510",
   "metadata": {
    "execution": {
     "iopub.execute_input": "2025-07-20T06:09:20.819449Z",
     "iopub.status.busy": "2025-07-20T06:09:20.819449Z",
     "iopub.status.idle": "2025-07-20T06:09:23.803209Z",
     "shell.execute_reply": "2025-07-20T06:09:23.802199Z",
     "shell.execute_reply.started": "2025-07-20T06:09:20.819449Z"
    }
   },
   "outputs": [
    {
     "name": "stdin",
     "output_type": "stream",
     "text": [
      "enter the number : 5\n"
     ]
    },
    {
     "name": "stdout",
     "output_type": "stream",
     "text": [
      "factorial of 5 is : 120\n"
     ]
    }
   ],
   "source": [
    "# Factorial of a Number\n",
    "a = int(input(\"enter the number :\"))\n",
    "fact = 1\n",
    "for i in range(1,a+1,1) :\n",
    "    fact = fact * i\n",
    "print(\"factorial of\",a,\"is :\",fact)"
   ]
  },
  {
   "cell_type": "code",
   "execution_count": 16,
   "id": "a6a2a2fb-4514-4f57-a975-087436cc95c8",
   "metadata": {
    "execution": {
     "iopub.execute_input": "2025-07-09T05:03:11.125595Z",
     "iopub.status.busy": "2025-07-09T05:03:11.124594Z",
     "iopub.status.idle": "2025-07-09T05:03:12.321075Z",
     "shell.execute_reply": "2025-07-09T05:03:12.320063Z",
     "shell.execute_reply.started": "2025-07-09T05:03:11.125595Z"
    }
   },
   "outputs": [
    {
     "name": "stdin",
     "output_type": "stream",
     "text": [
      "enter the number : 7\n"
     ]
    },
    {
     "name": "stdout",
     "output_type": "stream",
     "text": [
      "factorial of 1 is : 1\n",
      "factorial of 2 is : 2\n",
      "factorial of 3 is : 6\n",
      "factorial of 4 is : 24\n",
      "factorial of 5 is : 120\n",
      "factorial of 6 is : 720\n",
      "factorial of 7 is : 5040\n"
     ]
    }
   ],
   "source": [
    "# print the factorial of first 'n' number\n",
    "a = int(input(\"enter the number :\"))\n",
    "fact = 1\n",
    "for i in range(1,a+1) :\n",
    "    fact = fact * i\n",
    "    print(\"factorial of\",i,\"is :\",fact)"
   ]
  },
  {
   "cell_type": "code",
   "execution_count": 2,
   "id": "25bed81a-d22d-45d4-929e-1286db98f8dd",
   "metadata": {
    "execution": {
     "iopub.execute_input": "2025-07-20T06:09:29.759955Z",
     "iopub.status.busy": "2025-07-20T06:09:29.759955Z",
     "iopub.status.idle": "2025-07-20T06:09:37.597807Z",
     "shell.execute_reply": "2025-07-20T06:09:37.597301Z",
     "shell.execute_reply.started": "2025-07-20T06:09:29.759955Z"
    }
   },
   "outputs": [
    {
     "name": "stdin",
     "output_type": "stream",
     "text": [
      "enter the number : 1234\n"
     ]
    },
    {
     "name": "stdout",
     "output_type": "stream",
     "text": [
      "number of digits : 4\n"
     ]
    }
   ],
   "source": [
    "# Count Digits in a Number\n",
    "a = int(input(\"enter the number :\"))\n",
    "count = 0\n",
    "while a>0 :\n",
    "    count += 1\n",
    "    a = a//10\n",
    "print(\"number of digits :\",count)"
   ]
  },
  {
   "cell_type": "code",
   "execution_count": 18,
   "id": "3263795f-15bf-448d-940d-b4dd8cda88ed",
   "metadata": {
    "execution": {
     "iopub.execute_input": "2025-07-09T05:03:36.855656Z",
     "iopub.status.busy": "2025-07-09T05:03:36.854669Z",
     "iopub.status.idle": "2025-07-09T05:03:41.043739Z",
     "shell.execute_reply": "2025-07-09T05:03:41.042462Z",
     "shell.execute_reply.started": "2025-07-09T05:03:36.854669Z"
    }
   },
   "outputs": [
    {
     "name": "stdin",
     "output_type": "stream",
     "text": [
      "enter the number : 1234\n"
     ]
    },
    {
     "name": "stdout",
     "output_type": "stream",
     "text": [
      "sum of digits of 0 is : 10\n"
     ]
    }
   ],
   "source": [
    "# Sum of Digits of a Number\n",
    "a = int(input(\"enter the number :\"))\n",
    "sum = 0\n",
    "while a>0 :\n",
    "    rem = a % 10\n",
    "    sum = sum + rem\n",
    "    a = a//10\n",
    "print(\"sum of digits of\",a,\"is :\",sum)\n",
    "    "
   ]
  },
  {
   "cell_type": "code",
   "execution_count": 19,
   "id": "35c1c287-cdcd-4029-8238-c88278a65630",
   "metadata": {
    "execution": {
     "iopub.execute_input": "2025-07-09T05:03:46.803452Z",
     "iopub.status.busy": "2025-07-09T05:03:46.802452Z",
     "iopub.status.idle": "2025-07-09T05:03:50.918492Z",
     "shell.execute_reply": "2025-07-09T05:03:50.917483Z",
     "shell.execute_reply.started": "2025-07-09T05:03:46.803452Z"
    }
   },
   "outputs": [
    {
     "name": "stdin",
     "output_type": "stream",
     "text": [
      "enter the number : 123456\n"
     ]
    },
    {
     "name": "stdout",
     "output_type": "stream",
     "text": [
      "sum of even digits of is : 12\n"
     ]
    }
   ],
   "source": [
    "# Sum of even Digits of a Number\n",
    "a = int(input(\"enter the number :\"))\n",
    "sum = 0\n",
    "while a>0 :\n",
    "    rem = a % 10\n",
    "    if rem%2==0 :\n",
    "        sum = sum + rem\n",
    "    a = a//10\n",
    "print(\"sum of even digits of is :\",sum)\n",
    "    "
   ]
  },
  {
   "cell_type": "code",
   "execution_count": 20,
   "id": "11876d46-e1d5-454c-9804-a9f4efdd9ecc",
   "metadata": {
    "execution": {
     "iopub.execute_input": "2025-07-09T05:03:54.647192Z",
     "iopub.status.busy": "2025-07-09T05:03:54.646090Z",
     "iopub.status.idle": "2025-07-09T05:03:56.736784Z",
     "shell.execute_reply": "2025-07-09T05:03:56.735758Z",
     "shell.execute_reply.started": "2025-07-09T05:03:54.647192Z"
    }
   },
   "outputs": [
    {
     "name": "stdin",
     "output_type": "stream",
     "text": [
      "enter the number : 1234\n"
     ]
    },
    {
     "name": "stdout",
     "output_type": "stream",
     "text": [
      "4321\n"
     ]
    }
   ],
   "source": [
    "# reverse the number \n",
    "a = int(input(\"enter the number :\"))\n",
    "rev_number = 0\n",
    "while a>0 :\n",
    "    rem = a % 10\n",
    "    rev_number = rev_number*10 + rem\n",
    "    a = a // 10\n",
    "print(rev_number)"
   ]
  },
  {
   "cell_type": "code",
   "execution_count": 21,
   "id": "c9812659-8957-49d4-8c92-51ab3a4d57ca",
   "metadata": {
    "execution": {
     "iopub.execute_input": "2025-07-09T05:03:59.171147Z",
     "iopub.status.busy": "2025-07-09T05:03:59.170165Z",
     "iopub.status.idle": "2025-07-09T05:04:04.759066Z",
     "shell.execute_reply": "2025-07-09T05:04:04.757435Z",
     "shell.execute_reply.started": "2025-07-09T05:03:59.171147Z"
    }
   },
   "outputs": [
    {
     "name": "stdin",
     "output_type": "stream",
     "text": [
      "enter the number : 1234321\n"
     ]
    },
    {
     "name": "stdout",
     "output_type": "stream",
     "text": [
      "given number is palindrome\n"
     ]
    }
   ],
   "source": [
    "# Check Palindrome Number\n",
    "a = int(input(\"enter the number :\"))\n",
    "temp = a # we had to add temp because the end loop a become single number \n",
    "rev_number = 0\n",
    "while a>0 :\n",
    "    rem = a % 10\n",
    "    rev_number = rev_number*10 + rem\n",
    "    a = a // 10\n",
    "if temp == rev_number :\n",
    "    print(\"given number is palindrome\")\n",
    "else :\n",
    "    print(\"given number is not palindrome\")"
   ]
  },
  {
   "cell_type": "code",
   "execution_count": 22,
   "id": "2dd8f2a9-ae82-4133-9905-86c307fb132c",
   "metadata": {
    "execution": {
     "iopub.execute_input": "2025-07-09T05:04:08.128600Z",
     "iopub.status.busy": "2025-07-09T05:04:08.127587Z",
     "iopub.status.idle": "2025-07-09T05:04:08.135981Z",
     "shell.execute_reply": "2025-07-09T05:04:08.133972Z",
     "shell.execute_reply.started": "2025-07-09T05:04:08.128600Z"
    }
   },
   "outputs": [
    {
     "name": "stdout",
     "output_type": "stream",
     "text": [
      "56 is the first number divisible by 7 in range 50 to 100\n"
     ]
    }
   ],
   "source": [
    "# Find first number divisible by 7 in range 50 to 100\n",
    "for i in range(50,101) :\n",
    "    if i % 7 == 0 :\n",
    "        print(i,\"is the first number divisible by 7 in range 50 to 100\")\n",
    "        break"
   ]
  },
  {
   "cell_type": "code",
   "execution_count": 23,
   "id": "deca4513-3a67-4b8f-ac37-98b8e38cdb49",
   "metadata": {
    "execution": {
     "iopub.execute_input": "2025-07-09T05:04:10.479117Z",
     "iopub.status.busy": "2025-07-09T05:04:10.478145Z",
     "iopub.status.idle": "2025-07-09T05:04:10.487623Z",
     "shell.execute_reply": "2025-07-09T05:04:10.485988Z",
     "shell.execute_reply.started": "2025-07-09T05:04:10.479117Z"
    }
   },
   "outputs": [
    {
     "name": "stdout",
     "output_type": "stream",
     "text": [
      "56 is  divisible by 7 in range 50 to 100\n",
      "63 is  divisible by 7 in range 50 to 100\n",
      "70 is  divisible by 7 in range 50 to 100\n"
     ]
    }
   ],
   "source": [
    "# Find first three number divisible by 7 in range 50 to 100\n",
    "count = 0\n",
    "for i in range(50,101) :\n",
    "    if i % 7 == 0 :\n",
    "        print(i,\"is  divisible by 7 in range 50 to 100\")\n",
    "        count += 1\n",
    "        if count == 3:\n",
    "            break"
   ]
  },
  {
   "cell_type": "code",
   "execution_count": 24,
   "id": "d85dacd4-e552-405e-ba9b-cd75e0c0ab43",
   "metadata": {
    "execution": {
     "iopub.execute_input": "2025-07-09T05:04:16.231702Z",
     "iopub.status.busy": "2025-07-09T05:04:16.230724Z",
     "iopub.status.idle": "2025-07-09T05:04:21.135752Z",
     "shell.execute_reply": "2025-07-09T05:04:21.133743Z",
     "shell.execute_reply.started": "2025-07-09T05:04:16.231702Z"
    }
   },
   "outputs": [
    {
     "name": "stdin",
     "output_type": "stream",
     "text": [
      "Enter how many terms:  7\n"
     ]
    },
    {
     "name": "stdout",
     "output_type": "stream",
     "text": [
      "0 1 1 2 3 5 8 "
     ]
    }
   ],
   "source": [
    "# Fibonacci Series\n",
    "n = int(input(\"Enter how many terms: \"))\n",
    "a = 0 \n",
    "b = 1\n",
    "if n == 1 :\n",
    "     print(a)\n",
    "elif n == 2 :\n",
    "    print(a,b)\n",
    "else :\n",
    "     for i in range(n) :\n",
    "         c = a\n",
    "         print(c,end=' ')\n",
    "         a = b\n",
    "         b = a + c"
   ]
  },
  {
   "cell_type": "code",
   "execution_count": 25,
   "id": "5e8d64a8-3c16-457a-b03c-d19d487b1f7c",
   "metadata": {
    "execution": {
     "iopub.execute_input": "2025-07-09T05:04:28.121390Z",
     "iopub.status.busy": "2025-07-09T05:04:28.120389Z",
     "iopub.status.idle": "2025-07-09T05:04:32.809598Z",
     "shell.execute_reply": "2025-07-09T05:04:32.809598Z",
     "shell.execute_reply.started": "2025-07-09T05:04:28.121390Z"
    }
   },
   "outputs": [
    {
     "name": "stdin",
     "output_type": "stream",
     "text": [
      "enter the number : 123\n"
     ]
    },
    {
     "name": "stdout",
     "output_type": "stream",
     "text": [
      "given number is not armstrong number \n"
     ]
    }
   ],
   "source": [
    "# Armstrong Number\n",
    "a = int(input(\"enter the number :\"))\n",
    "temp1= temp2 = a\n",
    "sum = 0\n",
    "count = 0\n",
    "while a>0 :\n",
    "    count += 1\n",
    "    a = a//10\n",
    "while temp1>0:\n",
    "    rem = temp1 % 10\n",
    "    sum = sum + rem**count\n",
    "    temp1 = temp1 // 10\n",
    "if sum == temp2 :\n",
    "    print(\"given number is armstrong number \")\n",
    "else :\n",
    "    print(\"given number is not armstrong number \")"
   ]
  },
  {
   "cell_type": "code",
   "execution_count": 26,
   "id": "c6b2f34b-31e9-4b30-b95d-b23830a1f37a",
   "metadata": {
    "execution": {
     "iopub.execute_input": "2025-07-09T05:04:36.974485Z",
     "iopub.status.busy": "2025-07-09T05:04:36.974485Z",
     "iopub.status.idle": "2025-07-09T05:04:39.718924Z",
     "shell.execute_reply": "2025-07-09T05:04:39.717889Z",
     "shell.execute_reply.started": "2025-07-09T05:04:36.974485Z"
    }
   },
   "outputs": [
    {
     "name": "stdin",
     "output_type": "stream",
     "text": [
      "enter the number : 123\n"
     ]
    },
    {
     "name": "stdout",
     "output_type": "stream",
     "text": [
      "given number is not prime number\n"
     ]
    }
   ],
   "source": [
    "# prime number \n",
    "a = int(input(\"enter the number :\"))\n",
    "count = 0\n",
    "for i in range(1,a+1) :\n",
    "    if a%i==0 :\n",
    "        count += 1\n",
    "if count == 2 :\n",
    " print(\"given number is prime number\")\n",
    "else :\n",
    " print(\"given number is not prime number\")"
   ]
  },
  {
   "cell_type": "markdown",
   "id": "43588d5e-ed9b-4806-ae2e-c97f5c8060dd",
   "metadata": {},
   "source": [
    "# Nested Loops in Python"
   ]
  },
  {
   "cell_type": "markdown",
   "id": "832657e0-9ea3-46bf-995e-b119949a0ff2",
   "metadata": {},
   "source": [
    "* A nested loop means a loop inside another loop. It can be:\n",
    "  1. for loop inside for\n",
    "  2. while loop inside while\n",
    "  3. for loop inside while (or vice versa)"
   ]
  },
  {
   "cell_type": "markdown",
   "id": "a75ca012-cd8e-4700-810e-420ab339f0a7",
   "metadata": {
    "execution": {
     "iopub.status.busy": "2025-07-08T15:55:56.802979Z",
     "iopub.status.idle": "2025-07-08T15:55:56.802979Z",
     "shell.execute_reply": "2025-07-08T15:55:56.802979Z",
     "shell.execute_reply.started": "2025-07-08T15:55:56.802979Z"
    }
   },
   "source": [
    "```python\n",
    "# syntax\n",
    "for outer in range(X):\n",
    "    for inner in range(Y):\n",
    "        # Code block\n",
    "```"
   ]
  },
  {
   "cell_type": "markdown",
   "id": "b2763256-9ba8-46ee-9cef-eda6f5953272",
   "metadata": {
    "execution": {
     "iopub.status.busy": "2025-07-08T15:55:56.804460Z",
     "iopub.status.idle": "2025-07-08T15:55:56.804460Z",
     "shell.execute_reply": "2025-07-08T15:55:56.804460Z",
     "shell.execute_reply.started": "2025-07-08T15:55:56.804460Z"
    }
   },
   "source": [
    "```python\n",
    "# syntax\n",
    "while condition1:\n",
    "    while condition2:\n",
    "        # Code block\n",
    "```"
   ]
  },
  {
   "cell_type": "code",
   "execution_count": 27,
   "id": "41b7e2f2-f768-4732-bcb0-656a6f50c1de",
   "metadata": {
    "execution": {
     "iopub.execute_input": "2025-07-09T05:04:46.417281Z",
     "iopub.status.busy": "2025-07-09T05:04:46.416280Z",
     "iopub.status.idle": "2025-07-09T05:04:46.434167Z",
     "shell.execute_reply": "2025-07-09T05:04:46.432147Z",
     "shell.execute_reply.started": "2025-07-09T05:04:46.417281Z"
    }
   },
   "outputs": [
    {
     "name": "stdout",
     "output_type": "stream",
     "text": [
      "1 * 1 = 1\n",
      "1 * 2 = 2\n",
      "1 * 3 = 3\n",
      "1 * 4 = 4\n",
      "1 * 5 = 5\n",
      "1 * 6 = 6\n",
      "1 * 7 = 7\n",
      "1 * 8 = 8\n",
      "1 * 9 = 9\n",
      "1 * 10 = 10\n",
      "\n",
      "2 * 1 = 2\n",
      "2 * 2 = 4\n",
      "2 * 3 = 6\n",
      "2 * 4 = 8\n",
      "2 * 5 = 10\n",
      "2 * 6 = 12\n",
      "2 * 7 = 14\n",
      "2 * 8 = 16\n",
      "2 * 9 = 18\n",
      "2 * 10 = 20\n",
      "\n",
      "3 * 1 = 3\n",
      "3 * 2 = 6\n",
      "3 * 3 = 9\n",
      "3 * 4 = 12\n",
      "3 * 5 = 15\n",
      "3 * 6 = 18\n",
      "3 * 7 = 21\n",
      "3 * 8 = 24\n",
      "3 * 9 = 27\n",
      "3 * 10 = 30\n",
      "\n",
      "4 * 1 = 4\n",
      "4 * 2 = 8\n",
      "4 * 3 = 12\n",
      "4 * 4 = 16\n",
      "4 * 5 = 20\n",
      "4 * 6 = 24\n",
      "4 * 7 = 28\n",
      "4 * 8 = 32\n",
      "4 * 9 = 36\n",
      "4 * 10 = 40\n",
      "\n",
      "5 * 1 = 5\n",
      "5 * 2 = 10\n",
      "5 * 3 = 15\n",
      "5 * 4 = 20\n",
      "5 * 5 = 25\n",
      "5 * 6 = 30\n",
      "5 * 7 = 35\n",
      "5 * 8 = 40\n",
      "5 * 9 = 45\n",
      "5 * 10 = 50\n",
      "\n",
      "6 * 1 = 6\n",
      "6 * 2 = 12\n",
      "6 * 3 = 18\n",
      "6 * 4 = 24\n",
      "6 * 5 = 30\n",
      "6 * 6 = 36\n",
      "6 * 7 = 42\n",
      "6 * 8 = 48\n",
      "6 * 9 = 54\n",
      "6 * 10 = 60\n",
      "\n",
      "7 * 1 = 7\n",
      "7 * 2 = 14\n",
      "7 * 3 = 21\n",
      "7 * 4 = 28\n",
      "7 * 5 = 35\n",
      "7 * 6 = 42\n",
      "7 * 7 = 49\n",
      "7 * 8 = 56\n",
      "7 * 9 = 63\n",
      "7 * 10 = 70\n",
      "\n",
      "8 * 1 = 8\n",
      "8 * 2 = 16\n",
      "8 * 3 = 24\n",
      "8 * 4 = 32\n",
      "8 * 5 = 40\n",
      "8 * 6 = 48\n",
      "8 * 7 = 56\n",
      "8 * 8 = 64\n",
      "8 * 9 = 72\n",
      "8 * 10 = 80\n",
      "\n",
      "9 * 1 = 9\n",
      "9 * 2 = 18\n",
      "9 * 3 = 27\n",
      "9 * 4 = 36\n",
      "9 * 5 = 45\n",
      "9 * 6 = 54\n",
      "9 * 7 = 63\n",
      "9 * 8 = 72\n",
      "9 * 9 = 81\n",
      "9 * 10 = 90\n",
      "\n",
      "10 * 1 = 10\n",
      "10 * 2 = 20\n",
      "10 * 3 = 30\n",
      "10 * 4 = 40\n",
      "10 * 5 = 50\n",
      "10 * 6 = 60\n",
      "10 * 7 = 70\n",
      "10 * 8 = 80\n",
      "10 * 9 = 90\n",
      "10 * 10 = 100\n",
      "\n"
     ]
    }
   ],
   "source": [
    "# Multiplication Tables (1 to 10)\n",
    "for i in range(1,11) :\n",
    "    for j in range(1,11) :\n",
    "        print(i,\"*\",j,\"=\",i*j)\n",
    "    print()"
   ]
  },
  {
   "cell_type": "code",
   "execution_count": 28,
   "id": "f772b19d-c876-4bb2-9de9-640a3cea8b49",
   "metadata": {
    "execution": {
     "iopub.execute_input": "2025-07-09T05:04:58.767088Z",
     "iopub.status.busy": "2025-07-09T05:04:58.767088Z",
     "iopub.status.idle": "2025-07-09T05:05:01.652126Z",
     "shell.execute_reply": "2025-07-09T05:05:01.650539Z",
     "shell.execute_reply.started": "2025-07-09T05:04:58.767088Z"
    }
   },
   "outputs": [
    {
     "name": "stdin",
     "output_type": "stream",
     "text": [
      "enter the number of rows : 5\n",
      "enter the number of column : 5\n"
     ]
    },
    {
     "name": "stdout",
     "output_type": "stream",
     "text": [
      "* * * * * \n",
      "* * * * * \n",
      "* * * * * \n",
      "* * * * * \n",
      "* * * * * \n"
     ]
    }
   ],
   "source": [
    "# print solid rectangle\n",
    "# * * * *\n",
    "# * * * *  \n",
    "# * * * *\n",
    "m = int(input(\"enter the number of rows :\")) # m = number of rows\n",
    "n = int(input(\"enter the number of column :\")) # n = number of column \n",
    "for i in range(1,m+1) : # outer loop ---> number of lines\n",
    "    for j in range(1,n+1) :  # inner loop ---> number of star in each line\n",
    "        print(\"*\",end=' ')\n",
    "    print()"
   ]
  },
  {
   "cell_type": "code",
   "execution_count": 29,
   "id": "def0bc77-27e3-4614-babf-2803b7afc272",
   "metadata": {
    "execution": {
     "iopub.execute_input": "2025-07-09T05:05:04.991693Z",
     "iopub.status.busy": "2025-07-09T05:05:04.990627Z",
     "iopub.status.idle": "2025-07-09T05:05:06.233986Z",
     "shell.execute_reply": "2025-07-09T05:05:06.232905Z",
     "shell.execute_reply.started": "2025-07-09T05:05:04.991693Z"
    }
   },
   "outputs": [
    {
     "name": "stdin",
     "output_type": "stream",
     "text": [
      "enter the number of rows : 5\n"
     ]
    },
    {
     "name": "stdout",
     "output_type": "stream",
     "text": [
      "1 2 3 4 5 \n",
      "1 2 3 4 5 \n",
      "1 2 3 4 5 \n",
      "1 2 3 4 5 \n",
      "1 2 3 4 5 \n"
     ]
    }
   ],
   "source": [
    "# square number\n",
    "# 1 2 3 4\n",
    "# 1 2 3 4   ------> means if n = 4 , print this pattern \n",
    "# 1 2 3 4\n",
    "# 1 2 3 4\n",
    "m = int(input(\"enter the number of rows :\")) \n",
    "for i in range(1,m+1) :\n",
    "    for j in range(1,m+1) :\n",
    "        print(j,end=' ')\n",
    "    print()"
   ]
  },
  {
   "cell_type": "code",
   "execution_count": 3,
   "id": "00c57e44-cf87-4c8b-a16a-2861d79880e7",
   "metadata": {
    "execution": {
     "iopub.execute_input": "2025-07-20T06:11:30.259668Z",
     "iopub.status.busy": "2025-07-20T06:11:30.259668Z",
     "iopub.status.idle": "2025-07-20T06:11:38.672541Z",
     "shell.execute_reply": "2025-07-20T06:11:38.671532Z",
     "shell.execute_reply.started": "2025-07-20T06:11:30.259668Z"
    }
   },
   "outputs": [
    {
     "name": "stdin",
     "output_type": "stream",
     "text": [
      "enter the number of rows : 7\n"
     ]
    },
    {
     "name": "stdout",
     "output_type": "stream",
     "text": [
      "* \n",
      "* * \n",
      "* * * \n",
      "* * * * \n",
      "* * * * * \n",
      "* * * * * * \n",
      "* * * * * * * \n"
     ]
    }
   ],
   "source": [
    "# star triangle \n",
    "# *\n",
    "# * *\n",
    "# * * *\n",
    "# * * * *\n",
    "m = int(input(\"enter the number of rows :\"))\n",
    "for i in range(1,m+1) : \n",
    "    for j in range(1,i+1) :  \n",
    "        print(\"*\",end=' ')\n",
    "    print()"
   ]
  },
  {
   "cell_type": "code",
   "execution_count": 31,
   "id": "d2549dea-0fff-4281-a75a-442ca160ef43",
   "metadata": {
    "execution": {
     "iopub.execute_input": "2025-07-09T05:05:13.991763Z",
     "iopub.status.busy": "2025-07-09T05:05:13.991763Z",
     "iopub.status.idle": "2025-07-09T05:05:15.345609Z",
     "shell.execute_reply": "2025-07-09T05:05:15.344092Z",
     "shell.execute_reply.started": "2025-07-09T05:05:13.991763Z"
    }
   },
   "outputs": [
    {
     "name": "stdin",
     "output_type": "stream",
     "text": [
      "enter the number of rows : 5\n"
     ]
    },
    {
     "name": "stdout",
     "output_type": "stream",
     "text": [
      "* * * * * \n",
      "* * * * \n",
      "* * * \n",
      "* * \n",
      "* \n"
     ]
    }
   ],
   "source": [
    "# print this pattern\n",
    "# * * * *\n",
    "# * * *\n",
    "# * *\n",
    "# *\n",
    "m = int(input(\"enter the number of rows :\"))\n",
    "for i in range(1,m+1) :\n",
    "    for j in range(1,((m+1)-i)+1) : # relation ---> i + j = m + 1\n",
    "        print(\"*\",end=\" \")\n",
    "    print()"
   ]
  },
  {
   "cell_type": "code",
   "execution_count": 32,
   "id": "cc9ccac1-0aa9-4c5d-a446-32c3460b67c5",
   "metadata": {
    "execution": {
     "iopub.execute_input": "2025-07-09T05:05:29.165873Z",
     "iopub.status.busy": "2025-07-09T05:05:29.164873Z",
     "iopub.status.idle": "2025-07-09T05:05:30.947430Z",
     "shell.execute_reply": "2025-07-09T05:05:30.946246Z",
     "shell.execute_reply.started": "2025-07-09T05:05:29.165873Z"
    }
   },
   "outputs": [
    {
     "name": "stdin",
     "output_type": "stream",
     "text": [
      "enter the number of rows : 5\n"
     ]
    },
    {
     "name": "stdout",
     "output_type": "stream",
     "text": [
      "* * * * * \n",
      "* * * * \n",
      "* * * \n",
      "* * \n",
      "* \n"
     ]
    }
   ],
   "source": [
    "# print this pattern\n",
    "# * * * *\n",
    "# * * *\n",
    "# * *\n",
    "# *\n",
    "m = int(input(\"enter the number of rows :\"))\n",
    "a = m\n",
    "for i in range(1,m+1) :\n",
    "    for j in range(1,a+1) :  # using extra variable \n",
    "        print(\"*\",end=\" \")\n",
    "    a = a - 1\n",
    "    print()"
   ]
  },
  {
   "cell_type": "code",
   "execution_count": 33,
   "id": "120a9266-3034-4c41-a3b7-0fb30e13d810",
   "metadata": {
    "execution": {
     "iopub.execute_input": "2025-07-09T05:05:34.053095Z",
     "iopub.status.busy": "2025-07-09T05:05:34.052094Z",
     "iopub.status.idle": "2025-07-09T05:05:35.442554Z",
     "shell.execute_reply": "2025-07-09T05:05:35.441540Z",
     "shell.execute_reply.started": "2025-07-09T05:05:34.053095Z"
    }
   },
   "outputs": [
    {
     "name": "stdin",
     "output_type": "stream",
     "text": [
      "enter the number of rows : 5\n"
     ]
    },
    {
     "name": "stdout",
     "output_type": "stream",
     "text": [
      "1 \n",
      "1 2 \n",
      "1 2 3 \n",
      "1 2 3 4 \n",
      "1 2 3 4 5 \n"
     ]
    }
   ],
   "source": [
    "# print this pattern \n",
    "# 1 \n",
    "# 1 2 \n",
    "# 1 2 3 \n",
    "# 1 2 3 4\n",
    "m = int(input(\"enter the number of rows :\"))\n",
    "for i in range(1,m+1) : \n",
    "    for j in range(1,i+1) :  \n",
    "        print(j,end=' ')\n",
    "    print()"
   ]
  },
  {
   "cell_type": "code",
   "execution_count": null,
   "id": "391982c2-0710-4889-905e-97039d6b5ada",
   "metadata": {
    "execution": {
     "iopub.status.busy": "2025-07-08T15:55:56.817816Z",
     "iopub.status.idle": "2025-07-08T15:55:56.817816Z",
     "shell.execute_reply": "2025-07-08T15:55:56.817816Z",
     "shell.execute_reply.started": "2025-07-08T15:55:56.817816Z"
    }
   },
   "outputs": [],
   "source": [
    "# home work question \n",
    "# 1 2 3 4\n",
    "# 1 2 3\n",
    "# 1 2 \n",
    "# 1"
   ]
  },
  {
   "cell_type": "code",
   "execution_count": 34,
   "id": "e6d7acae-c698-416b-bd5f-66c3a3ff041f",
   "metadata": {
    "execution": {
     "iopub.execute_input": "2025-07-09T05:05:39.087674Z",
     "iopub.status.busy": "2025-07-09T05:05:39.086705Z",
     "iopub.status.idle": "2025-07-09T05:05:42.891661Z",
     "shell.execute_reply": "2025-07-09T05:05:42.889649Z",
     "shell.execute_reply.started": "2025-07-09T05:05:39.087674Z"
    }
   },
   "outputs": [
    {
     "name": "stdin",
     "output_type": "stream",
     "text": [
      "enter the number of rows : 5\n"
     ]
    },
    {
     "name": "stdout",
     "output_type": "stream",
     "text": [
      "1 \n",
      "1 3 \n",
      "1 3 5 \n",
      "1 3 5 7 \n",
      "1 3 5 7 9 \n"
     ]
    }
   ],
   "source": [
    "# print this pattern \n",
    "# 1 \n",
    "# 1 3\n",
    "# 1 3 5\n",
    "# 1 3 5 7\n",
    "m = int(input(\"enter the number of rows :\"))\n",
    "for i in range(1,m+1) :         # 1 3 5 7 9 .......\n",
    "    for j in range(1,i+1) :     #  d = 2\n",
    "        print(2*j-1,end=' ')    #  an = a + d(n-1)\n",
    "    print()"
   ]
  },
  {
   "cell_type": "code",
   "execution_count": 35,
   "id": "efd52c5c-05f3-40be-87e3-6240a6325e29",
   "metadata": {
    "execution": {
     "iopub.execute_input": "2025-07-09T05:05:45.368472Z",
     "iopub.status.busy": "2025-07-09T05:05:45.367461Z",
     "iopub.status.idle": "2025-07-09T05:05:47.539151Z",
     "shell.execute_reply": "2025-07-09T05:05:47.537438Z",
     "shell.execute_reply.started": "2025-07-09T05:05:45.368472Z"
    }
   },
   "outputs": [
    {
     "name": "stdin",
     "output_type": "stream",
     "text": [
      "enter the number of rows : 5\n"
     ]
    },
    {
     "name": "stdout",
     "output_type": "stream",
     "text": [
      "1 \n",
      "1 3 \n",
      "1 3 5 \n",
      "1 3 5 7 \n",
      "1 3 5 7 9 \n"
     ]
    }
   ],
   "source": [
    "# print this pattern using extra variable\n",
    "# 1 \n",
    "# 1 3\n",
    "# 1 3 5\n",
    "# 1 3 5 7\n",
    "m = int(input(\"enter the number of rows :\"))\n",
    "for i in range(1,m+1) : \n",
    "    a = 1\n",
    "    for j in range(1,i+1) :     \n",
    "        print(a,end=' ')\n",
    "        a = a + 2\n",
    "    print()"
   ]
  },
  {
   "cell_type": "code",
   "execution_count": 36,
   "id": "442feeda-4366-4bff-9d69-550156ce5970",
   "metadata": {
    "execution": {
     "iopub.execute_input": "2025-07-09T05:05:51.004125Z",
     "iopub.status.busy": "2025-07-09T05:05:51.003125Z",
     "iopub.status.idle": "2025-07-09T05:05:52.598256Z",
     "shell.execute_reply": "2025-07-09T05:05:52.597173Z",
     "shell.execute_reply.started": "2025-07-09T05:05:51.004125Z"
    }
   },
   "outputs": [
    {
     "name": "stdin",
     "output_type": "stream",
     "text": [
      "enter the number of rows : 5\n"
     ]
    },
    {
     "name": "stdout",
     "output_type": "stream",
     "text": [
      "A B C D E \n",
      "A B C D E \n",
      "A B C D E \n",
      "A B C D E \n",
      "A B C D E \n"
     ]
    }
   ],
   "source": [
    "# print this pattern \n",
    "# A B C D\n",
    "# A B C D\n",
    "# A B C D\n",
    "# A B C D \n",
    "m = int(input(\"enter the number of rows :\")) \n",
    "for i in range(1,m+1) :\n",
    "    a = 1\n",
    "    for j in range(1,m+1) :\n",
    "        d = 64 + a\n",
    "        ch = chr(d)          # we use chr() function for getting the character from an ASCII value\n",
    "        print(ch,end=' ')    # ord() function used to get an ASCII value of a character\n",
    "        a = a + 1\n",
    "    print()                          "
   ]
  },
  {
   "cell_type": "code",
   "execution_count": 37,
   "id": "b08f5337-95d2-4fdb-9e97-dca70d6e845e",
   "metadata": {
    "execution": {
     "iopub.execute_input": "2025-07-09T05:05:59.638467Z",
     "iopub.status.busy": "2025-07-09T05:05:59.637371Z",
     "iopub.status.idle": "2025-07-09T05:06:01.084075Z",
     "shell.execute_reply": "2025-07-09T05:06:01.084075Z",
     "shell.execute_reply.started": "2025-07-09T05:05:59.638467Z"
    }
   },
   "outputs": [
    {
     "name": "stdin",
     "output_type": "stream",
     "text": [
      "enter the number of rows : 5\n"
     ]
    },
    {
     "name": "stdout",
     "output_type": "stream",
     "text": [
      "A B C D E \n",
      "A B C D E \n",
      "A B C D E \n",
      "A B C D E \n",
      "A B C D E \n"
     ]
    }
   ],
   "source": [
    "# print this pattern \n",
    "# A B C D\n",
    "# A B C D\n",
    "# A B C D\n",
    "# A B C D \n",
    "m = int(input(\"enter the number of rows :\")) \n",
    "for i in range(1,m+1) :\n",
    "    for j in range(1,m+1) :\n",
    "        print(chr(64+j),end=' ')     \n",
    "    print()                         "
   ]
  },
  {
   "cell_type": "code",
   "execution_count": null,
   "id": "d6e4fc35-a47b-4474-9e05-6977b54bb13a",
   "metadata": {
    "execution": {
     "iopub.status.busy": "2025-07-08T15:55:56.826088Z",
     "iopub.status.idle": "2025-07-08T15:55:56.827099Z",
     "shell.execute_reply": "2025-07-08T15:55:56.826088Z",
     "shell.execute_reply.started": "2025-07-08T15:55:56.826088Z"
    }
   },
   "outputs": [],
   "source": [
    "# home work question\n",
    "# A \n",
    "# A B \n",
    "# A B C \n",
    "# A B C D"
   ]
  },
  {
   "cell_type": "code",
   "execution_count": null,
   "id": "eb4bbe5a-c0bd-4bd0-905d-e405bda292d1",
   "metadata": {
    "execution": {
     "iopub.status.busy": "2025-07-08T15:55:56.827099Z",
     "iopub.status.idle": "2025-07-08T15:55:56.828536Z",
     "shell.execute_reply": "2025-07-08T15:55:56.828536Z",
     "shell.execute_reply.started": "2025-07-08T15:55:56.828536Z"
    }
   },
   "outputs": [],
   "source": [
    "# home work question\n",
    "# 1\n",
    "# A B\n",
    "# 1 2 3\n",
    "# A B C D\n",
    "# 1 2 3 4 5"
   ]
  },
  {
   "cell_type": "code",
   "execution_count": 4,
   "id": "030f9ad9-6b0d-48d7-bb52-23389e5dd528",
   "metadata": {
    "execution": {
     "iopub.execute_input": "2025-07-20T06:11:52.124382Z",
     "iopub.status.busy": "2025-07-20T06:11:52.124382Z",
     "iopub.status.idle": "2025-07-20T06:11:55.984126Z",
     "shell.execute_reply": "2025-07-20T06:11:55.984126Z",
     "shell.execute_reply.started": "2025-07-20T06:11:52.124382Z"
    }
   },
   "outputs": [
    {
     "name": "stdin",
     "output_type": "stream",
     "text": [
      "enter the only odd number of rows : 7\n"
     ]
    },
    {
     "name": "stdout",
     "output_type": "stream",
     "text": [
      "      *       \n",
      "      *       \n",
      "      *       \n",
      "* * * * * * * \n",
      "      *       \n",
      "      *       \n",
      "      *       \n"
     ]
    }
   ],
   "source": [
    "# print this pattern \n",
    "#       *\n",
    "#       *\n",
    "#   * * * * *\n",
    "#       *\n",
    "#       *\n",
    "m = int(input(\"enter the only odd number of rows :\")) \n",
    "for i in range(1,m+1) :\n",
    "    for j in range(1,m+1) :\n",
    "        if j== (m+1)/2 or i == (m+1)/2 :\n",
    "            print(\"*\",end=' ')\n",
    "        else :\n",
    "            print(\" \",end=' ')\n",
    "    print()"
   ]
  },
  {
   "cell_type": "code",
   "execution_count": 5,
   "id": "011b6a80-08e7-44de-bb37-b99d138832fd",
   "metadata": {
    "execution": {
     "iopub.execute_input": "2025-07-20T06:12:01.414276Z",
     "iopub.status.busy": "2025-07-20T06:12:01.413275Z",
     "iopub.status.idle": "2025-07-20T06:12:07.834257Z",
     "shell.execute_reply": "2025-07-20T06:12:07.834257Z",
     "shell.execute_reply.started": "2025-07-20T06:12:01.414276Z"
    }
   },
   "outputs": [
    {
     "name": "stdin",
     "output_type": "stream",
     "text": [
      "enter the number of rows : 5\n",
      "enter the number of column : 7\n"
     ]
    },
    {
     "name": "stdout",
     "output_type": "stream",
     "text": [
      "* * * * * * * \n",
      "*           * \n",
      "*           * \n",
      "*           * \n",
      "* * * * * * * \n"
     ]
    }
   ],
   "source": [
    "# print this pattern\n",
    "#   * * * * * * * *\n",
    "#   *             *\n",
    "#   *             *\n",
    "#   * * * * * * * *\n",
    "m = int(input(\"enter the number of rows :\")) \n",
    "n = int(input(\"enter the number of column :\")) \n",
    "for i in range(1,m+1) :\n",
    "    for j in range(1,n+1) :\n",
    "        if (i==1 or i==m) and (j>=1 and j<=n) :\n",
    "            print(\"*\",end=' ')\n",
    "        elif (j==1 or j==n) and (i>1 and i<m) :\n",
    "            print(\"*\",end=' ')\n",
    "        else :\n",
    "            print(\" \",end=\" \")\n",
    "    print()"
   ]
  },
  {
   "cell_type": "code",
   "execution_count": 40,
   "id": "86945562-8395-4092-837a-63a797eb894d",
   "metadata": {
    "execution": {
     "iopub.execute_input": "2025-07-09T05:06:17.520463Z",
     "iopub.status.busy": "2025-07-09T05:06:17.520463Z",
     "iopub.status.idle": "2025-07-09T05:06:20.964629Z",
     "shell.execute_reply": "2025-07-09T05:06:20.963620Z",
     "shell.execute_reply.started": "2025-07-09T05:06:17.520463Z"
    }
   },
   "outputs": [
    {
     "name": "stdin",
     "output_type": "stream",
     "text": [
      "enter the only odd number of rows : 5\n"
     ]
    },
    {
     "name": "stdout",
     "output_type": "stream",
     "text": [
      "*       * \n",
      "  *   *   \n",
      "    *     \n",
      "  *   *   \n",
      "*       * \n"
     ]
    }
   ],
   "source": [
    "# print this pattern \n",
    "#  *   *\n",
    "#   * *\n",
    "#    *\n",
    "#   * *\n",
    "#  *   *\n",
    "m = int(input(\"enter the only odd number of rows :\")) \n",
    "for i in range(1,m+1) :\n",
    "    for j in range(1,m+1) :\n",
    "        if (i==j or i+j==m+1) :\n",
    "            print(\"*\",end=' ')\n",
    "        else :\n",
    "            print(\" \",end=' ')\n",
    "    print()"
   ]
  },
  {
   "cell_type": "code",
   "execution_count": 41,
   "id": "7bfdb015-dbeb-4114-8f6a-5d00fef398e3",
   "metadata": {
    "execution": {
     "iopub.execute_input": "2025-07-09T05:06:26.077152Z",
     "iopub.status.busy": "2025-07-09T05:06:26.077152Z",
     "iopub.status.idle": "2025-07-09T05:06:27.826766Z",
     "shell.execute_reply": "2025-07-09T05:06:27.825720Z",
     "shell.execute_reply.started": "2025-07-09T05:06:26.077152Z"
    }
   },
   "outputs": [
    {
     "name": "stdin",
     "output_type": "stream",
     "text": [
      "enter the number of rows : 6\n"
     ]
    },
    {
     "name": "stdout",
     "output_type": "stream",
     "text": [
      "1 \n",
      "2 3 \n",
      "4 5 6 \n",
      "7 8 9 10 \n",
      "11 12 13 14 15 \n",
      "16 17 18 19 20 21 \n"
     ]
    }
   ],
   "source": [
    "# print this pattern\n",
    "# 1\n",
    "# 2 3 \n",
    "# 4 5 6 \n",
    "# 7 8 9 10\n",
    "m =  int(input(\"enter the number of rows :\"))\n",
    "a = 1\n",
    "for i in range(1,m+1) :\n",
    "    for j in range(1,i+1) :\n",
    "        print(a,end=' ')\n",
    "        a = a + 1\n",
    "    print()"
   ]
  },
  {
   "cell_type": "code",
   "execution_count": 42,
   "id": "e45c6c64-fd60-4114-8fe7-9c22a4b81b9d",
   "metadata": {
    "execution": {
     "iopub.execute_input": "2025-07-09T05:06:30.509448Z",
     "iopub.status.busy": "2025-07-09T05:06:30.508369Z",
     "iopub.status.idle": "2025-07-09T05:06:31.814886Z",
     "shell.execute_reply": "2025-07-09T05:06:31.813878Z",
     "shell.execute_reply.started": "2025-07-09T05:06:30.509448Z"
    }
   },
   "outputs": [
    {
     "name": "stdin",
     "output_type": "stream",
     "text": [
      "enter the number of rows : 5\n"
     ]
    },
    {
     "name": "stdout",
     "output_type": "stream",
     "text": [
      "1 \n",
      "0 1 \n",
      "1 0 1 \n",
      "0 1 0 1 \n",
      "1 0 1 0 1 \n"
     ]
    }
   ],
   "source": [
    "# print this pattern\n",
    "# 1\n",
    "# 0 1 \n",
    "# 1 0 1\n",
    "# 0 1 0 1\n",
    "m =  int(input(\"enter the number of rows :\"))\n",
    "for i in range(1,m+1) :\n",
    "    if i%2==0 :\n",
    "        a = 0\n",
    "    else :\n",
    "        a = 1\n",
    "    for j in range(1,i+1) :\n",
    "        print(a,end=' ')\n",
    "        if a == 1 :\n",
    "           a = 0\n",
    "        else :\n",
    "           a = 1\n",
    "    print()"
   ]
  },
  {
   "cell_type": "code",
   "execution_count": 43,
   "id": "a0e772cc-24ff-412b-a566-10f59b43f744",
   "metadata": {
    "execution": {
     "iopub.execute_input": "2025-07-09T05:06:34.463091Z",
     "iopub.status.busy": "2025-07-09T05:06:34.463091Z",
     "iopub.status.idle": "2025-07-09T05:06:35.468671Z",
     "shell.execute_reply": "2025-07-09T05:06:35.466660Z",
     "shell.execute_reply.started": "2025-07-09T05:06:34.463091Z"
    }
   },
   "outputs": [
    {
     "name": "stdin",
     "output_type": "stream",
     "text": [
      "enter the number of rows : 6\n"
     ]
    },
    {
     "name": "stdout",
     "output_type": "stream",
     "text": [
      "          * \n",
      "        * * \n",
      "      * * * \n",
      "    * * * * \n",
      "  * * * * * \n",
      "* * * * * * \n"
     ]
    }
   ],
   "source": [
    "# print this pattern \n",
    "#       *\n",
    "#     * *\n",
    "#   * * *\n",
    "# * * * *\n",
    "m =  int(input(\"enter the number of rows :\"))\n",
    "for i in range(1,m+1) :\n",
    "    for j in range(1,m-i+1) :\n",
    "        print(\" \",end=' ')\n",
    "    for k in range(1,i+1) :\n",
    "        print(\"*\",end=' ')\n",
    "    print()"
   ]
  },
  {
   "cell_type": "code",
   "execution_count": null,
   "id": "9f7bc4e4-2ae9-4bbe-bd1d-e9c37613dcf6",
   "metadata": {
    "execution": {
     "iopub.status.busy": "2025-07-08T15:55:56.840275Z",
     "iopub.status.idle": "2025-07-08T15:55:56.840275Z",
     "shell.execute_reply": "2025-07-08T15:55:56.840275Z",
     "shell.execute_reply.started": "2025-07-08T15:55:56.840275Z"
    }
   },
   "outputs": [],
   "source": [
    "# home work\n",
    "#       A\n",
    "#     A B\n",
    "#   A B C\n",
    "# A B C D"
   ]
  },
  {
   "cell_type": "code",
   "execution_count": 44,
   "id": "638ddd2b-9828-4b08-a1b3-82dab36cd223",
   "metadata": {
    "execution": {
     "iopub.execute_input": "2025-07-09T05:06:38.250158Z",
     "iopub.status.busy": "2025-07-09T05:06:38.249157Z",
     "iopub.status.idle": "2025-07-09T05:06:39.618675Z",
     "shell.execute_reply": "2025-07-09T05:06:39.617662Z",
     "shell.execute_reply.started": "2025-07-09T05:06:38.250158Z"
    }
   },
   "outputs": [
    {
     "name": "stdin",
     "output_type": "stream",
     "text": [
      "enter the number of rows : 5\n"
     ]
    },
    {
     "name": "stdout",
     "output_type": "stream",
     "text": [
      "        * \n",
      "      * * * \n",
      "    * * * * * \n",
      "  * * * * * * * \n",
      "* * * * * * * * * \n"
     ]
    }
   ],
   "source": [
    "# print this pattern\n",
    "#        *\n",
    "#      * * *\n",
    "#    * * * * *\n",
    "#  * * * * * * *\n",
    "m =  int(input(\"enter the number of rows :\"))\n",
    "for i in range(1,m+1) :\n",
    "    for j in range(1,m-i+1) :\n",
    "        print(\" \",end=' ')\n",
    "    for k in range(1,(2*i - 1)+1) :\n",
    "        print(\"*\",end=' ')\n",
    "    print()"
   ]
  },
  {
   "cell_type": "code",
   "execution_count": 45,
   "id": "8d3fb086-05a2-4978-8d5e-7ee9818a7621",
   "metadata": {
    "execution": {
     "iopub.execute_input": "2025-07-09T05:06:41.900143Z",
     "iopub.status.busy": "2025-07-09T05:06:41.899131Z",
     "iopub.status.idle": "2025-07-09T05:06:43.319987Z",
     "shell.execute_reply": "2025-07-09T05:06:43.318968Z",
     "shell.execute_reply.started": "2025-07-09T05:06:41.900143Z"
    }
   },
   "outputs": [
    {
     "name": "stdin",
     "output_type": "stream",
     "text": [
      "enter the number of rows : 6\n"
     ]
    },
    {
     "name": "stdout",
     "output_type": "stream",
     "text": [
      "          * \n",
      "        * * * \n",
      "      * * * * * \n",
      "    * * * * * * * \n",
      "  * * * * * * * * * \n",
      "* * * * * * * * * * * \n"
     ]
    }
   ],
   "source": [
    "m =  int(input(\"enter the number of rows :\"))\n",
    "nst = 1\n",
    "nsp = m - 1\n",
    "for i in range(1,m+1) :\n",
    "    for j in range(1,nsp+1) : # nsp ----> number of spaces\n",
    "        print(\" \",end=' ')\n",
    "    nsp = nsp - 1\n",
    "    for k in range(1,nst+1) :   # nst ----> number of stars\n",
    "        print(\"*\",end=' ')\n",
    "    nst = nst + 2\n",
    "    print()"
   ]
  },
  {
   "cell_type": "code",
   "execution_count": null,
   "id": "8b9a28d1-bf5a-4182-a266-e0f656dd6202",
   "metadata": {
    "execution": {
     "iopub.status.busy": "2025-07-08T15:55:56.845916Z",
     "iopub.status.idle": "2025-07-08T15:55:56.845916Z",
     "shell.execute_reply": "2025-07-08T15:55:56.845916Z",
     "shell.execute_reply.started": "2025-07-08T15:55:56.845916Z"
    }
   },
   "outputs": [],
   "source": [
    "# home work\n",
    "#       1\n",
    "#     1 2 3 \n",
    "#   1 2 3 4 5\n",
    "# 1 2 3 4 5 6 7\n",
    "\n",
    "#     A\n",
    "#   A B C\n",
    "# A B C D E "
   ]
  },
  {
   "cell_type": "code",
   "execution_count": 46,
   "id": "e62f928d-fb57-4f39-9694-d2393a148a3e",
   "metadata": {
    "execution": {
     "iopub.execute_input": "2025-07-09T05:06:47.045370Z",
     "iopub.status.busy": "2025-07-09T05:06:47.044296Z",
     "iopub.status.idle": "2025-07-09T05:06:50.945463Z",
     "shell.execute_reply": "2025-07-09T05:06:50.943925Z",
     "shell.execute_reply.started": "2025-07-09T05:06:47.045370Z"
    }
   },
   "outputs": [
    {
     "name": "stdin",
     "output_type": "stream",
     "text": [
      "enter the number of rows : 6\n"
     ]
    },
    {
     "name": "stdout",
     "output_type": "stream",
     "text": [
      "          1 \n",
      "        1 2 1 \n",
      "      1 2 3 2 1 \n",
      "    1 2 3 4 3 2 1 \n",
      "  1 2 3 4 5 4 3 2 1 \n",
      "1 2 3 4 5 6 5 4 3 2 1 \n"
     ]
    }
   ],
   "source": [
    "# print this pattern\n",
    "#       1\n",
    "#     1 2 1 \n",
    "#   1 2 3 2 1 \n",
    "# 1 2 3 4 3 2 1\n",
    "m =  int(input(\"enter the number of rows :\"))\n",
    "for i in range(1,m+1) :\n",
    "    for j in range(1,m-i+1) :\n",
    "        print(\" \",end=' ')\n",
    "    for k in range(1,i+1) :\n",
    "        print(k,end=' ')\n",
    "    a = i - 1\n",
    "    for p in range(1,(i-1)+1) :\n",
    "        print(a,end=' ')\n",
    "        a = a - 1\n",
    "    print()\n",
    "    "
   ]
  },
  {
   "cell_type": "code",
   "execution_count": null,
   "id": "933fd9a0",
   "metadata": {},
   "outputs": [],
   "source": [
    "# home work\n",
    "#       A\n",
    "#     A B A\n",
    "#   A B C B A\n",
    "# A B C D C B A"
   ]
  },
  {
   "cell_type": "code",
   "execution_count": 10,
   "id": "38f9a4bc-1089-46e6-9f72-a1294150cfe8",
   "metadata": {
    "execution": {
     "iopub.execute_input": "2025-07-08T16:04:27.348755Z",
     "iopub.status.busy": "2025-07-08T16:04:27.347733Z",
     "iopub.status.idle": "2025-07-08T16:04:28.704549Z",
     "shell.execute_reply": "2025-07-08T16:04:28.703539Z",
     "shell.execute_reply.started": "2025-07-08T16:04:27.348755Z"
    }
   },
   "outputs": [
    {
     "name": "stdout",
     "output_type": "stream",
     "text": [
      "enter only the number of rows : 7\n"
     ]
    },
    {
     "name": "stdout",
     "output_type": "stream",
     "text": [
      "      * \n",
      "    * * * \n",
      "  * * * * * \n",
      "* * * * * * * \n",
      "  * * * * * \n",
      "    * * * \n",
      "      * \n"
     ]
    }
   ],
   "source": [
    "# print this pattern\n",
    "#     *\n",
    "#    ***\n",
    "#   *****\n",
    "#  *******    for n = 7  try your self if n = 4 (tips :upper half or lower half)\n",
    "#   *****\n",
    "#    ***\n",
    "#     *\n",
    "m =  int(input(\"enter only the number of rows :\"))\n",
    "nsp = ((m+1)//2) - 1\n",
    "nst = 1 \n",
    "ml = (m+1)//2\n",
    "for i in range(1,m+1) :\n",
    "    for j in range(1,nsp+1) :\n",
    "        print(\" \",end=' ')\n",
    "    for k in range(1,nst+1) :\n",
    "        print(\"*\", end=' ')\n",
    "    if(i<ml) :\n",
    "        nsp -= 1\n",
    "        nst += 2\n",
    "    else :\n",
    "        nsp += 1\n",
    "        nst -= 2\n",
    "    print()"
   ]
  },
  {
   "cell_type": "code",
   "execution_count": 49,
   "id": "d46f749b-ef22-4e98-80bd-f0b20d813837",
   "metadata": {
    "execution": {
     "iopub.execute_input": "2025-07-09T05:18:25.798275Z",
     "iopub.status.busy": "2025-07-09T05:18:25.796252Z",
     "iopub.status.idle": "2025-07-09T05:19:37.474117Z",
     "shell.execute_reply": "2025-07-09T05:19:37.472051Z",
     "shell.execute_reply.started": "2025-07-09T05:18:25.798275Z"
    }
   },
   "outputs": [
    {
     "name": "stdin",
     "output_type": "stream",
     "text": [
      "enter the number of line : 5\n"
     ]
    },
    {
     "name": "stdout",
     "output_type": "stream",
     "text": [
      "* * * * * \n",
      "  * * * * \n",
      "    * * * \n",
      "      * * \n",
      "        * \n"
     ]
    }
   ],
   "source": [
    "# print this pattern\n",
    "#   * * * * * * \n",
    "#     * * * * * \n",
    "#       * * * * \n",
    "#         * * * \n",
    "#           * * \n",
    "#             * \n",
    "m = int(input(\"enter the number of line :\"))\n",
    "nst = m\n",
    "nsp = 0\n",
    "for i in range(1,m+1) :\n",
    "    for k in range(1,nsp+1) :\n",
    "        print(\" \",end=' ')\n",
    "    for j in range(1,nst+1) :\n",
    "        print(\"*\",end=' ')\n",
    "    nst -= 1\n",
    "    nsp += 1\n",
    "    print()"
   ]
  },
  {
   "cell_type": "code",
   "execution_count": 59,
   "id": "352baed7-5106-4a11-8e43-50bad95a30a6",
   "metadata": {
    "execution": {
     "iopub.execute_input": "2025-07-09T05:37:03.098447Z",
     "iopub.status.busy": "2025-07-09T05:37:03.097449Z",
     "iopub.status.idle": "2025-07-09T05:37:04.107953Z",
     "shell.execute_reply": "2025-07-09T05:37:04.106944Z",
     "shell.execute_reply.started": "2025-07-09T05:37:03.098447Z"
    }
   },
   "outputs": [
    {
     "name": "stdin",
     "output_type": "stream",
     "text": [
      "enter the number of lines :  5\n"
     ]
    },
    {
     "name": "stdout",
     "output_type": "stream",
     "text": [
      "* * * * * * * * * \n",
      "* * * *   * * * * \n",
      "* * *       * * * \n",
      "* *           * * \n",
      "*               * \n"
     ]
    }
   ],
   "source": [
    "# print this pattern\n",
    "# * * * * * * * * * * * \n",
    "# * * * * *   * * * * * \n",
    "# * * * *       * * * * \n",
    "# * * *           * * * \n",
    "# * *               * * \n",
    "# *                   * \n",
    "m = int(input(\"enter the number of lines : \"))\n",
    "for i in range(1,(2*m-1)+1) :\n",
    "    print(\"*\",end=' ')\n",
    "print()\n",
    "nst = m - 1\n",
    "nsp = 1\n",
    "for i in range(1,(m-1)+1) :\n",
    "    for j in range(1,nst+1) :\n",
    "        print(\"*\",end=' ')\n",
    "    for k in range(1,nsp+1) :\n",
    "        print(\" \",end=' ')\n",
    "    for p in range(1,nst+1) :\n",
    "        print(\"*\",end=' ')\n",
    "    nst = nst - 1\n",
    "    nsp = nsp + 2\n",
    "    print()"
   ]
  },
  {
   "cell_type": "code",
   "execution_count": 99,
   "id": "21811986-4e81-4f9e-85cc-78561e74fb8c",
   "metadata": {
    "execution": {
     "iopub.execute_input": "2025-07-09T07:10:31.901527Z",
     "iopub.status.busy": "2025-07-09T07:10:31.900527Z",
     "iopub.status.idle": "2025-07-09T07:10:33.232710Z",
     "shell.execute_reply": "2025-07-09T07:10:33.231544Z",
     "shell.execute_reply.started": "2025-07-09T07:10:31.901527Z"
    }
   },
   "outputs": [
    {
     "name": "stdin",
     "output_type": "stream",
     "text": [
      "enter the number of lines : 5\n"
     ]
    },
    {
     "name": "stdout",
     "output_type": "stream",
     "text": [
      "1 2 3 4 5 6 7 8 9 \n",
      "1 2 3 4   6 7 8 9 \n",
      "1 2 3       7 8 9 \n",
      "1 2           8 9 \n",
      "1               9 \n"
     ]
    }
   ],
   "source": [
    "# print this pattern\n",
    "# 1 2 3 4 5 6 7 8 9 \n",
    "# 1 2 3 4   6 7 8 9 \n",
    "# 1 2 3       7 8 9 \n",
    "# 1 2           8 9 \n",
    "# 1               9 \n",
    "m = int(input(\"enter the number of lines :\"))\n",
    "for i in range(1,(2*m-1)+1) :\n",
    "       print(i,end=' ')\n",
    "print()\n",
    "nst = m - 1\n",
    "nsp = 1\n",
    "for i in range(1,(m-1)+1) :\n",
    "    a =1 \n",
    "    for j in range(1,nst+1) :\n",
    "        print(a,end=' ')\n",
    "        a = a + 1\n",
    "    for k in range(1,nsp+1) :\n",
    "        print(\" \",end=' ')\n",
    "        a = a + 1\n",
    "    for p in range(1,nst+1) :\n",
    "        print(a,end=' ')\n",
    "        a = a + 1\n",
    "    nst = nst - 1\n",
    "    nsp = nsp + 2\n",
    "    print()"
   ]
  },
  {
   "cell_type": "code",
   "execution_count": 1,
   "id": "a5cc9bc3-9f41-4fa8-b9de-a16b695322e8",
   "metadata": {
    "execution": {
     "iopub.execute_input": "2025-07-18T11:54:28.971719Z",
     "iopub.status.busy": "2025-07-18T11:54:28.971719Z",
     "iopub.status.idle": "2025-07-18T11:54:31.108790Z",
     "shell.execute_reply": "2025-07-18T11:54:31.108790Z",
     "shell.execute_reply.started": "2025-07-18T11:54:28.971719Z"
    }
   },
   "outputs": [
    {
     "name": "stdin",
     "output_type": "stream",
     "text": [
      "enter the number of lines : 4\n"
     ]
    },
    {
     "name": "stdout",
     "output_type": "stream",
     "text": [
      "1 2 3 4 3 2 1 \n",
      "1 2 3   3 2 1 \n",
      "1 2       2 1 \n",
      "1           1 \n"
     ]
    }
   ],
   "source": [
    "# print this pattern\n",
    "#     1 2 3 4 5 4 3 2 1 \n",
    "#     1 2 3 4   4 3 2 1 \n",
    "#     1 2 3       3 2 1 \n",
    "#     1 2           2 1 \n",
    "#     1               1 \n",
    "m = int(input(\"enter the number of lines :\"))\n",
    "p = m\n",
    "for i in range(1,(2*m-1)+1) :\n",
    "    if(i>=1 and i<=(1+(2*m-1)//2)) :\n",
    "       print(i,end=' ')\n",
    "    else :\n",
    "       print(p - 1,end=' ')\n",
    "       p = p -1\n",
    "print()\n",
    "nst = m - 1\n",
    "nsp = 1\n",
    "for i in range(1,(m-1)+1) :\n",
    "    a =1 \n",
    "    for j in range(1,nst+1) :\n",
    "        print(a,end=' ')\n",
    "        a +=1\n",
    "    for k in range(1,nsp+1) :\n",
    "        print(\" \",end=' ')\n",
    "    a = a - 1\n",
    "    for p in range(1,nst+1) :\n",
    "        print(a,end=' ')\n",
    "        a -= 1\n",
    "    nst = nst - 1\n",
    "    nsp = nsp + 2\n",
    "    print()"
   ]
  },
  {
   "cell_type": "code",
   "execution_count": 110,
   "id": "29128d45-5420-410e-9037-6d9c5d652c56",
   "metadata": {
    "execution": {
     "iopub.execute_input": "2025-07-09T07:29:51.112293Z",
     "iopub.status.busy": "2025-07-09T07:29:51.111291Z",
     "iopub.status.idle": "2025-07-09T07:29:52.482890Z",
     "shell.execute_reply": "2025-07-09T07:29:52.481883Z",
     "shell.execute_reply.started": "2025-07-09T07:29:51.112293Z"
    }
   },
   "outputs": [
    {
     "name": "stdin",
     "output_type": "stream",
     "text": [
      "enter the number of lines : 5\n"
     ]
    },
    {
     "name": "stdout",
     "output_type": "stream",
     "text": [
      "1 1 1 1 1 \n",
      "1 2 2 2 2 \n",
      "1 2 3 3 3 \n",
      "1 2 3 4 4 \n",
      "1 2 3 4 5 \n"
     ]
    }
   ],
   "source": [
    "# print this pattern\n",
    "# 1 1 1 1 1 \n",
    "# 1 2 2 2 2 \n",
    "# 1 2 3 3 3 \n",
    "# 1 2 3 4 4 \n",
    "# 1 2 3 4 5 \n",
    "m = int(input(\"enter the number of lines :\"))\n",
    "for i in range(1,m+1) :\n",
    "    for j in range (1,m+1) :\n",
    "        print(min(i,j),end=' ')\n",
    "    print()"
   ]
  },
  {
   "cell_type": "code",
   "execution_count": 6,
   "id": "fc17ec2f-5dd4-461e-b11e-85a9f8259dc7",
   "metadata": {
    "execution": {
     "iopub.execute_input": "2025-07-20T06:14:02.758649Z",
     "iopub.status.busy": "2025-07-20T06:14:02.757649Z",
     "iopub.status.idle": "2025-07-20T06:14:04.946644Z",
     "shell.execute_reply": "2025-07-20T06:14:04.946644Z",
     "shell.execute_reply.started": "2025-07-20T06:14:02.758649Z"
    }
   },
   "outputs": [
    {
     "name": "stdin",
     "output_type": "stream",
     "text": [
      "enter the number : 5\n"
     ]
    },
    {
     "name": "stdout",
     "output_type": "stream",
     "text": [
      "1 1 1 1 1 1 1 1 1 \n",
      "1 2 2 2 2 2 2 2 1 \n",
      "1 2 3 3 3 3 3 2 1 \n",
      "1 2 3 4 4 4 3 2 1 \n",
      "1 2 3 4 5 4 3 2 1 \n",
      "1 2 3 4 4 4 3 2 1 \n",
      "1 2 3 3 3 3 3 2 1 \n",
      "1 2 2 2 2 2 2 2 1 \n",
      "1 1 1 1 1 1 1 1 1 \n"
     ]
    }
   ],
   "source": [
    "# print this pattern\n",
    "#   1 1 1 1 1 \n",
    "#   1 2 2 2 1 \n",
    "#   1 2 3 2 1 \n",
    "#   1 2 2 2 1 \n",
    "#   1 1 1 1 1\n",
    "m = int(input(\"enter the number :\"))\n",
    "for i in range(1,(2*m-1)+1) :\n",
    "    for j in range (1,(2*m-1)+1) :\n",
    "        a = i\n",
    "        if (i>m) :\n",
    "            a = (2*m-1) - i + 1\n",
    "        b = j\n",
    "        if (j>m) :\n",
    "            b = (2*m-1) - j + 1\n",
    "        print(min(a,b),end=' ')\n",
    "    print()"
   ]
  },
  {
   "cell_type": "code",
   "execution_count": 122,
   "id": "4049639d-e1b8-474e-97ed-621ffd2ed43e",
   "metadata": {
    "execution": {
     "iopub.execute_input": "2025-07-09T07:48:23.832683Z",
     "iopub.status.busy": "2025-07-09T07:48:23.832683Z",
     "iopub.status.idle": "2025-07-09T07:48:25.565172Z",
     "shell.execute_reply": "2025-07-09T07:48:25.565172Z",
     "shell.execute_reply.started": "2025-07-09T07:48:23.832683Z"
    }
   },
   "outputs": [
    {
     "name": "stdin",
     "output_type": "stream",
     "text": [
      "enter the number : 4\n"
     ]
    },
    {
     "name": "stdout",
     "output_type": "stream",
     "text": [
      "4 4 4 4 4 4 4 \n",
      "4 3 3 3 3 3 4 \n",
      "4 3 2 2 2 3 4 \n",
      "4 3 2 1 2 3 4 \n",
      "4 3 2 2 2 3 4 \n",
      "4 3 3 3 3 3 4 \n",
      "4 4 4 4 4 4 4 \n"
     ]
    }
   ],
   "source": [
    "# print this pattern\n",
    "# 4 4 4 4 4 4 4 \n",
    "# 4 3 3 3 3 3 4 \n",
    "# 4 3 2 2 2 3 4 \n",
    "# 4 3 2 1 2 3 4 \n",
    "# 4 3 2 2 2 3 4 \n",
    "# 4 3 3 3 3 3 4 \n",
    "# 4 4 4 4 4 4 4\n",
    "m = int(input(\"enter the number :\"))\n",
    "for i in range(1,(2*m-1)+1) :\n",
    "    for j in range (1,(2*m-1)+1) :\n",
    "        a = i\n",
    "        if (i>m) :\n",
    "            a = (2*m-1) - i + 1\n",
    "        b = j\n",
    "        if (j>m) :\n",
    "            b = (2*m-1) - j + 1\n",
    "        max1 = (m+1) - min(a,b)\n",
    "        print(max1,end=' ')\n",
    "    print()"
   ]
  },
  {
   "cell_type": "code",
   "execution_count": 123,
   "id": "a4f84070-3871-4164-a0bd-b234128c4ff5",
   "metadata": {
    "execution": {
     "iopub.execute_input": "2025-07-09T07:52:23.724692Z",
     "iopub.status.busy": "2025-07-09T07:52:23.724692Z",
     "iopub.status.idle": "2025-07-09T07:52:23.728838Z",
     "shell.execute_reply": "2025-07-09T07:52:23.727832Z",
     "shell.execute_reply.started": "2025-07-09T07:52:23.724692Z"
    }
   },
   "outputs": [],
   "source": [
    "# home work\n",
    "#        1\n",
    "#      1  3\n",
    "#    1     4\n",
    "#  1 2 3 4 5 6"
   ]
  }
 ],
 "metadata": {
  "kernelspec": {
   "display_name": "Python 3 (ipykernel)",
   "language": "python",
   "name": "python3"
  },
  "language_info": {
   "codemirror_mode": {
    "name": "ipython",
    "version": 3
   },
   "file_extension": ".py",
   "mimetype": "text/x-python",
   "name": "python",
   "nbconvert_exporter": "python",
   "pygments_lexer": "ipython3",
   "version": "3.11.6"
  }
 },
 "nbformat": 4,
 "nbformat_minor": 5
}
