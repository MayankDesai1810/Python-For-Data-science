{
 "cells": [
  {
   "cell_type": "markdown",
   "id": "24ce843e-9656-4ab9-b3ac-e3d0515cf333",
   "metadata": {},
   "source": [
    "# set"
   ]
  },
  {
   "cell_type": "markdown",
   "id": "258f3221-c26a-4376-92f1-dabbd9064c93",
   "metadata": {},
   "source": [
    "* Sets are used to store multiple items in a single variable.\n",
    "* Sets are written with curly brackets."
   ]
  },
  {
   "cell_type": "code",
   "execution_count": 7,
   "id": "77a29108-8fe0-437b-bc35-0994aaeff80a",
   "metadata": {
    "execution": {
     "iopub.execute_input": "2025-07-15T12:05:48.072803Z",
     "iopub.status.busy": "2025-07-15T12:05:48.071802Z",
     "iopub.status.idle": "2025-07-15T12:05:48.076233Z",
     "shell.execute_reply": "2025-07-15T12:05:48.076233Z",
     "shell.execute_reply.started": "2025-07-15T12:05:48.072803Z"
    }
   },
   "outputs": [
    {
     "name": "stdout",
     "output_type": "stream",
     "text": [
      "{1, 2, 3, 4, 6}\n",
      "<class 'set'>\n"
     ]
    }
   ],
   "source": [
    "s = {1,2,3,4,6}\n",
    "print(s)\n",
    "print(type(s))"
   ]
  },
  {
   "cell_type": "markdown",
   "id": "e4657952-d957-4487-a9f8-9921bde863d9",
   "metadata": {},
   "source": [
    "Note: Sets are unordered, so you cannot be sure in which order the items will appear."
   ]
  },
  {
   "cell_type": "markdown",
   "id": "a2bb79c6-ea32-46bd-a17d-810d6f3ed7f6",
   "metadata": {},
   "source": [
    "* Unordered means that the items in a set do not have a defined order.\n",
    "* Set items can appear in a different order every time you use them, and cannot be referred to by index or key."
   ]
  },
  {
   "cell_type": "code",
   "execution_count": 11,
   "id": "3278bd98-4c2c-421a-8704-d2721bb317bd",
   "metadata": {
    "execution": {
     "iopub.execute_input": "2025-07-16T10:47:25.656972Z",
     "iopub.status.busy": "2025-07-16T10:47:25.655973Z",
     "iopub.status.idle": "2025-07-16T10:47:25.660829Z",
     "shell.execute_reply": "2025-07-16T10:47:25.660829Z",
     "shell.execute_reply.started": "2025-07-16T10:47:25.656972Z"
    }
   },
   "outputs": [
    {
     "name": "stdout",
     "output_type": "stream",
     "text": [
      "{'m', 1, 3.14}\n"
     ]
    }
   ],
   "source": [
    "s = {1,'m',3.14}\n",
    "print(s)"
   ]
  },
  {
   "cell_type": "code",
   "execution_count": 72,
   "id": "994e96de-0984-45f1-bdf9-8eda1a7a5bde",
   "metadata": {
    "execution": {
     "iopub.execute_input": "2025-07-16T12:33:44.600108Z",
     "iopub.status.busy": "2025-07-16T12:33:44.599109Z",
     "iopub.status.idle": "2025-07-16T12:33:44.604109Z",
     "shell.execute_reply": "2025-07-16T12:33:44.604109Z",
     "shell.execute_reply.started": "2025-07-16T12:33:44.600108Z"
    }
   },
   "outputs": [
    {
     "name": "stdout",
     "output_type": "stream",
     "text": [
      "{'h', 'e', 'l', 'o'}\n"
     ]
    }
   ],
   "source": [
    "s = set(\"hello\")\n",
    "print(s)"
   ]
  },
  {
   "cell_type": "markdown",
   "id": "467c0361-e15d-44eb-a6f8-eee72d2cd99e",
   "metadata": {},
   "source": [
    "* Set items are unchangeable, meaning that we cannot change the items after the set has been created."
   ]
  },
  {
   "cell_type": "code",
   "execution_count": 12,
   "id": "620e09f8-8c9b-4e1c-b19e-1581f928de48",
   "metadata": {
    "execution": {
     "iopub.execute_input": "2025-07-16T10:48:36.435216Z",
     "iopub.status.busy": "2025-07-16T10:48:36.435216Z",
     "iopub.status.idle": "2025-07-16T10:48:36.457484Z",
     "shell.execute_reply": "2025-07-16T10:48:36.456468Z",
     "shell.execute_reply.started": "2025-07-16T10:48:36.435216Z"
    }
   },
   "outputs": [
    {
     "ename": "TypeError",
     "evalue": "'set' object does not support item assignment",
     "output_type": "error",
     "traceback": [
      "\u001b[31m---------------------------------------------------------------------------\u001b[39m",
      "\u001b[31mTypeError\u001b[39m                                 Traceback (most recent call last)",
      "\u001b[36mCell\u001b[39m\u001b[36m \u001b[39m\u001b[32mIn[12]\u001b[39m\u001b[32m, line 2\u001b[39m\n\u001b[32m      1\u001b[39m s = {\u001b[32m1\u001b[39m,\u001b[32m2\u001b[39m,\u001b[32m3\u001b[39m,\u001b[32m4\u001b[39m,\u001b[32m5\u001b[39m,\u001b[32m6\u001b[39m,\u001b[32m7\u001b[39m,\u001b[32m8\u001b[39m}\n\u001b[32m----> \u001b[39m\u001b[32m2\u001b[39m \u001b[43ms\u001b[49m\u001b[43m[\u001b[49m\u001b[32;43m2\u001b[39;49m\u001b[43m]\u001b[49m = \u001b[32m3\u001b[39m\n",
      "\u001b[31mTypeError\u001b[39m: 'set' object does not support item assignment"
     ]
    }
   ],
   "source": [
    "s = {1,2,3,4,5,6,7,8}\n",
    "s[2] = 3"
   ]
  },
  {
   "cell_type": "markdown",
   "id": "eb8f1eef-f1cc-4eed-9ee2-04386e44ae55",
   "metadata": {},
   "source": [
    "* Sets cannot have two items with the same value."
   ]
  },
  {
   "cell_type": "code",
   "execution_count": 13,
   "id": "ca1da008-1d78-494c-973e-90bc8c10fbd0",
   "metadata": {
    "execution": {
     "iopub.execute_input": "2025-07-16T10:49:36.238545Z",
     "iopub.status.busy": "2025-07-16T10:49:36.237543Z",
     "iopub.status.idle": "2025-07-16T10:49:36.241706Z",
     "shell.execute_reply": "2025-07-16T10:49:36.241706Z",
     "shell.execute_reply.started": "2025-07-16T10:49:36.238545Z"
    }
   },
   "outputs": [
    {
     "name": "stdout",
     "output_type": "stream",
     "text": [
      "{1, 2, 3, 4, 5}\n"
     ]
    }
   ],
   "source": [
    "s = {1,2,3,4,5,4,3,2,1}\n",
    "print(s)"
   ]
  },
  {
   "cell_type": "markdown",
   "id": "7bc08b5b-0638-496a-8b5e-da5adc68b1f5",
   "metadata": {},
   "source": [
    "* The values True and 1 are considered the same value in sets, and are treated  as duplicates also with False and 0"
   ]
  },
  {
   "cell_type": "code",
   "execution_count": 14,
   "id": "1560bb53-40e8-4d82-bc3b-e0724770344c",
   "metadata": {
    "execution": {
     "iopub.execute_input": "2025-07-16T10:50:50.037916Z",
     "iopub.status.busy": "2025-07-16T10:50:50.037916Z",
     "iopub.status.idle": "2025-07-16T10:50:50.041917Z",
     "shell.execute_reply": "2025-07-16T10:50:50.041917Z",
     "shell.execute_reply.started": "2025-07-16T10:50:50.037916Z"
    }
   },
   "outputs": [
    {
     "name": "stdout",
     "output_type": "stream",
     "text": [
      "{0, 1}\n"
     ]
    }
   ],
   "source": [
    "s = {1,0,True,False}\n",
    "print(s)"
   ]
  },
  {
   "cell_type": "markdown",
   "id": "b7966566-bad4-4b38-9e7b-2e7e145b9ffd",
   "metadata": {},
   "source": [
    "Note : set can not be contain mutable data types"
   ]
  },
  {
   "cell_type": "code",
   "execution_count": 15,
   "id": "9900a8b5-d14a-4e0f-bd26-10bc551a80c8",
   "metadata": {
    "execution": {
     "iopub.execute_input": "2025-07-16T10:53:28.709273Z",
     "iopub.status.busy": "2025-07-16T10:53:28.709273Z",
     "iopub.status.idle": "2025-07-16T10:53:28.804236Z",
     "shell.execute_reply": "2025-07-16T10:53:28.802229Z",
     "shell.execute_reply.started": "2025-07-16T10:53:28.709273Z"
    }
   },
   "outputs": [
    {
     "ename": "TypeError",
     "evalue": "unhashable type: 'list'",
     "output_type": "error",
     "traceback": [
      "\u001b[31m---------------------------------------------------------------------------\u001b[39m",
      "\u001b[31mTypeError\u001b[39m                                 Traceback (most recent call last)",
      "\u001b[36mCell\u001b[39m\u001b[36m \u001b[39m\u001b[32mIn[15]\u001b[39m\u001b[32m, line 1\u001b[39m\n\u001b[32m----> \u001b[39m\u001b[32m1\u001b[39m s = {\u001b[32m1\u001b[39m,\u001b[32m2\u001b[39m,\u001b[32m3\u001b[39m,[\u001b[32m1\u001b[39m,\u001b[32m2\u001b[39m,\u001b[32m3\u001b[39m]}\n\u001b[32m      2\u001b[39m \u001b[38;5;28mprint\u001b[39m(s)\n",
      "\u001b[31mTypeError\u001b[39m: unhashable type: 'list'"
     ]
    }
   ],
   "source": [
    "s = {1,2,3,[1,2,3]}\n",
    "print(s)"
   ]
  },
  {
   "cell_type": "markdown",
   "id": "716f5a04-611c-43f9-b3c6-1a4a3195be52",
   "metadata": {},
   "source": [
    "## Access Items\n"
   ]
  },
  {
   "cell_type": "markdown",
   "id": "0b9ca262-46c3-4bf6-82c3-df1aa1c65885",
   "metadata": {},
   "source": [
    "* You cannot access items in a set by referring to an index or a key."
   ]
  },
  {
   "cell_type": "code",
   "execution_count": 16,
   "id": "f7de2dc3-e956-49ee-b320-bf9f68695390",
   "metadata": {
    "execution": {
     "iopub.execute_input": "2025-07-16T10:56:28.193092Z",
     "iopub.status.busy": "2025-07-16T10:56:28.193092Z",
     "iopub.status.idle": "2025-07-16T10:56:28.218356Z",
     "shell.execute_reply": "2025-07-16T10:56:28.217348Z",
     "shell.execute_reply.started": "2025-07-16T10:56:28.193092Z"
    }
   },
   "outputs": [
    {
     "ename": "TypeError",
     "evalue": "'set' object is not subscriptable",
     "output_type": "error",
     "traceback": [
      "\u001b[31m---------------------------------------------------------------------------\u001b[39m",
      "\u001b[31mTypeError\u001b[39m                                 Traceback (most recent call last)",
      "\u001b[36mCell\u001b[39m\u001b[36m \u001b[39m\u001b[32mIn[16]\u001b[39m\u001b[32m, line 2\u001b[39m\n\u001b[32m      1\u001b[39m s = {\u001b[32m1\u001b[39m,\u001b[32m2\u001b[39m,\u001b[32m3\u001b[39m,\u001b[32m4\u001b[39m,\u001b[32m5\u001b[39m,\u001b[32m6\u001b[39m}\n\u001b[32m----> \u001b[39m\u001b[32m2\u001b[39m \u001b[38;5;28mprint\u001b[39m(\u001b[43ms\u001b[49m\u001b[43m[\u001b[49m\u001b[32;43m2\u001b[39;49m\u001b[43m]\u001b[49m)\n",
      "\u001b[31mTypeError\u001b[39m: 'set' object is not subscriptable"
     ]
    }
   ],
   "source": [
    "s = {1,2,3,4,5,6}\n",
    "print(s[2])"
   ]
  },
  {
   "cell_type": "markdown",
   "id": "d1212e26-6c6b-4c2e-a81b-86ce36a80bfb",
   "metadata": {},
   "source": [
    "but you can use loop on set based on an itemwise not a indexwise"
   ]
  },
  {
   "cell_type": "code",
   "execution_count": 18,
   "id": "45bf61fc-6ab4-4140-9149-05af8f84a609",
   "metadata": {
    "execution": {
     "iopub.execute_input": "2025-07-16T10:59:19.500189Z",
     "iopub.status.busy": "2025-07-16T10:59:19.499188Z",
     "iopub.status.idle": "2025-07-16T10:59:19.504188Z",
     "shell.execute_reply": "2025-07-16T10:59:19.504188Z",
     "shell.execute_reply.started": "2025-07-16T10:59:19.500189Z"
    }
   },
   "outputs": [
    {
     "name": "stdout",
     "output_type": "stream",
     "text": [
      "1\n",
      "2\n",
      "3\n",
      "4\n",
      "5\n",
      "6\n",
      "7\n"
     ]
    }
   ],
   "source": [
    "# item wise\n",
    "s = {1,2,3,4,5,6,7}\n",
    "for i in s :\n",
    "    print(i)"
   ]
  },
  {
   "cell_type": "code",
   "execution_count": 22,
   "id": "c82877bd-4b1d-429d-95af-a56f7355d40a",
   "metadata": {
    "execution": {
     "iopub.execute_input": "2025-07-16T11:03:39.949993Z",
     "iopub.status.busy": "2025-07-16T11:03:39.948994Z",
     "iopub.status.idle": "2025-07-16T11:03:39.975515Z",
     "shell.execute_reply": "2025-07-16T11:03:39.973992Z",
     "shell.execute_reply.started": "2025-07-16T11:03:39.949993Z"
    }
   },
   "outputs": [
    {
     "ename": "TypeError",
     "evalue": "'set' object is not subscriptable",
     "output_type": "error",
     "traceback": [
      "\u001b[31m---------------------------------------------------------------------------\u001b[39m",
      "\u001b[31mTypeError\u001b[39m                                 Traceback (most recent call last)",
      "\u001b[36mCell\u001b[39m\u001b[36m \u001b[39m\u001b[32mIn[22]\u001b[39m\u001b[32m, line 3\u001b[39m\n\u001b[32m      1\u001b[39m \u001b[38;5;66;03m# index wise\u001b[39;00m\n\u001b[32m      2\u001b[39m \u001b[38;5;28;01mfor\u001b[39;00m i \u001b[38;5;129;01min\u001b[39;00m \u001b[38;5;28mrange\u001b[39m(\u001b[32m0\u001b[39m,\u001b[38;5;28mlen\u001b[39m(s)) :\n\u001b[32m----> \u001b[39m\u001b[32m3\u001b[39m     \u001b[38;5;28mprint\u001b[39m(\u001b[43ms\u001b[49m\u001b[43m[\u001b[49m\u001b[43mi\u001b[49m\u001b[43m]\u001b[49m)\n",
      "\u001b[31mTypeError\u001b[39m: 'set' object is not subscriptable"
     ]
    }
   ],
   "source": [
    "# index wise\n",
    "for i in range(0,len(s)) :\n",
    "    print(s[i])"
   ]
  },
  {
   "cell_type": "markdown",
   "id": "73a90543-5dd1-4544-8c61-fcec14230179",
   "metadata": {},
   "source": [
    "## Add Items"
   ]
  },
  {
   "cell_type": "markdown",
   "id": "ca677870-bc13-40a1-8216-6634e24ea151",
   "metadata": {},
   "source": [
    "* Once a set is created, you cannot change its items, but you can add new items.\n",
    "* To add one item to a set use the add( ) method."
   ]
  },
  {
   "cell_type": "code",
   "execution_count": 25,
   "id": "84ba18d3-5121-433a-a937-4a199bcdd0a1",
   "metadata": {
    "execution": {
     "iopub.execute_input": "2025-07-16T11:06:29.957059Z",
     "iopub.status.busy": "2025-07-16T11:06:29.957059Z",
     "iopub.status.idle": "2025-07-16T11:06:29.961146Z",
     "shell.execute_reply": "2025-07-16T11:06:29.961146Z",
     "shell.execute_reply.started": "2025-07-16T11:06:29.957059Z"
    }
   },
   "outputs": [
    {
     "name": "stdout",
     "output_type": "stream",
     "text": [
      "{'jiteshbhai', 'desai', 'mayank'}\n"
     ]
    }
   ],
   "source": [
    "s = {\"desai\",\"mayank\"}\n",
    "s.add(\"jiteshbhai\")\n",
    "print(s)"
   ]
  },
  {
   "cell_type": "markdown",
   "id": "e05f9d1b-5daa-4187-827c-bd3f5bdd59f4",
   "metadata": {},
   "source": [
    "## Add Sets"
   ]
  },
  {
   "cell_type": "markdown",
   "id": "c92cfe9f-3e9d-42f0-adbf-207b8ef375ac",
   "metadata": {},
   "source": [
    "To add items from another set into the current set, use the update( ) method."
   ]
  },
  {
   "cell_type": "code",
   "execution_count": 26,
   "id": "5d65d7d6-3e18-42d5-9748-2989151c261f",
   "metadata": {
    "execution": {
     "iopub.execute_input": "2025-07-16T11:08:22.911596Z",
     "iopub.status.busy": "2025-07-16T11:08:22.910596Z",
     "iopub.status.idle": "2025-07-16T11:08:22.915738Z",
     "shell.execute_reply": "2025-07-16T11:08:22.915738Z",
     "shell.execute_reply.started": "2025-07-16T11:08:22.911596Z"
    }
   },
   "outputs": [
    {
     "name": "stdout",
     "output_type": "stream",
     "text": [
      "{1, 2, 3, 4, 5, 6, 7, 8, 9, 10}\n"
     ]
    }
   ],
   "source": [
    "a = {1,2,3,4,5}\n",
    "b = {6,7,8,9,10}\n",
    "a.update(b)\n",
    "print(a)"
   ]
  },
  {
   "cell_type": "markdown",
   "id": "6b19d6cf-d0aa-4437-831e-50b2256222f8",
   "metadata": {},
   "source": [
    "The object in the update( ) method does not have to be a set, it can be any iterable object (tuples, lists, dictionaries etc.)."
   ]
  },
  {
   "cell_type": "code",
   "execution_count": 27,
   "id": "b41bd456-0296-4b15-96d1-645a84ab22fb",
   "metadata": {
    "execution": {
     "iopub.execute_input": "2025-07-16T11:10:19.582387Z",
     "iopub.status.busy": "2025-07-16T11:10:19.582387Z",
     "iopub.status.idle": "2025-07-16T11:10:19.586731Z",
     "shell.execute_reply": "2025-07-16T11:10:19.586731Z",
     "shell.execute_reply.started": "2025-07-16T11:10:19.582387Z"
    }
   },
   "outputs": [
    {
     "name": "stdout",
     "output_type": "stream",
     "text": [
      "{1, 2, 3, 4, 5, 6, 7, 8, 9, 10}\n"
     ]
    }
   ],
   "source": [
    "a = {1,2,3,4,5,6,7}\n",
    "b = [8,9,10]\n",
    "a.update(b)\n",
    "print(a)"
   ]
  },
  {
   "cell_type": "markdown",
   "id": "6fe43359-2e6c-475b-8d4f-25dfdd14ea2c",
   "metadata": {},
   "source": [
    "## Remove Item"
   ]
  },
  {
   "cell_type": "markdown",
   "id": "4b59a245-acbd-4229-8784-9883f674ca21",
   "metadata": {},
   "source": [
    "* To remove an item in a set, use the remove( ), or the discard( ) method."
   ]
  },
  {
   "cell_type": "code",
   "execution_count": 32,
   "id": "d82c340e-e354-4a37-89c9-9a86e4a8a394",
   "metadata": {
    "execution": {
     "iopub.execute_input": "2025-07-16T11:16:58.363177Z",
     "iopub.status.busy": "2025-07-16T11:16:58.363177Z",
     "iopub.status.idle": "2025-07-16T11:16:58.367224Z",
     "shell.execute_reply": "2025-07-16T11:16:58.367224Z",
     "shell.execute_reply.started": "2025-07-16T11:16:58.363177Z"
    }
   },
   "outputs": [
    {
     "name": "stdout",
     "output_type": "stream",
     "text": [
      "{1, 2, 3, 4, 5, 6}\n"
     ]
    }
   ],
   "source": [
    "s = {1,2,3,4,5,6,7,8}\n",
    "s.remove(8)\n",
    "s.discard(7)\n",
    "print(s)"
   ]
  },
  {
   "cell_type": "markdown",
   "id": "c1d64460-e9f0-45c8-927a-1a9a0d2e730b",
   "metadata": {},
   "source": [
    "If the item to remove does not exist, remove( ) will raise an error ,while discard( ) does not show error."
   ]
  },
  {
   "cell_type": "code",
   "execution_count": 30,
   "id": "01305735-5565-49eb-870e-94e28c38a3b0",
   "metadata": {
    "execution": {
     "iopub.execute_input": "2025-07-16T11:14:49.824574Z",
     "iopub.status.busy": "2025-07-16T11:14:49.824574Z",
     "iopub.status.idle": "2025-07-16T11:14:49.853780Z",
     "shell.execute_reply": "2025-07-16T11:14:49.851769Z",
     "shell.execute_reply.started": "2025-07-16T11:14:49.824574Z"
    }
   },
   "outputs": [
    {
     "ename": "KeyError",
     "evalue": "9",
     "output_type": "error",
     "traceback": [
      "\u001b[31m---------------------------------------------------------------------------\u001b[39m",
      "\u001b[31mKeyError\u001b[39m                                  Traceback (most recent call last)",
      "\u001b[36mCell\u001b[39m\u001b[36m \u001b[39m\u001b[32mIn[30]\u001b[39m\u001b[32m, line 2\u001b[39m\n\u001b[32m      1\u001b[39m s = {\u001b[32m1\u001b[39m,\u001b[32m2\u001b[39m,\u001b[32m3\u001b[39m,\u001b[32m4\u001b[39m,\u001b[32m5\u001b[39m,\u001b[32m6\u001b[39m,\u001b[32m7\u001b[39m,\u001b[32m8\u001b[39m}\n\u001b[32m----> \u001b[39m\u001b[32m2\u001b[39m \u001b[43ms\u001b[49m\u001b[43m.\u001b[49m\u001b[43mremove\u001b[49m\u001b[43m(\u001b[49m\u001b[32;43m9\u001b[39;49m\u001b[43m)\u001b[49m\n\u001b[32m      3\u001b[39m \u001b[38;5;28mprint\u001b[39m(s)\n",
      "\u001b[31mKeyError\u001b[39m: 9"
     ]
    }
   ],
   "source": [
    "s = {1,2,3,4,5,6,7,8}\n",
    "s.remove(9)\n",
    "print(s)"
   ]
  },
  {
   "cell_type": "code",
   "execution_count": 33,
   "id": "babd9201-32ad-4e0e-bae5-f2d41baead87",
   "metadata": {
    "execution": {
     "iopub.execute_input": "2025-07-16T11:17:18.506663Z",
     "iopub.status.busy": "2025-07-16T11:17:18.505664Z",
     "iopub.status.idle": "2025-07-16T11:17:18.509957Z",
     "shell.execute_reply": "2025-07-16T11:17:18.509957Z",
     "shell.execute_reply.started": "2025-07-16T11:17:18.506663Z"
    }
   },
   "outputs": [
    {
     "name": "stdout",
     "output_type": "stream",
     "text": [
      "{1, 2, 3, 4, 5, 6, 7, 8}\n"
     ]
    }
   ],
   "source": [
    "s = {1,2,3,4,5,6,7,8}\n",
    "s.discard(9)\n",
    "print(s)"
   ]
  },
  {
   "cell_type": "markdown",
   "id": "e70d67fd-5a7c-4bda-996d-ab91449da751",
   "metadata": {},
   "source": [
    "* You can also use the pop( ) method to remove an item, but this method will remove a random item.\n",
    "* The return value of the pop() method is the removed item."
   ]
  },
  {
   "cell_type": "code",
   "execution_count": 41,
   "id": "b1a5c49b-4841-4e1b-868a-f6693b996168",
   "metadata": {
    "execution": {
     "iopub.execute_input": "2025-07-16T11:21:05.067413Z",
     "iopub.status.busy": "2025-07-16T11:21:05.066415Z",
     "iopub.status.idle": "2025-07-16T11:21:05.071828Z",
     "shell.execute_reply": "2025-07-16T11:21:05.070819Z",
     "shell.execute_reply.started": "2025-07-16T11:21:05.067413Z"
    }
   },
   "outputs": [
    {
     "name": "stdout",
     "output_type": "stream",
     "text": [
      "(1, 2)\n",
      "{3.14, 12, 'mayank'}\n"
     ]
    }
   ],
   "source": [
    "s = {12,'mayank',3.14,(1,2)}\n",
    "x = s.pop()\n",
    "print(x)\n",
    "print(s)"
   ]
  },
  {
   "cell_type": "code",
   "execution_count": 43,
   "id": "6922eebe-6ff0-4fa8-9cd6-eec2426bfaf3",
   "metadata": {
    "execution": {
     "iopub.execute_input": "2025-07-16T11:22:18.759186Z",
     "iopub.status.busy": "2025-07-16T11:22:18.758186Z",
     "iopub.status.idle": "2025-07-16T11:22:18.762681Z",
     "shell.execute_reply": "2025-07-16T11:22:18.762681Z",
     "shell.execute_reply.started": "2025-07-16T11:22:18.759186Z"
    }
   },
   "outputs": [
    {
     "name": "stdout",
     "output_type": "stream",
     "text": [
      "set()\n"
     ]
    }
   ],
   "source": [
    "# clear() \n",
    "s = {12,'mayank',3.14,(1,2)}\n",
    "s.clear()\n",
    "print(s)"
   ]
  },
  {
   "cell_type": "code",
   "execution_count": 44,
   "id": "fe86c5de-c120-4a58-913f-4746f7f0fa1e",
   "metadata": {
    "execution": {
     "iopub.execute_input": "2025-07-16T11:22:52.939983Z",
     "iopub.status.busy": "2025-07-16T11:22:52.938983Z",
     "iopub.status.idle": "2025-07-16T11:22:52.966974Z",
     "shell.execute_reply": "2025-07-16T11:22:52.965964Z",
     "shell.execute_reply.started": "2025-07-16T11:22:52.939983Z"
    }
   },
   "outputs": [
    {
     "ename": "NameError",
     "evalue": "name 's' is not defined",
     "output_type": "error",
     "traceback": [
      "\u001b[31m---------------------------------------------------------------------------\u001b[39m",
      "\u001b[31mNameError\u001b[39m                                 Traceback (most recent call last)",
      "\u001b[36mCell\u001b[39m\u001b[36m \u001b[39m\u001b[32mIn[44]\u001b[39m\u001b[32m, line 4\u001b[39m\n\u001b[32m      2\u001b[39m s = {\u001b[32m12\u001b[39m,\u001b[33m'\u001b[39m\u001b[33mmayank\u001b[39m\u001b[33m'\u001b[39m,\u001b[32m3.14\u001b[39m,(\u001b[32m1\u001b[39m,\u001b[32m2\u001b[39m)}\n\u001b[32m      3\u001b[39m \u001b[38;5;28;01mdel\u001b[39;00m s\n\u001b[32m----> \u001b[39m\u001b[32m4\u001b[39m \u001b[38;5;28mprint\u001b[39m(\u001b[43ms\u001b[49m)\n",
      "\u001b[31mNameError\u001b[39m: name 's' is not defined"
     ]
    }
   ],
   "source": [
    "# del keyword\n",
    "s = {12,'mayank',3.14,(1,2)}\n",
    "del s\n",
    "print(s)"
   ]
  },
  {
   "cell_type": "markdown",
   "id": "592545ba-9cf4-465e-96ff-0b840bf974a8",
   "metadata": {},
   "source": [
    "## Join Sets"
   ]
  },
  {
   "cell_type": "markdown",
   "id": "2fdf4c16-df61-4a92-971d-1e7b26af85d2",
   "metadata": {},
   "source": [
    "### Union"
   ]
  },
  {
   "cell_type": "code",
   "execution_count": 45,
   "id": "66627a4b-956b-457f-8558-13645c9162ce",
   "metadata": {
    "execution": {
     "iopub.execute_input": "2025-07-16T11:27:43.530912Z",
     "iopub.status.busy": "2025-07-16T11:27:43.529912Z",
     "iopub.status.idle": "2025-07-16T11:27:43.534395Z",
     "shell.execute_reply": "2025-07-16T11:27:43.534395Z",
     "shell.execute_reply.started": "2025-07-16T11:27:43.530912Z"
    }
   },
   "outputs": [
    {
     "name": "stdout",
     "output_type": "stream",
     "text": [
      "{1, 2, 3, 4, 5, 6, 7, 8}\n"
     ]
    }
   ],
   "source": [
    "s = {1,2,3,4,5}\n",
    "b = {4,5,6,7,8}\n",
    "print(s|b)   # | ---> this union operator"
   ]
  },
  {
   "cell_type": "code",
   "execution_count": 48,
   "id": "2dc5c75b-e81f-4ea2-9a07-9cc420f9f9c7",
   "metadata": {
    "execution": {
     "iopub.execute_input": "2025-07-16T11:29:15.884381Z",
     "iopub.status.busy": "2025-07-16T11:29:15.883380Z",
     "iopub.status.idle": "2025-07-16T11:29:15.887692Z",
     "shell.execute_reply": "2025-07-16T11:29:15.887692Z",
     "shell.execute_reply.started": "2025-07-16T11:29:15.884381Z"
    }
   },
   "outputs": [
    {
     "name": "stdout",
     "output_type": "stream",
     "text": [
      "{1, 2, 3, 4, 5, 6, 7, 8}\n"
     ]
    }
   ],
   "source": [
    "print(s.union(b)) # union() function"
   ]
  },
  {
   "cell_type": "code",
   "execution_count": 49,
   "id": "eee95edb-4cd1-41f4-80b7-c3c0092c54fa",
   "metadata": {
    "execution": {
     "iopub.execute_input": "2025-07-16T11:30:25.610080Z",
     "iopub.status.busy": "2025-07-16T11:30:25.610080Z",
     "iopub.status.idle": "2025-07-16T11:30:25.614096Z",
     "shell.execute_reply": "2025-07-16T11:30:25.614096Z",
     "shell.execute_reply.started": "2025-07-16T11:30:25.610080Z"
    }
   },
   "outputs": [
    {
     "name": "stdout",
     "output_type": "stream",
     "text": [
      "{1, 2, 3, 4, 5, 6, 7, 8, 9, 10, 11}\n"
     ]
    }
   ],
   "source": [
    "s = {1,2,3,4,5}\n",
    "b = {4,5,6,7,8}\n",
    "c = {7,8,9,10,11}\n",
    "print(s|b|c)"
   ]
  },
  {
   "cell_type": "code",
   "execution_count": 50,
   "id": "d1998a0e-01ff-4207-82e7-c4bd3f192796",
   "metadata": {
    "execution": {
     "iopub.execute_input": "2025-07-16T11:30:50.492185Z",
     "iopub.status.busy": "2025-07-16T11:30:50.492185Z",
     "iopub.status.idle": "2025-07-16T11:30:50.496233Z",
     "shell.execute_reply": "2025-07-16T11:30:50.496233Z",
     "shell.execute_reply.started": "2025-07-16T11:30:50.492185Z"
    }
   },
   "outputs": [
    {
     "name": "stdout",
     "output_type": "stream",
     "text": [
      "{1, 2, 3, 4, 5, 6, 7, 8, 9, 10, 11}\n"
     ]
    }
   ],
   "source": [
    "print(s.union(b,c))\n",
    "# union_update() ---> return new set"
   ]
  },
  {
   "cell_type": "markdown",
   "id": "9a6bbdef-74ff-4825-80f8-4f321889a573",
   "metadata": {},
   "source": [
    "* The union( ) function allows you to join a set with other data types, like lists or tuples.\n",
    "* The result will be a set.\n",
    "* The  | operator only allows you to join sets with sets"
   ]
  },
  {
   "cell_type": "code",
   "execution_count": 54,
   "id": "ef007ba5-0093-4795-9789-5bf0e260df53",
   "metadata": {
    "execution": {
     "iopub.execute_input": "2025-07-16T11:33:25.493625Z",
     "iopub.status.busy": "2025-07-16T11:33:25.493625Z",
     "iopub.status.idle": "2025-07-16T11:33:25.497626Z",
     "shell.execute_reply": "2025-07-16T11:33:25.497626Z",
     "shell.execute_reply.started": "2025-07-16T11:33:25.493625Z"
    }
   },
   "outputs": [
    {
     "name": "stdout",
     "output_type": "stream",
     "text": [
      "{1, 2, 3, 'b', 'a', 'c'}\n"
     ]
    }
   ],
   "source": [
    "x = {\"a\", \"b\", \"c\"}\n",
    "y = (1, 2, 3)\n",
    "z = x.union(y)\n",
    "print(z)"
   ]
  },
  {
   "cell_type": "markdown",
   "id": "6326caca-d0e7-4ab8-9cb5-1dc5199e442f",
   "metadata": {},
   "source": [
    "### Intersection\n"
   ]
  },
  {
   "cell_type": "markdown",
   "id": "017f2981-b923-4106-872f-a57434e8be30",
   "metadata": {},
   "source": [
    "The intersection( ) method will return a new set, that only contains the items that are present in both sets"
   ]
  },
  {
   "cell_type": "code",
   "execution_count": 55,
   "id": "e70bc669-2249-4aad-b13d-b7f3b645609c",
   "metadata": {
    "execution": {
     "iopub.execute_input": "2025-07-16T11:40:27.586419Z",
     "iopub.status.busy": "2025-07-16T11:40:27.585420Z",
     "iopub.status.idle": "2025-07-16T11:40:27.591435Z",
     "shell.execute_reply": "2025-07-16T11:40:27.591435Z",
     "shell.execute_reply.started": "2025-07-16T11:40:27.586419Z"
    }
   },
   "outputs": [
    {
     "name": "stdout",
     "output_type": "stream",
     "text": [
      "{5, 6}\n"
     ]
    }
   ],
   "source": [
    "set1 = {1,2,3,4,5,6}\n",
    "set2 = {5,6,7,8,9}\n",
    "print(set1.intersection(set2))\n",
    "# intersection_update() ---> return new set"
   ]
  },
  {
   "cell_type": "code",
   "execution_count": 56,
   "id": "18e8ba58-c858-480e-8027-b1ddab541825",
   "metadata": {
    "execution": {
     "iopub.execute_input": "2025-07-16T11:40:47.481338Z",
     "iopub.status.busy": "2025-07-16T11:40:47.480338Z",
     "iopub.status.idle": "2025-07-16T11:40:47.485357Z",
     "shell.execute_reply": "2025-07-16T11:40:47.485357Z",
     "shell.execute_reply.started": "2025-07-16T11:40:47.481338Z"
    }
   },
   "outputs": [
    {
     "name": "stdout",
     "output_type": "stream",
     "text": [
      "{5, 6}\n"
     ]
    }
   ],
   "source": [
    "print(set1 & set2)"
   ]
  },
  {
   "cell_type": "markdown",
   "id": "70085351-e6e9-451e-8961-de20da0455e6",
   "metadata": {},
   "source": [
    "Note: The & operator only allows you to join sets with sets, and not with other data types like you can with the intersection( ) function."
   ]
  },
  {
   "cell_type": "markdown",
   "id": "0dcc617a-98a4-4b77-998e-587d087cedfa",
   "metadata": {},
   "source": [
    "## Difference"
   ]
  },
  {
   "cell_type": "markdown",
   "id": "082b3bcf-7f61-4326-ae67-5361a06a3f27",
   "metadata": {},
   "source": [
    "The difference( ) function will return a new set that will contain only the items from the first set that are not present in the other set."
   ]
  },
  {
   "cell_type": "code",
   "execution_count": 57,
   "id": "778a5e54-8032-4a86-a770-7392d9841ae9",
   "metadata": {
    "execution": {
     "iopub.execute_input": "2025-07-16T11:54:26.625212Z",
     "iopub.status.busy": "2025-07-16T11:54:26.624212Z",
     "iopub.status.idle": "2025-07-16T11:54:26.629071Z",
     "shell.execute_reply": "2025-07-16T11:54:26.629071Z",
     "shell.execute_reply.started": "2025-07-16T11:54:26.625212Z"
    }
   },
   "outputs": [
    {
     "name": "stdout",
     "output_type": "stream",
     "text": [
      "{1, 2, 3, 4, 5}\n"
     ]
    }
   ],
   "source": [
    "s = {1,2,3,4,5,6,7}\n",
    "b = {6,7,8,9,10}\n",
    "print(s-b)"
   ]
  },
  {
   "cell_type": "code",
   "execution_count": 59,
   "id": "8b93eb79-0092-465a-bd36-4da72525ebe6",
   "metadata": {
    "execution": {
     "iopub.execute_input": "2025-07-16T11:54:51.698530Z",
     "iopub.status.busy": "2025-07-16T11:54:51.698530Z",
     "iopub.status.idle": "2025-07-16T11:54:51.703039Z",
     "shell.execute_reply": "2025-07-16T11:54:51.702530Z",
     "shell.execute_reply.started": "2025-07-16T11:54:51.698530Z"
    }
   },
   "outputs": [
    {
     "name": "stdout",
     "output_type": "stream",
     "text": [
      "{1, 2, 3, 4, 5}\n"
     ]
    }
   ],
   "source": [
    "print(s.difference(b))\n",
    "# difference_update() ---> return new set"
   ]
  },
  {
   "cell_type": "markdown",
   "id": "9531973f-6ce4-4c8f-8d50-23f4f1cfc081",
   "metadata": {},
   "source": [
    "The - operator only allows you to join sets with sets, and not with other data types like you can with the difference( ) function."
   ]
  },
  {
   "cell_type": "markdown",
   "id": "5c9cea31-5c95-444b-ab67-cd26fd630c8e",
   "metadata": {},
   "source": [
    "### Symmetric Differences"
   ]
  },
  {
   "cell_type": "markdown",
   "id": "e27fe555-99f6-46e5-be86-ada76704582e",
   "metadata": {},
   "source": [
    "The symmetric_difference( ) function will keep only the elements that are NOT present in both sets."
   ]
  },
  {
   "cell_type": "code",
   "execution_count": 1,
   "id": "569143b1-28c2-484d-a5f7-ece0d8b5a18a",
   "metadata": {
    "execution": {
     "iopub.execute_input": "2025-07-18T10:59:36.434700Z",
     "iopub.status.busy": "2025-07-18T10:59:36.433564Z",
     "iopub.status.idle": "2025-07-18T10:59:36.441957Z",
     "shell.execute_reply": "2025-07-18T10:59:36.441957Z",
     "shell.execute_reply.started": "2025-07-18T10:59:36.434700Z"
    }
   },
   "outputs": [
    {
     "name": "stdout",
     "output_type": "stream",
     "text": [
      "{1, 2, 3, 6, 7, 8}\n"
     ]
    }
   ],
   "source": [
    "s = {1,2,3,4,5}\n",
    "b = {4,5,6,7,8}\n",
    "print(s.symmetric_difference(b))\n",
    "# symmetric_difference_update() ---> return new set"
   ]
  },
  {
   "cell_type": "code",
   "execution_count": 61,
   "id": "79537164-0bcd-4881-9a7e-045845fc0447",
   "metadata": {
    "execution": {
     "iopub.execute_input": "2025-07-16T11:59:18.921284Z",
     "iopub.status.busy": "2025-07-16T11:59:18.921284Z",
     "iopub.status.idle": "2025-07-16T11:59:18.924764Z",
     "shell.execute_reply": "2025-07-16T11:59:18.924764Z",
     "shell.execute_reply.started": "2025-07-16T11:59:18.921284Z"
    }
   },
   "outputs": [
    {
     "name": "stdout",
     "output_type": "stream",
     "text": [
      "{1, 2, 3, 6, 7, 8}\n"
     ]
    }
   ],
   "source": [
    "print(s^b)"
   ]
  },
  {
   "cell_type": "markdown",
   "id": "9c4390d6-e966-473e-93dd-b80cd7347d23",
   "metadata": {},
   "source": [
    "Note:The ^ operator only allows you to join sets with sets, and not with other data types like you can with the symmetric_difference( ) function."
   ]
  },
  {
   "cell_type": "markdown",
   "id": "affefde0-d3df-4e81-ba77-204e74d9c38e",
   "metadata": {},
   "source": [
    "## Questions"
   ]
  },
  {
   "cell_type": "code",
   "execution_count": 66,
   "id": "b49db9f8-4038-46c6-b8df-053b83371e8b",
   "metadata": {
    "execution": {
     "iopub.execute_input": "2025-07-16T12:18:01.252333Z",
     "iopub.status.busy": "2025-07-16T12:18:01.251334Z",
     "iopub.status.idle": "2025-07-16T12:18:01.256622Z",
     "shell.execute_reply": "2025-07-16T12:18:01.256622Z",
     "shell.execute_reply.started": "2025-07-16T12:18:01.252333Z"
    }
   },
   "outputs": [
    {
     "name": "stdout",
     "output_type": "stream",
     "text": [
      "set1 is a subset of set2.\n"
     ]
    }
   ],
   "source": [
    "# Check if one set is a subset of another.\n",
    "set1 = {1,2,3,5}\n",
    "set2 = {1,2,3,4,5,6,7}\n",
    "flag = 1\n",
    "for i in set1 :\n",
    "     if i not in set2 :\n",
    "         flag = 0\n",
    "     else :\n",
    "         flag = 1\n",
    "if flag == 1 :\n",
    "    print(\"set1 is a subset of set2.\")\n",
    "else :\n",
    "    print(\"set1 is not a subset of set2.\")"
   ]
  },
  {
   "cell_type": "code",
   "execution_count": 67,
   "id": "4633452f-8c7f-4ca2-88d1-1e7fb4dcc913",
   "metadata": {
    "execution": {
     "iopub.execute_input": "2025-07-16T12:21:25.300745Z",
     "iopub.status.busy": "2025-07-16T12:21:25.299743Z",
     "iopub.status.idle": "2025-07-16T12:21:25.305743Z",
     "shell.execute_reply": "2025-07-16T12:21:25.305743Z",
     "shell.execute_reply.started": "2025-07-16T12:21:25.300745Z"
    }
   },
   "outputs": [
    {
     "name": "stdout",
     "output_type": "stream",
     "text": [
      "in the given list there are 5 unique elements.\n"
     ]
    }
   ],
   "source": [
    "# Count the number of unique elements in a list.\n",
    "set1 = {1,1,2,2,3,3,3,4,4,4,5,5,5,5,5,5}\n",
    "count = len(set(set1))\n",
    "print(\"in the given list there are\",count,\"unique elements.\")"
   ]
  },
  {
   "cell_type": "code",
   "execution_count": 1,
   "id": "bc4a97d2-8fda-4863-9592-eb4064e93404",
   "metadata": {
    "execution": {
     "iopub.execute_input": "2025-07-18T16:52:40.533307Z",
     "iopub.status.busy": "2025-07-18T16:52:40.533307Z",
     "iopub.status.idle": "2025-07-18T16:52:40.542818Z",
     "shell.execute_reply": "2025-07-18T16:52:40.542311Z",
     "shell.execute_reply.started": "2025-07-18T16:52:40.533307Z"
    }
   },
   "outputs": [
    {
     "name": "stdout",
     "output_type": "stream",
     "text": [
      "{5, 6, 7}\n"
     ]
    }
   ],
   "source": [
    "# intersection\n",
    "# Find common elements between two lists (without using set).\n",
    "lst1 = {1,2,3,4,5,6,7}\n",
    "lst2 = {5,6,7,8,9,10}\n",
    "common =[]\n",
    "for i in lst1 :\n",
    "    for j in lst2 :\n",
    "        if i==j :\n",
    "            common.append(i)\n",
    "print(set(common))"
   ]
  },
  {
   "cell_type": "code",
   "execution_count": 69,
   "id": "58c7ce95-af30-4d2f-bcf9-45f47a847f63",
   "metadata": {
    "execution": {
     "iopub.execute_input": "2025-07-16T12:28:13.934369Z",
     "iopub.status.busy": "2025-07-16T12:28:13.934369Z",
     "iopub.status.idle": "2025-07-16T12:28:13.939668Z",
     "shell.execute_reply": "2025-07-16T12:28:13.939668Z",
     "shell.execute_reply.started": "2025-07-16T12:28:13.934369Z"
    }
   },
   "outputs": [
    {
     "name": "stdout",
     "output_type": "stream",
     "text": [
      "{1, 2, 3, 6, 7, 8}\n"
     ]
    }
   ],
   "source": [
    "#  symmetric difference of two sets manually.\n",
    "s1 = {1,2,3,4,5}\n",
    "s2 = {4,5,6,7,8}\n",
    "new = []\n",
    "for i in s1 :\n",
    "    if i not in s2 :\n",
    "        new.append(i)\n",
    "for i in s2 :\n",
    "    if i not in s1 :\n",
    "        new.append(i)\n",
    "news = set(new)\n",
    "print(news)"
   ]
  },
  {
   "cell_type": "markdown",
   "id": "7f276ea7-2e39-4bd5-a2e8-d99f2bece48f",
   "metadata": {},
   "source": [
    "### What is frozenset in Python?"
   ]
  },
  {
   "cell_type": "markdown",
   "id": "7284ba94-5dd0-4e1e-9591-08086d1aba9e",
   "metadata": {},
   "source": [
    "A frozenset is an immutable version of a set in Python."
   ]
  },
  {
   "cell_type": "markdown",
   "id": "e1e1fae7-d792-4601-8229-80b351669823",
   "metadata": {},
   "source": [
    "* Why use frozenset?\n",
    "  1. To protect data from changes.\n",
    "  2. To use as a dictionary key or an element in another set (since only immutable objects are hashable).\n",
    "\n"
   ]
  },
  {
   "cell_type": "code",
   "execution_count": 7,
   "id": "f127c0fd-c429-40a0-9d85-37cecb7b8db3",
   "metadata": {
    "execution": {
     "iopub.execute_input": "2025-07-18T11:05:11.943795Z",
     "iopub.status.busy": "2025-07-18T11:05:11.942793Z",
     "iopub.status.idle": "2025-07-18T11:05:11.947246Z",
     "shell.execute_reply": "2025-07-18T11:05:11.947246Z",
     "shell.execute_reply.started": "2025-07-18T11:05:11.943795Z"
    }
   },
   "outputs": [
    {
     "name": "stdout",
     "output_type": "stream",
     "text": [
      "frozenset({1, 2, 3, 4, 5})\n",
      "<class 'frozenset'>\n"
     ]
    }
   ],
   "source": [
    "fs = frozenset([1,2,3,4,5])\n",
    "print(fs)\n",
    "print(type(fs))"
   ]
  },
  {
   "cell_type": "code",
   "execution_count": 9,
   "id": "ad9c1e7a-4949-4d66-914b-6ebf49940373",
   "metadata": {
    "execution": {
     "iopub.execute_input": "2025-07-18T11:08:55.548926Z",
     "iopub.status.busy": "2025-07-18T11:08:55.547923Z",
     "iopub.status.idle": "2025-07-18T11:08:55.552384Z",
     "shell.execute_reply": "2025-07-18T11:08:55.552384Z",
     "shell.execute_reply.started": "2025-07-18T11:08:55.548926Z"
    }
   },
   "outputs": [
    {
     "name": "stdout",
     "output_type": "stream",
     "text": [
      "frozenset({3.14, True, 123, 'mayank'})\n"
     ]
    }
   ],
   "source": [
    "fs = frozenset([\"mayank\",123,3.14,True])\n",
    "print(fs)"
   ]
  },
  {
   "cell_type": "code",
   "execution_count": 8,
   "id": "495a81d2-28c0-4985-969c-76cfcdbb976b",
   "metadata": {
    "execution": {
     "iopub.execute_input": "2025-07-18T11:05:34.547643Z",
     "iopub.status.busy": "2025-07-18T11:05:34.546642Z",
     "iopub.status.idle": "2025-07-18T11:05:34.570999Z",
     "shell.execute_reply": "2025-07-18T11:05:34.569993Z",
     "shell.execute_reply.started": "2025-07-18T11:05:34.547643Z"
    }
   },
   "outputs": [
    {
     "ename": "AttributeError",
     "evalue": "'frozenset' object has no attribute 'update'",
     "output_type": "error",
     "traceback": [
      "\u001b[31m---------------------------------------------------------------------------\u001b[39m",
      "\u001b[31mAttributeError\u001b[39m                            Traceback (most recent call last)",
      "\u001b[36mCell\u001b[39m\u001b[36m \u001b[39m\u001b[32mIn[8]\u001b[39m\u001b[32m, line 1\u001b[39m\n\u001b[32m----> \u001b[39m\u001b[32m1\u001b[39m \u001b[43mfs\u001b[49m\u001b[43m.\u001b[49m\u001b[43mupdate\u001b[49m([\u001b[32m6\u001b[39m,\u001b[32m7\u001b[39m,\u001b[32m8\u001b[39m])\n",
      "\u001b[31mAttributeError\u001b[39m: 'frozenset' object has no attribute 'update'"
     ]
    }
   ],
   "source": [
    "fs.update([6,7,8]) # ---> error : because frozenset is immutable."
   ]
  },
  {
   "cell_type": "code",
   "execution_count": 2,
   "id": "bf2086b9-da99-4bc8-b724-d73bbd6fb707",
   "metadata": {
    "execution": {
     "iopub.execute_input": "2025-07-18T11:00:00.154039Z",
     "iopub.status.busy": "2025-07-18T11:00:00.154039Z",
     "iopub.status.idle": "2025-07-18T11:00:00.158045Z",
     "shell.execute_reply": "2025-07-18T11:00:00.158045Z",
     "shell.execute_reply.started": "2025-07-18T11:00:00.154039Z"
    }
   },
   "outputs": [
    {
     "name": "stdout",
     "output_type": "stream",
     "text": [
      "frozenset({1, 2, 3, 4, 5})\n",
      "frozenset({3})\n",
      "frozenset({1, 2})\n"
     ]
    }
   ],
   "source": [
    "a = frozenset([1, 2, 3])\n",
    "b = frozenset([3, 4, 5])\n",
    "print(a.union(b))       \n",
    "print(a.intersection(b)) \n",
    "print(a.difference(b))"
   ]
  }
 ],
 "metadata": {
  "kernelspec": {
   "display_name": "Python 3 (ipykernel)",
   "language": "python",
   "name": "python3"
  },
  "language_info": {
   "codemirror_mode": {
    "name": "ipython",
    "version": 3
   },
   "file_extension": ".py",
   "mimetype": "text/x-python",
   "name": "python",
   "nbconvert_exporter": "python",
   "pygments_lexer": "ipython3",
   "version": "3.11.6"
  }
 },
 "nbformat": 4,
 "nbformat_minor": 5
}
