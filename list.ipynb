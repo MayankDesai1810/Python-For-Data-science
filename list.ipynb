{
 "cells": [
  {
   "cell_type": "markdown",
   "id": "d5d2fe32-3ac7-4fca-9953-468a59896ac0",
   "metadata": {},
   "source": [
    "# List"
   ]
  },
  {
   "cell_type": "markdown",
   "id": "05d74d41-6398-4b46-9c67-f291ef66b6b7",
   "metadata": {},
   "source": [
    "* list is data type where you can store multiplr item under one mane. more technically,lists act like dynemic arrays which menas you can add more items on the fly\n",
    "* characteristics of list :\n",
    "   1. oredered\n",
    "   2. mutable\n",
    "   3. can have duplicates\n",
    "   4. can be nested "
   ]
  },
  {
   "cell_type": "code",
   "execution_count": 2,
   "id": "a395bd73-b413-47a6-80ea-4870061acf30",
   "metadata": {},
   "outputs": [],
   "source": [
    "# Empty list\n",
    "my_list = []\n",
    "\n",
    "# List of numbers\n",
    "numbers = [1, 2, 3, 4 ] # ----> homogeneous list\n",
    "\n",
    "# Mixed data types\n",
    "mixed = [1, \"hello\", 3.14, True] # ----> hetrogeneous list\n",
    "\n",
    "# Nested list\n",
    "nested = [1, [2, 3], [4, 5]] # -----> 2D list\n",
    "nested = [[[1,2],[3,4]],[[5,6],[7,8]]] # -----> 3D list"
   ]
  },
  {
   "cell_type": "markdown",
   "id": "3efc0820",
   "metadata": {},
   "source": [
    "## indexing and Accessing Items"
   ]
  },
  {
   "cell_type": "code",
   "execution_count": 10,
   "id": "8c0a2a2a",
   "metadata": {
    "execution": {
     "iopub.execute_input": "2025-07-13T05:01:39.254603Z",
     "iopub.status.busy": "2025-07-13T05:01:39.253601Z",
     "iopub.status.idle": "2025-07-13T05:01:39.259628Z",
     "shell.execute_reply": "2025-07-13T05:01:39.259628Z",
     "shell.execute_reply.started": "2025-07-13T05:01:39.254603Z"
    }
   },
   "outputs": [
    {
     "name": "stdout",
     "output_type": "stream",
     "text": [
      "123\n",
      "234\n",
      "345\n",
      "456\n",
      "123\n",
      "234\n",
      "345\n",
      "456\n"
     ]
    }
   ],
   "source": [
    "# positive indexing\n",
    "s = [123,234,345,456]\n",
    "print(s[0])\n",
    "print(s[1])\n",
    "print(s[2])\n",
    "print(s[3])\n",
    "# negative indexing\n",
    "print(s[-4])\n",
    "print(s[-3])\n",
    "print(s[-2])\n",
    "print(s[-1])"
   ]
  },
  {
   "cell_type": "code",
   "execution_count": 19,
   "id": "8d0b2c09-31ff-4747-8743-6c339d72be0d",
   "metadata": {
    "execution": {
     "iopub.execute_input": "2025-07-13T05:10:00.343092Z",
     "iopub.status.busy": "2025-07-13T05:10:00.342091Z",
     "iopub.status.idle": "2025-07-13T05:10:00.347130Z",
     "shell.execute_reply": "2025-07-13T05:10:00.347130Z",
     "shell.execute_reply.started": "2025-07-13T05:10:00.342091Z"
    }
   },
   "outputs": [
    {
     "name": "stdout",
     "output_type": "stream",
     "text": [
      "[1, 2, 3, 4, 5, 6]\n",
      "[4, 5, 6, 7, 8]\n",
      "[1, 2, 3, 4, 5, 6, 7, 8, 9]\n",
      "[1, 2, 3, 4, 5, 6, 7, 8, 9]\n",
      "[5, 6, 7, 8]\n",
      "[1, 2, 3, 4, 5, 6]\n",
      "[9, 8, 7, 6, 5, 4, 3, 2, 1]\n"
     ]
    }
   ],
   "source": [
    "# slicing \n",
    "L = [1,2,3,4,5,6,7,8,9]\n",
    "# positive slicing\n",
    "print(L[0:6])\n",
    "print(L[3:8])\n",
    "# up to end\n",
    "print(L[0:])\n",
    "# up to first item\n",
    "print(L[:10])\n",
    "# negative slicing\n",
    "print(L[-5:-1])\n",
    "print(L[-9:-3])\n",
    "# reverse list\n",
    "print(L[::-1])"
   ]
  },
  {
   "cell_type": "code",
   "execution_count": 18,
   "id": "95fdf454-574d-4e10-8379-ddf7780364d5",
   "metadata": {
    "execution": {
     "iopub.execute_input": "2025-07-13T05:09:04.148770Z",
     "iopub.status.busy": "2025-07-13T05:09:04.147769Z",
     "iopub.status.idle": "2025-07-13T05:09:04.152790Z",
     "shell.execute_reply": "2025-07-13T05:09:04.152790Z",
     "shell.execute_reply.started": "2025-07-13T05:09:04.148770Z"
    }
   },
   "outputs": [
    {
     "name": "stdout",
     "output_type": "stream",
     "text": [
      "4\n",
      "3\n"
     ]
    }
   ],
   "source": [
    "L = [1, [2, 3], [4, 5]]\n",
    "# if you want to access 4\n",
    "print(L[2][0])\n",
    "# if you want to access 3\n",
    "print(L[1][1])"
   ]
  },
  {
   "cell_type": "code",
   "execution_count": 23,
   "id": "0ada6626-fcc2-4d1c-b403-8cf4efea9f70",
   "metadata": {
    "execution": {
     "iopub.execute_input": "2025-07-13T05:15:14.035936Z",
     "iopub.status.busy": "2025-07-13T05:15:14.035936Z",
     "iopub.status.idle": "2025-07-13T05:15:14.040751Z",
     "shell.execute_reply": "2025-07-13T05:15:14.040751Z",
     "shell.execute_reply.started": "2025-07-13T05:15:14.035936Z"
    }
   },
   "outputs": [
    {
     "name": "stdout",
     "output_type": "stream",
     "text": [
      "5\n",
      "4\n"
     ]
    }
   ],
   "source": [
    "L = [[[1,2],[3,4]],[[5,6],[7,8]]]\n",
    "# if you want to access 5\n",
    "print(L[1][0][0])\n",
    "# if you want to access 4\n",
    "print(L[0][1][1])"
   ]
  },
  {
   "cell_type": "markdown",
   "id": "4f2c1aa5",
   "metadata": {},
   "source": [
    "## changing name"
   ]
  },
  {
   "cell_type": "code",
   "execution_count": 25,
   "id": "f081e020",
   "metadata": {
    "execution": {
     "iopub.execute_input": "2025-07-13T05:16:19.544117Z",
     "iopub.status.busy": "2025-07-13T05:16:19.544117Z",
     "iopub.status.idle": "2025-07-13T05:16:19.549258Z",
     "shell.execute_reply": "2025-07-13T05:16:19.549258Z",
     "shell.execute_reply.started": "2025-07-13T05:16:19.544117Z"
    }
   },
   "outputs": [
    {
     "name": "stdout",
     "output_type": "stream",
     "text": [
      "['orange', 'banana', 'mango', 'chery']\n"
     ]
    }
   ],
   "source": [
    "# lists are mutable You can change items \n",
    "# after creating the list.\n",
    "s = ['apple','banana','mango','kiwi']\n",
    "s[0] = 'orange'\n",
    "s[3] = 'chery'\n",
    "print(s)"
   ]
  },
  {
   "cell_type": "code",
   "execution_count": 26,
   "id": "2265afcd-f915-4aae-97e4-789e1497065c",
   "metadata": {
    "execution": {
     "iopub.execute_input": "2025-07-13T05:18:29.272983Z",
     "iopub.status.busy": "2025-07-13T05:18:29.272983Z",
     "iopub.status.idle": "2025-07-13T05:18:29.276982Z",
     "shell.execute_reply": "2025-07-13T05:18:29.276982Z",
     "shell.execute_reply.started": "2025-07-13T05:18:29.272983Z"
    }
   },
   "outputs": [
    {
     "name": "stdout",
     "output_type": "stream",
     "text": [
      "['apple', 111, 222, 'kiwi']\n"
     ]
    }
   ],
   "source": [
    "s = ['apple','banana','mango','kiwi']\n",
    "s[1:3] = [111,222]\n",
    "print(s)"
   ]
  },
  {
   "cell_type": "markdown",
   "id": "64f1dca0-c678-4e6b-818b-36b46d5492ed",
   "metadata": {},
   "source": [
    "## adding items to list"
   ]
  },
  {
   "cell_type": "markdown",
   "id": "bfa55242-e780-46d2-85de-f6743b1e3114",
   "metadata": {},
   "source": [
    "### append( )"
   ]
  },
  {
   "cell_type": "markdown",
   "id": "2ec503e7-bbbb-4b24-b097-e081e3ec8bfd",
   "metadata": {},
   "source": [
    "* adds the element x to the end of the list.\n",
    "* key points :\n",
    "   1. Adds one element (object) as a single item.\n",
    "   2. if you append a list, it adds the whole list as one element, not individual elements"
   ]
  },
  {
   "cell_type": "code",
   "execution_count": 2,
   "id": "1e3ae4a3-7157-45ef-8bbc-2291ca48bdb3",
   "metadata": {
    "execution": {
     "iopub.execute_input": "2025-08-16T11:17:57.865289Z",
     "iopub.status.busy": "2025-08-16T11:17:57.864247Z",
     "iopub.status.idle": "2025-08-16T11:17:57.872932Z",
     "shell.execute_reply": "2025-08-16T11:17:57.872424Z",
     "shell.execute_reply.started": "2025-08-16T11:17:57.865289Z"
    }
   },
   "outputs": [
    {
     "name": "stdout",
     "output_type": "stream",
     "text": [
      "[1, 2, 3, 4, 5, 6, 7]\n",
      "[1, 2, 3, 4, 5, 6, 7, [7, 8, 9]]\n",
      "[1, 2, 3, 4, 5, 6, 7, [7, 8, 9], 'mayank']\n"
     ]
    }
   ],
   "source": [
    "l = [1,2,3,4,5,6]\n",
    "l.append(7)\n",
    "print(l)\n",
    "l.append([7,8,9])\n",
    "print(l)\n",
    "l.append(\"mayank\")\n",
    "print(l)"
   ]
  },
  {
   "cell_type": "markdown",
   "id": "a434b9d0-34a3-44d5-a421-ae5ef295674b",
   "metadata": {},
   "source": [
    "### entend( )"
   ]
  },
  {
   "cell_type": "markdown",
   "id": "7dc0281b-ebf6-4f2c-8955-4e1ccf0235ba",
   "metadata": {},
   "source": [
    "*  extends the list by appending elements from the iterable\n",
    "*  key points :\n",
    "   1. Adds each element of the iterable to the list\n",
    "   2. Unlike append( ), it does not add the iterable as a single item"
   ]
  },
  {
   "cell_type": "code",
   "execution_count": 31,
   "id": "429cd3e0-2bf6-45cb-b1a6-17fe8870771a",
   "metadata": {
    "execution": {
     "iopub.execute_input": "2025-07-13T05:29:45.728306Z",
     "iopub.status.busy": "2025-07-13T05:29:45.728306Z",
     "iopub.status.idle": "2025-07-13T05:29:45.734304Z",
     "shell.execute_reply": "2025-07-13T05:29:45.734304Z",
     "shell.execute_reply.started": "2025-07-13T05:29:45.728306Z"
    }
   },
   "outputs": [
    {
     "name": "stdout",
     "output_type": "stream",
     "text": [
      "[1, 2, 3, 4, 5, 6, 7, 8, 9]\n",
      "[1, 2, 3, 4, 5, 6, 'm', 'a', 'y', 'a', 'n', 'k']\n"
     ]
    }
   ],
   "source": [
    "l = [1,2,3,4,5,6]\n",
    "l.extend([7,8,9])\n",
    "print(l)\n",
    "l = [1,2,3,4,5,6]\n",
    "l.extend(\"mayank\")\n",
    "print(l)"
   ]
  },
  {
   "cell_type": "markdown",
   "id": "1bef2be1-035b-4f8c-822c-e01b54cc92be",
   "metadata": {},
   "source": [
    "### insert( )"
   ]
  },
  {
   "cell_type": "markdown",
   "id": "3c6714e7-2d89-4c37-b2bc-9506b8545c97",
   "metadata": {},
   "source": [
    "* ```list.insert(index, x)``` inserts the element x at the given position index. Shifts the elements at and after index to the right.\n",
    "* If index is greater than list length, it appends."
   ]
  },
  {
   "cell_type": "code",
   "execution_count": 32,
   "id": "0751b11c-061f-4289-9f2a-639ecfbec457",
   "metadata": {
    "execution": {
     "iopub.execute_input": "2025-07-13T05:45:07.769180Z",
     "iopub.status.busy": "2025-07-13T05:45:07.768181Z",
     "iopub.status.idle": "2025-07-13T05:45:07.773084Z",
     "shell.execute_reply": "2025-07-13T05:45:07.773084Z",
     "shell.execute_reply.started": "2025-07-13T05:45:07.769180Z"
    }
   },
   "outputs": [
    {
     "name": "stdout",
     "output_type": "stream",
     "text": [
      "[1, 100, 2, 3, 4, 5, 6]\n"
     ]
    }
   ],
   "source": [
    "l = [1,2,3,4,5,6]\n",
    "l.insert(1,100)\n",
    "print(l)"
   ]
  },
  {
   "cell_type": "code",
   "execution_count": 34,
   "id": "5eefec81-dca0-4f9b-831c-42e0b930a28d",
   "metadata": {
    "execution": {
     "iopub.execute_input": "2025-07-13T05:46:13.602289Z",
     "iopub.status.busy": "2025-07-13T05:46:13.601288Z",
     "iopub.status.idle": "2025-07-13T05:46:13.606290Z",
     "shell.execute_reply": "2025-07-13T05:46:13.606290Z",
     "shell.execute_reply.started": "2025-07-13T05:46:13.602289Z"
    }
   },
   "outputs": [
    {
     "name": "stdout",
     "output_type": "stream",
     "text": [
      "[1, 100, 2, 3, 4, 5, 6]\n"
     ]
    }
   ],
   "source": [
    "l = [1,2,3,4,5,6]\n",
    "l.insert(-5,100)\n",
    "print(l)"
   ]
  },
  {
   "cell_type": "code",
   "execution_count": 35,
   "id": "cd535b0e-9bb7-4a9d-afbd-7375cc711d7a",
   "metadata": {
    "execution": {
     "iopub.execute_input": "2025-07-13T05:46:47.464425Z",
     "iopub.status.busy": "2025-07-13T05:46:47.464425Z",
     "iopub.status.idle": "2025-07-13T05:46:47.468436Z",
     "shell.execute_reply": "2025-07-13T05:46:47.468436Z",
     "shell.execute_reply.started": "2025-07-13T05:46:47.464425Z"
    }
   },
   "outputs": [
    {
     "name": "stdout",
     "output_type": "stream",
     "text": [
      "[1, 2, 3, 4, 5, 6, 100]\n"
     ]
    }
   ],
   "source": [
    "l = [1,2,3,4,5,6]\n",
    "l.insert(9,100)\n",
    "print(l)"
   ]
  },
  {
   "cell_type": "markdown",
   "id": "09d103cd-b123-448f-9329-de60a60d9bd9",
   "metadata": {},
   "source": [
    "## deleting item from list"
   ]
  },
  {
   "cell_type": "markdown",
   "id": "50a5e1f7-50aa-4203-8fd4-8ff71819a45b",
   "metadata": {},
   "source": [
    "### del"
   ]
  },
  {
   "cell_type": "markdown",
   "id": "766f79f0-2110-4d71-961f-37e0f6eb8ebb",
   "metadata": {},
   "source": [
    "* del is a Python statement (not a method) used to delete an item at a specific index or even the entire list."
   ]
  },
  {
   "cell_type": "code",
   "execution_count": 36,
   "id": "4c9c0043-e5d5-4e2b-949a-4f1f03b7068d",
   "metadata": {
    "execution": {
     "iopub.execute_input": "2025-07-13T05:51:06.002333Z",
     "iopub.status.busy": "2025-07-13T05:51:06.002333Z",
     "iopub.status.idle": "2025-07-13T05:51:06.026463Z",
     "shell.execute_reply": "2025-07-13T05:51:06.025450Z",
     "shell.execute_reply.started": "2025-07-13T05:51:06.002333Z"
    }
   },
   "outputs": [
    {
     "ename": "NameError",
     "evalue": "name 'l' is not defined",
     "output_type": "error",
     "traceback": [
      "\u001b[31m---------------------------------------------------------------------------\u001b[39m",
      "\u001b[31mNameError\u001b[39m                                 Traceback (most recent call last)",
      "\u001b[36mCell\u001b[39m\u001b[36m \u001b[39m\u001b[32mIn[36]\u001b[39m\u001b[32m, line 3\u001b[39m\n\u001b[32m      1\u001b[39m l = [\u001b[32m1\u001b[39m,\u001b[32m2\u001b[39m,\u001b[32m3\u001b[39m,\u001b[32m4\u001b[39m,\u001b[32m5\u001b[39m,\u001b[32m6\u001b[39m,\u001b[32m7\u001b[39m]\n\u001b[32m      2\u001b[39m \u001b[38;5;28;01mdel\u001b[39;00m l\n\u001b[32m----> \u001b[39m\u001b[32m3\u001b[39m \u001b[38;5;28mprint\u001b[39m(\u001b[43ml\u001b[49m)\n",
      "\u001b[31mNameError\u001b[39m: name 'l' is not defined"
     ]
    }
   ],
   "source": [
    "l = [1,2,3,4,5,6,7]\n",
    "del l\n",
    "print(l)"
   ]
  },
  {
   "cell_type": "code",
   "execution_count": 37,
   "id": "45122e66-c204-45d6-a01a-125727a957aa",
   "metadata": {
    "execution": {
     "iopub.execute_input": "2025-07-13T05:54:33.581250Z",
     "iopub.status.busy": "2025-07-13T05:54:33.580251Z",
     "iopub.status.idle": "2025-07-13T05:54:33.584532Z",
     "shell.execute_reply": "2025-07-13T05:54:33.584532Z",
     "shell.execute_reply.started": "2025-07-13T05:54:33.581250Z"
    }
   },
   "outputs": [
    {
     "name": "stdout",
     "output_type": "stream",
     "text": [
      "[1, 6, 7]\n"
     ]
    }
   ],
   "source": [
    "l = [1,2,3,4,5,6,7]\n",
    "del l[1:5]\n",
    "print(l)"
   ]
  },
  {
   "cell_type": "markdown",
   "id": "02d310fe-fcf7-48e9-aa08-3cb1f071dc3f",
   "metadata": {},
   "source": [
    "### clear( )"
   ]
  },
  {
   "cell_type": "markdown",
   "id": "7c2cb6d5-113f-4b27-925a-a3c5c242c413",
   "metadata": {},
   "source": [
    "* ```list.clear( )``` removes all items from the list, leaving it empty."
   ]
  },
  {
   "cell_type": "code",
   "execution_count": 38,
   "id": "7cca2ec5-ae09-4984-93f1-56fe7c3def78",
   "metadata": {
    "execution": {
     "iopub.execute_input": "2025-07-13T05:55:50.814571Z",
     "iopub.status.busy": "2025-07-13T05:55:50.813572Z",
     "iopub.status.idle": "2025-07-13T05:55:50.818036Z",
     "shell.execute_reply": "2025-07-13T05:55:50.818036Z",
     "shell.execute_reply.started": "2025-07-13T05:55:50.814571Z"
    }
   },
   "outputs": [
    {
     "name": "stdout",
     "output_type": "stream",
     "text": [
      "[]\n"
     ]
    }
   ],
   "source": [
    "numbers = [1, 2, 3, 4]\n",
    "numbers.clear()\n",
    "print(numbers)"
   ]
  },
  {
   "cell_type": "markdown",
   "id": "a6236f95-c827-4ec9-9b02-6cd644d61a8a",
   "metadata": {},
   "source": [
    "### remove( )"
   ]
  },
  {
   "cell_type": "markdown",
   "id": "5bc3a38c-9896-4142-95da-5d8bb066b7fb",
   "metadata": {},
   "source": [
    "* ```list.remove(x)``` removes the first occurrence of the value x from the list.\n",
    "* If the value is not found, Python raises a ValueError"
   ]
  },
  {
   "cell_type": "code",
   "execution_count": 39,
   "id": "1396511b-5f29-445f-8f04-91fde4d67821",
   "metadata": {
    "execution": {
     "iopub.execute_input": "2025-07-13T05:57:37.862299Z",
     "iopub.status.busy": "2025-07-13T05:57:37.861299Z",
     "iopub.status.idle": "2025-07-13T05:57:37.866211Z",
     "shell.execute_reply": "2025-07-13T05:57:37.866211Z",
     "shell.execute_reply.started": "2025-07-13T05:57:37.862299Z"
    }
   },
   "outputs": [
    {
     "name": "stdout",
     "output_type": "stream",
     "text": [
      "['a', 'c', 'b']\n"
     ]
    }
   ],
   "source": [
    "letters = ['a', 'b', 'c', 'b']\n",
    "letters.remove('b')\n",
    "print(letters)"
   ]
  },
  {
   "cell_type": "code",
   "execution_count": 1,
   "id": "e69ae675-1cff-46d2-ad0f-49d8c6832591",
   "metadata": {
    "execution": {
     "iopub.execute_input": "2025-08-16T13:31:52.872551Z",
     "iopub.status.busy": "2025-08-16T13:31:52.871535Z",
     "iopub.status.idle": "2025-08-16T13:31:53.504273Z",
     "shell.execute_reply": "2025-08-16T13:31:53.502263Z",
     "shell.execute_reply.started": "2025-08-16T13:31:52.872551Z"
    }
   },
   "outputs": [
    {
     "ename": "NameError",
     "evalue": "name 'letters' is not defined",
     "output_type": "error",
     "traceback": [
      "\u001b[31m---------------------------------------------------------------------------\u001b[39m",
      "\u001b[31mNameError\u001b[39m                                 Traceback (most recent call last)",
      "\u001b[36mCell\u001b[39m\u001b[36m \u001b[39m\u001b[32mIn[1]\u001b[39m\u001b[32m, line 1\u001b[39m\n\u001b[32m----> \u001b[39m\u001b[32m1\u001b[39m \u001b[43mletters\u001b[49m.remove(\u001b[33m'\u001b[39m\u001b[33mz\u001b[39m\u001b[33m'\u001b[39m)\n",
      "\u001b[31mNameError\u001b[39m: name 'letters' is not defined"
     ]
    }
   ],
   "source": [
    "letters.remove('z')"
   ]
  },
  {
   "cell_type": "markdown",
   "id": "00d17fc9-871b-4c99-9029-b677fd329389",
   "metadata": {},
   "source": [
    "### pop( ) "
   ]
  },
  {
   "cell_type": "markdown",
   "id": "0d90ca9e-46a7-44f3-af0a-634305b224f0",
   "metadata": {},
   "source": [
    "* ```list.pop(index)``` removes and returns the item at the given index.\n",
    "* If no index is given, it removes the last item"
   ]
  },
  {
   "cell_type": "code",
   "execution_count": 2,
   "id": "96319f7f-bf2f-4e38-b81b-a818c3720858",
   "metadata": {
    "execution": {
     "iopub.execute_input": "2025-08-16T13:31:55.934968Z",
     "iopub.status.busy": "2025-08-16T13:31:55.933964Z",
     "iopub.status.idle": "2025-08-16T13:31:55.941567Z",
     "shell.execute_reply": "2025-08-16T13:31:55.940966Z",
     "shell.execute_reply.started": "2025-08-16T13:31:55.934968Z"
    }
   },
   "outputs": [
    {
     "name": "stdout",
     "output_type": "stream",
     "text": [
      "apple\n",
      "['banana', 'cherry']\n"
     ]
    }
   ],
   "source": [
    "fruits = ['apple', 'banana', 'cherry']\n",
    "l = fruits.pop(0)\n",
    "print(l)     \n",
    "print(fruits)"
   ]
  },
  {
   "cell_type": "code",
   "execution_count": 3,
   "id": "a1c2730e-a308-499b-be8a-2da703bb297f",
   "metadata": {
    "execution": {
     "iopub.execute_input": "2025-08-16T13:31:57.586942Z",
     "iopub.status.busy": "2025-08-16T13:31:57.585944Z",
     "iopub.status.idle": "2025-08-16T13:31:57.593013Z",
     "shell.execute_reply": "2025-08-16T13:31:57.592001Z",
     "shell.execute_reply.started": "2025-08-16T13:31:57.586942Z"
    }
   },
   "outputs": [
    {
     "name": "stdout",
     "output_type": "stream",
     "text": [
      "[]\n"
     ]
    }
   ],
   "source": [
    "fruits = ['apple', 'banana', 'cherry']\n",
    "fruits.pop()\n",
    "fruits.pop()\n",
    "fruits.pop()\n",
    "print(fruits)"
   ]
  },
  {
   "cell_type": "markdown",
   "id": "177b57eb-b433-4f22-b336-773d7d163f10",
   "metadata": {},
   "source": [
    "## functions"
   ]
  },
  {
   "cell_type": "code",
   "execution_count": 4,
   "id": "296989d6-2ac0-4d06-9bcb-f376f446d757",
   "metadata": {
    "execution": {
     "iopub.execute_input": "2025-08-16T13:33:34.017223Z",
     "iopub.status.busy": "2025-08-16T13:33:34.016224Z",
     "iopub.status.idle": "2025-08-16T13:33:34.024170Z",
     "shell.execute_reply": "2025-08-16T13:33:34.023162Z",
     "shell.execute_reply.started": "2025-08-16T13:33:34.016224Z"
    }
   },
   "outputs": [
    {
     "name": "stdout",
     "output_type": "stream",
     "text": [
      "6\n",
      "1\n",
      "21\n",
      "[1, 2, 3, 4, 5, 6]\n",
      "[5, 6, 4, 3, 1, 2]\n",
      "[6, 5, 4, 3, 2, 1]\n"
     ]
    }
   ],
   "source": [
    "l = [5,6,4,3,1,2]\n",
    "# max()\n",
    "print(max(l))\n",
    "# min()\n",
    "print(min(l))\n",
    "# sum()\n",
    "print(sum(l)) \n",
    "# sorted()\n",
    "print(sorted(l)) # ----> this is not permanent operation \n",
    "print(l)\n",
    "print(sorted(l,reverse=True))\n",
    "# note : this function only applicable on homogeneous list"
   ]
  },
  {
   "cell_type": "code",
   "execution_count": 5,
   "id": "b37acd90-09a8-45d1-8897-48e7b3b183e5",
   "metadata": {
    "execution": {
     "iopub.execute_input": "2025-08-16T13:33:37.421147Z",
     "iopub.status.busy": "2025-08-16T13:33:37.420142Z",
     "iopub.status.idle": "2025-08-16T13:33:37.428762Z",
     "shell.execute_reply": "2025-08-16T13:33:37.427207Z",
     "shell.execute_reply.started": "2025-08-16T13:33:37.421147Z"
    }
   },
   "outputs": [
    {
     "name": "stdout",
     "output_type": "stream",
     "text": [
      "13\n",
      "5\n",
      "7\n"
     ]
    }
   ],
   "source": [
    "l = [1,3,5,7,2,4,6,8,2,4,2,2,2,]\n",
    "# len()\n",
    "print(len(l))\n",
    "# count()\n",
    "print(l.count(2))\n",
    "# index() ---> return position of item from given list\n",
    "print(l.index(8))"
   ]
  },
  {
   "cell_type": "code",
   "execution_count": 6,
   "id": "4437d516-1dec-4471-86a7-8ddd5dc0012c",
   "metadata": {
    "execution": {
     "iopub.execute_input": "2025-08-16T13:33:40.908714Z",
     "iopub.status.busy": "2025-08-16T13:33:40.908714Z",
     "iopub.status.idle": "2025-08-16T13:33:40.915220Z",
     "shell.execute_reply": "2025-08-16T13:33:40.914151Z",
     "shell.execute_reply.started": "2025-08-16T13:33:40.908714Z"
    }
   },
   "outputs": [
    {
     "name": "stdout",
     "output_type": "stream",
     "text": [
      "[9, 8, 7, 6, 5, 4, 3, 2, 1]\n"
     ]
    }
   ],
   "source": [
    "l = [1,2,3,4,5,6,7,8,9]\n",
    "l.reverse()  # ----> this is permanent operation\n",
    "print(l)"
   ]
  },
  {
   "cell_type": "code",
   "execution_count": 10,
   "id": "42af119b-9d3e-420a-81a1-6a17317461ae",
   "metadata": {
    "execution": {
     "iopub.execute_input": "2025-07-13T15:46:48.712702Z",
     "iopub.status.busy": "2025-07-13T15:46:48.712702Z",
     "iopub.status.idle": "2025-07-13T15:46:48.717815Z",
     "shell.execute_reply": "2025-07-13T15:46:48.716804Z",
     "shell.execute_reply.started": "2025-07-13T15:46:48.712702Z"
    }
   },
   "outputs": [
    {
     "name": "stdout",
     "output_type": "stream",
     "text": [
      "[1, 2, 3, 4, 5, 6, 7, 8, 9]\n"
     ]
    }
   ],
   "source": [
    "l = [1,3,5,7,9,2,4,6,8]\n",
    "l.sort()   # -----> this is permanent operation\n",
    "print(l)"
   ]
  },
  {
   "cell_type": "markdown",
   "id": "7efab7a3-4eb0-46bd-9799-fd756ed9f463",
   "metadata": {},
   "source": [
    "## zip( )"
   ]
  },
  {
   "cell_type": "markdown",
   "id": "8b50dce3-fe52-4a9e-8b75-1bf0d1cee90d",
   "metadata": {},
   "source": [
    "* built-in Python function that aggregates elements from two or more iterables (like lists, tuples, strings) and     returns an iterator of tuples."
   ]
  },
  {
   "cell_type": "code",
   "execution_count": 1,
   "id": "fe89d9c3-6a04-4232-987a-ba3386663295",
   "metadata": {
    "execution": {
     "iopub.execute_input": "2025-07-14T02:44:16.189330Z",
     "iopub.status.busy": "2025-07-14T02:44:16.188332Z",
     "iopub.status.idle": "2025-07-14T02:44:16.199406Z",
     "shell.execute_reply": "2025-07-14T02:44:16.198395Z",
     "shell.execute_reply.started": "2025-07-14T02:44:16.189330Z"
    }
   },
   "outputs": [
    {
     "name": "stdout",
     "output_type": "stream",
     "text": [
      "<zip object at 0x0000013B2DF82740>\n"
     ]
    }
   ],
   "source": [
    "names = [\"Alice\", \"Bob\", \"Charlie\"]\n",
    "scores = [85, 90, 95]\n",
    "zipped = zip(names,scores) # The result of zip() is not a list, it is a zip object \n",
    "print(zipped)\n",
    "# A zip object is like a sealed container of paired items.\n",
    "# You have to open it (using list(), tuple(), or a for loop) to see the content."
   ]
  },
  {
   "cell_type": "code",
   "execution_count": 16,
   "id": "e4cf0f7d-0aa1-4224-aeba-14e298719a85",
   "metadata": {
    "execution": {
     "iopub.execute_input": "2025-07-13T16:26:43.568863Z",
     "iopub.status.busy": "2025-07-13T16:26:43.568863Z",
     "iopub.status.idle": "2025-07-13T16:26:43.573369Z",
     "shell.execute_reply": "2025-07-13T16:26:43.572862Z",
     "shell.execute_reply.started": "2025-07-13T16:26:43.568863Z"
    }
   },
   "outputs": [
    {
     "name": "stdout",
     "output_type": "stream",
     "text": [
      "[('Alice', 85), ('Bob', 90), ('Charlie', 95)]\n"
     ]
    }
   ],
   "source": [
    "print(list(zipped))"
   ]
  },
  {
   "cell_type": "code",
   "execution_count": 2,
   "id": "8829d923-8627-43f8-a060-9f5308ce664c",
   "metadata": {
    "execution": {
     "iopub.execute_input": "2025-07-14T04:01:51.510776Z",
     "iopub.status.busy": "2025-07-14T04:01:51.510776Z",
     "iopub.status.idle": "2025-07-14T04:01:51.520901Z",
     "shell.execute_reply": "2025-07-14T04:01:51.519853Z",
     "shell.execute_reply.started": "2025-07-14T04:01:51.510776Z"
    }
   },
   "outputs": [
    {
     "name": "stdout",
     "output_type": "stream",
     "text": [
      "[('Alice', 85), ('Bob', 90)]\n"
     ]
    }
   ],
   "source": [
    "# zip() is valid even when the lists have different lengths.\n",
    "#  It only pairs up to the shortest list.\n",
    "names = [\"Alice\", \"Bob\"]\n",
    "scores = [85, 90, 95]\n",
    "zipped = zip(names,scores)\n",
    "print(list(zipped))"
   ]
  },
  {
   "cell_type": "code",
   "execution_count": 7,
   "id": "32ce2d11-a65e-42d2-acd6-78da28f8caa3",
   "metadata": {
    "execution": {
     "iopub.execute_input": "2025-07-19T03:52:09.190350Z",
     "iopub.status.busy": "2025-07-19T03:52:09.189352Z",
     "iopub.status.idle": "2025-07-19T03:52:09.194591Z",
     "shell.execute_reply": "2025-07-19T03:52:09.194591Z",
     "shell.execute_reply.started": "2025-07-19T03:52:09.190350Z"
    }
   },
   "outputs": [
    {
     "name": "stdout",
     "output_type": "stream",
     "text": [
      "mayank 18 surat\n",
      "jal 18 vadodara\n",
      "kartikeya 19 vadodara\n"
     ]
    }
   ],
   "source": [
    "# zip() function with loops\n",
    "name = [\"mayank\",\"jal\",\"kartikeya\"]\n",
    "age = [18,18,19]\n",
    "city = [\"surat\",\"vadodara\",\"vadodara\"]\n",
    "z = zip(name,age,city) \n",
    "for (i,j,k) in z :\n",
    "    print(i,j,k)"
   ]
  },
  {
   "cell_type": "markdown",
   "id": "abb157e9-70d3-4490-addd-f927df69ff6d",
   "metadata": {},
   "source": [
    "## List Comprehension"
   ]
  },
  {
   "cell_type": "markdown",
   "id": "ab8d4002-7020-4c5d-b3ff-fc901ef2868f",
   "metadata": {},
   "source": [
    "* List comprehension is a shortcut way to create a list using a for loop in one line\n",
    "* If the logic is too complex, it’s better to use a normal for loop for clarity."
   ]
  },
  {
   "cell_type": "markdown",
   "id": "3617dcb3-f14e-4ec7-b1db-08d5ffa88a8c",
   "metadata": {},
   "source": [
    "```python\n",
    "# Basic Syntax:\n",
    " lst = [expression for item in iterable if condition]\n",
    "# expression --> what to do with each item\n",
    "# iterable --> the data you're looping over\n",
    "# condition (optional) --> filter items\n",
    "```"
   ]
  },
  {
   "cell_type": "code",
   "execution_count": 4,
   "id": "1c1a0099-4d91-4864-802c-5a2eb1eeee8d",
   "metadata": {
    "execution": {
     "iopub.execute_input": "2025-07-14T04:07:01.842006Z",
     "iopub.status.busy": "2025-07-14T04:07:01.840943Z",
     "iopub.status.idle": "2025-07-14T04:07:01.847955Z",
     "shell.execute_reply": "2025-07-14T04:07:01.847955Z",
     "shell.execute_reply.started": "2025-07-14T04:07:01.842006Z"
    }
   },
   "outputs": [
    {
     "name": "stdout",
     "output_type": "stream",
     "text": [
      "[1, 4, 9, 16, 25, 36]\n"
     ]
    }
   ],
   "source": [
    "# square list\n",
    "lst1 = [1,2,3,4,5,6]\n",
    "lst2 = [x**2 for x in lst1]\n",
    "print(lst2)"
   ]
  },
  {
   "cell_type": "code",
   "execution_count": 6,
   "id": "274bb3f7-9ca3-4a31-99dc-37f38fc24e1d",
   "metadata": {
    "execution": {
     "iopub.execute_input": "2025-07-14T04:10:05.999023Z",
     "iopub.status.busy": "2025-07-14T04:10:05.998022Z",
     "iopub.status.idle": "2025-07-14T04:10:06.006013Z",
     "shell.execute_reply": "2025-07-14T04:10:06.005002Z",
     "shell.execute_reply.started": "2025-07-14T04:10:05.999023Z"
    }
   },
   "outputs": [
    {
     "name": "stdout",
     "output_type": "stream",
     "text": [
      "[2, 4, 6, 8, 10]\n"
     ]
    }
   ],
   "source": [
    "# Filter even numbers\n",
    "lst1 = [1,2,3,4,5,6,7,8,9,10]\n",
    "lst2 = [x for x in lst1 if x%2==0]\n",
    "print(lst2)"
   ]
  },
  {
   "cell_type": "code",
   "execution_count": 7,
   "id": "e4402b50-8aaf-4162-803a-1cbb7758c729",
   "metadata": {
    "execution": {
     "iopub.execute_input": "2025-07-14T04:12:01.793220Z",
     "iopub.status.busy": "2025-07-14T04:12:01.792219Z",
     "iopub.status.idle": "2025-07-14T04:12:01.799738Z",
     "shell.execute_reply": "2025-07-14T04:12:01.799230Z",
     "shell.execute_reply.started": "2025-07-14T04:12:01.793220Z"
    }
   },
   "outputs": [
    {
     "name": "stdout",
     "output_type": "stream",
     "text": [
      "['MAYANK', 'SUJAL', 'JAL', 'VEDANT', 'DISHANT']\n"
     ]
    }
   ],
   "source": [
    "# Convert to uppercase\n",
    "lst1 = ['mayank','sujal','jal','vedant','dishant']\n",
    "lst2 = [x.upper() for x in lst1]\n",
    "print(lst2)"
   ]
  },
  {
   "cell_type": "markdown",
   "id": "bd98a4c5-681e-4415-b010-f7d9b32fd172",
   "metadata": {},
   "source": [
    "```python\n",
    "lst = [expr1 if cond1 else expr2 if cond2 else expr3 for x in iterable]\n",
    "# you can simulate if...elif...else using nested (chained) ternary \n",
    "# expressions inside the list comprehension.\n",
    "```"
   ]
  },
  {
   "cell_type": "code",
   "execution_count": 8,
   "id": "88a3a0a0-576f-44a4-84b6-511e6c24b5c3",
   "metadata": {
    "execution": {
     "iopub.execute_input": "2025-07-14T04:16:05.929783Z",
     "iopub.status.busy": "2025-07-14T04:16:05.928829Z",
     "iopub.status.idle": "2025-07-14T04:16:05.937709Z",
     "shell.execute_reply": "2025-07-14T04:16:05.936688Z",
     "shell.execute_reply.started": "2025-07-14T04:16:05.929783Z"
    }
   },
   "outputs": [
    {
     "name": "stdout",
     "output_type": "stream",
     "text": [
      "['odd', 'even', 'odd', 'even', 'odd', 'even', 'odd', 'even', 'odd']\n"
     ]
    }
   ],
   "source": [
    "# Replace numbers with \"even\" or \"odd\"\n",
    "lst1 = [1,2,3,4,5,6,7,8,9]\n",
    "lst2 = [\"even\" if x%2==0 else \"odd\" for x in lst1]\n",
    "print(lst2)"
   ]
  },
  {
   "cell_type": "code",
   "execution_count": 11,
   "id": "c1fc8f3b-e990-4179-9675-b7b20474a2eb",
   "metadata": {
    "execution": {
     "iopub.execute_input": "2025-07-14T04:21:51.635043Z",
     "iopub.status.busy": "2025-07-14T04:21:51.635043Z",
     "iopub.status.idle": "2025-07-14T04:21:51.643445Z",
     "shell.execute_reply": "2025-07-14T04:21:51.641431Z",
     "shell.execute_reply.started": "2025-07-14T04:21:51.635043Z"
    }
   },
   "outputs": [
    {
     "name": "stdout",
     "output_type": "stream",
     "text": [
      "['positive', 'negative', 'positive', 'negative', 'positive', 'negative', 'zero']\n"
     ]
    }
   ],
   "source": [
    "# Label positive/negative numbers\n",
    "lst1 = [1,-1,2,-2,3,-3,0]\n",
    "lst2 = [\"positive\" if x>0 else \"negative\" if x<0 else \"zero\" for x in lst1]\n",
    "print(lst2)"
   ]
  },
  {
   "cell_type": "code",
   "execution_count": 12,
   "id": "4eb0b28a-bda0-4e00-8ab4-649a341d57be",
   "metadata": {
    "execution": {
     "iopub.execute_input": "2025-07-14T04:25:03.371901Z",
     "iopub.status.busy": "2025-07-14T04:25:03.370902Z",
     "iopub.status.idle": "2025-07-14T04:25:03.378013Z",
     "shell.execute_reply": "2025-07-14T04:25:03.376965Z",
     "shell.execute_reply.started": "2025-07-14T04:25:03.371901Z"
    }
   },
   "outputs": [
    {
     "name": "stdout",
     "output_type": "stream",
     "text": [
      "['no', 'yes', 'no', 'yes']\n"
     ]
    }
   ],
   "source": [
    "# Show \"Yes\" if length of string > 3, else \"No\"\n",
    "words = [\"hi\", \"book\", \"sun\", \"apple\"]\n",
    "result = ['yes' if len(s)>3 else 'no' for s in words]\n",
    "print(result)"
   ]
  },
  {
   "cell_type": "code",
   "execution_count": 19,
   "id": "99de833c-d2c8-4482-9866-28960a3a08f7",
   "metadata": {
    "execution": {
     "iopub.execute_input": "2025-07-14T04:29:07.015182Z",
     "iopub.status.busy": "2025-07-14T04:29:07.014230Z",
     "iopub.status.idle": "2025-07-14T04:29:07.020122Z",
     "shell.execute_reply": "2025-07-14T04:29:07.020122Z",
     "shell.execute_reply.started": "2025-07-14T04:29:07.015182Z"
    }
   },
   "outputs": [
    {
     "name": "stdout",
     "output_type": "stream",
     "text": [
      "[-5, 3, 4, -2]\n"
     ]
    }
   ],
   "source": [
    "# Change positive to negative, and vice versa\n",
    "nums = [5, -3, -4, 2]\n",
    "result = [-x if x>0 else -1*x for x in  nums]\n",
    "print(result)"
   ]
  },
  {
   "cell_type": "markdown",
   "id": "7c4559c3-24f3-47cb-8c60-bfc7636c6e63",
   "metadata": {},
   "source": [
    "```python\n",
    "# Nested Loops in List Comprehension\n",
    "lst = [expression for item1 in iterable1 for item2 in iterable2 ...]"
   ]
  },
  {
   "cell_type": "code",
   "execution_count": 23,
   "id": "a36c3e61-ca5e-40f9-b010-8cc152a38a96",
   "metadata": {
    "execution": {
     "iopub.execute_input": "2025-07-14T04:46:17.308362Z",
     "iopub.status.busy": "2025-07-14T04:46:17.307364Z",
     "iopub.status.idle": "2025-07-14T04:46:17.314399Z",
     "shell.execute_reply": "2025-07-14T04:46:17.313888Z",
     "shell.execute_reply.started": "2025-07-14T04:46:17.308362Z"
    }
   },
   "outputs": [
    {
     "name": "stdout",
     "output_type": "stream",
     "text": [
      "[(1, 'a'), (1, 'b'), (1, 'c'), (2, 'a'), (2, 'b'), (2, 'c'), (3, 'a'), (3, 'b'), (3, 'c')]\n"
     ]
    }
   ],
   "source": [
    "# All combinations of two lists\n",
    "a = [1, 2,3]\n",
    "b = ['a', 'b', 'c']\n",
    "c = [(x,y) for x in a for y in b]\n",
    "print(c)"
   ]
  },
  {
   "cell_type": "code",
   "execution_count": 25,
   "id": "501c79ea-f68c-468a-b4a3-8119856d2c45",
   "metadata": {
    "execution": {
     "iopub.execute_input": "2025-07-14T04:49:21.647279Z",
     "iopub.status.busy": "2025-07-14T04:49:21.646280Z",
     "iopub.status.idle": "2025-07-14T04:49:21.654179Z",
     "shell.execute_reply": "2025-07-14T04:49:21.653160Z",
     "shell.execute_reply.started": "2025-07-14T04:49:21.647279Z"
    }
   },
   "outputs": [
    {
     "name": "stdout",
     "output_type": "stream",
     "text": [
      "[(1, 5), (2, 4), (2, 6), (3, 5), (4, 4), (4, 6)]\n"
     ]
    }
   ],
   "source": [
    "#  Filter only even sums from combinations\n",
    "a = [1, 2, 3, 4]\n",
    "b = [4, 5, 6]\n",
    "c = [(x,y) for x in a for y in b if (x+y)%2==0]\n",
    "print(c)"
   ]
  },
  {
   "cell_type": "markdown",
   "id": "483fc86d-bec3-4711-8c62-da5c0851a533",
   "metadata": {},
   "source": [
    "## questions"
   ]
  },
  {
   "cell_type": "code",
   "execution_count": 26,
   "id": "766f6cd0-15a6-47e1-acb5-aa3ebedcf53b",
   "metadata": {
    "execution": {
     "iopub.execute_input": "2025-07-14T05:04:45.731705Z",
     "iopub.status.busy": "2025-07-14T05:04:45.731705Z",
     "iopub.status.idle": "2025-07-14T05:04:45.740053Z",
     "shell.execute_reply": "2025-07-14T05:04:45.738824Z",
     "shell.execute_reply.started": "2025-07-14T05:04:45.731705Z"
    }
   },
   "outputs": [
    {
     "name": "stdout",
     "output_type": "stream",
     "text": [
      "[1, 2, 3, 4, 5]\n"
     ]
    }
   ],
   "source": [
    "# Remove duplicates from a list without using set\n",
    "lst1 = [1,2,3,4,5,4,3,2,1,5]\n",
    "lst2 = []\n",
    "for i in lst1 :\n",
    "    if i not in lst2 :\n",
    "        lst2.append(i)\n",
    "print(lst2)"
   ]
  },
  {
   "cell_type": "code",
   "execution_count": 29,
   "id": "b94473da-173c-49b9-a0ff-3b5e8d3476e5",
   "metadata": {
    "execution": {
     "iopub.execute_input": "2025-07-14T05:08:25.388286Z",
     "iopub.status.busy": "2025-07-14T05:08:25.388286Z",
     "iopub.status.idle": "2025-07-14T05:08:25.393847Z",
     "shell.execute_reply": "2025-07-14T05:08:25.393847Z",
     "shell.execute_reply.started": "2025-07-14T05:08:25.388286Z"
    }
   },
   "outputs": [
    {
     "name": "stdout",
     "output_type": "stream",
     "text": [
      "new list : [7, 6, 5, 4, 3, 2, 1]\n"
     ]
    }
   ],
   "source": [
    "# Reverse a list without using reverse() or slicing.\n",
    "lst1 = [1,2,3,4,5,6,7]\n",
    "lst2 = []\n",
    "for i in range((len(lst1)-1),-1,-1) :\n",
    "    lst2.append(lst1[i])\n",
    "print(\"new list :\",lst2)"
   ]
  },
  {
   "cell_type": "code",
   "execution_count": 30,
   "id": "28e04440-569c-412d-94a0-efb7ef1b6367",
   "metadata": {
    "execution": {
     "iopub.execute_input": "2025-07-14T05:11:24.545977Z",
     "iopub.status.busy": "2025-07-14T05:11:24.544974Z",
     "iopub.status.idle": "2025-07-14T05:11:24.553416Z",
     "shell.execute_reply": "2025-07-14T05:11:24.552401Z",
     "shell.execute_reply.started": "2025-07-14T05:11:24.545977Z"
    }
   },
   "outputs": [
    {
     "name": "stdout",
     "output_type": "stream",
     "text": [
      "[5, 6, 7]\n"
     ]
    }
   ],
   "source": [
    "# Find common elements between two lists (without using set).\n",
    "lst1 = [1,2,3,4,5,6,7]\n",
    "lst2 = [5,6,7,8,9,10]\n",
    "common =[]\n",
    "for i in lst1 :\n",
    "    for j in lst2 :\n",
    "        if i==j :\n",
    "            common.append(i)\n",
    "print(common)"
   ]
  },
  {
   "cell_type": "code",
   "execution_count": null,
   "id": "521d060e-da20-455e-bb58-c0709b098638",
   "metadata": {},
   "outputs": [],
   "source": [
    "# other method \n",
    "lst1 = [1, 2, 3, 4, 5, 6, 7]\n",
    "lst2 = [5, 6, 7, 8, 9, 10]\n",
    "common = []\n",
    "for i in lst1:\n",
    "    if i in lst2 and i not in common:\n",
    "        common.append(i)\n",
    "print(common)"
   ]
  },
  {
   "cell_type": "code",
   "execution_count": 31,
   "id": "68dedf83-63d2-4c93-b689-5bbfdd1f7162",
   "metadata": {
    "execution": {
     "iopub.execute_input": "2025-07-14T05:18:04.463118Z",
     "iopub.status.busy": "2025-07-14T05:18:04.463118Z",
     "iopub.status.idle": "2025-07-14T05:18:04.472639Z",
     "shell.execute_reply": "2025-07-14T05:18:04.471119Z",
     "shell.execute_reply.started": "2025-07-14T05:18:04.463118Z"
    }
   },
   "outputs": [
    {
     "name": "stdout",
     "output_type": "stream",
     "text": [
      "[1, 2, 3, 4, 5, 5, 4, 2, 3, 2]\n"
     ]
    }
   ],
   "source": [
    "# Remove all occurrences of a specific element from a list.\n",
    "lst = [1,2,3,4,5,6,5,4,2,3,2]\n",
    "target = 6\n",
    "new =[]\n",
    "for i in lst :\n",
    "    if i != target :\n",
    "        new.append(i)\n",
    "print(new)"
   ]
  },
  {
   "cell_type": "code",
   "execution_count": 32,
   "id": "743dff56-9e78-4e5e-bf99-7744f8f66525",
   "metadata": {
    "execution": {
     "iopub.execute_input": "2025-07-14T05:19:59.950890Z",
     "iopub.status.busy": "2025-07-14T05:19:59.949887Z",
     "iopub.status.idle": "2025-07-14T05:19:59.957014Z",
     "shell.execute_reply": "2025-07-14T05:19:59.955999Z",
     "shell.execute_reply.started": "2025-07-14T05:19:59.950890Z"
    }
   },
   "outputs": [
    {
     "name": "stdout",
     "output_type": "stream",
     "text": [
      "[1, 2, 3, 4, 5, 5, 4, 2, 3, 2]\n"
     ]
    }
   ],
   "source": [
    "# other method\n",
    "lst = [1,2,3,4,5,6,5,4,2,3,2]\n",
    "target = 6\n",
    "for i in lst :\n",
    "    if i == target :\n",
    "        lst.remove(target)\n",
    "print(lst)"
   ]
  },
  {
   "cell_type": "code",
   "execution_count": 41,
   "id": "89e7de47-ad43-4f33-b8d5-546cb4d88ffe",
   "metadata": {
    "execution": {
     "iopub.execute_input": "2025-07-14T05:30:01.193673Z",
     "iopub.status.busy": "2025-07-14T05:30:01.192655Z",
     "iopub.status.idle": "2025-07-14T05:30:01.201861Z",
     "shell.execute_reply": "2025-07-14T05:30:01.200744Z",
     "shell.execute_reply.started": "2025-07-14T05:30:01.193673Z"
    }
   },
   "outputs": [
    {
     "name": "stdout",
     "output_type": "stream",
     "text": [
      "[1, 1, 1, 2, 2, 2, 3, 3, 3, 4, 4, 4]\n"
     ]
    }
   ],
   "source": [
    "# Group identical elements together in a list.\n",
    "lst = [1,2,3,4,1,2,3,4,1,2,3,4]\n",
    "result= []\n",
    "count = []\n",
    "for i in lst :\n",
    "    if i not in count :\n",
    "       for j in lst :\n",
    "          if i == j :\n",
    "            result.append(i)\n",
    "       count.append(i)\n",
    "print(result)"
   ]
  }
 ],
 "metadata": {
  "kernelspec": {
   "display_name": "Python 3 (ipykernel)",
   "language": "python",
   "name": "python3"
  },
  "language_info": {
   "codemirror_mode": {
    "name": "ipython",
    "version": 3
   },
   "file_extension": ".py",
   "mimetype": "text/x-python",
   "name": "python",
   "nbconvert_exporter": "python",
   "pygments_lexer": "ipython3",
   "version": "3.11.6"
  }
 },
 "nbformat": 4,
 "nbformat_minor": 5
}
