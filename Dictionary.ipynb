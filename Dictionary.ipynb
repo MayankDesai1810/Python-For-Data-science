{
 "cells": [
  {
   "cell_type": "markdown",
   "id": "22af53b5-50f9-4431-81a9-0df553765a28",
   "metadata": {},
   "source": [
    "# Dictionary"
   ]
  },
  {
   "cell_type": "markdown",
   "id": "d616e446-7d19-4226-9996-f480cd7104e0",
   "metadata": {},
   "source": [
    "* Dictionaries are used to store data values in key:value pairs.\n",
    "* A dictionary is a collection which is ordered*, changeable and do not allow duplicates."
   ]
  },
  {
   "cell_type": "code",
   "execution_count": 6,
   "id": "86db6ed1-534e-4dcc-bcb1-bb2294d66e76",
   "metadata": {
    "execution": {
     "iopub.execute_input": "2025-07-18T11:18:25.130376Z",
     "iopub.status.busy": "2025-07-18T11:18:25.129377Z",
     "iopub.status.idle": "2025-07-18T11:18:25.134886Z",
     "shell.execute_reply": "2025-07-18T11:18:25.134376Z",
     "shell.execute_reply.started": "2025-07-18T11:18:25.130376Z"
    }
   },
   "outputs": [
    {
     "name": "stdout",
     "output_type": "stream",
     "text": [
      "{'brand': 'Ford', 'model': 'Mustang', 'year': 1964}\n",
      "<class 'dict'>\n"
     ]
    }
   ],
   "source": [
    "dict1 = {\n",
    "  \"brand\": \"Ford\",\n",
    "  \"model\": \"Mustang\",\n",
    "  \"year\": 1964\n",
    "}\n",
    "print(dict1)\n",
    "print(type(dict1))"
   ]
  },
  {
   "cell_type": "markdown",
   "id": "076b5de6-9a34-45b0-a6a4-49a2b6b99a4c",
   "metadata": {},
   "source": [
    "* Dictionary items are presented in key:value pairs, and can be referred to by using the key name."
   ]
  },
  {
   "cell_type": "code",
   "execution_count": 2,
   "id": "0e82a3c3-b976-416d-a923-7309c35321a9",
   "metadata": {
    "execution": {
     "iopub.execute_input": "2025-07-18T11:13:29.189071Z",
     "iopub.status.busy": "2025-07-18T11:13:29.187851Z",
     "iopub.status.idle": "2025-07-18T11:13:29.194060Z",
     "shell.execute_reply": "2025-07-18T11:13:29.193052Z",
     "shell.execute_reply.started": "2025-07-18T11:13:29.187851Z"
    }
   },
   "outputs": [
    {
     "name": "stdout",
     "output_type": "stream",
     "text": [
      "Ford\n"
     ]
    }
   ],
   "source": [
    "dict1 = {\n",
    "  \"brand\": \"Ford\",\n",
    "  \"model\": \"Mustang\",\n",
    "  \"year\": 1964\n",
    "}\n",
    "print(dict1[\"brand\"])"
   ]
  },
  {
   "cell_type": "markdown",
   "id": "8ccef1b0-1c7d-4a37-ada1-95b80572f65d",
   "metadata": {},
   "source": [
    "### Duplicates Not Allowed"
   ]
  },
  {
   "cell_type": "markdown",
   "id": "2c83c35a-bced-4761-8c17-182d7274557f",
   "metadata": {},
   "source": [
    "* Dictionaries cannot have two items with the same key"
   ]
  },
  {
   "cell_type": "code",
   "execution_count": 4,
   "id": "568a921e-4eb2-4f1b-abd6-e9a44f3c05bf",
   "metadata": {
    "execution": {
     "iopub.execute_input": "2025-07-18T11:15:59.653745Z",
     "iopub.status.busy": "2025-07-18T11:15:59.653745Z",
     "iopub.status.idle": "2025-07-18T11:15:59.656829Z",
     "shell.execute_reply": "2025-07-18T11:15:59.656829Z",
     "shell.execute_reply.started": "2025-07-18T11:15:59.653745Z"
    }
   },
   "outputs": [
    {
     "name": "stdout",
     "output_type": "stream",
     "text": [
      "{'brand': 'Ford', 'model': 'Mustang', 'year': 2020}\n"
     ]
    }
   ],
   "source": [
    "dict1 = {\n",
    "  \"brand\": \"Ford\",\n",
    "  \"model\": \"Mustang\",\n",
    "  \"year\": 1964,\n",
    "  \"year\": 2020  # ---> Duplicate values will overwrite existing values\n",
    "}\n",
    "print(dict1)"
   ]
  },
  {
   "cell_type": "markdown",
   "id": "fb3efe4d-d9c8-4557-953c-f741d49ffc9e",
   "metadata": {},
   "source": [
    "### Dictionary Items"
   ]
  },
  {
   "cell_type": "markdown",
   "id": "843676b5-2fe2-49e0-a9ed-ed8891cea5cb",
   "metadata": {},
   "source": [
    "* The values in dictionary items can be of any data type"
   ]
  },
  {
   "cell_type": "code",
   "execution_count": 5,
   "id": "19859a9c-0065-45cf-8c48-b787e4986322",
   "metadata": {
    "execution": {
     "iopub.execute_input": "2025-07-18T11:18:04.622158Z",
     "iopub.status.busy": "2025-07-18T11:18:04.622158Z",
     "iopub.status.idle": "2025-07-18T11:18:04.627121Z",
     "shell.execute_reply": "2025-07-18T11:18:04.626104Z",
     "shell.execute_reply.started": "2025-07-18T11:18:04.622158Z"
    }
   },
   "outputs": [
    {
     "name": "stdout",
     "output_type": "stream",
     "text": [
      "{'brand': 'Ford', 'electric': False, 'year': 1964, 'colors': ['red', 'white', 'blue']}\n"
     ]
    }
   ],
   "source": [
    "dict1 = {\n",
    "  \"brand\": \"Ford\",\n",
    "  \"electric\": False,\n",
    "  \"year\": 1964,\n",
    "  \"colors\": [\"red\", \"white\", \"blue\"]\n",
    "}\n",
    "print(dict1)"
   ]
  },
  {
   "cell_type": "markdown",
   "id": "c49530a1-c140-4fa1-b6bc-7c2d6c4fa3a2",
   "metadata": {},
   "source": [
    "### Accessing Items"
   ]
  },
  {
   "cell_type": "markdown",
   "id": "b107ee8e-03dc-46ad-b946-2c0d789c23fb",
   "metadata": {
    "execution": {
     "iopub.execute_input": "2025-07-18T11:19:39.230760Z",
     "iopub.status.busy": "2025-07-18T11:19:39.230760Z",
     "iopub.status.idle": "2025-07-18T11:19:39.236736Z",
     "shell.execute_reply": "2025-07-18T11:19:39.235718Z",
     "shell.execute_reply.started": "2025-07-18T11:19:39.230760Z"
    }
   },
   "source": [
    "* You can access the items of a dictionary by referring to its key name, inside square brackets"
   ]
  },
  {
   "cell_type": "code",
   "execution_count": 9,
   "id": "c324d845-2a45-4b87-99a0-c9ca5550c1c8",
   "metadata": {
    "execution": {
     "iopub.execute_input": "2025-07-18T11:20:24.929437Z",
     "iopub.status.busy": "2025-07-18T11:20:24.929437Z",
     "iopub.status.idle": "2025-07-18T11:20:24.933650Z",
     "shell.execute_reply": "2025-07-18T11:20:24.933650Z",
     "shell.execute_reply.started": "2025-07-18T11:20:24.929437Z"
    }
   },
   "outputs": [
    {
     "name": "stdout",
     "output_type": "stream",
     "text": [
      "['red', 'white', 'blue']\n"
     ]
    }
   ],
   "source": [
    "dict1 = {\n",
    "  \"brand\": \"Ford\",\n",
    "  \"electric\": False,\n",
    "  \"year\": 1964,\n",
    "  \"colors\": [\"red\", \"white\", \"blue\"]\n",
    "}\n",
    "print(dict1[\"colors\"])"
   ]
  },
  {
   "cell_type": "code",
   "execution_count": 11,
   "id": "3eb08afa-20e8-4ec8-8713-d73dcb8af293",
   "metadata": {
    "execution": {
     "iopub.execute_input": "2025-07-18T11:21:10.281326Z",
     "iopub.status.busy": "2025-07-18T11:21:10.280318Z",
     "iopub.status.idle": "2025-07-18T11:21:10.284327Z",
     "shell.execute_reply": "2025-07-18T11:21:10.284327Z",
     "shell.execute_reply.started": "2025-07-18T11:21:10.281326Z"
    }
   },
   "outputs": [
    {
     "name": "stdout",
     "output_type": "stream",
     "text": [
      "['red', 'white', 'blue']\n"
     ]
    }
   ],
   "source": [
    "print(dict1.get(\"colors\")) # There is also a method called get() that will give you the same result"
   ]
  },
  {
   "cell_type": "markdown",
   "id": "5f344346-ac21-4148-b2b5-b26268e3be64",
   "metadata": {},
   "source": [
    "### Get Keys"
   ]
  },
  {
   "cell_type": "markdown",
   "id": "f66b1569-e7b8-42da-a188-78f60d2aa3c4",
   "metadata": {},
   "source": [
    "* The keys( ) method will return a list of all the keys in the dictionary."
   ]
  },
  {
   "cell_type": "code",
   "execution_count": 16,
   "id": "558f10e4-c031-48d8-ab4b-dc7a6753e29c",
   "metadata": {
    "execution": {
     "iopub.execute_input": "2025-07-18T11:27:00.736923Z",
     "iopub.status.busy": "2025-07-18T11:27:00.735923Z",
     "iopub.status.idle": "2025-07-18T11:27:00.740363Z",
     "shell.execute_reply": "2025-07-18T11:27:00.740363Z",
     "shell.execute_reply.started": "2025-07-18T11:27:00.736923Z"
    }
   },
   "outputs": [
    {
     "name": "stdout",
     "output_type": "stream",
     "text": [
      "dict_keys(['brand', 'electric', 'year', 'colors'])\n"
     ]
    }
   ],
   "source": [
    "print(dict1.keys())"
   ]
  },
  {
   "cell_type": "markdown",
   "id": "fe5bb09a-d273-452f-97c0-32b046e81b43",
   "metadata": {},
   "source": [
    "### Get Values"
   ]
  },
  {
   "cell_type": "markdown",
   "id": "ab311dfd-280f-4017-94eb-9028a9d666c0",
   "metadata": {},
   "source": [
    "* The values( ) method will return a list of all the values in the dictionary"
   ]
  },
  {
   "cell_type": "code",
   "execution_count": 19,
   "id": "26c170d7-5e28-4df8-b6eb-2f0d9b3170bb",
   "metadata": {
    "execution": {
     "iopub.execute_input": "2025-07-18T11:30:57.428424Z",
     "iopub.status.busy": "2025-07-18T11:30:57.428424Z",
     "iopub.status.idle": "2025-07-18T11:30:57.432847Z",
     "shell.execute_reply": "2025-07-18T11:30:57.432847Z",
     "shell.execute_reply.started": "2025-07-18T11:30:57.428424Z"
    }
   },
   "outputs": [
    {
     "name": "stdout",
     "output_type": "stream",
     "text": [
      "dict_values(['Ford', False, 1964, ['red', 'white', 'blue']])\n"
     ]
    }
   ],
   "source": [
    "print(dict1.values())"
   ]
  },
  {
   "cell_type": "markdown",
   "id": "36139d17-7f7c-44bb-8f4a-e0cd81a76efa",
   "metadata": {},
   "source": [
    "### Get Items"
   ]
  },
  {
   "cell_type": "markdown",
   "id": "d90da073-fd8a-4fb3-8912-e9244d02ba0f",
   "metadata": {},
   "source": [
    "* The items( ) method will return each item in a dictionary, as tuples in a list."
   ]
  },
  {
   "cell_type": "code",
   "execution_count": 20,
   "id": "6d8b62fa-6a46-4b74-af9b-69fed858f05f",
   "metadata": {
    "execution": {
     "iopub.execute_input": "2025-07-18T11:33:05.155540Z",
     "iopub.status.busy": "2025-07-18T11:33:05.155540Z",
     "iopub.status.idle": "2025-07-18T11:33:05.160593Z",
     "shell.execute_reply": "2025-07-18T11:33:05.159581Z",
     "shell.execute_reply.started": "2025-07-18T11:33:05.155540Z"
    }
   },
   "outputs": [
    {
     "name": "stdout",
     "output_type": "stream",
     "text": [
      "dict_items([('brand', 'Ford'), ('electric', False), ('year', 1964), ('colors', ['red', 'white', 'blue'])])\n"
     ]
    }
   ],
   "source": [
    "print(dict1.items())"
   ]
  },
  {
   "cell_type": "markdown",
   "id": "74d51a95-c1c5-4815-a072-4727fedbff21",
   "metadata": {},
   "source": [
    "### Check if Key Exists"
   ]
  },
  {
   "cell_type": "markdown",
   "id": "f39ebab5-b395-4629-a80b-5b8671227786",
   "metadata": {},
   "source": [
    "* To determine if a specified key is present in a dictionary use the in keyword"
   ]
  },
  {
   "cell_type": "code",
   "execution_count": 22,
   "id": "ad862aba-7b9b-40a3-99f2-14eaafafca1a",
   "metadata": {
    "execution": {
     "iopub.execute_input": "2025-07-18T11:39:02.205954Z",
     "iopub.status.busy": "2025-07-18T11:39:02.204954Z",
     "iopub.status.idle": "2025-07-18T11:39:02.210139Z",
     "shell.execute_reply": "2025-07-18T11:39:02.210139Z",
     "shell.execute_reply.started": "2025-07-18T11:39:02.205954Z"
    }
   },
   "outputs": [
    {
     "name": "stdout",
     "output_type": "stream",
     "text": [
      "No, 'colors' is not key in the dict1 dictionary\n"
     ]
    }
   ],
   "source": [
    "dict1 = {\n",
    "  \"brand\": \"Ford\",\n",
    "  \"model\": \"Mustang\",\n",
    "  \"year\": 1964\n",
    "}\n",
    "if \"colors\" in dict1:\n",
    "  print(\"Yes, 'model' is one of the keys in the dict1 dictionary\")\n",
    "else :\n",
    "    print(\"No, 'colors' is not key in the dict1 dictionary\")"
   ]
  },
  {
   "cell_type": "markdown",
   "id": "82e4bb71-a2ff-4f4e-b7fa-600a8e048e22",
   "metadata": {},
   "source": [
    "## Change Dictionary Items"
   ]
  },
  {
   "cell_type": "markdown",
   "id": "19a9792b-4132-4f12-a199-ffa83b544d58",
   "metadata": {},
   "source": [
    "### Change Values"
   ]
  },
  {
   "cell_type": "markdown",
   "id": "66928a6b-40bf-4a8e-9ac1-fab803bc3934",
   "metadata": {},
   "source": [
    "* You can change the value of a specific item by referring to its key name"
   ]
  },
  {
   "cell_type": "code",
   "execution_count": 23,
   "id": "dfbf0568-588b-41a3-a2aa-e445f6290fcd",
   "metadata": {
    "execution": {
     "iopub.execute_input": "2025-07-18T11:41:21.686820Z",
     "iopub.status.busy": "2025-07-18T11:41:21.685820Z",
     "iopub.status.idle": "2025-07-18T11:41:21.690799Z",
     "shell.execute_reply": "2025-07-18T11:41:21.690799Z",
     "shell.execute_reply.started": "2025-07-18T11:41:21.686820Z"
    }
   },
   "outputs": [
    {
     "name": "stdout",
     "output_type": "stream",
     "text": [
      "{'brand': 'Ford', 'model': 'Mustang', 'year': 1964}\n",
      "{'brand': 'Ford', 'model': 'Mustang', 'year': 2020}\n"
     ]
    }
   ],
   "source": [
    "dict1 = {\n",
    "  \"brand\": \"Ford\",\n",
    "  \"model\": \"Mustang\",\n",
    "  \"year\": 1964\n",
    "}\n",
    "print(dict1)\n",
    "dict1[\"year\"] = 2020\n",
    "print(dict1)"
   ]
  },
  {
   "cell_type": "markdown",
   "id": "74719492-a02e-4181-8878-f2badd2d99b1",
   "metadata": {},
   "source": [
    "### Update Dictionary"
   ]
  },
  {
   "cell_type": "markdown",
   "id": "83fd3279-d93f-4032-a9b4-b945aeb46b11",
   "metadata": {},
   "source": [
    "* The update( ) method will update the dictionary with the items from the given argument\n",
    "* The argument must be a dictionary"
   ]
  },
  {
   "cell_type": "code",
   "execution_count": 25,
   "id": "44aebdfb-a275-4469-ad74-d8d801339051",
   "metadata": {
    "execution": {
     "iopub.execute_input": "2025-07-18T11:48:12.776450Z",
     "iopub.status.busy": "2025-07-18T11:48:12.776450Z",
     "iopub.status.idle": "2025-07-18T11:48:12.780673Z",
     "shell.execute_reply": "2025-07-18T11:48:12.780673Z",
     "shell.execute_reply.started": "2025-07-18T11:48:12.776450Z"
    }
   },
   "outputs": [
    {
     "name": "stdout",
     "output_type": "stream",
     "text": [
      "{'brand': 'Ford', 'model': 'Mustang', 'year': 1964}\n",
      "{'brand': 'Ford', 'model': 'Mustang', 'year': 2020}\n"
     ]
    }
   ],
   "source": [
    "dict1 = {\n",
    "  \"brand\": \"Ford\",\n",
    "  \"model\": \"Mustang\",\n",
    "  \"year\": 1964\n",
    "}\n",
    "print(dict1)\n",
    "dict1.update({\"year\": 2020})\n",
    "print(dict1)"
   ]
  },
  {
   "cell_type": "markdown",
   "id": "0c84ddd5-6375-435d-9af7-471912bc1c37",
   "metadata": {},
   "source": [
    "## Remove Dictionary Items"
   ]
  },
  {
   "cell_type": "markdown",
   "id": "63c99e5b-169b-4cc4-8824-e83d0d6d99d3",
   "metadata": {},
   "source": [
    "### Removing Items"
   ]
  },
  {
   "cell_type": "markdown",
   "id": "5e89b234-c4bb-47ea-8efb-1a3b2b69f82b",
   "metadata": {},
   "source": [
    "* The pop( ) method removes the item with the specified key name"
   ]
  },
  {
   "cell_type": "code",
   "execution_count": 27,
   "id": "804fa4a7-274f-4830-b256-2d269ba44f9c",
   "metadata": {
    "execution": {
     "iopub.execute_input": "2025-07-18T11:58:05.077669Z",
     "iopub.status.busy": "2025-07-18T11:58:05.076670Z",
     "iopub.status.idle": "2025-07-18T11:58:05.082179Z",
     "shell.execute_reply": "2025-07-18T11:58:05.081668Z",
     "shell.execute_reply.started": "2025-07-18T11:58:05.077669Z"
    }
   },
   "outputs": [
    {
     "name": "stdout",
     "output_type": "stream",
     "text": [
      "{'brand': 'Ford', 'model': 'Mustang', 'year': 1964}\n",
      "{'brand': 'Ford', 'year': 1964}\n"
     ]
    }
   ],
   "source": [
    "dict1 = {\n",
    "  \"brand\": \"Ford\",\n",
    "  \"model\": \"Mustang\",\n",
    "  \"year\": 1964\n",
    "}\n",
    "print(dict1)\n",
    "x = dict1.pop(\"model\")\n",
    "print(dict1)"
   ]
  },
  {
   "cell_type": "markdown",
   "id": "2616dd80-83c1-4d56-9776-2c79a4e8bbda",
   "metadata": {},
   "source": [
    "* The popitem( ) method removes the last inserted item"
   ]
  },
  {
   "cell_type": "code",
   "execution_count": 31,
   "id": "5a4c3a47-8dd5-4005-8a2b-58559ab44420",
   "metadata": {
    "execution": {
     "iopub.execute_input": "2025-07-18T12:02:20.112445Z",
     "iopub.status.busy": "2025-07-18T12:02:20.112445Z",
     "iopub.status.idle": "2025-07-18T12:02:20.116870Z",
     "shell.execute_reply": "2025-07-18T12:02:20.116870Z",
     "shell.execute_reply.started": "2025-07-18T12:02:20.112445Z"
    }
   },
   "outputs": [
    {
     "name": "stdout",
     "output_type": "stream",
     "text": [
      "{'brand': 'Ford', 'model': 'Mustang', 'year': 1964}\n",
      "{'brand': 'Ford', 'model': 'Mustang'}\n"
     ]
    }
   ],
   "source": [
    "dict1 = {\n",
    "  \"brand\": \"Ford\",\n",
    "  \"model\": \"Mustang\",\n",
    "  \"year\": 1964\n",
    "}\n",
    "print(dict1)\n",
    "dict1.popitem()\n",
    "print(dict1)"
   ]
  },
  {
   "cell_type": "markdown",
   "id": "4ac7e923-00e2-4c18-85a3-594cfa488bf0",
   "metadata": {},
   "source": [
    "* The del keyword removes the item with the specified key name"
   ]
  },
  {
   "cell_type": "code",
   "execution_count": 33,
   "id": "26dde5e3-bd7c-4771-be67-94f41a1e10d5",
   "metadata": {
    "execution": {
     "iopub.execute_input": "2025-07-18T12:03:19.275711Z",
     "iopub.status.busy": "2025-07-18T12:03:19.275711Z",
     "iopub.status.idle": "2025-07-18T12:03:19.281092Z",
     "shell.execute_reply": "2025-07-18T12:03:19.280084Z",
     "shell.execute_reply.started": "2025-07-18T12:03:19.275711Z"
    }
   },
   "outputs": [
    {
     "name": "stdout",
     "output_type": "stream",
     "text": [
      "{'brand': 'Ford', 'year': 1964}\n"
     ]
    }
   ],
   "source": [
    "dict1 = {\n",
    "  \"brand\": \"Ford\",\n",
    "  \"model\": \"Mustang\",\n",
    "  \"year\": 1964\n",
    "}\n",
    "del dict1[\"model\"]\n",
    "print(dict1)"
   ]
  },
  {
   "cell_type": "code",
   "execution_count": 34,
   "id": "5293c363-2696-46ac-9b62-c20b4e9cec1e",
   "metadata": {
    "execution": {
     "iopub.execute_input": "2025-07-18T12:03:36.300702Z",
     "iopub.status.busy": "2025-07-18T12:03:36.300702Z",
     "iopub.status.idle": "2025-07-18T12:03:36.323752Z",
     "shell.execute_reply": "2025-07-18T12:03:36.322223Z",
     "shell.execute_reply.started": "2025-07-18T12:03:36.300702Z"
    }
   },
   "outputs": [
    {
     "ename": "NameError",
     "evalue": "name 'dict1' is not defined",
     "output_type": "error",
     "traceback": [
      "\u001b[31m---------------------------------------------------------------------------\u001b[39m",
      "\u001b[31mNameError\u001b[39m                                 Traceback (most recent call last)",
      "\u001b[36mCell\u001b[39m\u001b[36m \u001b[39m\u001b[32mIn[34]\u001b[39m\u001b[32m, line 7\u001b[39m\n\u001b[32m      1\u001b[39m dict1 = {\n\u001b[32m      2\u001b[39m   \u001b[33m\"\u001b[39m\u001b[33mbrand\u001b[39m\u001b[33m\"\u001b[39m: \u001b[33m\"\u001b[39m\u001b[33mFord\u001b[39m\u001b[33m\"\u001b[39m,\n\u001b[32m      3\u001b[39m   \u001b[33m\"\u001b[39m\u001b[33mmodel\u001b[39m\u001b[33m\"\u001b[39m: \u001b[33m\"\u001b[39m\u001b[33mMustang\u001b[39m\u001b[33m\"\u001b[39m,\n\u001b[32m      4\u001b[39m   \u001b[33m\"\u001b[39m\u001b[33myear\u001b[39m\u001b[33m\"\u001b[39m: \u001b[32m1964\u001b[39m\n\u001b[32m      5\u001b[39m }\n\u001b[32m      6\u001b[39m \u001b[38;5;28;01mdel\u001b[39;00m dict1\n\u001b[32m----> \u001b[39m\u001b[32m7\u001b[39m \u001b[38;5;28mprint\u001b[39m(\u001b[43mdict1\u001b[49m)\n",
      "\u001b[31mNameError\u001b[39m: name 'dict1' is not defined"
     ]
    }
   ],
   "source": [
    "# The del keyword can also delete the dictionary completely\n",
    "dict1 = {\n",
    "  \"brand\": \"Ford\",\n",
    "  \"model\": \"Mustang\",\n",
    "  \"year\": 1964\n",
    "}\n",
    "del dict1\n",
    "print(dict1)"
   ]
  },
  {
   "cell_type": "markdown",
   "id": "c3348605-9738-4e43-9060-cb21bbf4f3e7",
   "metadata": {},
   "source": [
    "* The clear( ) method empties the dictionary"
   ]
  },
  {
   "cell_type": "code",
   "execution_count": 35,
   "id": "45d37e29-722d-4660-8679-698350164079",
   "metadata": {
    "execution": {
     "iopub.execute_input": "2025-07-18T12:04:49.184806Z",
     "iopub.status.busy": "2025-07-18T12:04:49.184806Z",
     "iopub.status.idle": "2025-07-18T12:04:49.189874Z",
     "shell.execute_reply": "2025-07-18T12:04:49.189874Z",
     "shell.execute_reply.started": "2025-07-18T12:04:49.184806Z"
    }
   },
   "outputs": [
    {
     "name": "stdout",
     "output_type": "stream",
     "text": [
      "{}\n"
     ]
    }
   ],
   "source": [
    "dict1 = {\n",
    "  \"brand\": \"Ford\",\n",
    "  \"model\": \"Mustang\",\n",
    "  \"year\": 1964\n",
    "}\n",
    "dict1.clear()\n",
    "print(dict1)"
   ]
  },
  {
   "cell_type": "markdown",
   "id": "78a75d5a-7f09-4800-9a01-052a73c53cb5",
   "metadata": {},
   "source": [
    "## Loop Dictionaries"
   ]
  },
  {
   "cell_type": "markdown",
   "id": "af5dd2b3-c956-4e67-9500-35bee784acd6",
   "metadata": {},
   "source": [
    "* When looping through a dictionary, the return value are the keys of the dictionary"
   ]
  },
  {
   "cell_type": "code",
   "execution_count": 36,
   "id": "4ea4a1ca-fa4c-4b04-9519-3b0aa934bc98",
   "metadata": {
    "execution": {
     "iopub.execute_input": "2025-07-18T12:13:58.479562Z",
     "iopub.status.busy": "2025-07-18T12:13:58.479562Z",
     "iopub.status.idle": "2025-07-18T12:13:58.485647Z",
     "shell.execute_reply": "2025-07-18T12:13:58.484560Z",
     "shell.execute_reply.started": "2025-07-18T12:13:58.479562Z"
    }
   },
   "outputs": [
    {
     "name": "stdout",
     "output_type": "stream",
     "text": [
      "brand\n",
      "model\n",
      "year\n"
     ]
    }
   ],
   "source": [
    "dict1 = {\n",
    "  \"brand\": \"Ford\",\n",
    "  \"model\": \"Mustang\",\n",
    "  \"year\": 1964\n",
    "}\n",
    "for i in dict1 :\n",
    "    print(i)"
   ]
  },
  {
   "cell_type": "code",
   "execution_count": 38,
   "id": "583c3fc4-8d23-4a9f-a28c-e0205b7af5a0",
   "metadata": {
    "execution": {
     "iopub.execute_input": "2025-07-18T12:15:11.415783Z",
     "iopub.status.busy": "2025-07-18T12:15:11.415783Z",
     "iopub.status.idle": "2025-07-18T12:15:11.419818Z",
     "shell.execute_reply": "2025-07-18T12:15:11.419818Z",
     "shell.execute_reply.started": "2025-07-18T12:15:11.415783Z"
    }
   },
   "outputs": [
    {
     "name": "stdout",
     "output_type": "stream",
     "text": [
      "Ford\n",
      "Mustang\n",
      "1964\n"
     ]
    }
   ],
   "source": [
    "# if you want to print values\n",
    "for i in dict1 :\n",
    "    print(dict1[i])"
   ]
  },
  {
   "cell_type": "code",
   "execution_count": 39,
   "id": "5646e57a-79d6-4d70-bb38-cd4b949ccd90",
   "metadata": {
    "execution": {
     "iopub.execute_input": "2025-07-18T12:16:08.966676Z",
     "iopub.status.busy": "2025-07-18T12:16:08.966676Z",
     "iopub.status.idle": "2025-07-18T12:16:08.970560Z",
     "shell.execute_reply": "2025-07-18T12:16:08.970560Z",
     "shell.execute_reply.started": "2025-07-18T12:16:08.966676Z"
    }
   },
   "outputs": [
    {
     "name": "stdout",
     "output_type": "stream",
     "text": [
      "Ford\n",
      "Mustang\n",
      "1964\n"
     ]
    }
   ],
   "source": [
    "# You can also use the values() method to return values of a dictionary\n",
    "for i in dict1.values() :\n",
    "    print(i)"
   ]
  },
  {
   "cell_type": "code",
   "execution_count": 40,
   "id": "bb5d6671-ffbf-42ab-b492-99aba0c78553",
   "metadata": {
    "execution": {
     "iopub.execute_input": "2025-07-18T12:17:18.214688Z",
     "iopub.status.busy": "2025-07-18T12:17:18.214688Z",
     "iopub.status.idle": "2025-07-18T12:17:18.218499Z",
     "shell.execute_reply": "2025-07-18T12:17:18.218499Z",
     "shell.execute_reply.started": "2025-07-18T12:17:18.214688Z"
    }
   },
   "outputs": [
    {
     "name": "stdout",
     "output_type": "stream",
     "text": [
      "brand Ford\n",
      "model Mustang\n",
      "year 1964\n"
     ]
    }
   ],
   "source": [
    "# Loop through both keys and values, by using the items() method\n",
    "for (i,j) in dict1.items() :\n",
    "    print(i,j)"
   ]
  },
  {
   "cell_type": "markdown",
   "id": "071a3470-a317-4440-9f34-98195f8a942c",
   "metadata": {},
   "source": [
    "## Copy Dictionaries"
   ]
  },
  {
   "cell_type": "markdown",
   "id": "8ad3f5da-9d47-44b8-aee8-81ba96340f67",
   "metadata": {},
   "source": [
    "* You cannot copy a dictionary simply by typing dict2 = dict1, because : dict2 will only be a reference to dict1, and changes made in dict1 will automatically also be made in dict2.\n",
    "* There are ways to make a copy, one way is to use the built-in Dictionary method copy( )."
   ]
  },
  {
   "cell_type": "code",
   "execution_count": 47,
   "id": "f0eea43d-e9c0-4c2d-b136-42cf7d21fff9",
   "metadata": {
    "execution": {
     "iopub.execute_input": "2025-07-18T12:25:57.347947Z",
     "iopub.status.busy": "2025-07-18T12:25:57.346949Z",
     "iopub.status.idle": "2025-07-18T12:25:57.351374Z",
     "shell.execute_reply": "2025-07-18T12:25:57.351374Z",
     "shell.execute_reply.started": "2025-07-18T12:25:57.347947Z"
    }
   },
   "outputs": [
    {
     "name": "stdout",
     "output_type": "stream",
     "text": [
      "{'brand': 'Ford', 'model': 'Mustang', 'year': 1964}\n"
     ]
    }
   ],
   "source": [
    "dict1 = {\n",
    "  \"brand\": \"Ford\",\n",
    "  \"model\": \"Mustang\",\n",
    "  \"year\": 1964\n",
    "}\n",
    "dict2 = dict1\n",
    "print(dict2)"
   ]
  },
  {
   "cell_type": "code",
   "execution_count": 48,
   "id": "58b63344-34d2-4c91-a611-2853864c855d",
   "metadata": {
    "execution": {
     "iopub.execute_input": "2025-07-18T12:26:08.655309Z",
     "iopub.status.busy": "2025-07-18T12:26:08.654310Z",
     "iopub.status.idle": "2025-07-18T12:26:08.659341Z",
     "shell.execute_reply": "2025-07-18T12:26:08.659341Z",
     "shell.execute_reply.started": "2025-07-18T12:26:08.655309Z"
    }
   },
   "outputs": [
    {
     "name": "stdout",
     "output_type": "stream",
     "text": [
      "{'brand': 'Ford', 'model': 'Mustang', 'year': 2020}\n",
      "{'brand': 'Ford', 'model': 'Mustang', 'year': 2020}\n"
     ]
    }
   ],
   "source": [
    "dict1.update({\"year\":2020})\n",
    "print(dict1)\n",
    "print(dict2)"
   ]
  },
  {
   "cell_type": "code",
   "execution_count": 44,
   "id": "7b11bc42-3657-4fb0-940c-f37ee04f7573",
   "metadata": {
    "execution": {
     "iopub.execute_input": "2025-07-18T12:24:27.740457Z",
     "iopub.status.busy": "2025-07-18T12:24:27.740457Z",
     "iopub.status.idle": "2025-07-18T12:24:27.745477Z",
     "shell.execute_reply": "2025-07-18T12:24:27.745477Z",
     "shell.execute_reply.started": "2025-07-18T12:24:27.740457Z"
    }
   },
   "outputs": [
    {
     "name": "stdout",
     "output_type": "stream",
     "text": [
      "{'brand': 'Ford', 'model': 'Mustang', 'year': 1964}\n"
     ]
    }
   ],
   "source": [
    "dict1 = {\n",
    "  \"brand\": \"Ford\",\n",
    "  \"model\": \"Mustang\",\n",
    "  \"year\": 1964\n",
    "}\n",
    "dict2 = dict1.copy()\n",
    "print(dict2)"
   ]
  },
  {
   "cell_type": "code",
   "execution_count": 42,
   "id": "24ff52fd-730a-4c69-b20d-694453b89655",
   "metadata": {
    "execution": {
     "iopub.execute_input": "2025-07-18T12:23:34.087033Z",
     "iopub.status.busy": "2025-07-18T12:23:34.087033Z",
     "iopub.status.idle": "2025-07-18T12:23:34.091543Z",
     "shell.execute_reply": "2025-07-18T12:23:34.091034Z",
     "shell.execute_reply.started": "2025-07-18T12:23:34.087033Z"
    }
   },
   "outputs": [
    {
     "name": "stdout",
     "output_type": "stream",
     "text": [
      "{'brand': 'Ford', 'model': 'Mustang', 'year': 2020}\n",
      "{'brand': 'Ford', 'model': 'Mustang', 'year': 1964}\n"
     ]
    }
   ],
   "source": [
    "dict1.update({\"year\":2020})\n",
    "print(dict1)\n",
    "print(dict2)"
   ]
  },
  {
   "cell_type": "markdown",
   "id": "bda87e8d-ae09-4c5b-97e6-79dd63f2439f",
   "metadata": {},
   "source": [
    "* Another way to make a copy is to use the built-in function dict()."
   ]
  },
  {
   "cell_type": "code",
   "execution_count": 45,
   "id": "2c52d713-c1c3-4b95-b213-12cfbedf4c01",
   "metadata": {
    "execution": {
     "iopub.execute_input": "2025-07-18T12:25:13.305579Z",
     "iopub.status.busy": "2025-07-18T12:25:13.305579Z",
     "iopub.status.idle": "2025-07-18T12:25:13.311349Z",
     "shell.execute_reply": "2025-07-18T12:25:13.310819Z",
     "shell.execute_reply.started": "2025-07-18T12:25:13.305579Z"
    }
   },
   "outputs": [
    {
     "name": "stdout",
     "output_type": "stream",
     "text": [
      "{'brand': 'Ford', 'model': 'Mustang', 'year': 1964}\n"
     ]
    }
   ],
   "source": [
    "dict1 = {\n",
    "  \"brand\": \"Ford\",\n",
    "  \"model\": \"Mustang\",\n",
    "  \"year\": 1964\n",
    "}\n",
    "mydict = dict(dict1)\n",
    "print(mydict)"
   ]
  },
  {
   "cell_type": "code",
   "execution_count": 46,
   "id": "6c3d8e17-c55f-4c87-a720-b22a66f75799",
   "metadata": {
    "execution": {
     "iopub.execute_input": "2025-07-18T12:25:23.335081Z",
     "iopub.status.busy": "2025-07-18T12:25:23.335081Z",
     "iopub.status.idle": "2025-07-18T12:25:23.340508Z",
     "shell.execute_reply": "2025-07-18T12:25:23.339487Z",
     "shell.execute_reply.started": "2025-07-18T12:25:23.335081Z"
    }
   },
   "outputs": [
    {
     "name": "stdout",
     "output_type": "stream",
     "text": [
      "{'brand': 'Ford', 'model': 'Mustang', 'year': 2020}\n",
      "{'brand': 'Ford', 'model': 'Mustang', 'year': 1964}\n"
     ]
    }
   ],
   "source": [
    "dict1.update({\"year\":2020})\n",
    "print(dict1)\n",
    "print(dict2)"
   ]
  },
  {
   "cell_type": "markdown",
   "id": "878f882a-02db-442d-beff-1a07a0c8afdf",
   "metadata": {},
   "source": [
    "## Nested Dictionaries"
   ]
  },
  {
   "cell_type": "code",
   "execution_count": 50,
   "id": "d77c9f2c-8fa1-4bb4-9b7d-7ccc11261194",
   "metadata": {
    "execution": {
     "iopub.execute_input": "2025-07-18T12:27:30.500478Z",
     "iopub.status.busy": "2025-07-18T12:27:30.500478Z",
     "iopub.status.idle": "2025-07-18T12:27:30.506587Z",
     "shell.execute_reply": "2025-07-18T12:27:30.505569Z",
     "shell.execute_reply.started": "2025-07-18T12:27:30.500478Z"
    }
   },
   "outputs": [
    {
     "name": "stdout",
     "output_type": "stream",
     "text": [
      "{'child1': {'name': 'Emil', 'year': 2004}, 'child2': {'name': 'Tobias', 'year': 2007}, 'child3': {'name': 'Linus', 'year': 2011}}\n"
     ]
    }
   ],
   "source": [
    "myfamily = {\n",
    "  \"child1\" : {\n",
    "    \"name\" : \"Emil\",\n",
    "    \"year\" : 2004\n",
    "  },\n",
    "  \"child2\" : {\n",
    "    \"name\" : \"Tobias\",\n",
    "    \"year\" : 2007\n",
    "  },\n",
    "  \"child3\" : {\n",
    "    \"name\" : \"Linus\",\n",
    "    \"year\" : 2011\n",
    "  }\n",
    "}\n",
    "print(myfamily)"
   ]
  },
  {
   "cell_type": "markdown",
   "id": "3e7964e4-ca76-4e5b-a04f-32b9f5ad575e",
   "metadata": {},
   "source": [
    "* if you want to add three dictionaries into a new dictionary:"
   ]
  },
  {
   "cell_type": "code",
   "execution_count": 1,
   "id": "5e7ec62a-594c-48f1-984d-8715241fb9c9",
   "metadata": {
    "execution": {
     "iopub.execute_input": "2025-07-19T03:34:20.764195Z",
     "iopub.status.busy": "2025-07-19T03:34:20.763195Z",
     "iopub.status.idle": "2025-07-19T03:34:20.773052Z",
     "shell.execute_reply": "2025-07-19T03:34:20.772043Z",
     "shell.execute_reply.started": "2025-07-19T03:34:20.764195Z"
    }
   },
   "outputs": [
    {
     "name": "stdout",
     "output_type": "stream",
     "text": [
      "{'child1': {'name': 'Emil', 'year': 2004}, 'child2': {'name': 'Tobias', 'year': 2007}, 'child3': {'name': 'Linus', 'year': 2011}}\n"
     ]
    }
   ],
   "source": [
    "child1 = {\n",
    "  \"name\" : \"Emil\",\n",
    "  \"year\" : 2004\n",
    "}\n",
    "child2 = {\n",
    "  \"name\" : \"Tobias\",\n",
    "  \"year\" : 2007\n",
    "}\n",
    "child3 = {\n",
    "  \"name\" : \"Linus\",\n",
    "  \"year\" : 2011\n",
    "}\n",
    "\n",
    "myfamily = {\n",
    "  \"child1\" : child1,\n",
    "  \"child2\" : child2,\n",
    "  \"child3\" : child3\n",
    "}\n",
    "print(myfamily)"
   ]
  },
  {
   "cell_type": "markdown",
   "id": "d1a83cae-2545-4fae-ad2c-20be6fc4b958",
   "metadata": {},
   "source": [
    "### Access Items in Nested Dictionaries"
   ]
  },
  {
   "cell_type": "code",
   "execution_count": 54,
   "id": "4728aee2-1a67-42b3-bf8f-14f4fa152ca2",
   "metadata": {
    "execution": {
     "iopub.execute_input": "2025-07-18T12:30:57.946425Z",
     "iopub.status.busy": "2025-07-18T12:30:57.946425Z",
     "iopub.status.idle": "2025-07-18T12:30:57.951448Z",
     "shell.execute_reply": "2025-07-18T12:30:57.951448Z",
     "shell.execute_reply.started": "2025-07-18T12:30:57.946425Z"
    }
   },
   "outputs": [
    {
     "name": "stdout",
     "output_type": "stream",
     "text": [
      "2004\n",
      "2007\n",
      "2011\n"
     ]
    }
   ],
   "source": [
    "print(myfamily[\"child1\"][\"year\"])\n",
    "print(myfamily[\"child2\"][\"year\"])\n",
    "print(myfamily[\"child3\"][\"year\"])"
   ]
  },
  {
   "cell_type": "markdown",
   "id": "25946a96-7326-4e47-a41a-1a9307980647",
   "metadata": {},
   "source": [
    "## fromkeys( ) Method"
   ]
  },
  {
   "cell_type": "markdown",
   "id": "90700219-94dc-4fb4-b500-0744ece86a3a",
   "metadata": {},
   "source": [
    "* The fromkeys( ) method returns a dictionary with the specified keys and the specified value"
   ]
  },
  {
   "cell_type": "code",
   "execution_count": 59,
   "id": "3ec7556c-97c3-4a25-b0ba-27632237ec9f",
   "metadata": {
    "execution": {
     "iopub.execute_input": "2025-07-18T12:34:26.003118Z",
     "iopub.status.busy": "2025-07-18T12:34:26.002119Z",
     "iopub.status.idle": "2025-07-18T12:34:26.007204Z",
     "shell.execute_reply": "2025-07-18T12:34:26.007204Z",
     "shell.execute_reply.started": "2025-07-18T12:34:26.003118Z"
    }
   },
   "outputs": [
    {
     "name": "stdout",
     "output_type": "stream",
     "text": [
      "{'key1': 0, 'key2': 0, 'key3': 0}\n"
     ]
    }
   ],
   "source": [
    "x = ('key1', 'key2', 'key3')\n",
    "y = 0\n",
    "thisdict = dict.fromkeys(x, y)\n",
    "print(thisdict)"
   ]
  },
  {
   "cell_type": "markdown",
   "id": "0e2e65d8-eef8-4438-9fac-d9062988043c",
   "metadata": {},
   "source": [
    "## zip( )"
   ]
  },
  {
   "cell_type": "code",
   "execution_count": 60,
   "id": "22ae4802-9751-4a52-b766-d89f71d99df0",
   "metadata": {
    "execution": {
     "iopub.execute_input": "2025-07-18T12:39:30.668677Z",
     "iopub.status.busy": "2025-07-18T12:39:30.668677Z",
     "iopub.status.idle": "2025-07-18T12:39:30.674182Z",
     "shell.execute_reply": "2025-07-18T12:39:30.673675Z",
     "shell.execute_reply.started": "2025-07-18T12:39:30.668677Z"
    }
   },
   "outputs": [
    {
     "name": "stdout",
     "output_type": "stream",
     "text": [
      "{'a': 1, 'b': 2, 'c': 3, 'd': 4}\n"
     ]
    }
   ],
   "source": [
    "x = ['a','b','c','d']\n",
    "y = [1,2,3,4]\n",
    "zipped = zip(x,y)\n",
    "new = dict(zipped)\n",
    "print(new)"
   ]
  }
 ],
 "metadata": {
  "kernelspec": {
   "display_name": "Python 3 (ipykernel)",
   "language": "python",
   "name": "python3"
  },
  "language_info": {
   "codemirror_mode": {
    "name": "ipython",
    "version": 3
   },
   "file_extension": ".py",
   "mimetype": "text/x-python",
   "name": "python",
   "nbconvert_exporter": "python",
   "pygments_lexer": "ipython3",
   "version": "3.11.6"
  }
 },
 "nbformat": 4,
 "nbformat_minor": 5
}
