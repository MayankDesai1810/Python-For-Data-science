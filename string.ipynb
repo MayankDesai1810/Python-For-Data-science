{
 "cells": [
  {
   "cell_type": "markdown",
   "id": "bf3debe7-beab-42d3-abbb-6550a2805ac6",
   "metadata": {},
   "source": [
    "# string"
   ]
  },
  {
   "cell_type": "markdown",
   "id": "e7090b20-57ec-41e1-9476-b22c3e831870",
   "metadata": {},
   "source": [
    "* A string in Python is a sequence of Unicode characters, defined using single  ('), double (\"), or triple quotes (''' / \" \" \") for multi-line strings."
   ]
  },
  {
   "cell_type": "markdown",
   "id": "025d69f4-427f-40d2-a1b2-55026fa58b22",
   "metadata": {},
   "source": [
    "## craeting string"
   ]
  },
  {
   "cell_type": "code",
   "execution_count": 1,
   "id": "5fc81246-74ff-415e-b4e8-80e8e9c792f7",
   "metadata": {
    "execution": {
     "iopub.execute_input": "2025-08-16T13:36:50.658770Z",
     "iopub.status.busy": "2025-08-16T13:36:50.657738Z",
     "iopub.status.idle": "2025-08-16T13:36:50.672332Z",
     "shell.execute_reply": "2025-08-16T13:36:50.670287Z",
     "shell.execute_reply.started": "2025-08-16T13:36:50.658770Z"
    }
   },
   "outputs": [
    {
     "name": "stdout",
     "output_type": "stream",
     "text": [
      "hello\n",
      "hello\n"
     ]
    }
   ],
   "source": [
    "# single line string\n",
    "s = 'hello'\n",
    "print(s)\n",
    "s = \"hello\"\n",
    "print(s)"
   ]
  },
  {
   "cell_type": "code",
   "execution_count": 1,
   "id": "91d2ad4a-c71b-4462-ae5b-da8181f18be3",
   "metadata": {
    "execution": {
     "iopub.execute_input": "2025-07-11T15:36:39.287570Z",
     "iopub.status.busy": "2025-07-11T15:36:39.286571Z",
     "iopub.status.idle": "2025-07-11T15:36:39.296793Z",
     "shell.execute_reply": "2025-07-11T15:36:39.296793Z",
     "shell.execute_reply.started": "2025-07-11T15:36:39.287570Z"
    }
   },
   "outputs": [
    {
     "ename": "SyntaxError",
     "evalue": "unterminated string literal (detected at line 3) (333409257.py, line 3)",
     "output_type": "error",
     "traceback": [
      "  \u001b[36mCell\u001b[39m\u001b[36m \u001b[39m\u001b[32mIn[1]\u001b[39m\u001b[32m, line 3\u001b[39m\n\u001b[31m    \u001b[39m\u001b[31ms = 'it's a right place.'  # according to python interpreter only 'it' is\u001b[39m\n                                                                         ^\n\u001b[31mSyntaxError\u001b[39m\u001b[31m:\u001b[39m unterminated string literal (detected at line 3)\n"
     ]
    }
   ],
   "source": [
    "# why single quotes and double quotes\n",
    "s = 'it's a right place.'  # according to python interpreter only 'it' is \n",
    "print(st)                  # string and 's a right place.' is unnecessary text."
   ]
  },
  {
   "cell_type": "markdown",
   "id": "b67a6cf4-172c-4df7-b805-6fb3d44c0e39",
   "metadata": {},
   "source": [
    "* You can use quotes inside a string, as long as they don't match the quotes surrounding the string"
   ]
  },
  {
   "cell_type": "code",
   "execution_count": 4,
   "id": "f95a9a14-1d51-4d80-a5d3-0b7e8ddfa529",
   "metadata": {
    "execution": {
     "iopub.execute_input": "2025-07-10T09:00:40.160809Z",
     "iopub.status.busy": "2025-07-10T09:00:40.159734Z",
     "iopub.status.idle": "2025-07-10T09:00:40.164024Z",
     "shell.execute_reply": "2025-07-10T09:00:40.164024Z",
     "shell.execute_reply.started": "2025-07-10T09:00:40.160809Z"
    }
   },
   "outputs": [
    {
     "name": "stdout",
     "output_type": "stream",
     "text": [
      "It's alright\n",
      "He is called 'Johnny'\n",
      "He is called \"Johnny\"\n"
     ]
    }
   ],
   "source": [
    "print(\"It's alright\")\n",
    "print(\"He is called 'Johnny'\")\n",
    "print('He is called \"Johnny\"')"
   ]
  },
  {
   "cell_type": "code",
   "execution_count": 2,
   "id": "6a2dc927-7dd4-433d-a599-0a8e4817b2fd",
   "metadata": {
    "execution": {
     "iopub.execute_input": "2025-07-11T15:36:43.476558Z",
     "iopub.status.busy": "2025-07-11T15:36:43.476558Z",
     "iopub.status.idle": "2025-07-11T15:36:43.491586Z",
     "shell.execute_reply": "2025-07-11T15:36:43.491075Z",
     "shell.execute_reply.started": "2025-07-11T15:36:43.476558Z"
    }
   },
   "outputs": [
    {
     "name": "stdout",
     "output_type": "stream",
     "text": [
      " my name is mayank desai.   \n",
      " i am a first year b.tech computer science and design student.\n",
      " my name is mayank desai.   \n",
      " i am a first year b.tech computer science and design student.\n"
     ]
    }
   ],
   "source": [
    "# Multiline Strings\n",
    "# single triple quotes\n",
    "s = ''' my name is mayank desai.   \n",
    " i am a first year b.tech computer science and design student.'''  \n",
    "print(s)\n",
    "# double triple quotes\n",
    "str = \"\"\" my name is mayank desai.   \n",
    " i am a first year b.tech computer science and design student.\"\"\"\n",
    "print(s)"
   ]
  },
  {
   "cell_type": "markdown",
   "id": "292d474d-de45-43bb-8d9e-bc78be224482",
   "metadata": {},
   "source": [
    "## Indexing "
   ]
  },
  {
   "cell_type": "code",
   "execution_count": 3,
   "id": "27347999-b306-4d1e-8ec9-14bcf7545d78",
   "metadata": {
    "execution": {
     "iopub.execute_input": "2025-07-11T15:36:46.537473Z",
     "iopub.status.busy": "2025-07-11T15:36:46.536475Z",
     "iopub.status.idle": "2025-07-11T15:36:46.546861Z",
     "shell.execute_reply": "2025-07-11T15:36:46.546861Z",
     "shell.execute_reply.started": "2025-07-11T15:36:46.537473Z"
    }
   },
   "outputs": [
    {
     "name": "stdout",
     "output_type": "stream",
     "text": [
      "H\n",
      "l\n",
      " \n",
      "o\n",
      "d\n"
     ]
    }
   ],
   "source": [
    "# positive indexing :\n",
    "s = \"Hello World\"\n",
    "print(s[0])\n",
    "print(s[2])\n",
    "print(s[5])  # white spaces is also a part of string \n",
    "print(s[7])\n",
    "print(s[10])\n",
    "# positive indexing range : 0 to (length of string - 1)"
   ]
  },
  {
   "cell_type": "code",
   "execution_count": 4,
   "id": "576b5189-f91a-4dfb-b3c6-fd85848f7a01",
   "metadata": {
    "execution": {
     "iopub.execute_input": "2025-07-11T15:36:51.044724Z",
     "iopub.status.busy": "2025-07-11T15:36:51.043725Z",
     "iopub.status.idle": "2025-07-11T15:36:51.608790Z",
     "shell.execute_reply": "2025-07-11T15:36:51.607266Z",
     "shell.execute_reply.started": "2025-07-11T15:36:51.044724Z"
    }
   },
   "outputs": [
    {
     "ename": "IndexError",
     "evalue": "string index out of range",
     "output_type": "error",
     "traceback": [
      "\u001b[31m---------------------------------------------------------------------------\u001b[39m",
      "\u001b[31mIndexError\u001b[39m                                Traceback (most recent call last)",
      "\u001b[36mCell\u001b[39m\u001b[36m \u001b[39m\u001b[32mIn[4]\u001b[39m\u001b[32m, line 3\u001b[39m\n\u001b[32m      1\u001b[39m \u001b[38;5;66;03m# indexing out of range will give you error\u001b[39;00m\n\u001b[32m      2\u001b[39m s = \u001b[33m\"\u001b[39m\u001b[33mHello World\u001b[39m\u001b[33m\"\u001b[39m\n\u001b[32m----> \u001b[39m\u001b[32m3\u001b[39m \u001b[38;5;28mprint\u001b[39m(\u001b[43ms\u001b[49m\u001b[43m[\u001b[49m\u001b[32;43m11\u001b[39;49m\u001b[43m]\u001b[49m)\n",
      "\u001b[31mIndexError\u001b[39m: string index out of range"
     ]
    }
   ],
   "source": [
    "# indexing out of range will give you error\n",
    "s = \"Hello World\"\n",
    "print(s[11])"
   ]
  },
  {
   "cell_type": "code",
   "execution_count": 5,
   "id": "10906c6f-b37b-45af-8d18-9b07ca1e276c",
   "metadata": {
    "execution": {
     "iopub.execute_input": "2025-07-11T15:37:05.579153Z",
     "iopub.status.busy": "2025-07-11T15:37:05.579153Z",
     "iopub.status.idle": "2025-07-11T15:37:05.584684Z",
     "shell.execute_reply": "2025-07-11T15:37:05.584175Z",
     "shell.execute_reply.started": "2025-07-11T15:37:05.579153Z"
    }
   },
   "outputs": [
    {
     "name": "stdout",
     "output_type": "stream",
     "text": [
      "H\n",
      "o\n",
      " \n",
      "o\n",
      "d\n"
     ]
    }
   ],
   "source": [
    "# negative indexing\n",
    "s = \"Hello World\"\n",
    "print(s[-11])\n",
    "print(s[-7])\n",
    "print(s[-6])  \n",
    "print(s[-4])\n",
    "print(s[-1])\n",
    "# negative index range : -(length of string) to -1"
   ]
  },
  {
   "cell_type": "markdown",
   "id": "018b7f73-a853-4b02-abe9-0c3c306771c1",
   "metadata": {},
   "source": [
    "## Slicing"
   ]
  },
  {
   "cell_type": "markdown",
   "id": "3136a07c-7364-40f2-bffc-f1e7bd0355b4",
   "metadata": {},
   "source": [
    "* You can return a range of characters by using the slice syntax\n",
    "* Specify the start index and the end index, separated by a colon, to return a part of the string.\n",
    "* direction of sclicing is left to right. means (strat index < end index)"
   ]
  },
  {
   "cell_type": "code",
   "execution_count": 6,
   "id": "c014a29b-748b-4c09-8192-1c86107f5016",
   "metadata": {
    "execution": {
     "iopub.execute_input": "2025-07-11T15:37:11.364116Z",
     "iopub.status.busy": "2025-07-11T15:37:11.363115Z",
     "iopub.status.idle": "2025-07-11T15:37:11.373358Z",
     "shell.execute_reply": "2025-07-11T15:37:11.372344Z",
     "shell.execute_reply.started": "2025-07-11T15:37:11.364116Z"
    }
   },
   "outputs": [
    {
     "name": "stdout",
     "output_type": "stream",
     "text": [
      "Mayank\n",
      "Desai\n"
     ]
    }
   ],
   "source": [
    "str1 = \"Mayank Desai\"\n",
    "print(str1[0:6])\n",
    "print(str1[7:12])"
   ]
  },
  {
   "cell_type": "code",
   "execution_count": 7,
   "id": "2be86cae-48ce-468f-bd59-5f1f1944be7e",
   "metadata": {
    "execution": {
     "iopub.execute_input": "2025-07-11T15:37:18.921902Z",
     "iopub.status.busy": "2025-07-11T15:37:18.921902Z",
     "iopub.status.idle": "2025-07-11T15:37:18.929314Z",
     "shell.execute_reply": "2025-07-11T15:37:18.929314Z",
     "shell.execute_reply.started": "2025-07-11T15:37:18.921902Z"
    }
   },
   "outputs": [
    {
     "name": "stdout",
     "output_type": "stream",
     "text": [
      "Mayank\n",
      "Mayank De\n",
      "nk Desai\n",
      "my name is mayank desai.   \n",
      " i am a first year b.tech computer science and design student.\n"
     ]
    }
   ],
   "source": [
    "# Slice From the Start\n",
    "str1 = \"Mayank Desai\"\n",
    "print(str1[:6])\n",
    "print(str1[:9])\n",
    "# Slice To the End\n",
    "print(str1[4:])\n",
    "print(str[1:])"
   ]
  },
  {
   "cell_type": "code",
   "execution_count": 8,
   "id": "79970e1e-d2c6-485b-8d1d-fba6cebfaf7e",
   "metadata": {
    "execution": {
     "iopub.execute_input": "2025-07-11T15:37:20.560799Z",
     "iopub.status.busy": "2025-07-11T15:37:20.559801Z",
     "iopub.status.idle": "2025-07-11T15:37:20.568766Z",
     "shell.execute_reply": "2025-07-11T15:37:20.567751Z",
     "shell.execute_reply.started": "2025-07-11T15:37:20.560799Z"
    }
   },
   "outputs": [
    {
     "name": "stdout",
     "output_type": "stream",
     "text": [
      "Des\n",
      "Mayank Desa\n"
     ]
    }
   ],
   "source": [
    "# Negative Indexing\n",
    "str1 = \"Mayank Desai\"\n",
    "print(str1[-5:-2])\n",
    "print(str1[-12:-1])"
   ]
  },
  {
   "cell_type": "code",
   "execution_count": 9,
   "id": "2ccfcd36-067f-43a3-a551-95ac0d9d6f38",
   "metadata": {
    "execution": {
     "iopub.execute_input": "2025-07-11T15:37:21.888117Z",
     "iopub.status.busy": "2025-07-11T15:37:21.888117Z",
     "iopub.status.idle": "2025-07-11T15:37:21.894143Z",
     "shell.execute_reply": "2025-07-11T15:37:21.893636Z",
     "shell.execute_reply.started": "2025-07-11T15:37:21.888117Z"
    }
   },
   "outputs": [
    {
     "name": "stdout",
     "output_type": "stream",
     "text": [
      "Myn ea\n",
      "Ma s\n"
     ]
    }
   ],
   "source": [
    "str1 = \"Mayank Desai\"\n",
    "print(str1[0:12:2])# 2 is number of jump in increasing order\n",
    "print(str1[0:12:3])"
   ]
  },
  {
   "cell_type": "code",
   "execution_count": 10,
   "id": "3aea2333-d549-4e59-ab58-44c3f79a1e11",
   "metadata": {
    "execution": {
     "iopub.execute_input": "2025-07-11T15:37:22.499253Z",
     "iopub.status.busy": "2025-07-11T15:37:22.499253Z",
     "iopub.status.idle": "2025-07-11T15:37:22.505924Z",
     "shell.execute_reply": "2025-07-11T15:37:22.504642Z",
     "shell.execute_reply.started": "2025-07-11T15:37:22.499253Z"
    }
   },
   "outputs": [
    {
     "name": "stdout",
     "output_type": "stream",
     "text": [
      "isDkaa\n",
      "ieky\n"
     ]
    }
   ],
   "source": [
    "str1 = \"Mayank Desai\" \n",
    "print(str1[11:0:-2]) # negative jumping\n",
    "print(str1[11:0:-3])"
   ]
  },
  {
   "cell_type": "code",
   "execution_count": 11,
   "id": "647725fe-d6ba-4792-b48c-f66b801f8a75",
   "metadata": {
    "execution": {
     "iopub.execute_input": "2025-07-11T15:37:23.033980Z",
     "iopub.status.busy": "2025-07-11T15:37:23.032981Z",
     "iopub.status.idle": "2025-07-11T15:37:23.038482Z",
     "shell.execute_reply": "2025-07-11T15:37:23.037974Z",
     "shell.execute_reply.started": "2025-07-11T15:37:23.033980Z"
    }
   },
   "outputs": [
    {
     "name": "stdout",
     "output_type": "stream",
     "text": [
      "iaseD knayaM\n"
     ]
    }
   ],
   "source": [
    "# reverse string\n",
    "str1 = \"Mayank Desai\"\n",
    "print(str1[::-1])"
   ]
  },
  {
   "cell_type": "markdown",
   "id": "58311e97-9b4c-4d3c-8bf5-01f78882cbb4",
   "metadata": {},
   "source": [
    "## Editing and Deleting in strings"
   ]
  },
  {
   "cell_type": "markdown",
   "id": "a1c651a8-9162-4716-aaf6-5fc7b18c12a4",
   "metadata": {},
   "source": [
    "* Strings in python are immutable means you can not change string after declaration  "
   ]
  },
  {
   "cell_type": "code",
   "execution_count": 1,
   "id": "60456a41-6916-4a7f-b772-2e76b2985ee0",
   "metadata": {
    "execution": {
     "iopub.execute_input": "2025-07-18T16:18:06.781863Z",
     "iopub.status.busy": "2025-07-18T16:18:06.781863Z",
     "iopub.status.idle": "2025-07-18T16:18:07.288250Z",
     "shell.execute_reply": "2025-07-18T16:18:07.285244Z",
     "shell.execute_reply.started": "2025-07-18T16:18:06.781863Z"
    }
   },
   "outputs": [
    {
     "ename": "TypeError",
     "evalue": "'str' object does not support item assignment",
     "output_type": "error",
     "traceback": [
      "\u001b[31m---------------------------------------------------------------------------\u001b[39m",
      "\u001b[31mTypeError\u001b[39m                                 Traceback (most recent call last)",
      "\u001b[36mCell\u001b[39m\u001b[36m \u001b[39m\u001b[32mIn[1]\u001b[39m\u001b[32m, line 2\u001b[39m\n\u001b[32m      1\u001b[39m str1 = \u001b[33m\"\u001b[39m\u001b[33mhello world\u001b[39m\u001b[33m\"\u001b[39m\n\u001b[32m----> \u001b[39m\u001b[32m2\u001b[39m \u001b[43mstr1\u001b[49m\u001b[43m[\u001b[49m\u001b[32;43m0\u001b[39;49m\u001b[43m]\u001b[49m=\u001b[33m\"\u001b[39m\u001b[33mH\u001b[39m\u001b[33m\"\u001b[39m  \n",
      "\u001b[31mTypeError\u001b[39m: 'str' object does not support item assignment"
     ]
    }
   ],
   "source": [
    "str1 = \"hello world\"\n",
    "str1[0]=\"H\"  "
   ]
  },
  {
   "cell_type": "code",
   "execution_count": 2,
   "id": "127479e0-f352-49b2-8331-d50949f42921",
   "metadata": {
    "execution": {
     "iopub.execute_input": "2025-07-18T16:19:26.774410Z",
     "iopub.status.busy": "2025-07-18T16:19:26.774410Z",
     "iopub.status.idle": "2025-07-18T16:19:26.802321Z",
     "shell.execute_reply": "2025-07-18T16:19:26.801311Z",
     "shell.execute_reply.started": "2025-07-18T16:19:26.774410Z"
    }
   },
   "outputs": [
    {
     "ename": "NameError",
     "evalue": "name 's' is not defined",
     "output_type": "error",
     "traceback": [
      "\u001b[31m---------------------------------------------------------------------------\u001b[39m",
      "\u001b[31mNameError\u001b[39m                                 Traceback (most recent call last)",
      "\u001b[36mCell\u001b[39m\u001b[36m \u001b[39m\u001b[32mIn[2]\u001b[39m\u001b[32m, line 3\u001b[39m\n\u001b[32m      1\u001b[39m s = \u001b[33m\"\u001b[39m\u001b[33mhello world\u001b[39m\u001b[33m\"\u001b[39m\n\u001b[32m      2\u001b[39m \u001b[38;5;28;01mdel\u001b[39;00m s\n\u001b[32m----> \u001b[39m\u001b[32m3\u001b[39m \u001b[38;5;28mprint\u001b[39m(\u001b[43ms\u001b[49m)\n",
      "\u001b[31mNameError\u001b[39m: name 's' is not defined"
     ]
    }
   ],
   "source": [
    "s = \"hello world\"\n",
    "del s\n",
    "print(s)"
   ]
  },
  {
   "cell_type": "markdown",
   "id": "65821ca1-dc1e-4389-b50c-6109826cbd75",
   "metadata": {},
   "source": [
    "```python\n",
    "#   it removes the name (variable) from the current namespace\n",
    "#  namespace : is like a container that stores variable names and their values.\n",
    "#  It does not delete the string content from memory directly, but rather deletes the reference to it.\n",
    "#  If no variables reference a value anymore, Python will automatically delete (free) it from memory. ( free memory call garbage collection)"
   ]
  },
  {
   "cell_type": "code",
   "execution_count": 3,
   "id": "f4486a37-4453-4329-9448-86528521bf9b",
   "metadata": {
    "execution": {
     "iopub.execute_input": "2025-07-18T16:20:09.006438Z",
     "iopub.status.busy": "2025-07-18T16:20:09.006438Z",
     "iopub.status.idle": "2025-07-18T16:20:09.028903Z",
     "shell.execute_reply": "2025-07-18T16:20:09.027887Z",
     "shell.execute_reply.started": "2025-07-18T16:20:09.006438Z"
    }
   },
   "outputs": [
    {
     "ename": "TypeError",
     "evalue": "'str' object does not support item deletion",
     "output_type": "error",
     "traceback": [
      "\u001b[31m---------------------------------------------------------------------------\u001b[39m",
      "\u001b[31mTypeError\u001b[39m                                 Traceback (most recent call last)",
      "\u001b[36mCell\u001b[39m\u001b[36m \u001b[39m\u001b[32mIn[3]\u001b[39m\u001b[32m, line 2\u001b[39m\n\u001b[32m      1\u001b[39m s = \u001b[33m\"\u001b[39m\u001b[33mhello world\u001b[39m\u001b[33m\"\u001b[39m\n\u001b[32m----> \u001b[39m\u001b[32m2\u001b[39m \u001b[38;5;28;01mdel\u001b[39;00m \u001b[43ms\u001b[49m\u001b[43m[\u001b[49m\u001b[32;43m2\u001b[39;49m\u001b[43m:\u001b[49m\u001b[32;43m5\u001b[39;49m\u001b[43m]\u001b[49m\n\u001b[32m      3\u001b[39m \u001b[38;5;28mprint\u001b[39m(s)\n\u001b[32m      4\u001b[39m \u001b[38;5;66;03m# you can not do this thing because strings are immutable\u001b[39;00m\n",
      "\u001b[31mTypeError\u001b[39m: 'str' object does not support item deletion"
     ]
    }
   ],
   "source": [
    "s = \"hello world\"\n",
    "del s[2:5]\n",
    "print(s)\n",
    "# you can not do this thing because strings are immutable"
   ]
  },
  {
   "cell_type": "markdown",
   "id": "c0ce71f5-73c2-44d4-93d4-c7ac612b4802",
   "metadata": {},
   "source": [
    "## operation on string"
   ]
  },
  {
   "cell_type": "code",
   "execution_count": 2,
   "id": "fecb8632-4057-4e1b-b992-c4a763545eee",
   "metadata": {
    "execution": {
     "iopub.execute_input": "2025-08-16T13:38:32.779454Z",
     "iopub.status.busy": "2025-08-16T13:38:32.778401Z",
     "iopub.status.idle": "2025-08-16T13:38:32.786823Z",
     "shell.execute_reply": "2025-08-16T13:38:32.784790Z",
     "shell.execute_reply.started": "2025-08-16T13:38:32.779454Z"
    }
   },
   "outputs": [
    {
     "name": "stdout",
     "output_type": "stream",
     "text": [
      "GoodMorning\n"
     ]
    }
   ],
   "source": [
    "# Concatenation (+) ---> you can add two or more string with '+' operator \n",
    "first = \"Good\"\n",
    "second = \"Morning\"\n",
    "result = first + second\n",
    "print(result)  "
   ]
  },
  {
   "cell_type": "code",
   "execution_count": 3,
   "id": "c45732de-8c6b-4208-874b-6f7dfbb4093d",
   "metadata": {
    "execution": {
     "iopub.execute_input": "2025-08-16T13:38:33.854257Z",
     "iopub.status.busy": "2025-08-16T13:38:33.854257Z",
     "iopub.status.idle": "2025-08-16T13:38:33.861568Z",
     "shell.execute_reply": "2025-08-16T13:38:33.860557Z",
     "shell.execute_reply.started": "2025-08-16T13:38:33.854257Z"
    }
   },
   "outputs": [
    {
     "name": "stdout",
     "output_type": "stream",
     "text": [
      "Ha Ha Ha Ha Ha \n"
     ]
    }
   ],
   "source": [
    "# Repetition (*) ---> Repeats the string\n",
    "text = \"Ha \"\n",
    "print(text * 5)  "
   ]
  },
  {
   "cell_type": "code",
   "execution_count": 4,
   "id": "1d780f4e-931b-4f15-95d6-af6c3394385c",
   "metadata": {
    "execution": {
     "iopub.execute_input": "2025-08-16T13:38:37.297904Z",
     "iopub.status.busy": "2025-08-16T13:38:37.296904Z",
     "iopub.status.idle": "2025-08-16T13:38:37.304943Z",
     "shell.execute_reply": "2025-08-16T13:38:37.303795Z",
     "shell.execute_reply.started": "2025-08-16T13:38:37.297904Z"
    }
   },
   "outputs": [
    {
     "name": "stdout",
     "output_type": "stream",
     "text": [
      "False\n",
      "True\n"
     ]
    }
   ],
   "source": [
    "# Equality check ---> Are the two strings exactly the same?\n",
    "# Inequality check ---> Are the two strings different?\n",
    "str1 = \"Mayank\"\n",
    "str2 = \"mayank\"\n",
    "print(str1 == str2)\n",
    "print(str1 != str2)"
   ]
  },
  {
   "cell_type": "markdown",
   "id": "7cf67e70-1acd-4c97-a5c3-f1670f1949c9",
   "metadata": {
    "execution": {
     "iopub.execute_input": "2025-07-11T11:03:00.331755Z",
     "iopub.status.busy": "2025-07-11T11:03:00.331755Z",
     "iopub.status.idle": "2025-07-11T11:03:00.339777Z",
     "shell.execute_reply": "2025-07-11T11:03:00.338763Z",
     "shell.execute_reply.started": "2025-07-11T11:03:00.331755Z"
    }
   },
   "source": [
    "## Comparison "
   ]
  },
  {
   "cell_type": "markdown",
   "id": "7d9fce42-ee6a-47ab-8306-0c88439f707f",
   "metadata": {},
   "source": [
    "* Python compares each character one by one, using the Unicode (ASCII) value of each character.\n",
    "* Lexicographical Comparison --->Lexicographical comparison means comparing strings the way words are ordered in a   dictionary,letter by letter from left to right.\n",
    "* Lexicographical Rule\n",
    "    * When Python compares two strings:\n",
    "      1. It compares the first character of both strings.\n",
    "      2. If they’re equal, it moves to the second character, and so on.\n",
    "      3. The comparison stops as soon as it finds characters that differ.\n",
    "      4. The string with the \"smaller\" character is considered less."
   ]
  },
  {
   "cell_type": "code",
   "execution_count": 18,
   "id": "7d68c4fb-4cef-4450-a934-a7c3ddba2bbc",
   "metadata": {
    "execution": {
     "iopub.execute_input": "2025-07-11T15:37:29.120853Z",
     "iopub.status.busy": "2025-07-11T15:37:29.120853Z",
     "iopub.status.idle": "2025-07-11T15:37:29.127363Z",
     "shell.execute_reply": "2025-07-11T15:37:29.126856Z",
     "shell.execute_reply.started": "2025-07-11T15:37:29.120853Z"
    }
   },
   "outputs": [
    {
     "name": "stdout",
     "output_type": "stream",
     "text": [
      "True\n"
     ]
    }
   ],
   "source": [
    "print(\"Zebra\" < \"apple\")  # True, because 'Z' (90) < 'a' (97)"
   ]
  },
  {
   "cell_type": "code",
   "execution_count": 19,
   "id": "3ff01bff-ec52-4bc1-a2e0-011bed69f039",
   "metadata": {
    "execution": {
     "iopub.execute_input": "2025-07-11T15:37:29.610573Z",
     "iopub.status.busy": "2025-07-11T15:37:29.609574Z",
     "iopub.status.idle": "2025-07-11T15:37:29.615525Z",
     "shell.execute_reply": "2025-07-11T15:37:29.614508Z",
     "shell.execute_reply.started": "2025-07-11T15:37:29.610573Z"
    }
   },
   "outputs": [
    {
     "name": "stdout",
     "output_type": "stream",
     "text": [
      "False\n"
     ]
    }
   ],
   "source": [
    "print(\"cat\" < \"car\")  # False ('t' > 'r')"
   ]
  },
  {
   "cell_type": "code",
   "execution_count": 1,
   "id": "7494f836-e1ed-409b-a5b8-de70e18b6fb8",
   "metadata": {
    "execution": {
     "iopub.execute_input": "2025-08-01T15:48:55.953434Z",
     "iopub.status.busy": "2025-08-01T15:48:55.953434Z",
     "iopub.status.idle": "2025-08-01T15:48:55.960349Z",
     "shell.execute_reply": "2025-08-01T15:48:55.960349Z",
     "shell.execute_reply.started": "2025-08-01T15:48:55.953434Z"
    }
   },
   "outputs": [
    {
     "name": "stdout",
     "output_type": "stream",
     "text": [
      "True\n"
     ]
    }
   ],
   "source": [
    "print(\"abc\" < \"abcd\")  # True - shorter comes first if all letters match"
   ]
  },
  {
   "cell_type": "code",
   "execution_count": 21,
   "id": "df3d3091-2649-4151-bfda-7d6ffef2d4e9",
   "metadata": {
    "execution": {
     "iopub.execute_input": "2025-07-11T15:37:30.611672Z",
     "iopub.status.busy": "2025-07-11T15:37:30.611672Z",
     "iopub.status.idle": "2025-07-11T15:37:30.616363Z",
     "shell.execute_reply": "2025-07-11T15:37:30.616363Z",
     "shell.execute_reply.started": "2025-07-11T15:37:30.611672Z"
    }
   },
   "outputs": [
    {
     "name": "stdout",
     "output_type": "stream",
     "text": [
      "True\n"
     ]
    }
   ],
   "source": [
    "print(\"Apple\" < \"apple\")  # True ('A' = 65, 'a' = 97)"
   ]
  },
  {
   "cell_type": "markdown",
   "id": "cdd061db-27f8-41aa-9710-16526bc82952",
   "metadata": {},
   "source": [
    "## loops with string"
   ]
  },
  {
   "cell_type": "code",
   "execution_count": 22,
   "id": "5fc147bc-a66c-46c3-91d3-2b26e66351df",
   "metadata": {
    "execution": {
     "iopub.execute_input": "2025-07-11T15:37:32.279332Z",
     "iopub.status.busy": "2025-07-11T15:37:32.278330Z",
     "iopub.status.idle": "2025-07-11T15:37:32.287338Z",
     "shell.execute_reply": "2025-07-11T15:37:32.287338Z",
     "shell.execute_reply.started": "2025-07-11T15:37:32.279332Z"
    }
   },
   "outputs": [
    {
     "name": "stdout",
     "output_type": "stream",
     "text": [
      "P\n",
      "y\n",
      "t\n",
      "h\n",
      "o\n",
      "n\n"
     ]
    }
   ],
   "source": [
    "# This is the most common way to loop through each character in a string.\n",
    "# String is iterable\n",
    "text = \"Python\"\n",
    "for char in text:\n",
    "    print(char)"
   ]
  },
  {
   "cell_type": "code",
   "execution_count": 24,
   "id": "34b3f3f0-eb6a-42b8-be48-056da16bc076",
   "metadata": {
    "execution": {
     "iopub.execute_input": "2025-07-11T15:37:40.035319Z",
     "iopub.status.busy": "2025-07-11T15:37:40.035319Z",
     "iopub.status.idle": "2025-07-11T15:37:40.041825Z",
     "shell.execute_reply": "2025-07-11T15:37:40.040817Z",
     "shell.execute_reply.started": "2025-07-11T15:37:40.035319Z"
    }
   },
   "outputs": [
    {
     "name": "stdout",
     "output_type": "stream",
     "text": [
      "Data Science\n",
      "Data Science\n",
      "Data Science\n",
      "Data Science\n",
      "Data Science\n",
      "Data Science\n"
     ]
    }
   ],
   "source": [
    "for i in 'python' :\n",
    "    print(\"Data Science\")  # ----> this will print length of string times"
   ]
  },
  {
   "cell_type": "markdown",
   "id": "934fdabb-e100-4e35-a923-357c6ef551c6",
   "metadata": {},
   "source": [
    "## common and universal functions"
   ]
  },
  {
   "cell_type": "code",
   "execution_count": 25,
   "id": "deeb12fd-8537-404f-84c8-6dc949167124",
   "metadata": {
    "execution": {
     "iopub.execute_input": "2025-07-11T15:44:11.877093Z",
     "iopub.status.busy": "2025-07-11T15:44:11.876091Z",
     "iopub.status.idle": "2025-07-11T15:44:11.892132Z",
     "shell.execute_reply": "2025-07-11T15:44:11.892132Z",
     "shell.execute_reply.started": "2025-07-11T15:44:11.877093Z"
    }
   },
   "outputs": [
    {
     "data": {
      "text/plain": [
       "12"
      ]
     },
     "execution_count": 25,
     "metadata": {},
     "output_type": "execute_result"
    }
   ],
   "source": [
    "# len() ----> used to find length of string including space\n",
    "s = \"mayank desai\"\n",
    "len(s)"
   ]
  },
  {
   "cell_type": "code",
   "execution_count": 28,
   "id": "eb817d9e-b1ec-42af-bb8d-1614691495f9",
   "metadata": {
    "execution": {
     "iopub.execute_input": "2025-07-11T15:47:53.184538Z",
     "iopub.status.busy": "2025-07-11T15:47:53.183538Z",
     "iopub.status.idle": "2025-07-11T15:47:53.187966Z",
     "shell.execute_reply": "2025-07-11T15:47:53.187966Z",
     "shell.execute_reply.started": "2025-07-11T15:47:53.184538Z"
    }
   },
   "outputs": [
    {
     "name": "stdout",
     "output_type": "stream",
     "text": [
      "y\n",
      "a\n"
     ]
    }
   ],
   "source": [
    "# max() ----> find maximum char out of given string based of ASCII value\n",
    "# min() ----> find minimum char out of given string based of ASCII value\n",
    "s = \"mayankdesai\"\n",
    "print(max(s))\n",
    "print(min(s))"
   ]
  },
  {
   "cell_type": "code",
   "execution_count": 2,
   "id": "ebeeef61-4a04-4a7c-9743-5fa3417ac336",
   "metadata": {
    "execution": {
     "iopub.execute_input": "2025-07-11T16:00:30.469366Z",
     "iopub.status.busy": "2025-07-11T16:00:30.468367Z",
     "iopub.status.idle": "2025-07-11T16:00:30.473226Z",
     "shell.execute_reply": "2025-07-11T16:00:30.473226Z",
     "shell.execute_reply.started": "2025-07-11T16:00:30.469366Z"
    }
   },
   "outputs": [
    {
     "name": "stdout",
     "output_type": "stream",
     "text": [
      "[' ', 'a', 'a', 'a', 'd', 'e', 'i', 'k', 'm', 'n', 's', 'y']\n",
      "['y', 's', 'n', 'm', 'k', 'i', 'e', 'd', 'a', 'a', 'a', ' ']\n"
     ]
    }
   ],
   "source": [
    "# sorted() ----> arrange the string in ascending order based of ASCII value but output will be list\n",
    "s = \"mayank desai\"\n",
    "print(sorted(s))\n",
    "# if you want to arrange in descending order\n",
    "print(sorted(s,reverse=True))"
   ]
  },
  {
   "cell_type": "markdown",
   "id": "c3f33bf8-430f-4106-93e7-4522b272fa74",
   "metadata": {},
   "source": [
    "## capitalize\\title\\upper\\lower\\swapspace"
   ]
  },
  {
   "cell_type": "code",
   "execution_count": 36,
   "id": "f950e7ab-8ace-44ce-9443-99f593d085cc",
   "metadata": {
    "execution": {
     "iopub.execute_input": "2025-07-11T16:42:15.154300Z",
     "iopub.status.busy": "2025-07-11T16:42:15.154300Z",
     "iopub.status.idle": "2025-07-11T16:42:15.161883Z",
     "shell.execute_reply": "2025-07-11T16:42:15.160868Z",
     "shell.execute_reply.started": "2025-07-11T16:42:15.154300Z"
    }
   },
   "outputs": [
    {
     "name": "stdout",
     "output_type": "stream",
     "text": [
      "Mayank desai\n",
      "mayank desai\n",
      "Sujal\n",
      "sujal\n"
     ]
    }
   ],
   "source": [
    "# capitalize() ---> used to convert first latter upper case in string\n",
    "s = \"mayank desai\"\n",
    "print(s.capitalize())\n",
    "print(s)  # main string does not change function create new string as existing string in memory\n",
    "r = \"sujal\"\n",
    "print(r.capitalize())\n",
    "print(r)"
   ]
  },
  {
   "cell_type": "code",
   "execution_count": 6,
   "id": "33db9b9c-f480-4476-8f9b-d989f587585e",
   "metadata": {
    "execution": {
     "iopub.execute_input": "2025-07-11T16:05:34.868439Z",
     "iopub.status.busy": "2025-07-11T16:05:34.867440Z",
     "iopub.status.idle": "2025-07-11T16:05:34.872439Z",
     "shell.execute_reply": "2025-07-11T16:05:34.872439Z",
     "shell.execute_reply.started": "2025-07-11T16:05:34.868439Z"
    }
   },
   "outputs": [
    {
     "name": "stdout",
     "output_type": "stream",
     "text": [
      "Mayank Desai\n"
     ]
    }
   ],
   "source": [
    "# title() ----> used to convert first latter into  upper case each word in string\n",
    "s = \"mayank desai\"\n",
    "print(s.title())"
   ]
  },
  {
   "cell_type": "code",
   "execution_count": 9,
   "id": "94c82da9-a453-4c76-8b0d-fe9bf9c0dbb8",
   "metadata": {
    "execution": {
     "iopub.execute_input": "2025-07-11T16:08:26.627166Z",
     "iopub.status.busy": "2025-07-11T16:08:26.627166Z",
     "iopub.status.idle": "2025-07-11T16:08:26.631651Z",
     "shell.execute_reply": "2025-07-11T16:08:26.631651Z",
     "shell.execute_reply.started": "2025-07-11T16:08:26.627166Z"
    }
   },
   "outputs": [
    {
     "name": "stdout",
     "output_type": "stream",
     "text": [
      "MAYANK DESAI\n",
      "mayank desai\n"
     ]
    }
   ],
   "source": [
    "# upper() ---> convert entire string in upper case\n",
    "s = \"mayank desai\"\n",
    "print(s.upper())\n",
    "# lower() ---> convert entire string in lower case\n",
    "s = \"MAYANK DESAI\"\n",
    "print(s.lower())"
   ]
  },
  {
   "cell_type": "code",
   "execution_count": 10,
   "id": "c259b3b7-93e5-4694-97eb-dbf74eab5d7e",
   "metadata": {
    "execution": {
     "iopub.execute_input": "2025-07-11T16:10:54.363964Z",
     "iopub.status.busy": "2025-07-11T16:10:54.363964Z",
     "iopub.status.idle": "2025-07-11T16:10:54.367963Z",
     "shell.execute_reply": "2025-07-11T16:10:54.367963Z",
     "shell.execute_reply.started": "2025-07-11T16:10:54.363964Z"
    }
   },
   "outputs": [
    {
     "name": "stdout",
     "output_type": "stream",
     "text": [
      "mAyAnK dEsAi\n"
     ]
    }
   ],
   "source": [
    "# swapcase() ---> convert string character upper to lower and vice versa at the same time\n",
    "s = \"MaYaNk DeSaI\"\n",
    "print(s.swapcase())"
   ]
  },
  {
   "cell_type": "markdown",
   "id": "995d3f3a-cc71-4079-b238-97f0a0b8b17e",
   "metadata": {},
   "source": [
    "## count\\find\\index"
   ]
  },
  {
   "cell_type": "code",
   "execution_count": 11,
   "id": "e25033b9-45a6-4920-a4d8-053b543ebbc9",
   "metadata": {
    "execution": {
     "iopub.execute_input": "2025-07-11T16:15:28.520151Z",
     "iopub.status.busy": "2025-07-11T16:15:28.520151Z",
     "iopub.status.idle": "2025-07-11T16:15:28.526269Z",
     "shell.execute_reply": "2025-07-11T16:15:28.525261Z",
     "shell.execute_reply.started": "2025-07-11T16:15:28.520151Z"
    }
   },
   "outputs": [
    {
     "name": "stdout",
     "output_type": "stream",
     "text": [
      "3\n"
     ]
    }
   ],
   "source": [
    "# count() ---> Returns the number of times a specified value occurs in a string\n",
    "s = \"mayank desai\"\n",
    "print(s.count('a'))"
   ]
  },
  {
   "cell_type": "code",
   "execution_count": 18,
   "id": "9673d155-dcb6-4df4-ae00-639685a69ae8",
   "metadata": {
    "execution": {
     "iopub.execute_input": "2025-07-11T16:21:26.121568Z",
     "iopub.status.busy": "2025-07-11T16:21:26.120568Z",
     "iopub.status.idle": "2025-07-11T16:21:26.125015Z",
     "shell.execute_reply": "2025-07-11T16:21:26.125015Z",
     "shell.execute_reply.started": "2025-07-11T16:21:26.120568Z"
    }
   },
   "outputs": [
    {
     "name": "stdout",
     "output_type": "stream",
     "text": [
      "18\n",
      "-1\n"
     ]
    }
   ],
   "source": [
    "# find() and index() ---> \tSearches the string for a specified value and returns the position of where it was found\n",
    "s = \"my name is mayank desai\"\n",
    "print(s.find('desai'))\n",
    "print(s.find('sujal'))"
   ]
  },
  {
   "cell_type": "code",
   "execution_count": 19,
   "id": "6ccdfe9f-d6fc-496d-9146-e8711fe040e1",
   "metadata": {
    "execution": {
     "iopub.execute_input": "2025-07-11T16:22:02.849275Z",
     "iopub.status.busy": "2025-07-11T16:22:02.848277Z",
     "iopub.status.idle": "2025-07-11T16:22:02.852554Z",
     "shell.execute_reply": "2025-07-11T16:22:02.852554Z",
     "shell.execute_reply.started": "2025-07-11T16:22:02.849275Z"
    }
   },
   "outputs": [
    {
     "name": "stdout",
     "output_type": "stream",
     "text": [
      "18\n"
     ]
    }
   ],
   "source": [
    "s = \"my name is mayank desai\"\n",
    "print(s.index('desai'))"
   ]
  },
  {
   "cell_type": "code",
   "execution_count": 20,
   "id": "00670a99-dacf-4eeb-8b42-0546f975e43a",
   "metadata": {
    "execution": {
     "iopub.execute_input": "2025-07-11T16:22:23.748818Z",
     "iopub.status.busy": "2025-07-11T16:22:23.748818Z",
     "iopub.status.idle": "2025-07-11T16:22:23.800222Z",
     "shell.execute_reply": "2025-07-11T16:22:23.798206Z",
     "shell.execute_reply.started": "2025-07-11T16:22:23.748818Z"
    }
   },
   "outputs": [
    {
     "ename": "ValueError",
     "evalue": "substring not found",
     "output_type": "error",
     "traceback": [
      "\u001b[31m---------------------------------------------------------------------------\u001b[39m",
      "\u001b[31mValueError\u001b[39m                                Traceback (most recent call last)",
      "\u001b[36mCell\u001b[39m\u001b[36m \u001b[39m\u001b[32mIn[20]\u001b[39m\u001b[32m, line 1\u001b[39m\n\u001b[32m----> \u001b[39m\u001b[32m1\u001b[39m \u001b[38;5;28mprint\u001b[39m(\u001b[43ms\u001b[49m\u001b[43m.\u001b[49m\u001b[43mindex\u001b[49m\u001b[43m(\u001b[49m\u001b[33;43m\"\u001b[39;49m\u001b[33;43msujal\u001b[39;49m\u001b[33;43m\"\u001b[39;49m\u001b[43m)\u001b[49m)\n",
      "\u001b[31mValueError\u001b[39m: substring not found"
     ]
    }
   ],
   "source": [
    "print(s.index(\"sujal\"))"
   ]
  },
  {
   "cell_type": "markdown",
   "id": "08885247-9ada-4aa6-9b07-8b529af0aee6",
   "metadata": {},
   "source": [
    "## endswith \\ startswith"
   ]
  },
  {
   "cell_type": "code",
   "execution_count": 25,
   "id": "f5d31aef-c596-4652-aad8-cea7b748d2d0",
   "metadata": {
    "execution": {
     "iopub.execute_input": "2025-07-11T16:29:24.203447Z",
     "iopub.status.busy": "2025-07-11T16:29:24.203447Z",
     "iopub.status.idle": "2025-07-11T16:29:24.207443Z",
     "shell.execute_reply": "2025-07-11T16:29:24.207443Z",
     "shell.execute_reply.started": "2025-07-11T16:29:24.203447Z"
    }
   },
   "outputs": [
    {
     "name": "stdout",
     "output_type": "stream",
     "text": [
      "True\n",
      "False\n"
     ]
    }
   ],
   "source": [
    "# endswith() ---> Returns true if the string ends with the specified value\n",
    "s = \"my name is mayank desai\"\n",
    "print(s.endswith(\"desai\"))\n",
    "print(s.endswith(\"sujal\"))"
   ]
  },
  {
   "cell_type": "code",
   "execution_count": 27,
   "id": "5af1aa61-a252-4893-97c1-ad635f075e27",
   "metadata": {
    "execution": {
     "iopub.execute_input": "2025-07-11T16:31:05.538362Z",
     "iopub.status.busy": "2025-07-11T16:31:05.537363Z",
     "iopub.status.idle": "2025-07-11T16:31:05.542871Z",
     "shell.execute_reply": "2025-07-11T16:31:05.542362Z",
     "shell.execute_reply.started": "2025-07-11T16:31:05.538362Z"
    }
   },
   "outputs": [
    {
     "name": "stdout",
     "output_type": "stream",
     "text": [
      "True\n",
      "False\n"
     ]
    }
   ],
   "source": [
    "# startswith() ---> Returns true if the string start with the specified value\n",
    "print(s.startswith(\"my\"))\n",
    "print(s.startswith(\"name\"))"
   ]
  },
  {
   "cell_type": "markdown",
   "id": "e3f13887-db49-4297-9407-cd598a9b7545",
   "metadata": {},
   "source": [
    "## format( ) "
   ]
  },
  {
   "cell_type": "code",
   "execution_count": 29,
   "id": "07b5ee5c-0105-417a-a73a-542776b43be0",
   "metadata": {
    "execution": {
     "iopub.execute_input": "2025-07-11T16:37:30.515831Z",
     "iopub.status.busy": "2025-07-11T16:37:30.514828Z",
     "iopub.status.idle": "2025-07-11T16:37:30.521822Z",
     "shell.execute_reply": "2025-07-11T16:37:30.520805Z",
     "shell.execute_reply.started": "2025-07-11T16:37:30.515831Z"
    }
   },
   "outputs": [
    {
     "name": "stdout",
     "output_type": "stream",
     "text": [
      "Hello, Mayank!\n"
     ]
    }
   ],
   "source": [
    "# format() ---> used to insert, format, and align variables into a string.\n",
    "name = \"Mayank\"\n",
    "greeting = \"Hello, {}!\".format(name)\n",
    "print(greeting)"
   ]
  },
  {
   "cell_type": "code",
   "execution_count": 30,
   "id": "64efd787-2383-4fb7-9a76-800622409de5",
   "metadata": {
    "execution": {
     "iopub.execute_input": "2025-07-11T16:38:11.708525Z",
     "iopub.status.busy": "2025-07-11T16:38:11.707511Z",
     "iopub.status.idle": "2025-07-11T16:38:11.715488Z",
     "shell.execute_reply": "2025-07-11T16:38:11.713952Z",
     "shell.execute_reply.started": "2025-07-11T16:38:11.708525Z"
    }
   },
   "outputs": [
    {
     "name": "stdout",
     "output_type": "stream",
     "text": [
      "Name: Mayank, Age: 30\n"
     ]
    }
   ],
   "source": [
    "name = \"Mayank\"\n",
    "age = 30\n",
    "info = \"Name: {}, Age: {}\".format(name, age)\n",
    "print(info)"
   ]
  },
  {
   "cell_type": "code",
   "execution_count": 33,
   "id": "ba4f60c5-f9f4-4680-80c3-f715e47c4447",
   "metadata": {
    "execution": {
     "iopub.execute_input": "2025-07-11T16:39:04.495808Z",
     "iopub.status.busy": "2025-07-11T16:39:04.495808Z",
     "iopub.status.idle": "2025-07-11T16:39:04.502728Z",
     "shell.execute_reply": "2025-07-11T16:39:04.501701Z",
     "shell.execute_reply.started": "2025-07-11T16:39:04.495808Z"
    }
   },
   "outputs": [
    {
     "name": "stdout",
     "output_type": "stream",
     "text": [
      "Name: 30, Age: Mayank\n"
     ]
    }
   ],
   "source": [
    "name = \"Mayank\"\n",
    "age = 30\n",
    "info = \"Name: {1}, Age: {0}\".format(name, age)\n",
    "print(info)"
   ]
  },
  {
   "cell_type": "code",
   "execution_count": 34,
   "id": "4a812e34-6869-42e9-ae9d-72a935266329",
   "metadata": {
    "execution": {
     "iopub.execute_input": "2025-07-11T16:39:54.915165Z",
     "iopub.status.busy": "2025-07-11T16:39:54.914156Z",
     "iopub.status.idle": "2025-07-11T16:39:54.923405Z",
     "shell.execute_reply": "2025-07-11T16:39:54.922337Z",
     "shell.execute_reply.started": "2025-07-11T16:39:54.915165Z"
    }
   },
   "outputs": [
    {
     "name": "stdout",
     "output_type": "stream",
     "text": [
      "Name: 30, Age: Mayank, Gender: Male\n"
     ]
    }
   ],
   "source": [
    "name = \"Mayank\"\n",
    "age = 30\n",
    "gender = \"Male\"\n",
    "info = \"Name: {1}, Age: {0}, Gender: {2}\".format(name, age,)\n",
    "print(info)"
   ]
  },
  {
   "cell_type": "code",
   "execution_count": 38,
   "id": "b6184c97-9d4f-4f5f-ae36-fa80bac6a6d4",
   "metadata": {
    "execution": {
     "iopub.execute_input": "2025-07-11T16:50:24.160153Z",
     "iopub.status.busy": "2025-07-11T16:50:24.159057Z",
     "iopub.status.idle": "2025-07-11T16:50:24.166514Z",
     "shell.execute_reply": "2025-07-11T16:50:24.165497Z",
     "shell.execute_reply.started": "2025-07-11T16:50:24.160153Z"
    }
   },
   "outputs": [
    {
     "name": "stdout",
     "output_type": "stream",
     "text": [
      "Name: Mayank, Age: 30, Gender: Male\n"
     ]
    }
   ],
   "source": [
    "info = \"Name: {name}, Age: {age}, Gender: {gender}\".format(name=\"Mayank\", age=30, gender=\"Male\")\n",
    "print(info)"
   ]
  },
  {
   "cell_type": "markdown",
   "id": "0670b169-129f-4df9-a4ff-a0c5d88ead4d",
   "metadata": {},
   "source": [
    "## split( )"
   ]
  },
  {
   "cell_type": "code",
   "execution_count": 47,
   "id": "7e63859c-1ae2-4efc-a017-72ef32e65f35",
   "metadata": {
    "execution": {
     "iopub.execute_input": "2025-07-11T16:59:03.009144Z",
     "iopub.status.busy": "2025-07-11T16:59:03.007120Z",
     "iopub.status.idle": "2025-07-11T16:59:03.015305Z",
     "shell.execute_reply": "2025-07-11T16:59:03.014289Z",
     "shell.execute_reply.started": "2025-07-11T16:59:03.009144Z"
    }
   },
   "outputs": [
    {
     "name": "stdout",
     "output_type": "stream",
     "text": [
      "['my', 'name', 'is', 'data', 'science']\n",
      "[' my n', 'me is d', 't', ' science']\n"
     ]
    }
   ],
   "source": [
    "# split() ----> Splits the string at the specified separator, and returns a list\n",
    "s = \" my name is data science\"\n",
    "print(s.split())  # by default separator is space\n",
    "print(s.split('a'))"
   ]
  },
  {
   "cell_type": "markdown",
   "id": "6e01c3f6-aef4-4ada-b2e9-9a71d00dd2ee",
   "metadata": {},
   "source": [
    "## replcae( )"
   ]
  },
  {
   "cell_type": "code",
   "execution_count": 1,
   "id": "9f37e71b-f79c-4818-9cb6-71a221f79da6",
   "metadata": {
    "execution": {
     "iopub.execute_input": "2025-07-12T03:15:34.852986Z",
     "iopub.status.busy": "2025-07-12T03:15:34.852986Z",
     "iopub.status.idle": "2025-07-12T03:15:34.862873Z",
     "shell.execute_reply": "2025-07-12T03:15:34.862365Z",
     "shell.execute_reply.started": "2025-07-12T03:15:34.852986Z"
    }
   },
   "outputs": [
    {
     "name": "stdout",
     "output_type": "stream",
     "text": [
      " my name is data python\n"
     ]
    }
   ],
   "source": [
    "# replcae() ---> Returns a string where a specified value is replaced with a specified value\n",
    "s = \" my name is data science\"\n",
    "print(s.replace('science','python'))"
   ]
  },
  {
   "cell_type": "markdown",
   "id": "0557f722-1ab8-4bb0-80f0-339599bafe34",
   "metadata": {},
   "source": [
    "## Questions"
   ]
  },
  {
   "cell_type": "code",
   "execution_count": 1,
   "id": "b592d774-030b-4cee-b2f7-f11e40e5778f",
   "metadata": {
    "execution": {
     "iopub.execute_input": "2025-07-20T06:16:59.618923Z",
     "iopub.status.busy": "2025-07-20T06:16:59.617904Z",
     "iopub.status.idle": "2025-07-20T06:17:02.590311Z",
     "shell.execute_reply": "2025-07-20T06:17:02.589304Z",
     "shell.execute_reply.started": "2025-07-20T06:16:59.618923Z"
    }
   },
   "outputs": [
    {
     "name": "stdin",
     "output_type": "stream",
     "text": [
      "enter the string : harsh\n"
     ]
    },
    {
     "name": "stdout",
     "output_type": "stream",
     "text": [
      "length of given string : 5\n"
     ]
    }
   ],
   "source": [
    "# find length of string without using len() function\n",
    "s = input(\"enter the string :\")\n",
    "count = 0\n",
    "for i in s :\n",
    "    count = count + 1\n",
    "print(\"length of given string :\",count)"
   ]
  },
  {
   "cell_type": "code",
   "execution_count": 2,
   "id": "044e61bd-c99f-4886-bbe2-8b214169fd7e",
   "metadata": {
    "execution": {
     "iopub.execute_input": "2025-07-20T06:17:20.168536Z",
     "iopub.status.busy": "2025-07-20T06:17:20.167538Z",
     "iopub.status.idle": "2025-07-20T06:17:32.217576Z",
     "shell.execute_reply": "2025-07-20T06:17:32.217069Z",
     "shell.execute_reply.started": "2025-07-20T06:17:20.168536Z"
    }
   },
   "outputs": [
    {
     "name": "stdin",
     "output_type": "stream",
     "text": [
      "enter the string : harsh\n",
      "which character would you like to count from given string : h\n"
     ]
    },
    {
     "name": "stdout",
     "output_type": "stream",
     "text": [
      "' h ' is 2 times in given string\n"
     ]
    }
   ],
   "source": [
    "# count frequency of particular character in provided string\n",
    "s = input(\"enter the string :\")\n",
    "term = input(\"which character would you like to count from given string :\")\n",
    "count = 0 \n",
    "for i in s :\n",
    "    if (i==term) :\n",
    "        count = count + 1\n",
    "print(\"'\",term,\"'\",\"is\",count,\"times in given string\")"
   ]
  },
  {
   "cell_type": "code",
   "execution_count": 12,
   "id": "271c3417-69ad-4bd2-8165-53f0cd6cacf6",
   "metadata": {
    "execution": {
     "iopub.execute_input": "2025-07-12T03:42:29.844090Z",
     "iopub.status.busy": "2025-07-12T03:42:29.844090Z",
     "iopub.status.idle": "2025-07-12T03:42:34.586376Z",
     "shell.execute_reply": "2025-07-12T03:42:34.585866Z",
     "shell.execute_reply.started": "2025-07-12T03:42:29.844090Z"
    }
   },
   "outputs": [
    {
     "name": "stdin",
     "output_type": "stream",
     "text": [
      "enter the string : mayank\n",
      "which character would you like to remove from given string : a\n"
     ]
    },
    {
     "name": "stdout",
     "output_type": "stream",
     "text": [
      "after removing a particluar chracter the new string is : mynk\n"
     ]
    }
   ],
   "source": [
    "# write a program which can remove a particular character from given string\n",
    "s1 = input(\"enter the string :\")\n",
    "term = input(\"which character would you like to remove from given string :\")\n",
    "s2 =''\n",
    "for i in s1 :\n",
    "    if (i!=term) :\n",
    "        s2 = s2 + i\n",
    "print(\"after removing a particluar chracter the new string is :\",s2)"
   ]
  },
  {
   "cell_type": "code",
   "execution_count": 15,
   "id": "c72a6240-e3f0-4ff1-af26-64da93b8c8a0",
   "metadata": {
    "execution": {
     "iopub.execute_input": "2025-07-12T03:50:41.089048Z",
     "iopub.status.busy": "2025-07-12T03:50:41.089048Z",
     "iopub.status.idle": "2025-07-12T03:50:49.581626Z",
     "shell.execute_reply": "2025-07-12T03:50:49.580619Z",
     "shell.execute_reply.started": "2025-07-12T03:50:41.089048Z"
    }
   },
   "outputs": [
    {
     "name": "stdin",
     "output_type": "stream",
     "text": [
      "enter the string : racecar\n"
     ]
    },
    {
     "name": "stdout",
     "output_type": "stream",
     "text": [
      "given string is palindrome\n"
     ]
    }
   ],
   "source": [
    "# write a program that can check whether a given string is palindrome or not.\n",
    "s1 = input(\"enter the string :\")\n",
    "s2 = s1[::-1]\n",
    "if s1 == s2 :\n",
    "    print(\"given string is palindrome\")\n",
    "else :\n",
    "    print(\"given string is not palindrome\")"
   ]
  },
  {
   "cell_type": "code",
   "execution_count": 1,
   "id": "a2d18319-9246-49cc-9cbc-cd5465c245ed",
   "metadata": {
    "execution": {
     "iopub.execute_input": "2025-07-20T15:51:57.893665Z",
     "iopub.status.busy": "2025-07-20T15:51:57.893665Z",
     "iopub.status.idle": "2025-07-20T15:52:05.743753Z",
     "shell.execute_reply": "2025-07-20T15:52:05.742742Z",
     "shell.execute_reply.started": "2025-07-20T15:51:57.893665Z"
    }
   },
   "outputs": [
    {
     "name": "stdin",
     "output_type": "stream",
     "text": [
      "enter the alfabatical string : mayank\n"
     ]
    },
    {
     "name": "stdout",
     "output_type": "stream",
     "text": [
      "given string ...\n",
      "total vowels : 2\n",
      "total consonants : 4\n"
     ]
    }
   ],
   "source": [
    "# Count vowels and consonants in a string\n",
    "s = input(\"enter the alfabatical string :\")\n",
    "vowels = \"aeiouAEIOU\"\n",
    "v_count = 0\n",
    "c_count = 0\n",
    "for ch in s :\n",
    "    if ch in vowels :\n",
    "        v_count += 1\n",
    "    else :\n",
    "        c_count += 1\n",
    "print(\"given string ...\")\n",
    "print(\"total vowels :\",v_count)\n",
    "print(\"total consonants :\",c_count)"
   ]
  },
  {
   "cell_type": "code",
   "execution_count": 7,
   "id": "17244c98-f07a-445c-aa18-a93fac0d68a6",
   "metadata": {
    "execution": {
     "iopub.execute_input": "2025-07-14T06:08:31.342204Z",
     "iopub.status.busy": "2025-07-14T06:08:31.341199Z",
     "iopub.status.idle": "2025-07-14T06:08:31.354177Z",
     "shell.execute_reply": "2025-07-14T06:08:31.352153Z",
     "shell.execute_reply.started": "2025-07-14T06:08:31.342204Z"
    }
   },
   "outputs": [
    {
     "name": "stdout",
     "output_type": "stream",
     "text": [
      "['a', 'ab', 'abc', 'abcd', 'b', 'bc', 'bcd', 'c', 'cd', 'd']\n"
     ]
    }
   ],
   "source": [
    "# Find all substrings of a given string.\n",
    "s = \"abcd\"\n",
    "sub =[]\n",
    "for i in range(len(s)) :\n",
    "    for j in range(i+1,len(s)+1) :\n",
    "        sub.append(s[i:j])\n",
    "print(sub)"
   ]
  },
  {
   "cell_type": "code",
   "execution_count": 15,
   "id": "b3f6110e-7fc3-49b2-bdce-87e89646a615",
   "metadata": {
    "execution": {
     "iopub.execute_input": "2025-07-14T06:14:16.867066Z",
     "iopub.status.busy": "2025-07-14T06:14:16.866068Z",
     "iopub.status.idle": "2025-07-14T06:14:16.876296Z",
     "shell.execute_reply": "2025-07-14T06:14:16.874280Z",
     "shell.execute_reply.started": "2025-07-14T06:14:16.867066Z"
    }
   },
   "outputs": [
    {
     "name": "stdout",
     "output_type": "stream",
     "text": [
      "science data python love i\n"
     ]
    }
   ],
   "source": [
    "# Reverse the words in a sentence.\n",
    "s = \"i love python data science\"\n",
    "word = s.split()\n",
    "new = \" \".join(reversed(word))\n",
    "print(new)"
   ]
  }
 ],
 "metadata": {
  "kernelspec": {
   "display_name": "Python 3 (ipykernel)",
   "language": "python",
   "name": "python3"
  },
  "language_info": {
   "codemirror_mode": {
    "name": "ipython",
    "version": 3
   },
   "file_extension": ".py",
   "mimetype": "text/x-python",
   "name": "python",
   "nbconvert_exporter": "python",
   "pygments_lexer": "ipython3",
   "version": "3.11.6"
  }
 },
 "nbformat": 4,
 "nbformat_minor": 5
}
